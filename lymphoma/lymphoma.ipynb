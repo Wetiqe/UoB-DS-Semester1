{
 "cells": [
  {
   "cell_type": "markdown",
   "id": "9231acf5",
   "metadata": {
    "cell_id": "00000-f73ed552-07b4-4ea7-9237-d49c55997084",
    "deepnote_cell_type": "markdown"
   },
   "source": [
    "# A cure for cancer?"
   ]
  },
  {
   "cell_type": "markdown",
   "id": "c8761cdc",
   "metadata": {
    "cell_id": "00001-29650a02-66ba-4a33-b834-519bbbfc049c",
    "deepnote_cell_type": "markdown"
   },
   "source": [
    "## Preliminaries"
   ]
  },
  {
   "cell_type": "code",
   "execution_count": 1,
   "id": "07e163a7",
   "metadata": {
    "cell_id": "00002-cc3e013b-8110-4b5b-8ab7-9b22924bc0e3",
    "deepnote_cell_type": "code",
    "deepnote_to_be_reexecuted": false,
    "execution_millis": 113,
    "execution_start": 1639187430585,
    "source_hash": "a8088002"
   },
   "outputs": [
    {
     "name": "stdout",
     "output_type": "stream",
     "text": [
      "=====================================================================\n",
      "Assignment: lymphoma\n",
      "OK, version v1.18.1\n",
      "=====================================================================\n",
      "\n"
     ]
    }
   ],
   "source": [
    "# Run this cell to start.\n",
    "import numpy as np\n",
    "\n",
    "# Load the OKpy test library and tests.\n",
    "from client.api.notebook import Notebook\n",
    "ok = Notebook('lymphoma.ok')"
   ]
  },
  {
   "cell_type": "markdown",
   "id": "e8031c66",
   "metadata": {
    "cell_id": "00003-51a37a0f-af23-4011-85c3-f3c3e176c258",
    "deepnote_cell_type": "markdown"
   },
   "source": [
    "The tests in this notebook do not test if you have the right answer, but only\n",
    "if you have the *right sort* of answer.  *Be careful* -- the tests could pass, but your answer could still be wrong."
   ]
  },
  {
   "cell_type": "markdown",
   "id": "6bec909e",
   "metadata": {
    "cell_id": "00004-da57f48b-2425-4c4d-9551-0134b80b3192",
    "deepnote_cell_type": "markdown"
   },
   "source": [
    "## Is there a cure?\n",
    "\n",
    "At the time I wrote this, you can find the following on the [Wikipedia page for\n",
    "Burkitt's\n",
    "Lymphoma](https://en.wikipedia.org/wiki/Burkitt%27s_lymphoma#Prognosis).\n",
    "\n",
    "> The overall cure rate for Burkitt's lymphoma in developed countries is\n",
    "> about 90%, but worse in low-income countries. Burkitt's lymphoma is\n",
    "> uncommon in adults, where it has a worse prognosis (Molyneux et al 2012).\n",
    ">\n",
    "> In 2006, treatment with dose-adjusted EPOCH with Rituximab showed\n",
    "> promising initial results in a small series of patients (n=17), with\n",
    "> a 100% response rate, and 100% overall survival and progression-free\n",
    "> survival at 28 months (median follow-up) (Dunleavy et al 2006).\n",
    "\n",
    "* Molyneux *et al* (2012). Burkitt's Lymphoma.  The Lancet, 379(9822),\n",
    "  1234-1244.\n",
    "* Dunleavy *et al* (2006). Novel Treatment of Burkitt Lymphoma with\n",
    "  Dose-Adjusted EPOCH-Rituximab: Preliminary Results Showing Excellent Outcome.\n",
    "  Blood, 108(11), 2736–2736.\n",
    "\n",
    "How likely is it that the Dunleavy 2006 study results, or better, could have\n",
    "come about by chance?\n",
    "\n",
    "You can use the tools you already know like this:\n",
    "\n",
    "* Your ideal (null) model is that the EPOCH study was, in fact, no more\n",
    "  effective than any other standard therapy.\n",
    "* You are going to simulate 10000 trials, using this model.\n",
    "* In each trial, you will make 17 simulated patients, each with a 90%\n",
    "  chance of being cured.  Then count how many of the 17 patients were cured.\n",
    "* At the end of your simulation, you should have 10000 counts of the number of\n",
    "  simulated patients, out of 17, who were cured.  Store these counts in\n",
    "  a variable `counts`."
   ]
  },
  {
   "cell_type": "code",
   "execution_count": 2,
   "id": "ce237da2-6ad8-47db-9894-898f09da1e14",
   "metadata": {},
   "outputs": [],
   "source": [
    "np.random.seed(1)"
   ]
  },
  {
   "cell_type": "code",
   "execution_count": 4,
   "id": "c1827e56",
   "metadata": {
    "cell_id": "00005-f76f984a-36e2-4005-aee7-9e167c754748",
    "deepnote_cell_type": "code"
   },
   "outputs": [
    {
     "data": {
      "text/plain": [
       "array([[0.32580997, 0.88982734, 0.75170772, 0.7626321 , 0.46947903,\n",
       "        0.2107645 , 0.04147508, 0.3218288 , 0.03711266, 0.69385541,\n",
       "        0.67035003, 0.43047178, 0.76778898, 0.53600849, 0.03985993,\n",
       "        0.13479312, 0.1934164 ],\n",
       "       [0.3356638 , 0.05231295, 0.60511678, 0.51206103, 0.61746101,\n",
       "        0.43235559, 0.84770047, 0.45405906, 0.01540352, 0.87306815,\n",
       "        0.65620155, 0.82300304, 0.95177569, 0.05091238, 0.23507186,\n",
       "        0.06334344, 0.42165789],\n",
       "       [0.86382915, 0.08162398, 0.47311195, 0.12554311, 0.7728856 ,\n",
       "        0.84142216, 0.04329094, 0.48644074, 0.23941104, 0.95247378,\n",
       "        0.94389263, 0.613934  , 0.9734874 , 0.34486134, 0.89785072,\n",
       "        0.43459497, 0.23581464],\n",
       "       [0.94082796, 0.68421805, 0.06491159, 0.87042486, 0.70138029,\n",
       "        0.60492687, 0.7323749 , 0.25343904, 0.60048896, 0.81461918,\n",
       "        0.05411366, 0.13051067, 0.84244581, 0.61834587, 0.53128781,\n",
       "        0.24829073, 0.29507858],\n",
       "       [0.87268616, 0.42166593, 0.06443026, 0.89698507, 0.20338083,\n",
       "        0.82622754, 0.88177062, 0.48675074, 0.59846469, 0.52726746,\n",
       "        0.62482129, 0.85504172, 0.28213945, 0.88375551, 0.56769033,\n",
       "        0.11510304, 0.22700117]])"
      ]
     },
     "execution_count": 4,
     "metadata": {},
     "output_type": "execute_result"
    }
   ],
   "source": [
    "#- Simulate 10000 trials of 17 patients\n",
    "counts = np.array([ np.random.uniform(0,1,17) for i in range(10000)])\n",
    "# Show the first five counts\n",
    "counts[:5]"
   ]
  },
  {
   "cell_type": "code",
   "execution_count": 5,
   "id": "38b3711c",
   "metadata": {
    "cell_id": "00006-7af6884b-781b-4036-996c-fc6834d519cb",
    "deepnote_cell_type": "code"
   },
   "outputs": [
    {
     "name": "stdout",
     "output_type": "stream",
     "text": [
      "~~~~~~~~~~~~~~~~~~~~~~~~~~~~~~~~~~~~~~~~~~~~~~~~~~~~~~~~~~~~~~~~~~~~~\n",
      "Running tests\n",
      "\n",
      "---------------------------------------------------------------------\n",
      "Test summary\n",
      "    Passed: 3\n",
      "    Failed: 0\n",
      "[ooooooooook] 100.0% passed\n",
      "\n"
     ]
    }
   ],
   "source": [
    "# Test you are on the right track.\n",
    "_ = ok.grade('q_01_counts')"
   ]
  },
  {
   "cell_type": "markdown",
   "id": "91254ab5",
   "metadata": {
    "cell_id": "00007-8719a8b5-fe95-45b7-95df-f54c564a67d8",
    "deepnote_cell_type": "markdown"
   },
   "source": [
    "Calculate the *proportion* `p_100` of `counts` that correspond to 100% response\n",
    "rate (17 out of 17):"
   ]
  },
  {
   "cell_type": "code",
   "execution_count": 6,
   "id": "37df6c8b",
   "metadata": {
    "cell_id": "00008-d8ff230c-b277-4357-9475-a4f03b5829ab",
    "deepnote_cell_type": "code"
   },
   "outputs": [
    {
     "data": {
      "text/plain": [
       "0.1565"
      ]
     },
     "execution_count": 6,
     "metadata": {},
     "output_type": "execute_result"
    }
   ],
   "source": [
    "p_100 = 0\n",
    "for i in counts <=0.9 :\n",
    "    if np.count_nonzero(i)/len(i) == 1 :\n",
    "        p_100 += 1\n",
    "p_100 /= 10000\n",
    "# Show the value\n",
    "p_100"
   ]
  },
  {
   "cell_type": "code",
   "execution_count": 7,
   "id": "cf4e1199",
   "metadata": {
    "cell_id": "00009-b9dcb7bf-933e-4734-afd8-bbe5ad24a4cc",
    "deepnote_cell_type": "code"
   },
   "outputs": [
    {
     "name": "stdout",
     "output_type": "stream",
     "text": [
      "~~~~~~~~~~~~~~~~~~~~~~~~~~~~~~~~~~~~~~~~~~~~~~~~~~~~~~~~~~~~~~~~~~~~~\n",
      "Running tests\n",
      "\n",
      "---------------------------------------------------------------------\n",
      "Test summary\n",
      "    Passed: 3\n",
      "    Failed: 0\n",
      "[ooooooooook] 100.0% passed\n",
      "\n"
     ]
    }
   ],
   "source": [
    "# Test you are on the right track.\n",
    "_ = ok.grade('q_02_p_100')"
   ]
  },
  {
   "cell_type": "markdown",
   "id": "653c95dd",
   "metadata": {
    "cell_id": "00010-6f014e1c-7d1a-4a93-a68f-d3ec4e886e2e",
    "deepnote_cell_type": "markdown"
   },
   "source": [
    "## The rush to publish\n",
    "\n",
    "One big problem in medical research, as in other research, is the *file-drawer\n",
    "effect*, also called [publication\n",
    "bias](https://en.wikipedia.org/wiki/Publication_bias).\n",
    "\n",
    "The problem is that there may be multiple labs testing the same treatment.\n",
    "Labs that do not find a surprising result, will probably not publish a paper.  Labs that do, probably will publish a paper.\n",
    "\n",
    "Imagine there were four labs all testing the same treatment as Dunleavy *et\n",
    "al*.  They also tested 17 patients, and looked at the number of patients\n",
    "who are progression-free after about 28 months follow-up - like Dunleavy. Again\n",
    "imagine, in our ideal model of the world, the treatment is, in fact, no more\n",
    "effective than average.\n",
    "\n",
    "Now imagine that each of the four labs will publish a paper if they get 17 of 17 progression-free survival rate, and will not publish otherwise.\n",
    "\n",
    "In this ideal world, what is the chance that at least one lab will publish a paper?\n",
    "\n",
    "Here is a sketch of a simulation of one trial in that world:"
   ]
  },
  {
   "cell_type": "code",
   "execution_count": 8,
   "id": "c47d040a-0034-4a92-9680-e9f299b4bd6f",
   "metadata": {},
   "outputs": [],
   "source": [
    "def sim_count():\n",
    "    return np.count_nonzero(np.random.uniform(0,1,17) <= 0.9)"
   ]
  },
  {
   "cell_type": "code",
   "execution_count": 9,
   "id": "1a44169a",
   "metadata": {
    "cell_id": "00011-1836c6eb-1e64-478b-a53d-03d4834e0efd",
    "deepnote_cell_type": "code",
    "tags": [
     "raises-exception"
    ]
   },
   "outputs": [],
   "source": [
    "# This code is rather ugly, and needs editing to work correctly.\n",
    "def sim_labs(n_labs=4):\n",
    "    lab_counts = np.zeros(n_labs)\n",
    "    for i in range(len(lab_counts)):\n",
    "        lab_counts[i] = sim_count()\n",
    "    n_publications = np.count_nonzero(lab_counts == 17)\n",
    "    return n_publications"
   ]
  },
  {
   "cell_type": "code",
   "execution_count": 10,
   "id": "eec207d2-38e1-4667-81ef-abbe47281d06",
   "metadata": {},
   "outputs": [
    {
     "data": {
      "text/plain": [
       "0"
      ]
     },
     "execution_count": 10,
     "metadata": {},
     "output_type": "execute_result"
    }
   ],
   "source": [
    "sim_labs()"
   ]
  },
  {
   "cell_type": "markdown",
   "id": "7d8f3a25",
   "metadata": {
    "cell_id": "00012-2e034e89-fd28-42cc-a75b-fa5b768aa9ce",
    "deepnote_cell_type": "markdown"
   },
   "source": [
    "Now do a simulation of 10000 trials like this.  Count the number of publications for each trial.  Store the number of publications for each trial in an array `publications`.\n"
   ]
  },
  {
   "cell_type": "code",
   "execution_count": 11,
   "id": "ac9fd79a",
   "metadata": {
    "cell_id": "00013-9d8abac8-28df-4e5f-b2d7-3329972336bf",
    "deepnote_cell_type": "code"
   },
   "outputs": [
    {
     "data": {
      "text/plain": [
       "array([2, 2, 2, 0, 2])"
      ]
     },
     "execution_count": 11,
     "metadata": {},
     "output_type": "execute_result"
    }
   ],
   "source": [
    "#- Simulate 10000 trials of four labs, each studying 17 patients.\n",
    "publications = np.array([sim_labs() for i in range(10000)])\n",
    "# Show the first five publication counts\n",
    "publications[:5]"
   ]
  },
  {
   "cell_type": "code",
   "execution_count": 12,
   "id": "768bdba9",
   "metadata": {
    "cell_id": "00014-30e3d33b-130a-499e-affa-58be7a802e0e",
    "deepnote_cell_type": "code"
   },
   "outputs": [
    {
     "name": "stdout",
     "output_type": "stream",
     "text": [
      "~~~~~~~~~~~~~~~~~~~~~~~~~~~~~~~~~~~~~~~~~~~~~~~~~~~~~~~~~~~~~~~~~~~~~\n",
      "Running tests\n",
      "\n",
      "---------------------------------------------------------------------\n",
      "Test summary\n",
      "    Passed: 3\n",
      "    Failed: 0\n",
      "[ooooooooook] 100.0% passed\n",
      "\n"
     ]
    }
   ],
   "source": [
    "# Test you are on the right track.\n",
    "_ = ok.grade('q_04_publications')"
   ]
  },
  {
   "cell_type": "markdown",
   "id": "09d7f9c1",
   "metadata": {
    "cell_id": "00015-94472cb5-cf81-4955-9f29-e2e5ae2dcf4b",
    "deepnote_cell_type": "markdown"
   },
   "source": [
    "In this world, where each trial has four labs, each testing the same thing,\n",
    "what proportion of trials give at least one publication?"
   ]
  },
  {
   "cell_type": "code",
   "execution_count": 13,
   "id": "36afc14f",
   "metadata": {
    "cell_id": "00016-94004ec5-5bea-4bad-930b-0d5d04ab6f0d",
    "deepnote_cell_type": "code"
   },
   "outputs": [
    {
     "data": {
      "text/plain": [
       "0.5206"
      ]
     },
     "execution_count": 13,
     "metadata": {},
     "output_type": "execute_result"
    }
   ],
   "source": [
    "p_at_least_one = np.count_nonzero(publications) / len(publications)\n",
    "# Show the value\n",
    "p_at_least_one"
   ]
  },
  {
   "cell_type": "code",
   "execution_count": 14,
   "id": "7aa0d61b",
   "metadata": {
    "cell_id": "00017-8e77c0e5-d758-4aee-99dc-f773d8b7a210",
    "deepnote_cell_type": "code"
   },
   "outputs": [
    {
     "name": "stdout",
     "output_type": "stream",
     "text": [
      "~~~~~~~~~~~~~~~~~~~~~~~~~~~~~~~~~~~~~~~~~~~~~~~~~~~~~~~~~~~~~~~~~~~~~\n",
      "Running tests\n",
      "\n",
      "---------------------------------------------------------------------\n",
      "Test summary\n",
      "    Passed: 3\n",
      "    Failed: 0\n",
      "[ooooooooook] 100.0% passed\n",
      "\n"
     ]
    }
   ],
   "source": [
    "# Test you are on the right track.\n",
    "_ = ok.grade('q_05_p_at_least_one')"
   ]
  },
  {
   "cell_type": "markdown",
   "id": "b9a847f8",
   "metadata": {
    "cell_id": "00018-4fd8dde7-1f78-4f68-b0fe-14e7f5e752fa",
    "deepnote_cell_type": "markdown"
   },
   "source": [
    "With the evidence you have here, in the Wikipedia page, and from any extra\n",
    "reading you would like to do, how likely is it that the treatment that Dunleavy\n",
    "*et al* used is really more effective than other standard treatments for\n",
    "Burkitt's lymphoma?  If you had Burkitt's lymphoma, would you insist on this\n",
    "treatment?  Give your answer, with arguments, in the space below."
   ]
  },
  {
   "cell_type": "markdown",
   "id": "537e9834",
   "metadata": {
    "cell_id": "00019-a348be37-0d1f-4c6d-a2c1-a2df88c80ce4",
    "deepnote_cell_type": "markdown",
    "manual_grade": true,
    "manual_problem_id": "dunleavy_plausible"
   },
   "source": [
    "*Write your answer here, replacing this text.*"
   ]
  },
  {
   "cell_type": "markdown",
   "id": "4e737a77",
   "metadata": {
    "cell_id": "00020-450c3261-c267-43e9-9399-7df3660cd7e8",
    "deepnote_cell_type": "markdown"
   },
   "source": [
    "## Done\n",
    "\n",
    "You're finished with the assignment!  Be sure to...\n",
    "\n",
    "- **run all the tests** (the next cell has a shortcut for that),\n",
    "- **Save and Checkpoint** from the \"File\" menu.\n",
    "- Finally, **restart** the kernel for this notebook, and **run all the cells**,\n",
    "  to check that the notebook still works without errors.  Use the\n",
    "  \"Kernel\" menu, and choose \"Restart and Run All\".  If you find any\n",
    "  problems, go back and fix them, save the notebook, and restart / run\n",
    "  all again, before submitting."
   ]
  },
  {
   "cell_type": "code",
   "execution_count": 15,
   "id": "ca22925b",
   "metadata": {
    "cell_id": "00021-3acbad10-c1e2-4621-b505-a90094c6995c",
    "deepnote_cell_type": "code"
   },
   "outputs": [
    {
     "name": "stdout",
     "output_type": "stream",
     "text": [
      "~~~~~~~~~~~~~~~~~~~~~~~~~~~~~~~~~~~~~~~~~~~~~~~~~~~~~~~~~~~~~~~~~~~~~\n",
      "Running tests\n",
      "\n",
      "---------------------------------------------------------------------\n",
      "Test summary\n",
      "    Passed: 3\n",
      "    Failed: 0\n",
      "[ooooooooook] 100.0% passed\n",
      "\n",
      "~~~~~~~~~~~~~~~~~~~~~~~~~~~~~~~~~~~~~~~~~~~~~~~~~~~~~~~~~~~~~~~~~~~~~\n",
      "Running tests\n",
      "\n",
      "---------------------------------------------------------------------\n",
      "Test summary\n",
      "    Passed: 3\n",
      "    Failed: 0\n",
      "[ooooooooook] 100.0% passed\n",
      "\n",
      "~~~~~~~~~~~~~~~~~~~~~~~~~~~~~~~~~~~~~~~~~~~~~~~~~~~~~~~~~~~~~~~~~~~~~\n",
      "Running tests\n",
      "\n",
      "---------------------------------------------------------------------\n",
      "Test summary\n",
      "    Passed: 3\n",
      "    Failed: 0\n",
      "[ooooooooook] 100.0% passed\n",
      "\n",
      "~~~~~~~~~~~~~~~~~~~~~~~~~~~~~~~~~~~~~~~~~~~~~~~~~~~~~~~~~~~~~~~~~~~~~\n",
      "Running tests\n",
      "\n",
      "---------------------------------------------------------------------\n",
      "Test summary\n",
      "    Passed: 3\n",
      "    Failed: 0\n",
      "[ooooooooook] 100.0% passed\n",
      "\n"
     ]
    }
   ],
   "source": [
    "# For your convenience, you can run this cell to run all the tests at once!\n",
    "import os\n",
    "_ = [ok.grade(q[:-3]) for q in os.listdir(\"tests\") if q.startswith('q')]"
   ]
  },
  {
   "cell_type": "markdown",
   "id": "4309cc1f",
   "metadata": {
    "created_in_deepnote_cell": true,
    "deepnote_cell_type": "markdown",
    "tags": []
   },
   "source": [
    "<a style='text-decoration:none;line-height:16px;display:flex;color:#5B5B62;padding:10px;justify-content:end;' href='https://deepnote.com?utm_source=created-in-deepnote-cell&projectId=02eeb3c8-a959-45be-ad2d-e5e0adb81ad4' target=\"_blank\">\n",
    "<img alt='Created in deepnote.com' style='display:inline;max-height:16px;margin:0px;margin-right:7.5px;' src='data:image/svg+xml;base64,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' > </img>\n",
    "Created in <span style='font-weight:600;margin-left:4px;'>Deepnote</span></a>"
   ]
  }
 ],
 "metadata": {
  "deepnote": {},
  "deepnote_execution_queue": [],
  "deepnote_notebook_id": "60b7aa7a-ddbd-42e1-a653-9857c1382a9e",
  "jupytext": {
   "cell_metadata_json": true,
   "split_at_heading": true,
   "text_representation": {
    "extension": ".Rmd",
    "format_name": "rmarkdown",
    "format_version": "1.1",
    "jupytext_version": "1.2.4"
   }
  },
  "kernelspec": {
   "display_name": "Python 3 (ipykernel)",
   "language": "python",
   "name": "python3"
  },
  "language_info": {
   "codemirror_mode": {
    "name": "ipython",
    "version": 3
   },
   "file_extension": ".py",
   "mimetype": "text/x-python",
   "name": "python",
   "nbconvert_exporter": "python",
   "pygments_lexer": "ipython3",
   "version": "3.8.12"
  }
 },
 "nbformat": 4,
 "nbformat_minor": 5
}
