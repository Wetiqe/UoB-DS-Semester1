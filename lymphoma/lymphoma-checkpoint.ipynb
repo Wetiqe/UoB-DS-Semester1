{
 "cells": [
  {
   "cell_type": "markdown",
   "source": "# A cure for cancer?",
   "metadata": {
    "cell_id": "00000-f73ed552-07b4-4ea7-9237-d49c55997084",
    "deepnote_cell_type": "markdown"
   }
  },
  {
   "cell_type": "markdown",
   "source": "## Preliminaries",
   "metadata": {
    "cell_id": "00001-29650a02-66ba-4a33-b834-519bbbfc049c",
    "deepnote_cell_type": "markdown"
   }
  },
  {
   "cell_type": "code",
   "metadata": {
    "cell_id": "00002-cc3e013b-8110-4b5b-8ab7-9b22924bc0e3",
    "deepnote_to_be_reexecuted": false,
    "source_hash": "a8088002",
    "execution_start": 1639187430585,
    "execution_millis": 113,
    "deepnote_cell_type": "code"
   },
   "source": "# Run this cell to start.\nimport numpy as np\n\n# Load the OKpy test library and tests.\nfrom client.api.notebook import Notebook\nok = Notebook('lymphoma.ok')",
   "outputs": [
    {
     "name": "stdout",
     "text": "=====================================================================\nAssignment: lymphoma\nOK, version v1.18.1\n=====================================================================\n\n",
     "output_type": "stream"
    }
   ],
   "execution_count": null
  },
  {
   "cell_type": "markdown",
   "source": "The tests in this notebook do not test if you have the right answer, but only\nif you have the *right sort* of answer.  *Be careful* -- the tests could pass, but your answer could still be wrong.",
   "metadata": {
    "cell_id": "00003-51a37a0f-af23-4011-85c3-f3c3e176c258",
    "deepnote_cell_type": "markdown"
   }
  },
  {
   "cell_type": "markdown",
   "source": "## Is there a cure?\n\nAt the time I wrote this, you can find the following on the [Wikipedia page for\nBurkitt's\nLymphoma](https://en.wikipedia.org/wiki/Burkitt%27s_lymphoma#Prognosis).\n\n> The overall cure rate for Burkitt's lymphoma in developed countries is\n> about 90%, but worse in low-income countries. Burkitt's lymphoma is\n> uncommon in adults, where it has a worse prognosis (Molyneux et al 2012).\n>\n> In 2006, treatment with dose-adjusted EPOCH with Rituximab showed\n> promising initial results in a small series of patients (n=17), with\n> a 100% response rate, and 100% overall survival and progression-free\n> survival at 28 months (median follow-up) (Dunleavy et al 2006).\n\n* Molyneux *et al* (2012). Burkitt's Lymphoma.  The Lancet, 379(9822),\n  1234-1244.\n* Dunleavy *et al* (2006). Novel Treatment of Burkitt Lymphoma with\n  Dose-Adjusted EPOCH-Rituximab: Preliminary Results Showing Excellent Outcome.\n  Blood, 108(11), 2736–2736.\n\nHow likely is it that the Dunleavy 2006 study results, or better, could have\ncome about by chance?\n\nYou can use the tools you already know like this:\n\n* Your ideal (null) model is that the EPOCH study was, in fact, no more\n  effective than any other standard therapy.\n* You are going to simulate 10000 trials, using this model.\n* In each trial, you will make 17 simulated patients, each with a 90%\n  chance of being cured.  Then count how many of the 17 patients were cured.\n* At the end of your simulation, you should have 10000 counts of the number of\n  simulated patients, out of 17, who were cured.  Store these counts in\n  a variable `counts`.",
   "metadata": {
    "cell_id": "00004-da57f48b-2425-4c4d-9551-0134b80b3192",
    "deepnote_cell_type": "markdown"
   }
  },
  {
   "cell_type": "code",
   "metadata": {
    "cell_id": "00005-f76f984a-36e2-4005-aee7-9e167c754748",
    "deepnote_cell_type": "code"
   },
   "source": "#- Simulate 10000 trials of 17 patients\ncounts = ...\n# Show the first five counts\ncounts[:5]",
   "execution_count": null,
   "outputs": []
  },
  {
   "cell_type": "code",
   "metadata": {
    "cell_id": "00006-7af6884b-781b-4036-996c-fc6834d519cb",
    "deepnote_cell_type": "code"
   },
   "source": "# Test you are on the right track.\n_ = ok.grade('q_01_counts')",
   "execution_count": null,
   "outputs": []
  },
  {
   "cell_type": "markdown",
   "source": "Calculate the *proportion* `p_100` of `counts` that correspond to 100% response\nrate (17 out of 17):",
   "metadata": {
    "cell_id": "00007-8719a8b5-fe95-45b7-95df-f54c564a67d8",
    "deepnote_cell_type": "markdown"
   }
  },
  {
   "cell_type": "code",
   "metadata": {
    "cell_id": "00008-d8ff230c-b277-4357-9475-a4f03b5829ab",
    "deepnote_cell_type": "code"
   },
   "source": "p_100 = ...\n# Show the value\np_100",
   "execution_count": null,
   "outputs": []
  },
  {
   "cell_type": "code",
   "metadata": {
    "cell_id": "00009-b9dcb7bf-933e-4734-afd8-bbe5ad24a4cc",
    "deepnote_cell_type": "code"
   },
   "source": "# Test you are on the right track.\n_ = ok.grade('q_02_p_100')",
   "execution_count": null,
   "outputs": []
  },
  {
   "cell_type": "markdown",
   "source": "## The rush to publish\n\nOne big problem in medical research, as in other research, is the *file-drawer\neffect*, also called [publication\nbias](https://en.wikipedia.org/wiki/Publication_bias).\n\nThe problem is that there may be multiple labs testing the same treatment.\nLabs that do not find a surprising result, will probably not publish a paper.  Labs that do, probably will publish a paper.\n\nImagine there were four labs all testing the same treatment as Dunleavy *et\nal*.  They also tested 17 patients, and looked at the number of patients\nwho are progression-free after about 28 months follow-up - like Dunleavy. Again\nimagine, in our ideal model of the world, the treatment is, in fact, no more\neffective than average.\n\nNow imagine that each of the four labs will publish a paper if they get 17 of 17 progression-free survival rate, and will not publish otherwise.\n\nIn this ideal world, what is the chance that at least one lab will publish a paper?\n\nHere is a sketch of a simulation of one trial in that world:",
   "metadata": {
    "cell_id": "00010-6f014e1c-7d1a-4a93-a68f-d3ec4e886e2e",
    "deepnote_cell_type": "markdown"
   }
  },
  {
   "cell_type": "code",
   "metadata": {
    "tags": [
     "raises-exception"
    ],
    "cell_id": "00011-1836c6eb-1e64-478b-a53d-03d4834e0efd",
    "deepnote_cell_type": "code"
   },
   "source": "# This code is rather ugly, and needs editing to work correctly.\nlab_counts = np.zeros(4)\nlab_counts[0] = ... # Simulate a count of patients cured in first lab.\nlab_counts[1] = ... # Simulate a count of patients cured in second lab.\nlab_counts[2] = ... # Simulate a count of patients cured in third lab.\nlab_counts[3] = ... # Simulate a count of patients cured for fourth lab.\nn_publications = np.count_nonzero(lab_counts == 17)",
   "execution_count": null,
   "outputs": []
  },
  {
   "cell_type": "markdown",
   "source": "Now do a simulation of 10000 trials like this.  Count the number of publications for each trial.  Store the number of publications for each trial in an array `publications`.\n",
   "metadata": {
    "cell_id": "00012-2e034e89-fd28-42cc-a75b-fa5b768aa9ce",
    "deepnote_cell_type": "markdown"
   }
  },
  {
   "cell_type": "code",
   "metadata": {
    "cell_id": "00013-9d8abac8-28df-4e5f-b2d7-3329972336bf",
    "deepnote_cell_type": "code"
   },
   "source": "#- Simulate 10000 trials of four labs, each studying 17 patients.\npublications = ...\n# Show the first five publication counts\npublications[:5]",
   "execution_count": null,
   "outputs": []
  },
  {
   "cell_type": "code",
   "metadata": {
    "cell_id": "00014-30e3d33b-130a-499e-affa-58be7a802e0e",
    "deepnote_cell_type": "code"
   },
   "source": "# Test you are on the right track.\n_ = ok.grade('q_04_publications')",
   "execution_count": null,
   "outputs": []
  },
  {
   "cell_type": "markdown",
   "source": "In this world, where each trial has four labs, each testing the same thing,\nwhat proportion of trials give at least one publication?",
   "metadata": {
    "cell_id": "00015-94472cb5-cf81-4955-9f29-e2e5ae2dcf4b",
    "deepnote_cell_type": "markdown"
   }
  },
  {
   "cell_type": "code",
   "metadata": {
    "cell_id": "00016-94004ec5-5bea-4bad-930b-0d5d04ab6f0d",
    "deepnote_cell_type": "code"
   },
   "source": "p_at_least_one = ...\n# Show the value\np_at_least_one",
   "execution_count": null,
   "outputs": []
  },
  {
   "cell_type": "code",
   "metadata": {
    "cell_id": "00017-8e77c0e5-d758-4aee-99dc-f773d8b7a210",
    "deepnote_cell_type": "code"
   },
   "source": "# Test you are on the right track.\n_ = ok.grade('q_05_p_at_least_one')",
   "execution_count": null,
   "outputs": []
  },
  {
   "cell_type": "markdown",
   "source": "With the evidence you have here, in the Wikipedia page, and from any extra\nreading you would like to do, how likely is it that the treatment that Dunleavy\n*et al* used is really more effective than other standard treatments for\nBurkitt's lymphoma?  If you had Burkitt's lymphoma, would you insist on this\ntreatment?  Give your answer, with arguments, in the space below.",
   "metadata": {
    "cell_id": "00018-4fd8dde7-1f78-4f68-b0fe-14e7f5e752fa",
    "deepnote_cell_type": "markdown"
   }
  },
  {
   "cell_type": "markdown",
   "source": "*Write your answer here, replacing this text.*",
   "metadata": {
    "manual_grade": true,
    "manual_problem_id": "dunleavy_plausible",
    "cell_id": "00019-a348be37-0d1f-4c6d-a2c1-a2df88c80ce4",
    "deepnote_cell_type": "markdown"
   }
  },
  {
   "cell_type": "markdown",
   "source": "## Done\n\nYou're finished with the assignment!  Be sure to...\n\n- **run all the tests** (the next cell has a shortcut for that),\n- **Save and Checkpoint** from the \"File\" menu.\n- Finally, **restart** the kernel for this notebook, and **run all the cells**,\n  to check that the notebook still works without errors.  Use the\n  \"Kernel\" menu, and choose \"Restart and Run All\".  If you find any\n  problems, go back and fix them, save the notebook, and restart / run\n  all again, before submitting.",
   "metadata": {
    "cell_id": "00020-450c3261-c267-43e9-9399-7df3660cd7e8",
    "deepnote_cell_type": "markdown"
   }
  },
  {
   "cell_type": "code",
   "metadata": {
    "cell_id": "00021-3acbad10-c1e2-4621-b505-a90094c6995c",
    "deepnote_cell_type": "code"
   },
   "source": "# For your convenience, you can run this cell to run all the tests at once!\nimport os\n_ = [ok.grade(q[:-3]) for q in os.listdir(\"tests\") if q.startswith('q')]",
   "execution_count": null,
   "outputs": []
  },
  {
   "cell_type": "markdown",
   "source": "<a style='text-decoration:none;line-height:16px;display:flex;color:#5B5B62;padding:10px;justify-content:end;' href='https://deepnote.com?utm_source=created-in-deepnote-cell&projectId=02eeb3c8-a959-45be-ad2d-e5e0adb81ad4' target=\"_blank\">\n<img alt='Created in deepnote.com' style='display:inline;max-height:16px;margin:0px;margin-right:7.5px;' src='data:image/svg+xml;base64,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' > </img>\nCreated in <span style='font-weight:600;margin-left:4px;'>Deepnote</span></a>",
   "metadata": {
    "tags": [],
    "created_in_deepnote_cell": true,
    "deepnote_cell_type": "markdown"
   }
  }
 ],
 "nbformat": 4,
 "nbformat_minor": 5,
 "metadata": {
  "jupytext": {
   "cell_metadata_json": true,
   "split_at_heading": true,
   "text_representation": {
    "extension": ".Rmd",
    "format_name": "rmarkdown",
    "format_version": "1.1",
    "jupytext_version": "1.2.4"
   }
  },
  "kernelspec": {
   "display_name": "Python 3",
   "language": "python",
   "name": "python3"
  },
  "deepnote_notebook_id": "60b7aa7a-ddbd-42e1-a653-9857c1382a9e",
  "deepnote": {},
  "deepnote_execution_queue": []
 }
}