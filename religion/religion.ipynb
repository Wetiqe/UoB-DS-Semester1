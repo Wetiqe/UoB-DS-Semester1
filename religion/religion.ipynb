{
 "cells": [
  {
   "cell_type": "markdown",
   "id": "794e8c33",
   "metadata": {
    "cell_id": "00000-4e826a8e-41de-4bc5-ba8c-e638f8948d74",
    "deepnote_cell_type": "markdown"
   },
   "source": [
    "# Is religion a good thing?\n"
   ]
  },
  {
   "cell_type": "markdown",
   "id": "d29e5b35",
   "metadata": {
    "cell_id": "00001-6fd492c3-cd56-44e8-94c5-86f90cb2a960",
    "deepnote_cell_type": "markdown"
   },
   "source": [
    "## Preliminaries\n",
    "\n",
    "As for the other notebooks in this set of assignments, tests in this notebook\n",
    "do not usually test if you have the right answer, but only if you have the\n",
    "*right sort* of answer.  *Be careful* -- the tests could pass, but your answer\n",
    "could still be wrong"
   ]
  },
  {
   "cell_type": "code",
   "execution_count": 1,
   "id": "b1392342",
   "metadata": {
    "cell_id": "00002-f136f894-6662-48fd-853e-e36a06852a94",
    "deepnote_cell_type": "code"
   },
   "outputs": [
    {
     "name": "stdout",
     "output_type": "stream",
     "text": [
      "=====================================================================\n",
      "Assignment: religion\n",
      "OK, version v1.18.1\n",
      "=====================================================================\n",
      "\n"
     ]
    }
   ],
   "source": [
    "# Don't change this cell; just run it.\n",
    "\n",
    "import numpy as np\n",
    "import pandas as pd\n",
    "# Safe settings for Pandas.\n",
    "pd.set_option('mode.chained_assignment', 'raise')\n",
    "\n",
    "%matplotlib inline\n",
    "import matplotlib.pyplot as plt\n",
    "plt.style.use('fivethirtyeight')\n",
    "\n",
    "from client.api.notebook import Notebook\n",
    "ok = Notebook('religion.ok')"
   ]
  },
  {
   "cell_type": "markdown",
   "id": "f4001b6d",
   "metadata": {
    "cell_id": "00003-329be915-afc7-4140-a32e-c760e13b55ea",
    "deepnote_cell_type": "markdown"
   },
   "source": [
    "## To religion\n",
    "\n",
    "We [return](https://uob-ds.github.io/cfd2021/wild-pandas/noble_politics) to the data\n",
    "published in:\n",
    "\n",
    "> Samuel P. Oliner and Pearl M. Oliner (1992) \"The Altruistic Personality:\n",
    "> Rescuers of Jews in Nazi Europe\". Free Press, New York. ISBN 0-02923829-3.\n",
    "\n",
    "See [the dataset\n",
    "page](https://github.com/matthew-brett/datasets/tree/master/oliner1988)\n",
    "for some more details.\n",
    "\n",
    "As you remember, Samuel and Pearl Oliner had detailed interview data from:\n",
    "\n",
    "* 231 people who had sheltered Jews during the second world war (the *Rescuer*\n",
    "  group);\n",
    "* 53 people, roughly matched with the Rescuers on age, education, and\n",
    "  nationality, who claimed to have either sheltered Jews, or contributed to the\n",
    "  resistance, or both (the *Active* group);\n",
    "* 73 people, roughly matched to the Rescuers as above, who did not claim to\n",
    "  have sheltered Jews or helped the resistance (the *Bystander* group).\n",
    "\n",
    "The Oliners' interest was to find characteristics of the Rescuer group that\n",
    "might be related to their extraordinary choice to risk their lives or\n",
    "livelihood to shelter Jews.\n",
    "\n",
    "Here we are studying the data from table 6.6 of their book. The table\n",
    "cross-tabulates the answers to question D14 from their interview schedule:\n",
    "\"Before the war, were you very religious, somewhat religious, not very\n",
    "religious or not at all religious?\".\n",
    "\n",
    "You will find\n",
    "a [version](https://github.com/matthew-brett/datasets/tree/master/oliner1988)\n",
    "of the data from that table in the file `oliner_tab6_6.csv`.\n",
    "\n",
    "Read that table as a data frame."
   ]
  },
  {
   "cell_type": "code",
   "execution_count": 2,
   "id": "638e8d01",
   "metadata": {
    "cell_id": "00004-b7905ae8-76ed-41ce-a30d-7e2cb6639f44",
    "deepnote_cell_type": "code"
   },
   "outputs": [
    {
     "data": {
      "text/html": [
       "<div>\n",
       "<style scoped>\n",
       "    .dataframe tbody tr th:only-of-type {\n",
       "        vertical-align: middle;\n",
       "    }\n",
       "\n",
       "    .dataframe tbody tr th {\n",
       "        vertical-align: top;\n",
       "    }\n",
       "\n",
       "    .dataframe thead th {\n",
       "        text-align: right;\n",
       "    }\n",
       "</style>\n",
       "<table border=\"1\" class=\"dataframe\">\n",
       "  <thead>\n",
       "    <tr style=\"text-align: right;\">\n",
       "      <th></th>\n",
       "      <th>level</th>\n",
       "      <th>rescuers</th>\n",
       "      <th>actives</th>\n",
       "      <th>bystanders</th>\n",
       "    </tr>\n",
       "  </thead>\n",
       "  <tbody>\n",
       "    <tr>\n",
       "      <th>0</th>\n",
       "      <td>Very</td>\n",
       "      <td>65</td>\n",
       "      <td>9</td>\n",
       "      <td>17</td>\n",
       "    </tr>\n",
       "    <tr>\n",
       "      <th>1</th>\n",
       "      <td>Somewhat</td>\n",
       "      <td>79</td>\n",
       "      <td>17</td>\n",
       "      <td>34</td>\n",
       "    </tr>\n",
       "    <tr>\n",
       "      <th>2</th>\n",
       "      <td>Not very</td>\n",
       "      <td>41</td>\n",
       "      <td>18</td>\n",
       "      <td>11</td>\n",
       "    </tr>\n",
       "    <tr>\n",
       "      <th>3</th>\n",
       "      <td>Not at all</td>\n",
       "      <td>25</td>\n",
       "      <td>4</td>\n",
       "      <td>10</td>\n",
       "    </tr>\n",
       "    <tr>\n",
       "      <th>4</th>\n",
       "      <td>out of</td>\n",
       "      <td>210</td>\n",
       "      <td>48</td>\n",
       "      <td>72</td>\n",
       "    </tr>\n",
       "  </tbody>\n",
       "</table>\n",
       "</div>"
      ],
      "text/plain": [
       "        level  rescuers  actives  bystanders\n",
       "0        Very        65        9          17\n",
       "1    Somewhat        79       17          34\n",
       "2    Not very        41       18          11\n",
       "3  Not at all        25        4          10\n",
       "4      out of       210       48          72"
      ]
     },
     "execution_count": 2,
     "metadata": {},
     "output_type": "execute_result"
    }
   ],
   "source": [
    "religion = pd.read_csv('oliner_tab6_6.csv')\n",
    "religion"
   ]
  },
  {
   "cell_type": "code",
   "execution_count": 3,
   "id": "550f9e15",
   "metadata": {
    "cell_id": "00005-75b51e26-93c5-4eb9-a32f-883a17700437",
    "deepnote_cell_type": "code"
   },
   "outputs": [
    {
     "name": "stdout",
     "output_type": "stream",
     "text": [
      "~~~~~~~~~~~~~~~~~~~~~~~~~~~~~~~~~~~~~~~~~~~~~~~~~~~~~~~~~~~~~~~~~~~~~\n",
      "Running tests\n",
      "\n",
      "---------------------------------------------------------------------\n",
      "Test summary\n",
      "    Passed: 3\n",
      "    Failed: 0\n",
      "[ooooooooook] 100.0% passed\n",
      "\n"
     ]
    }
   ],
   "source": [
    "_ = ok.grade('q_01_religion')"
   ]
  },
  {
   "cell_type": "markdown",
   "id": "8a0e71ca",
   "metadata": {
    "cell_id": "00006-e9080b9b-b42f-4849-b9f7-93c001aeb009",
    "deepnote_cell_type": "markdown"
   },
   "source": [
    "Next clean up the table a bit.  First make a new table that contains all but\n",
    "the last row (with level \"out of\") that we do not need.  Next, to make indexing\n",
    "easier, replace the current table index (that is sequential row numbers) with\n",
    "the values in the \"level\" column, to make a new data frame, `top_religion`."
   ]
  },
  {
   "cell_type": "code",
   "execution_count": 4,
   "id": "409a6f04",
   "metadata": {
    "cell_id": "00007-8e9dae42-d8cd-45c8-8514-9f452167367e",
    "deepnote_cell_type": "code"
   },
   "outputs": [
    {
     "data": {
      "text/html": [
       "<div>\n",
       "<style scoped>\n",
       "    .dataframe tbody tr th:only-of-type {\n",
       "        vertical-align: middle;\n",
       "    }\n",
       "\n",
       "    .dataframe tbody tr th {\n",
       "        vertical-align: top;\n",
       "    }\n",
       "\n",
       "    .dataframe thead th {\n",
       "        text-align: right;\n",
       "    }\n",
       "</style>\n",
       "<table border=\"1\" class=\"dataframe\">\n",
       "  <thead>\n",
       "    <tr style=\"text-align: right;\">\n",
       "      <th></th>\n",
       "      <th>rescuers</th>\n",
       "      <th>actives</th>\n",
       "      <th>bystanders</th>\n",
       "    </tr>\n",
       "    <tr>\n",
       "      <th>level</th>\n",
       "      <th></th>\n",
       "      <th></th>\n",
       "      <th></th>\n",
       "    </tr>\n",
       "  </thead>\n",
       "  <tbody>\n",
       "    <tr>\n",
       "      <th>Very</th>\n",
       "      <td>65</td>\n",
       "      <td>9</td>\n",
       "      <td>17</td>\n",
       "    </tr>\n",
       "    <tr>\n",
       "      <th>Somewhat</th>\n",
       "      <td>79</td>\n",
       "      <td>17</td>\n",
       "      <td>34</td>\n",
       "    </tr>\n",
       "    <tr>\n",
       "      <th>Not very</th>\n",
       "      <td>41</td>\n",
       "      <td>18</td>\n",
       "      <td>11</td>\n",
       "    </tr>\n",
       "    <tr>\n",
       "      <th>Not at all</th>\n",
       "      <td>25</td>\n",
       "      <td>4</td>\n",
       "      <td>10</td>\n",
       "    </tr>\n",
       "  </tbody>\n",
       "</table>\n",
       "</div>"
      ],
      "text/plain": [
       "            rescuers  actives  bystanders\n",
       "level                                    \n",
       "Very              65        9          17\n",
       "Somewhat          79       17          34\n",
       "Not very          41       18          11\n",
       "Not at all        25        4          10"
      ]
     },
     "execution_count": 4,
     "metadata": {},
     "output_type": "execute_result"
    }
   ],
   "source": [
    "top_religion = religion.iloc[:-1,:].set_index('level')\n",
    "top_religion"
   ]
  },
  {
   "cell_type": "code",
   "execution_count": 5,
   "id": "c09ffe83",
   "metadata": {
    "cell_id": "00008-5242798f-a67b-4fa3-a636-26ae45b370b2",
    "deepnote_cell_type": "code"
   },
   "outputs": [
    {
     "name": "stdout",
     "output_type": "stream",
     "text": [
      "~~~~~~~~~~~~~~~~~~~~~~~~~~~~~~~~~~~~~~~~~~~~~~~~~~~~~~~~~~~~~~~~~~~~~\n",
      "Running tests\n",
      "\n",
      "---------------------------------------------------------------------\n",
      "Test summary\n",
      "    Passed: 4\n",
      "    Failed: 0\n",
      "[ooooooooook] 100.0% passed\n",
      "\n"
     ]
    }
   ],
   "source": [
    "_ = ok.grade('q_02_top_religion')"
   ]
  },
  {
   "cell_type": "markdown",
   "id": "1b0bf3ab",
   "metadata": {
    "cell_id": "00009-a057dd00-4b56-4d2b-9d24-58f36116fa23",
    "deepnote_cell_type": "markdown"
   },
   "source": [
    "Let us restrict our attention to the Rescuers and the Actives, for the moment.\n",
    "Make a new table `rescuers_actives` that contains only the first two columns of\n",
    "`top_religion`:"
   ]
  },
  {
   "cell_type": "code",
   "execution_count": 6,
   "id": "0849705c",
   "metadata": {
    "cell_id": "00010-21e159d0-6648-4901-b31e-03607bad3291",
    "deepnote_cell_type": "code"
   },
   "outputs": [
    {
     "data": {
      "text/html": [
       "<div>\n",
       "<style scoped>\n",
       "    .dataframe tbody tr th:only-of-type {\n",
       "        vertical-align: middle;\n",
       "    }\n",
       "\n",
       "    .dataframe tbody tr th {\n",
       "        vertical-align: top;\n",
       "    }\n",
       "\n",
       "    .dataframe thead th {\n",
       "        text-align: right;\n",
       "    }\n",
       "</style>\n",
       "<table border=\"1\" class=\"dataframe\">\n",
       "  <thead>\n",
       "    <tr style=\"text-align: right;\">\n",
       "      <th></th>\n",
       "      <th>rescuers</th>\n",
       "      <th>actives</th>\n",
       "    </tr>\n",
       "    <tr>\n",
       "      <th>level</th>\n",
       "      <th></th>\n",
       "      <th></th>\n",
       "    </tr>\n",
       "  </thead>\n",
       "  <tbody>\n",
       "    <tr>\n",
       "      <th>Very</th>\n",
       "      <td>65</td>\n",
       "      <td>9</td>\n",
       "    </tr>\n",
       "    <tr>\n",
       "      <th>Somewhat</th>\n",
       "      <td>79</td>\n",
       "      <td>17</td>\n",
       "    </tr>\n",
       "    <tr>\n",
       "      <th>Not very</th>\n",
       "      <td>41</td>\n",
       "      <td>18</td>\n",
       "    </tr>\n",
       "    <tr>\n",
       "      <th>Not at all</th>\n",
       "      <td>25</td>\n",
       "      <td>4</td>\n",
       "    </tr>\n",
       "  </tbody>\n",
       "</table>\n",
       "</div>"
      ],
      "text/plain": [
       "            rescuers  actives\n",
       "level                        \n",
       "Very              65        9\n",
       "Somewhat          79       17\n",
       "Not very          41       18\n",
       "Not at all        25        4"
      ]
     },
     "execution_count": 6,
     "metadata": {},
     "output_type": "execute_result"
    }
   ],
   "source": [
    "rescuers_actives = top_religion.iloc[:,:2]\n",
    "rescuers_actives"
   ]
  },
  {
   "cell_type": "code",
   "execution_count": 7,
   "id": "e50f2cd1",
   "metadata": {
    "cell_id": "00011-e686bd69-d12a-433f-b822-9a4355067896",
    "deepnote_cell_type": "code"
   },
   "outputs": [
    {
     "name": "stdout",
     "output_type": "stream",
     "text": [
      "~~~~~~~~~~~~~~~~~~~~~~~~~~~~~~~~~~~~~~~~~~~~~~~~~~~~~~~~~~~~~~~~~~~~~\n",
      "Running tests\n",
      "\n",
      "---------------------------------------------------------------------\n",
      "Test summary\n",
      "    Passed: 3\n",
      "    Failed: 0\n",
      "[ooooooooook] 100.0% passed\n",
      "\n"
     ]
    }
   ],
   "source": [
    "_ = ok.grade('q_03_rescuers_actives')"
   ]
  },
  {
   "cell_type": "markdown",
   "id": "eabf517f",
   "metadata": {
    "cell_id": "00012-5ee5c536-0645-41e9-89df-a63ee8e99b1b",
    "deepnote_cell_type": "markdown"
   },
   "source": [
    "Superficially, it looks as if there is a greater tendency for Rescuers to be\n",
    "Very or Somewhat religious, than is the case for Actives.\n",
    "\n",
    "Could this tendency have come about by chance?  How could we address this?\n",
    "\n",
    "Let us first extend the technique that we used in the [noble politics](https://uob-ds.github.io/cfd2021/wild-pandas/noble_politics) notebook.\n",
    "\n",
    "We will assume a model world in which we have the same total number of\n",
    "rescuers as we see here, and the same total number of actives.\n",
    "\n",
    "We also have the same total numbers of people who are \"Very\", \"Somewhat\", \"Not very\" and \"Not at all\" religious.\n",
    "\n",
    "However, in this model world, there is no difference in the tendency of\n",
    "Rescuers and Actives to give any of the four levels of religiousness.  For\n",
    "example, in this world, a Rescuer is just as likely as an Active to answer\n",
    "\"Very\".\n",
    "\n",
    "To simulate this world, we could put 65 + 9 = 74 pieces of paper with \"Very\"\n",
    "written on them into a hat, along with 79 + 17 = 96 pieces of paper with\n",
    "\"Somewhat\" written on them, and so on.  Then we shake up the hat, and, for each\n",
    "of the 210 Rescuers we draw one piece of paper out of the hat, tabulate the\n",
    "result (Rescuer associated with \"Very\", or \"Somewhat\", etc), and put the piece\n",
    "of paper aside.  Similarly for the remaining 48 labels, that correspond to the\n",
    "Actives.  This gives us a new table of counts, where there is a random\n",
    "association between the group (Rescuer / Active) and Religiousness (Very,\n",
    "Somewhat, Not very, Not at all).\n",
    "\n",
    "Here is one trial in such a world:"
   ]
  },
  {
   "cell_type": "code",
   "execution_count": 8,
   "id": "1672e7cb",
   "metadata": {
    "cell_id": "00013-d954b6f5-42de-47be-b863-8e97e1521e40",
    "deepnote_cell_type": "code"
   },
   "outputs": [
    {
     "data": {
      "text/html": [
       "<div>\n",
       "<style scoped>\n",
       "    .dataframe tbody tr th:only-of-type {\n",
       "        vertical-align: middle;\n",
       "    }\n",
       "\n",
       "    .dataframe tbody tr th {\n",
       "        vertical-align: top;\n",
       "    }\n",
       "\n",
       "    .dataframe thead th {\n",
       "        text-align: right;\n",
       "    }\n",
       "</style>\n",
       "<table border=\"1\" class=\"dataframe\">\n",
       "  <thead>\n",
       "    <tr style=\"text-align: right;\">\n",
       "      <th>col_0</th>\n",
       "      <th>actives</th>\n",
       "      <th>rescuers</th>\n",
       "    </tr>\n",
       "    <tr>\n",
       "      <th>row_0</th>\n",
       "      <th></th>\n",
       "      <th></th>\n",
       "    </tr>\n",
       "  </thead>\n",
       "  <tbody>\n",
       "    <tr>\n",
       "      <th>Not at all</th>\n",
       "      <td>8</td>\n",
       "      <td>21</td>\n",
       "    </tr>\n",
       "    <tr>\n",
       "      <th>Not very</th>\n",
       "      <td>9</td>\n",
       "      <td>50</td>\n",
       "    </tr>\n",
       "    <tr>\n",
       "      <th>Somewhat</th>\n",
       "      <td>18</td>\n",
       "      <td>78</td>\n",
       "    </tr>\n",
       "    <tr>\n",
       "      <th>Very</th>\n",
       "      <td>13</td>\n",
       "      <td>61</td>\n",
       "    </tr>\n",
       "  </tbody>\n",
       "</table>\n",
       "</div>"
      ],
      "text/plain": [
       "col_0       actives  rescuers\n",
       "row_0                        \n",
       "Not at all        8        21\n",
       "Not very          9        50\n",
       "Somewhat         18        78\n",
       "Very             13        61"
      ]
     },
     "execution_count": 8,
     "metadata": {},
     "output_type": "execute_result"
    }
   ],
   "source": [
    "# Run this cell\n",
    "# Recreate the individual labels for group and religiousness.\n",
    "group = np.repeat(['rescuers', 'actives'], rescuers_actives.sum())\n",
    "religiousness = np.repeat(['Very', 'Somewhat', 'Not very', 'Not at all'],\n",
    "                         rescuers_actives.transpose().sum())\n",
    "# Shuffle the religiousness labels to give a random association.\n",
    "np.random.shuffle(religiousness)\n",
    "# Make, show fake table.\n",
    "fake_table = pd.crosstab(religiousness, group)\n",
    "fake_table"
   ]
  },
  {
   "cell_type": "markdown",
   "id": "c0cde057",
   "metadata": {
    "cell_id": "00014-fdd80725-5411-4812-a1a1-9330fb62d67e",
    "deepnote_cell_type": "markdown"
   },
   "source": [
    "Let's look in particular at the value for Very and Actives:"
   ]
  },
  {
   "cell_type": "code",
   "execution_count": 9,
   "id": "755de110",
   "metadata": {
    "cell_id": "00015-871ae263-d40c-483f-bad0-e78ed5a3f5b0",
    "deepnote_cell_type": "code"
   },
   "outputs": [
    {
     "data": {
      "text/plain": [
       "9"
      ]
     },
     "execution_count": 9,
     "metadata": {},
     "output_type": "execute_result"
    }
   ],
   "source": [
    "# Run this cell\n",
    "actual_by_very = rescuers_actives.loc['Very', 'actives']\n",
    "actual_by_very"
   ]
  },
  {
   "cell_type": "markdown",
   "id": "25edfff0",
   "metadata": {
    "cell_id": "00016-39aff91e-e7a0-4b41-b68c-89c80ee34114",
    "deepnote_cell_type": "markdown"
   },
   "source": [
    "Compare this to the value from the fake table:"
   ]
  },
  {
   "cell_type": "code",
   "execution_count": 10,
   "id": "0c72bac5",
   "metadata": {
    "cell_id": "00017-4dc6c20f-514c-4f00-9290-1be6503e9b68",
    "deepnote_cell_type": "code"
   },
   "outputs": [
    {
     "data": {
      "text/plain": [
       "13"
      ]
     },
     "execution_count": 10,
     "metadata": {},
     "output_type": "execute_result"
    }
   ],
   "source": [
    "# Run this cell\n",
    "fake_by_very = fake_table.loc['Very', 'actives']\n",
    "fake_by_very"
   ]
  },
  {
   "cell_type": "markdown",
   "id": "d34520cd",
   "metadata": {
    "cell_id": "00018-ffe1d5c7-09d4-4a69-813e-75015b83dad0",
    "deepnote_cell_type": "markdown"
   },
   "source": [
    "Run this simulation *1000* times, to get 1000 samples of the Very, Actives number.\n",
    "\n",
    "**Careful**: if you run this simulation 10000 times, instead of 1000, it will\n",
    "take a long time."
   ]
  },
  {
   "cell_type": "code",
   "execution_count": 11,
   "id": "56fc7375-4d0f-421b-af52-ebb856bc8235",
   "metadata": {},
   "outputs": [],
   "source": [
    "def run_sim():\n",
    "    # Shuffle the religiousness labels to give a random association.\n",
    "    np.random.shuffle(religiousness)\n",
    "    # Make, show fake table.\n",
    "    fake_table = pd.crosstab(religiousness, group)\n",
    "    return fake_table"
   ]
  },
  {
   "cell_type": "code",
   "execution_count": 12,
   "id": "0fa2b0ca",
   "metadata": {
    "cell_id": "00019-a6f8ff52-ff4d-4faa-a926-c529d8f9201a",
    "deepnote_cell_type": "code"
   },
   "outputs": [
    {
     "data": {
      "text/plain": [
       "array([14, 18, 18, 13, 12])"
      ]
     },
     "execution_count": 12,
     "metadata": {},
     "output_type": "execute_result"
    }
   ],
   "source": [
    "very_actives = np.array([run_sim().loc['Very', 'actives'] for i in range(1000) ])\n",
    "# Show the first five values\n",
    "very_actives[:5]"
   ]
  },
  {
   "cell_type": "code",
   "execution_count": 13,
   "id": "ecb61012",
   "metadata": {
    "cell_id": "00020-837e8b0c-dcbe-47c8-af3a-c9b938fe9ab0",
    "deepnote_cell_type": "code"
   },
   "outputs": [
    {
     "name": "stdout",
     "output_type": "stream",
     "text": [
      "~~~~~~~~~~~~~~~~~~~~~~~~~~~~~~~~~~~~~~~~~~~~~~~~~~~~~~~~~~~~~~~~~~~~~\n",
      "Running tests\n",
      "\n",
      "---------------------------------------------------------------------\n",
      "Test summary\n",
      "    Passed: 4\n",
      "    Failed: 0\n",
      "[ooooooooook] 100.0% passed\n",
      "\n"
     ]
    }
   ],
   "source": [
    "_ = ok.grade('q_04_very_actives')"
   ]
  },
  {
   "cell_type": "markdown",
   "id": "21b70ac5",
   "metadata": {
    "cell_id": "00021-c8272409-9c51-45e9-b133-d627de9bab2a",
    "deepnote_cell_type": "markdown"
   },
   "source": [
    "Use the next cell to plot a histogram of the `very_actives` values, and\n",
    "calculate the proportion of `very_actives` that are less than or equal to the\n",
    "value we observed in the original table.  You will need these for later."
   ]
  },
  {
   "cell_type": "code",
   "execution_count": 14,
   "id": "b3f0ea4f",
   "metadata": {
    "cell_id": "00022-e531d761-b2e2-4f4b-9761-61f9289912b1",
    "deepnote_cell_type": "code"
   },
   "outputs": [
    {
     "data": {
      "text/plain": [
       "Text(0.5, 0, 'simulated value')"
      ]
     },
     "execution_count": 14,
     "metadata": {},
     "output_type": "execute_result"
    },
    {
     "data": {
      "image/png": "[encoded data removed]",
      "text/plain": [
       "<Figure size 432x288 with 1 Axes>"
      ]
     },
     "metadata": {},
     "output_type": "display_data"
    }
   ],
   "source": [
    "#- Plot a histogram of the very_actives values, calculate the proportion.\n",
    "import seaborn as sns\n",
    "plt.hist(very_actives)\n",
    "plt.xlabel('simulated value')"
   ]
  },
  {
   "cell_type": "code",
   "execution_count": 15,
   "id": "57a839c8-3e08-4767-815a-d7ebbd5f4536",
   "metadata": {},
   "outputs": [
    {
     "data": {
      "text/plain": [
       "0.064"
      ]
     },
     "execution_count": 15,
     "metadata": {},
     "output_type": "execute_result"
    }
   ],
   "source": [
    "less_prop = np.count_nonzero(very_actives <= actual_by_very)/len(very_actives)\n",
    "less_prop"
   ]
  },
  {
   "cell_type": "markdown",
   "id": "10e81592",
   "metadata": {
    "cell_id": "00023-61db60fb-0a81-4c19-a6ad-453e1072e082",
    "deepnote_cell_type": "markdown"
   },
   "source": [
    "Now assume that we are interested in the idea that Rescuers tend to be more\n",
    "religious than Actives, on average.   We need some way of converting the\n",
    "categories -- Very; Somewhat; Not very; Not at all -- to a score of\n",
    "religiousness.\n",
    "\n",
    "Map the categories to numbers like this:\n",
    "\n",
    "* Very = 3\n",
    "* Somewhat = 2\n",
    "* Not very = 1\n",
    "* Not at all = 0\n",
    "\n",
    "For example, I can construct the scores for all 210 rescuers represented in the table with:"
   ]
  },
  {
   "cell_type": "code",
   "execution_count": 16,
   "id": "a598a976",
   "metadata": {
    "cell_id": "00024-a178edd3-5d3e-4b7a-aadb-54f26e8cc820",
    "deepnote_cell_type": "code"
   },
   "outputs": [
    {
     "data": {
      "text/plain": [
       "array([3, 3, 3, 3, 3, 3, 3, 3, 3, 3, 3, 3, 3, 3, 3, 3, 3, 3, 3, 3, 3, 3,\n",
       "       3, 3, 3, 3, 3, 3, 3, 3, 3, 3, 3, 3, 3, 3, 3, 3, 3, 3, 3, 3, 3, 3,\n",
       "       3, 3, 3, 3, 3, 3, 3, 3, 3, 3, 3, 3, 3, 3, 3, 3, 3, 3, 3, 3, 3, 2,\n",
       "       2, 2, 2, 2, 2, 2, 2, 2, 2, 2, 2, 2, 2, 2, 2, 2, 2, 2, 2, 2, 2, 2,\n",
       "       2, 2, 2, 2, 2, 2, 2, 2, 2, 2, 2, 2, 2, 2, 2, 2, 2, 2, 2, 2, 2, 2,\n",
       "       2, 2, 2, 2, 2, 2, 2, 2, 2, 2, 2, 2, 2, 2, 2, 2, 2, 2, 2, 2, 2, 2,\n",
       "       2, 2, 2, 2, 2, 2, 2, 2, 2, 2, 2, 2, 1, 1, 1, 1, 1, 1, 1, 1, 1, 1,\n",
       "       1, 1, 1, 1, 1, 1, 1, 1, 1, 1, 1, 1, 1, 1, 1, 1, 1, 1, 1, 1, 1, 1,\n",
       "       1, 1, 1, 1, 1, 1, 1, 1, 1, 0, 0, 0, 0, 0, 0, 0, 0, 0, 0, 0, 0, 0,\n",
       "       0, 0, 0, 0, 0, 0, 0, 0, 0, 0, 0, 0])"
      ]
     },
     "execution_count": 16,
     "metadata": {},
     "output_type": "execute_result"
    }
   ],
   "source": [
    "# Run this cell\n",
    "rescuer_counts = rescuers_actives.loc[:, 'rescuers']\n",
    "rescuer_scores = np.repeat([3, 2, 1, 0], rescuer_counts)\n",
    "rescuer_scores"
   ]
  },
  {
   "cell_type": "markdown",
   "id": "206ec836",
   "metadata": {
    "cell_id": "00025-b22677da-a5ac-48ef-8277-4570dd4b1c00",
    "deepnote_cell_type": "markdown"
   },
   "source": [
    "The mean religiousness scores for rescuers is:"
   ]
  },
  {
   "cell_type": "code",
   "execution_count": 17,
   "id": "33c98f01",
   "metadata": {
    "cell_id": "00026-97e5a7c2-2a3a-408a-b16d-4d972399a62b",
    "deepnote_cell_type": "code"
   },
   "outputs": [
    {
     "data": {
      "text/plain": [
       "1.8761904761904762"
      ]
     },
     "execution_count": 17,
     "metadata": {},
     "output_type": "execute_result"
    }
   ],
   "source": [
    "np.mean(rescuer_scores)"
   ]
  },
  {
   "cell_type": "markdown",
   "id": "48ad2d5f",
   "metadata": {
    "cell_id": "00027-e5953a15-5303-495d-8b4f-cc26d4f68bdf",
    "deepnote_cell_type": "markdown"
   },
   "source": [
    "Follow the same recipe to reconstruct the 48 Actives scores:"
   ]
  },
  {
   "cell_type": "code",
   "execution_count": 18,
   "id": "9fd8b75b",
   "metadata": {
    "cell_id": "00028-7f5d17d7-beb2-4a3c-8a7d-b58412fdd914",
    "deepnote_cell_type": "code"
   },
   "outputs": [
    {
     "data": {
      "text/plain": [
       "array([3, 3, 3, 3, 3, 3, 3, 3, 3, 2, 2, 2, 2, 2, 2, 2, 2, 2, 2, 2, 2, 2,\n",
       "       2, 2, 2, 2, 1, 1, 1, 1, 1, 1, 1, 1, 1, 1, 1, 1, 1, 1, 1, 1, 1, 1,\n",
       "       0, 0, 0, 0])"
      ]
     },
     "execution_count": 18,
     "metadata": {},
     "output_type": "execute_result"
    }
   ],
   "source": [
    "active_scores = np.repeat([3, 2, 1, 0], rescuers_actives.loc[:, 'actives'])\n",
    "active_scores"
   ]
  },
  {
   "cell_type": "code",
   "execution_count": 19,
   "id": "d5357503",
   "metadata": {
    "cell_id": "00029-0b3634d8-4544-4f0c-95da-0cf540eca7fe",
    "deepnote_cell_type": "code"
   },
   "outputs": [
    {
     "name": "stdout",
     "output_type": "stream",
     "text": [
      "~~~~~~~~~~~~~~~~~~~~~~~~~~~~~~~~~~~~~~~~~~~~~~~~~~~~~~~~~~~~~~~~~~~~~\n",
      "Running tests\n",
      "\n",
      "---------------------------------------------------------------------\n",
      "Test summary\n",
      "    Passed: 3\n",
      "    Failed: 0\n",
      "[ooooooooook] 100.0% passed\n",
      "\n"
     ]
    }
   ],
   "source": [
    "_ = ok.grade('q_05_active_scores')"
   ]
  },
  {
   "cell_type": "markdown",
   "id": "843ce9e9",
   "metadata": {
    "cell_id": "00030-fc793111-6890-4919-8504-2a8a089dc33d",
    "deepnote_cell_type": "markdown"
   },
   "source": [
    "Now you have the scores, you can do a permutation test.\n",
    "\n",
    "The observed mean difference in scores is:"
   ]
  },
  {
   "cell_type": "code",
   "execution_count": 20,
   "id": "eea01581",
   "metadata": {
    "cell_id": "00031-e5806a22-b497-43c4-a9af-5b33433fce4e",
    "deepnote_cell_type": "code"
   },
   "outputs": [
    {
     "data": {
      "text/plain": [
       "0.23035714285714293"
      ]
     },
     "execution_count": 20,
     "metadata": {},
     "output_type": "execute_result"
    }
   ],
   "source": [
    "# Run this cell\n",
    "observed = np.mean(rescuer_scores) - np.mean(active_scores)\n",
    "observed"
   ]
  },
  {
   "cell_type": "markdown",
   "id": "68b3cdd2",
   "metadata": {
    "cell_id": "00032-1084aeb8-bd5c-49e8-b79d-9f4e6416bebe",
    "deepnote_cell_type": "markdown"
   },
   "source": [
    "Now run a simulation of 10000 trials where, for each trial, you:\n",
    "\n",
    "* mix up the scores for the Rescuers and the actives;\n",
    "* The number of Rescuers is 210.  Select 210 scores at random to be fake\n",
    "  Rescuer scores; the remainder are fake Actives scores;\n",
    "* calculate the difference in means between these two fake groups, and store it\n",
    "  in an array `fake_mean_diffs`."
   ]
  },
  {
   "cell_type": "code",
   "execution_count": 30,
   "id": "bf639a04",
   "metadata": {
    "cell_id": "00033-fa862f8a-d113-4041-8d65-6b11b273e222",
    "deepnote_cell_type": "code"
   },
   "outputs": [
    {
     "data": {
      "text/plain": [
       "array([-0.17916667, -0.05119048, -0.02559524,  0.07678571,  0.05119048])"
      ]
     },
     "execution_count": 30,
     "metadata": {},
     "output_type": "execute_result"
    }
   ],
   "source": [
    "np.random.seed(2)\n",
    "n_rep = 10000\n",
    "fake_mean_diffs = np.zeros(n_rep)\n",
    "all_scores = np.append(rescuer_scores,active_scores)\n",
    "for i in range(n_rep):\n",
    "    permuted = np.random.permutation(all_scores)\n",
    "    f_rescuers = permuted[:210] ; f_actives = permuted[210:]\n",
    "    fake_mean_diffs[i] = f_rescuers.mean() - f_actives.mean()\n",
    "# Show the first five values\n",
    "fake_mean_diffs[:5]"
   ]
  },
  {
   "cell_type": "code",
   "execution_count": 31,
   "id": "73a66aae",
   "metadata": {
    "cell_id": "00034-76288b96-814a-4d3b-84a0-639f8f3b882e",
    "deepnote_cell_type": "code"
   },
   "outputs": [
    {
     "name": "stdout",
     "output_type": "stream",
     "text": [
      "~~~~~~~~~~~~~~~~~~~~~~~~~~~~~~~~~~~~~~~~~~~~~~~~~~~~~~~~~~~~~~~~~~~~~\n",
      "Running tests\n",
      "\n",
      "---------------------------------------------------------------------\n",
      "Test summary\n",
      "    Passed: 4\n",
      "    Failed: 0\n",
      "[ooooooooook] 100.0% passed\n",
      "\n"
     ]
    }
   ],
   "source": [
    "_ = ok.grade('q_06_fake_mean_diffs')"
   ]
  },
  {
   "cell_type": "markdown",
   "id": "b22146f6",
   "metadata": {
    "cell_id": "00035-997e369c-4e91-4067-83ae-95647fce090a",
    "deepnote_cell_type": "markdown"
   },
   "source": [
    "Use the cell below to do a histogram of these values, and calculate the proportion of these fake values that are greater than or equal to the observed value:"
   ]
  },
  {
   "cell_type": "code",
   "execution_count": 32,
   "id": "ddd94715",
   "metadata": {
    "cell_id": "00036-fa172698-1b13-4eeb-9a92-41c9c0825afc",
    "deepnote_cell_type": "code"
   },
   "outputs": [
    {
     "data": {
      "text/plain": [
       "(array([  11.,  117.,  719., 1987., 3175., 2127., 1435.,  374.,   50.,\n",
       "           5.]),\n",
       " array([-0.58869048, -0.46583333, -0.34297619, -0.22011905, -0.0972619 ,\n",
       "         0.02559524,  0.14845238,  0.27130952,  0.39416667,  0.51702381,\n",
       "         0.63988095]),\n",
       " <BarContainer object of 10 artists>)"
      ]
     },
     "execution_count": 32,
     "metadata": {},
     "output_type": "execute_result"
    },
    {
     "data": {
      "image/png": "[encoded data removed]",
      "text/plain": [
       "<Figure size 432x288 with 1 Axes>"
      ]
     },
     "metadata": {},
     "output_type": "display_data"
    }
   ],
   "source": [
    "#- Use this cell to plot histogram and calculate proportion.\n",
    "plt.hist(fake_mean_diffs)"
   ]
  },
  {
   "cell_type": "code",
   "execution_count": 33,
   "id": "3031102f-06bf-4db0-93a8-837f6eaacab1",
   "metadata": {},
   "outputs": [
    {
     "data": {
      "text/plain": [
       "0.0844"
      ]
     },
     "execution_count": 33,
     "metadata": {},
     "output_type": "execute_result"
    }
   ],
   "source": [
    "np.count_nonzero(fake_mean_diffs >= observed)/len(fake_mean_diffs)\n"
   ]
  },
  {
   "cell_type": "markdown",
   "id": "e4919662",
   "metadata": {
    "cell_id": "00037-91db2524-0421-44ed-b5e6-b6e0add9cd9e",
    "deepnote_cell_type": "markdown"
   },
   "source": [
    "With the evidence you have here, what conclusion can you draw about the\n",
    "observed counts of self-ratings of religiousness, from `oliner_tab6_6.csv`?  Do\n",
    "you think the counts are compatible with random sampling, in a world where\n",
    "there is no association between being a rescuer or an active and the person's\n",
    "level of religiousness?  Justify your conclusion.\n"
   ]
  },
  {
   "cell_type": "markdown",
   "id": "b8d19765",
   "metadata": {
    "cell_id": "00038-3d601d39-073c-4ff0-96bd-d7484e63db08",
    "deepnote_cell_type": "markdown",
    "lines_to_next_cell": 2,
    "manual_grade": true,
    "manual_problem_id": "religion_plausible"
   },
   "source": [
    "<mark><font size=4>If we set significance level $ \\alpha=0.05 $, according to the result of permutation test we should accept the null hypothesis. That is the level of religiousness has no significant difference between rescuer group and active group. However, the significance level is marginal which means there is a potential to show difference in these two groups if we increase our sample size. </font></mark>"
   ]
  },
  {
   "cell_type": "markdown",
   "id": "cc4b89ee",
   "metadata": {
    "cell_id": "00039-8251fb23-10f3-4705-b7c1-494ad7be97a3",
    "deepnote_cell_type": "markdown"
   },
   "source": [
    "## Done\n",
    "\n",
    "You're finished with the assignment!  Be sure to...\n",
    "\n",
    "- **run all the tests** (the next cell has a shortcut for that),\n",
    "- **Save and Checkpoint** from the \"File\" menu.\n",
    "- Finally, **restart** the kernel for this notebook, and **run all the cells**,\n",
    "  to check that the notebook still works without errors.  Use the\n",
    "  \"Kernel\" menu, and choose \"Restart and run all\".  If you find any\n",
    "  problems, go back and fix them, save the notebook, and restart / run\n",
    "  all again, before submitting.  When you do this, you make sure that\n",
    "  we, your humble markers, will be able to mark your notebook."
   ]
  },
  {
   "cell_type": "code",
   "execution_count": 25,
   "id": "c248b4c5",
   "metadata": {
    "cell_id": "00040-aa73b4c6-22ed-43d0-a0f9-fc0337d989bf",
    "deepnote_cell_type": "code"
   },
   "outputs": [
    {
     "name": "stdout",
     "output_type": "stream",
     "text": [
      "~~~~~~~~~~~~~~~~~~~~~~~~~~~~~~~~~~~~~~~~~~~~~~~~~~~~~~~~~~~~~~~~~~~~~\n",
      "Running tests\n",
      "\n",
      "---------------------------------------------------------------------\n",
      "Test summary\n",
      "    Passed: 3\n",
      "    Failed: 0\n",
      "[ooooooooook] 100.0% passed\n",
      "\n",
      "~~~~~~~~~~~~~~~~~~~~~~~~~~~~~~~~~~~~~~~~~~~~~~~~~~~~~~~~~~~~~~~~~~~~~\n",
      "Running tests\n",
      "\n",
      "---------------------------------------------------------------------\n",
      "Test summary\n",
      "    Passed: 4\n",
      "    Failed: 0\n",
      "[ooooooooook] 100.0% passed\n",
      "\n",
      "~~~~~~~~~~~~~~~~~~~~~~~~~~~~~~~~~~~~~~~~~~~~~~~~~~~~~~~~~~~~~~~~~~~~~\n",
      "Running tests\n",
      "\n",
      "---------------------------------------------------------------------\n",
      "Test summary\n",
      "    Passed: 3\n",
      "    Failed: 0\n",
      "[ooooooooook] 100.0% passed\n",
      "\n",
      "~~~~~~~~~~~~~~~~~~~~~~~~~~~~~~~~~~~~~~~~~~~~~~~~~~~~~~~~~~~~~~~~~~~~~\n",
      "Running tests\n",
      "\n",
      "---------------------------------------------------------------------\n",
      "Test summary\n",
      "    Passed: 4\n",
      "    Failed: 0\n",
      "[ooooooooook] 100.0% passed\n",
      "\n",
      "~~~~~~~~~~~~~~~~~~~~~~~~~~~~~~~~~~~~~~~~~~~~~~~~~~~~~~~~~~~~~~~~~~~~~\n",
      "Running tests\n",
      "\n",
      "---------------------------------------------------------------------\n",
      "Test summary\n",
      "    Passed: 3\n",
      "    Failed: 0\n",
      "[ooooooooook] 100.0% passed\n",
      "\n",
      "~~~~~~~~~~~~~~~~~~~~~~~~~~~~~~~~~~~~~~~~~~~~~~~~~~~~~~~~~~~~~~~~~~~~~\n",
      "Running tests\n",
      "\n",
      "---------------------------------------------------------------------\n",
      "Test summary\n",
      "    Passed: 4\n",
      "    Failed: 0\n",
      "[ooooooooook] 100.0% passed\n",
      "\n"
     ]
    }
   ],
   "source": [
    "# For your convenience, you can run this cell to run all the tests at once!\n",
    "import os\n",
    "_ = [ok.grade(q[:-3]) for q in os.listdir(\"tests\") if q.startswith('q')]"
   ]
  },
  {
   "cell_type": "markdown",
   "id": "b7fd51aa",
   "metadata": {
    "created_in_deepnote_cell": true,
    "deepnote_cell_type": "markdown",
    "tags": []
   },
   "source": [
    "<a style='text-decoration:none;line-height:16px;display:flex;color:#5B5B62;padding:10px;justify-content:end;' href='https://deepnote.com?utm_source=created-in-deepnote-cell&projectId=40b11abf-da96-40a9-bda2-9991ea01f205' target=\"_blank\">\n",
    "<img alt='Created in deepnote.com' style='display:inline;max-height:16px;margin:0px;margin-right:7.5px;' src='data:image/svg+xml;base64,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' > </img>\n",
    "Created in <span style='font-weight:600;margin-left:4px;'>Deepnote</span></a>"
   ]
  }
 ],
 "metadata": {
  "deepnote": {},
  "deepnote_execution_queue": [],
  "deepnote_notebook_id": "5b1de9a4-db32-4786-b373-2813ee5aa4f1",
  "jupytext": {
   "cell_metadata_json": true,
   "split_at_heading": true,
   "text_representation": {
    "extension": ".Rmd",
    "format_name": "rmarkdown",
    "format_version": "1.1",
    "jupytext_version": "1.2.4"
   }
  },
  "kernelspec": {
   "display_name": "Python 3 (ipykernel)",
   "language": "python",
   "name": "python3"
  },
  "language_info": {
   "codemirror_mode": {
    "name": "ipython",
    "version": 3
   },
   "file_extension": ".py",
   "mimetype": "text/x-python",
   "name": "python",
   "nbconvert_exporter": "python",
   "pygments_lexer": "ipython3",
   "version": "3.8.12"
  }
 },
 "nbformat": 4,
 "nbformat_minor": 5
}
