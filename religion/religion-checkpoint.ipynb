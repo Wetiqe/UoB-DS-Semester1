{
 "cells": [
  {
   "cell_type": "markdown",
   "source": "# Is religion a good thing?\n",
   "metadata": {
    "cell_id": "00000-4e826a8e-41de-4bc5-ba8c-e638f8948d74",
    "deepnote_cell_type": "markdown"
   }
  },
  {
   "cell_type": "markdown",
   "source": "## Preliminaries\n\nAs for the other notebooks in this set of assignments, tests in this notebook\ndo not usually test if you have the right answer, but only if you have the\n*right sort* of answer.  *Be careful* -- the tests could pass, but your answer\ncould still be wrong",
   "metadata": {
    "cell_id": "00001-6fd492c3-cd56-44e8-94c5-86f90cb2a960",
    "deepnote_cell_type": "markdown"
   }
  },
  {
   "cell_type": "code",
   "metadata": {
    "cell_id": "00002-f136f894-6662-48fd-853e-e36a06852a94",
    "deepnote_cell_type": "code"
   },
   "source": "# Don't change this cell; just run it.\n\nimport numpy as np\nimport pandas as pd\n# Safe settings for Pandas.\npd.set_option('mode.chained_assignment', 'raise')\n\n%matplotlib inline\nimport matplotlib.pyplot as plt\nplt.style.use('fivethirtyeight')\n\nfrom client.api.notebook import Notebook\nok = Notebook('religion.ok')",
   "execution_count": null,
   "outputs": []
  },
  {
   "cell_type": "markdown",
   "source": "## To religion\n\nWe [return](https://uob-ds.github.io/cfd2021/wild-pandas/noble_politics) to the data\npublished in:\n\n> Samuel P. Oliner and Pearl M. Oliner (1992) \"The Altruistic Personality:\n> Rescuers of Jews in Nazi Europe\". Free Press, New York. ISBN 0-02923829-3.\n\nSee [the dataset\npage](https://github.com/matthew-brett/datasets/tree/master/oliner1988)\nfor some more details.\n\nAs you remember, Samuel and Pearl Oliner had detailed interview data from:\n\n* 231 people who had sheltered Jews during the second world war (the *Rescuer*\n  group);\n* 53 people, roughly matched with the Rescuers on age, education, and\n  nationality, who claimed to have either sheltered Jews, or contributed to the\n  resistance, or both (the *Active* group);\n* 73 people, roughly matched to the Rescuers as above, who did not claim to\n  have sheltered Jews or helped the resistance (the *Bystander* group).\n\nThe Oliners' interest was to find characteristics of the Rescuer group that\nmight be related to their extraordinary choice to risk their lives or\nlivelihood to shelter Jews.\n\nHere we are studying the data from table 6.6 of their book. The table\ncross-tabulates the answers to question D14 from their interview schedule:\n\"Before the war, were you very religious, somewhat religious, not very\nreligious or not at all religious?\".\n\nYou will find\na [version](https://github.com/matthew-brett/datasets/tree/master/oliner1988)\nof the data from that table in the file `oliner_tab6_6.csv`.\n\nRead that table as a data frame.",
   "metadata": {
    "cell_id": "00003-329be915-afc7-4140-a32e-c760e13b55ea",
    "deepnote_cell_type": "markdown"
   }
  },
  {
   "cell_type": "code",
   "metadata": {
    "cell_id": "00004-b7905ae8-76ed-41ce-a30d-7e2cb6639f44",
    "deepnote_cell_type": "code"
   },
   "source": "religion = ...\nreligion",
   "execution_count": null,
   "outputs": []
  },
  {
   "cell_type": "code",
   "metadata": {
    "cell_id": "00005-75b51e26-93c5-4eb9-a32f-883a17700437",
    "deepnote_cell_type": "code"
   },
   "source": "_ = ok.grade('q_01_religion')",
   "execution_count": null,
   "outputs": []
  },
  {
   "cell_type": "markdown",
   "source": "Next clean up the table a bit.  First make a new table that contains all but\nthe last row (with level \"out of\") that we do not need.  Next, to make indexing\neasier, replace the current table index (that is sequential row numbers) with\nthe values in the \"level\" column, to make a new data frame, `top_religion`.",
   "metadata": {
    "cell_id": "00006-e9080b9b-b42f-4849-b9f7-93c001aeb009",
    "deepnote_cell_type": "markdown"
   }
  },
  {
   "cell_type": "code",
   "metadata": {
    "cell_id": "00007-8e9dae42-d8cd-45c8-8514-9f452167367e",
    "deepnote_cell_type": "code"
   },
   "source": "top_religion = ...\ntop_religion",
   "execution_count": null,
   "outputs": []
  },
  {
   "cell_type": "code",
   "metadata": {
    "cell_id": "00008-5242798f-a67b-4fa3-a636-26ae45b370b2",
    "deepnote_cell_type": "code"
   },
   "source": "_ = ok.grade('q_02_top_religion')",
   "execution_count": null,
   "outputs": []
  },
  {
   "cell_type": "markdown",
   "source": "Let us restrict our attention to the Rescuers and the Actives, for the moment.\nMake a new table `rescuers_actives` that contains only the first two columns of\n`top_religion`:",
   "metadata": {
    "cell_id": "00009-a057dd00-4b56-4d2b-9d24-58f36116fa23",
    "deepnote_cell_type": "markdown"
   }
  },
  {
   "cell_type": "code",
   "metadata": {
    "cell_id": "00010-21e159d0-6648-4901-b31e-03607bad3291",
    "deepnote_cell_type": "code"
   },
   "source": "rescuers_actives = ...\nrescuers_actives",
   "execution_count": null,
   "outputs": []
  },
  {
   "cell_type": "code",
   "metadata": {
    "cell_id": "00011-e686bd69-d12a-433f-b822-9a4355067896",
    "deepnote_cell_type": "code"
   },
   "source": "_ = ok.grade('q_03_rescuers_actives')",
   "execution_count": null,
   "outputs": []
  },
  {
   "cell_type": "markdown",
   "source": "Superficially, it looks as if there is a greater tendency for Rescuers to be\nVery or Somewhat religious, than is the case for Actives.\n\nCould this tendency have come about by chance?  How could we address this?\n\nLet us first extend the technique that we used in the [noble politics](https://uob-ds.github.io/cfd2021/wild-pandas/noble_politics) notebook.\n\nWe will assume a model world in which we have the same total number of\nrescuers as we see here, and the same total number of actives.\n\nWe also have the same total numbers of people who are \"Very\", \"Somewhat\", \"Not very\" and \"Not at all\" religious.\n\nHowever, in this model world, there is no difference in the tendency of\nRescuers and Actives to give any of the four levels of religiousness.  For\nexample, in this world, a Rescuer is just as likely as an Active to answer\n\"Very\".\n\nTo simulate this world, we could put 65 + 9 = 74 pieces of paper with \"Very\"\nwritten on them into a hat, along with 79 + 17 = 96 pieces of paper with\n\"Somewhat\" written on them, and so on.  Then we shake up the hat, and, for each\nof the 210 Rescuers we draw one piece of paper out of the hat, tabulate the\nresult (Rescuer associated with \"Very\", or \"Somewhat\", etc), and put the piece\nof paper aside.  Similarly for the remaining 48 labels, that correspond to the\nActives.  This gives us a new table of counts, where there is a random\nassociation between the group (Rescuer / Active) and Religiousness (Very,\nSomewhat, Not very, Not at all).\n\nHere is one trial in such a world:",
   "metadata": {
    "cell_id": "00012-5ee5c536-0645-41e9-89df-a63ee8e99b1b",
    "deepnote_cell_type": "markdown"
   }
  },
  {
   "cell_type": "code",
   "metadata": {
    "cell_id": "00013-d954b6f5-42de-47be-b863-8e97e1521e40",
    "deepnote_cell_type": "code"
   },
   "source": "# Run this cell\n# Recreate the individual labels for group and religiousness.\ngroup = np.repeat(['rescuers', 'actives'], rescuers_actives.sum())\nreligiousness = np.repeat(['Very', 'Somewhat', 'Not very', 'Not at all'],\n                         rescuers_actives.transpose().sum())\n# Shuffle the religiousness labels to give a random association.\nnp.random.shuffle(religiousness)\n# Make, show fake table.\nfake_table = pd.crosstab(religiousness, group)\nfake_table",
   "execution_count": null,
   "outputs": []
  },
  {
   "cell_type": "markdown",
   "source": "Let's look in particular at the value for Very and Actives:",
   "metadata": {
    "cell_id": "00014-fdd80725-5411-4812-a1a1-9330fb62d67e",
    "deepnote_cell_type": "markdown"
   }
  },
  {
   "cell_type": "code",
   "metadata": {
    "cell_id": "00015-871ae263-d40c-483f-bad0-e78ed5a3f5b0",
    "deepnote_cell_type": "code"
   },
   "source": "# Run this cell\nactual_by_very = rescuers_actives.loc['Very', 'actives']\nactual_by_very",
   "execution_count": null,
   "outputs": []
  },
  {
   "cell_type": "markdown",
   "source": "Compare this to the value from the fake table:",
   "metadata": {
    "cell_id": "00016-39aff91e-e7a0-4b41-b68c-89c80ee34114",
    "deepnote_cell_type": "markdown"
   }
  },
  {
   "cell_type": "code",
   "metadata": {
    "cell_id": "00017-4dc6c20f-514c-4f00-9290-1be6503e9b68",
    "deepnote_cell_type": "code"
   },
   "source": "# Run this cell\nfake_by_very = fake_table.loc['Very', 'actives']\nfake_by_very",
   "execution_count": null,
   "outputs": []
  },
  {
   "cell_type": "markdown",
   "source": "Run this simulation *1000* times, to get 1000 samples of the Very, Actives number.\n\n**Careful**: if you run this simulation 10000 times, instead of 1000, it will\ntake a long time.",
   "metadata": {
    "cell_id": "00018-ffe1d5c7-09d4-4a69-813e-75015b83dad0",
    "deepnote_cell_type": "markdown"
   }
  },
  {
   "cell_type": "code",
   "metadata": {
    "cell_id": "00019-a6f8ff52-ff4d-4faa-a926-c529d8f9201a",
    "deepnote_cell_type": "code"
   },
   "source": "very_actives = ...\n# Show the first five values\nvery_actives[:5]",
   "execution_count": null,
   "outputs": []
  },
  {
   "cell_type": "code",
   "metadata": {
    "cell_id": "00020-837e8b0c-dcbe-47c8-af3a-c9b938fe9ab0",
    "deepnote_cell_type": "code"
   },
   "source": "_ = ok.grade('q_04_very_actives')",
   "execution_count": null,
   "outputs": []
  },
  {
   "cell_type": "markdown",
   "source": "Use the next cell to plot a histogram of the `very_actives` values, and\ncalculate the proportion of `very_actives` that are less than or equal to the\nvalue we observed in the original table.  You will need these for later.",
   "metadata": {
    "cell_id": "00021-c8272409-9c51-45e9-b133-d627de9bab2a",
    "deepnote_cell_type": "markdown"
   }
  },
  {
   "cell_type": "code",
   "metadata": {
    "cell_id": "00022-e531d761-b2e2-4f4b-9761-61f9289912b1",
    "deepnote_cell_type": "code"
   },
   "source": "#- Plot a histogram of the very_actives values, calculate the proportion.",
   "execution_count": null,
   "outputs": []
  },
  {
   "cell_type": "markdown",
   "source": "Now assume that we are interested in the idea that Rescuers tend to be more\nreligious than Actives, on average.   We need some way of converting the\ncategories -- Very; Somewhat; Not very; Not at all -- to a score of\nreligiousness.\n\nMap the categories to numbers like this:\n\n* Very = 3\n* Somewhat = 2\n* Not very = 1\n* Not at all = 0\n\nFor example, I can construct the scores for all 210 rescuers represented in the table with:",
   "metadata": {
    "cell_id": "00023-61db60fb-0a81-4c19-a6ad-453e1072e082",
    "deepnote_cell_type": "markdown"
   }
  },
  {
   "cell_type": "code",
   "metadata": {
    "cell_id": "00024-a178edd3-5d3e-4b7a-aadb-54f26e8cc820",
    "deepnote_cell_type": "code"
   },
   "source": "# Run this cell\nrescuer_counts = rescuers_actives.loc[:, 'rescuers']\nrescuer_scores = np.repeat([3, 2, 1, 0], rescuer_counts)\nrescuer_scores",
   "execution_count": null,
   "outputs": []
  },
  {
   "cell_type": "markdown",
   "source": "The mean religiousness scores for rescuers is:",
   "metadata": {
    "cell_id": "00025-b22677da-a5ac-48ef-8277-4570dd4b1c00",
    "deepnote_cell_type": "markdown"
   }
  },
  {
   "cell_type": "code",
   "metadata": {
    "cell_id": "00026-97e5a7c2-2a3a-408a-b16d-4d972399a62b",
    "deepnote_cell_type": "code"
   },
   "source": "np.mean(rescuer_scores)",
   "execution_count": null,
   "outputs": []
  },
  {
   "cell_type": "markdown",
   "source": "Follow the same recipe to reconstruct the 48 Actives scores:",
   "metadata": {
    "cell_id": "00027-e5953a15-5303-495d-8b4f-cc26d4f68bdf",
    "deepnote_cell_type": "markdown"
   }
  },
  {
   "cell_type": "code",
   "metadata": {
    "cell_id": "00028-7f5d17d7-beb2-4a3c-8a7d-b58412fdd914",
    "deepnote_cell_type": "code"
   },
   "source": "active_scores = ...\nactive_scores",
   "execution_count": null,
   "outputs": []
  },
  {
   "cell_type": "code",
   "metadata": {
    "cell_id": "00029-0b3634d8-4544-4f0c-95da-0cf540eca7fe",
    "deepnote_cell_type": "code"
   },
   "source": "_ = ok.grade('q_05_active_scores')",
   "execution_count": null,
   "outputs": []
  },
  {
   "cell_type": "markdown",
   "source": "Now you have the scores, you can do a permutation test.\n\nThe observed mean difference in scores is:",
   "metadata": {
    "cell_id": "00030-fc793111-6890-4919-8504-2a8a089dc33d",
    "deepnote_cell_type": "markdown"
   }
  },
  {
   "cell_type": "code",
   "metadata": {
    "cell_id": "00031-e5806a22-b497-43c4-a9af-5b33433fce4e",
    "deepnote_cell_type": "code"
   },
   "source": "# Run this cell\nobserved = np.mean(rescuer_scores) - np.mean(active_scores)\nobserved",
   "execution_count": null,
   "outputs": []
  },
  {
   "cell_type": "markdown",
   "source": "Now run a simulation of 10000 trials where, for each trial, you:\n\n* mix up the scores for the Rescuers and the actives;\n* The number of Rescuers is 210.  Select 210 scores at random to be fake\n  Rescuer scores; the remainder are fake Actives scores;\n* calculate the difference in means between these two fake groups, and store it\n  in an array `fake_mean_diffs`.",
   "metadata": {
    "cell_id": "00032-1084aeb8-bd5c-49e8-b79d-9f4e6416bebe",
    "deepnote_cell_type": "markdown"
   }
  },
  {
   "cell_type": "code",
   "metadata": {
    "cell_id": "00033-fa862f8a-d113-4041-8d65-6b11b273e222",
    "deepnote_cell_type": "code"
   },
   "source": "fake_mean_diffs = ...\n# Show the first five values\nfake_mean_diffs[:5]",
   "execution_count": null,
   "outputs": []
  },
  {
   "cell_type": "code",
   "metadata": {
    "cell_id": "00034-76288b96-814a-4d3b-84a0-639f8f3b882e",
    "deepnote_cell_type": "code"
   },
   "source": "_ = ok.grade('q_06_fake_mean_diffs')",
   "execution_count": null,
   "outputs": []
  },
  {
   "cell_type": "markdown",
   "source": "Use the cell below to do a histogram of these values, and calculate the proportion of these fake values that are greater than or equal to the observed value:",
   "metadata": {
    "cell_id": "00035-997e369c-4e91-4067-83ae-95647fce090a",
    "deepnote_cell_type": "markdown"
   }
  },
  {
   "cell_type": "code",
   "metadata": {
    "cell_id": "00036-fa172698-1b13-4eeb-9a92-41c9c0825afc",
    "deepnote_cell_type": "code"
   },
   "source": "#- Use this cell to plot histogram and calculate proportion.",
   "execution_count": null,
   "outputs": []
  },
  {
   "cell_type": "markdown",
   "source": "With the evidence you have here, what conclusion can you draw about the\nobserved counts of self-ratings of religiousness, from `oliner_tab6_6.csv`?  Do\nyou think the counts are compatible with random sampling, in a world where\nthere is no association between being a rescuer or an active and the person's\nlevel of religiousness?  Justify your conclusion.\n",
   "metadata": {
    "cell_id": "00037-91db2524-0421-44ed-b5e6-b6e0add9cd9e",
    "deepnote_cell_type": "markdown"
   }
  },
  {
   "cell_type": "markdown",
   "source": "*Write your answer here, replacing this text.*",
   "metadata": {
    "lines_to_next_cell": 2,
    "manual_grade": true,
    "manual_problem_id": "religion_plausible",
    "cell_id": "00038-3d601d39-073c-4ff0-96bd-d7484e63db08",
    "deepnote_cell_type": "markdown"
   }
  },
  {
   "cell_type": "markdown",
   "source": "## Done\n\nYou're finished with the assignment!  Be sure to...\n\n- **run all the tests** (the next cell has a shortcut for that),\n- **Save and Checkpoint** from the \"File\" menu.\n- Finally, **restart** the kernel for this notebook, and **run all the cells**,\n  to check that the notebook still works without errors.  Use the\n  \"Kernel\" menu, and choose \"Restart and run all\".  If you find any\n  problems, go back and fix them, save the notebook, and restart / run\n  all again, before submitting.  When you do this, you make sure that\n  we, your humble markers, will be able to mark your notebook.",
   "metadata": {
    "cell_id": "00039-8251fb23-10f3-4705-b7c1-494ad7be97a3",
    "deepnote_cell_type": "markdown"
   }
  },
  {
   "cell_type": "code",
   "metadata": {
    "cell_id": "00040-aa73b4c6-22ed-43d0-a0f9-fc0337d989bf",
    "deepnote_cell_type": "code"
   },
   "source": "# For your convenience, you can run this cell to run all the tests at once!\nimport os\n_ = [ok.grade(q[:-3]) for q in os.listdir(\"tests\") if q.startswith('q')]",
   "execution_count": null,
   "outputs": []
  },
  {
   "cell_type": "markdown",
   "source": "<a style='text-decoration:none;line-height:16px;display:flex;color:#5B5B62;padding:10px;justify-content:end;' href='https://deepnote.com?utm_source=created-in-deepnote-cell&projectId=40b11abf-da96-40a9-bda2-9991ea01f205' target=\"_blank\">\n<img alt='Created in deepnote.com' style='display:inline;max-height:16px;margin:0px;margin-right:7.5px;' src='data:image/svg+xml;base64,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' > </img>\nCreated in <span style='font-weight:600;margin-left:4px;'>Deepnote</span></a>",
   "metadata": {
    "tags": [],
    "created_in_deepnote_cell": true,
    "deepnote_cell_type": "markdown"
   }
  }
 ],
 "nbformat": 4,
 "nbformat_minor": 5,
 "metadata": {
  "jupytext": {
   "cell_metadata_json": true,
   "split_at_heading": true,
   "text_representation": {
    "extension": ".Rmd",
    "format_name": "rmarkdown",
    "format_version": "1.1",
    "jupytext_version": "1.2.4"
   }
  },
  "kernelspec": {
   "display_name": "Python 3",
   "language": "python",
   "name": "python3"
  },
  "deepnote_notebook_id": "5b1de9a4-db32-4786-b373-2813ee5aa4f1",
  "deepnote": {},
  "deepnote_execution_queue": []
 }
}