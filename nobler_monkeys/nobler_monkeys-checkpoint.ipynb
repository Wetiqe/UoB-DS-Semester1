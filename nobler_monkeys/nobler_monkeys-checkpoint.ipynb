{
 "cells": [
  {
   "cell_type": "markdown",
   "source": "# The noble monkeys and the Moderna vaccine",
   "metadata": {
    "cell_id": "00000-9092a6db-d91e-482d-9a51-cbea6d86f836",
    "deepnote_cell_type": "markdown"
   }
  },
  {
   "cell_type": "code",
   "metadata": {
    "cell_id": "00001-73751d2e-4e5d-4a28-8c7f-6ddf7206061c",
    "deepnote_cell_type": "code"
   },
   "source": "# Don't change this cell; just run it.\nimport numpy as np\nimport pandas as pd\n# Safe settings for Pandas.\npd.set_option('mode.chained_assignment', 'raise')\nimport matplotlib.pyplot as plt\n%matplotlib inline\n# The OKpy testing system.\nfrom client.api.notebook import Notebook\nok = Notebook('nobler_monkeys.ok')",
   "execution_count": null,
   "outputs": []
  },
  {
   "cell_type": "markdown",
   "source": "The tests in this notebook usually do not test if you have the *right* answer,\nbut only if you have the *right sort* of answer.  *Be careful* -- the tests\ncould pass, but your answer could still be wrong.",
   "metadata": {
    "cell_id": "00002-6bcc3523-2c97-45fd-a4f7-fb348a1699aa",
    "deepnote_cell_type": "markdown"
   }
  },
  {
   "cell_type": "markdown",
   "source": "## Background\n\nWe are scientists evaluating data in the middle of a pandemic, and we again\nhave the task of deciding whether the Moderna vaccine\n[mRNA-1273](https://en.wikipedia.org/wiki/Moderna#COVID-19_vaccine_candidate)\nfor COVID-19 is effective or not.\n\nThe full clinical trials are not yet out, but we have some [data from a study\non rhesus macaque\nmonkeys](https://www.nejm.org/doi/full/10.1056/NEJMoa2024671).\n\nThere were three groups of monkeys in the study.   All monkeys in each group\nhad got two injections of their allocated vaccination type, four weeks apart.\nTheir vaccination types were:\n\n* **High-dose vaccine** (HDV) - 100 micrograms of the vaccine - 8 monkeys.\n* **Low-dose vaccine** (LDV) - 10 micrograms of the vaccine - 8 monkeys.\n* **Placebo** (PLAC) - salt water - 8 monkeys.\n\nHere we only consider the HDV group and the Placebo group.  We call the HDV\ngroup the \"Modvax\" group.\n\nFour weeks after their second vaccination, the team infected each monkey with\nCOVID-19, and then measured various aspects of their response.\n\nOne aspect of their response was the number of copies of virus RNA they recovered from a nasal swab 2 days after infection.\n\nHere are those numbers.",
   "metadata": {
    "cell_id": "00003-cd38ff01-99bb-401c-b215-81c8ac58415c",
    "deepnote_cell_type": "markdown"
   }
  },
  {
   "cell_type": "code",
   "metadata": {
    "cell_id": "00004-ee333a87-d482-4647-850a-9f6ab1e00253",
    "deepnote_cell_type": "code"
   },
   "source": "nobler = pd.read_csv('nobler_monkeys.csv')\nnobler",
   "execution_count": null,
   "outputs": []
  },
  {
   "cell_type": "markdown",
   "source": "You can confirm these numbers for yourself from the paper's [supplementary\nAppendix 2\nspreadsheet](https://www.nejm.org/doi/suppl/10.1056/NEJMoa2024671/suppl_file/nejmoa2024671_appendix_2.xlsx).\nThey are the day 2 Nasal Swab (NS) values of \"Viral RNA copies / mL\".",
   "metadata": {
    "cell_id": "00005-8abb8554-c36a-40f1-81b9-737710742f94",
    "deepnote_cell_type": "markdown"
   }
  },
  {
   "cell_type": "markdown",
   "source": "Notice that the first 8 rows correspond to the 8 monkeys who received the\nModerna vaccine, and final 8 rows correspond the monkey receiving the placebo.\n\nTo make things a little simpler, we get the number of RNA copies as an array,\nand divide by 1000, to give the number of kilocopies.",
   "metadata": {
    "cell_id": "00006-63cae98d-8f01-4e8a-a61d-3ba22a81b397",
    "deepnote_cell_type": "markdown"
   }
  },
  {
   "cell_type": "code",
   "metadata": {
    "cell_id": "00007-2df76831-b433-4ad0-bbdf-516994f4a35c",
    "deepnote_cell_type": "code"
   },
   "source": "rna_copies_k = np.array(nobler['RNA copies']) / 1000",
   "execution_count": null,
   "outputs": []
  },
  {
   "cell_type": "markdown",
   "source": "## Your task\n\nWe are interested in the difference between these two groups of 8 numbers.\n\nAs responsible analysts of data, we start by plotting the distributions of the two groups:",
   "metadata": {
    "cell_id": "00008-6ad40ee1-252e-4632-810b-8bfa85a6233a",
    "deepnote_cell_type": "markdown"
   }
  },
  {
   "cell_type": "code",
   "metadata": {
    "cell_id": "00009-9be2597f-d5d3-40b7-856b-6da6d68b17f5",
    "deepnote_cell_type": "code"
   },
   "source": "# Plot the two distributions side by side.\nfig, axes = plt.subplots(1, 2)\naxes[0].hist(rna_copies_k[:8]);\naxes[0].set_title('Modvax group')\naxes[1].hist(rna_copies_k[8:]);\naxes[1].set_title('Placebo group');",
   "execution_count": null,
   "outputs": []
  },
  {
   "cell_type": "markdown",
   "source": "Now consider the means of the two groups.  The means are:",
   "metadata": {
    "cell_id": "00010-7e5a2d35-ee5e-4875-a3fb-7d1e6ef5269a",
    "deepnote_cell_type": "markdown"
   }
  },
  {
   "cell_type": "code",
   "metadata": {
    "cell_id": "00011-12409e04-135e-4b02-a6ca-fc7564f57232",
    "deepnote_cell_type": "code"
   },
   "source": "modvax_mean = np.mean(rna_copies_k[:8])\nplacebo_mean = np.mean(rna_copies_k[8:])\nprint('Modvax mean', modvax_mean)\nprint('Placebo mean', placebo_mean)",
   "execution_count": null,
   "outputs": []
  },
  {
   "cell_type": "markdown",
   "source": "As expected, the placebo group have, on average, more viral copies in their\nnoses, at day 2 of the infection.\n\nThe mean difference is:",
   "metadata": {
    "cell_id": "00012-8801d220-1582-43a5-94fa-00be20c2a729",
    "deepnote_cell_type": "markdown"
   }
  },
  {
   "cell_type": "code",
   "metadata": {
    "cell_id": "00013-a4d1cf7b-40e0-4990-b48a-404b708fb8c4",
    "deepnote_cell_type": "code"
   },
   "source": "plac_modvax_diff = placebo_mean - modvax_mean\nprint('Placebo - modvax mean difference', plac_modvax_diff)",
   "execution_count": null,
   "outputs": []
  },
  {
   "cell_type": "markdown",
   "source": "Your job is to do a *permutation* test, to see whether this observed mean\ndifference is plausible in an ideal (null) world, where there is no real\ndifference between the groups, and any observed difference is just due to\nrandom sampling.\n\nWe simulate samples from such an ideal world by shuffling the 16 values randomly, allocating 8 shuffled values to a fake Modvax group, and the other 8 to the fake Placebo group, and calculating the mean difference for these fake groups.  We do this many times to build up the *sampling distribution* of these fake differences.\n\nTo do this job, you may want to remind yourself of the [permutation\nidea](https://uob-ds.github.io/cfd2021/permutation/permutation_idea.html) notebook in the\ntextbook.\n\nYou may well want to start with a cell that does one trial where you:\n\n* shuffle the values\n* split them into two groups of 8\n* calculate the difference in means.",
   "metadata": {
    "cell_id": "00014-97259893-81f8-4f04-9e62-46a5e4f1b3b2",
    "deepnote_cell_type": "markdown"
   }
  },
  {
   "cell_type": "code",
   "metadata": {
    "cell_id": "00015-fee4590d-e830-456f-9f6d-317f1b45e662",
    "deepnote_cell_type": "code"
   },
   "source": "#- You may want to simulate a single trial here.",
   "execution_count": null,
   "outputs": []
  },
  {
   "cell_type": "markdown",
   "source": "Then finish up the cell below to build your sampling distribution, storing the values in the array `fake_diffs`.",
   "metadata": {
    "cell_id": "00016-c1757de6-38b2-40a6-85d7-737875270e97",
    "deepnote_cell_type": "markdown"
   }
  },
  {
   "cell_type": "code",
   "metadata": {
    "cell_id": "00017-2352bc79-7d49-4d3e-8ca8-0376128a9920",
    "deepnote_cell_type": "code"
   },
   "source": "# Build up the sampling distribution from the ideal (null) world.\nn_iters = 10000\nfake_diffs = ...\n# Show the first 10 values.\nfake_diffs[:10]",
   "execution_count": null,
   "outputs": []
  },
  {
   "cell_type": "code",
   "metadata": {
    "cell_id": "00018-0f0e3e91-6e71-4822-af4a-223d1f6a75f3",
    "deepnote_cell_type": "code"
   },
   "source": "_ = ok.grade('q_fake_diffs')",
   "execution_count": null,
   "outputs": []
  },
  {
   "cell_type": "markdown",
   "source": "You might also like to review the histogram of these values, to compare by eye to the value in the real world, `plac_modvax_diff`.",
   "metadata": {
    "cell_id": "00019-8f548ce2-123e-4e70-9e3c-41de091aae67",
    "deepnote_cell_type": "markdown"
   }
  },
  {
   "cell_type": "code",
   "metadata": {
    "cell_id": "00020-f4edcb5c-b0bd-49c5-8b23-49f5750d6026",
    "deepnote_cell_type": "code"
   },
   "source": "#- Consider a histogram of the sampling distribution here.",
   "execution_count": null,
   "outputs": []
  },
  {
   "cell_type": "markdown",
   "source": "Calculate the proportion of the sampling distribution values that are greater than or equal to the observed difference in means.",
   "metadata": {
    "cell_id": "00021-df8f528e-ec17-419f-8a72-d62910e00037",
    "deepnote_cell_type": "markdown"
   }
  },
  {
   "cell_type": "code",
   "metadata": {
    "cell_id": "00022-43e64ce3-1998-448e-8fd2-25d571e202e1",
    "deepnote_cell_type": "code"
   },
   "source": "prop_ge = ...\n# Show the proportion.\nprop_ge",
   "execution_count": null,
   "outputs": []
  },
  {
   "cell_type": "code",
   "metadata": {
    "cell_id": "00023-e2279361-296c-46b3-899b-bf61ac9acee3",
    "deepnote_cell_type": "code"
   },
   "source": "_ = ok.grade('q_prop_ge')",
   "execution_count": null,
   "outputs": []
  },
  {
   "cell_type": "markdown",
   "source": "## Done\n\nYou're finished with the assignment!  Be sure to...\n\n- **run all the tests** (the next cell has a shortcut for that),\n- **Save and Checkpoint** from the \"File\" menu.\n- Finally, **restart** the kernel for this notebook, and **run all the cells**,\n  to check that the notebook still works without errors.  Use the\n  \"Kernel\" menu, and choose \"Restart and run all\".  If you find any\n  problems, go back and fix them, save the notebook, and restart / run\n  all again, before submitting.  When you do this, you make sure that\n  we, your humble markers, will be able to mark your notebook.",
   "metadata": {
    "cell_id": "00024-6494510d-46c5-4ace-93f2-87a55bc18d5d",
    "deepnote_cell_type": "markdown"
   }
  },
  {
   "cell_type": "code",
   "metadata": {
    "cell_id": "00025-40ddc279-9bd9-45b5-87b8-d94e808a75b2",
    "deepnote_cell_type": "code"
   },
   "source": "# For your convenience, you can run this cell to run all the tests at once!\nimport os\n_ = [ok.grade(q[:-3]) for q in os.listdir(\"tests\") if q.startswith('q')]",
   "execution_count": null,
   "outputs": []
  },
  {
   "cell_type": "markdown",
   "source": "<a style='text-decoration:none;line-height:16px;display:flex;color:#5B5B62;padding:10px;justify-content:end;' href='https://deepnote.com?utm_source=created-in-deepnote-cell&projectId=a9b66b26-47d5-443a-94c0-52ae213d321f' target=\"_blank\">\n<img alt='Created in deepnote.com' style='display:inline;max-height:16px;margin:0px;margin-right:7.5px;' src='data:image/svg+xml;base64,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' > </img>\nCreated in <span style='font-weight:600;margin-left:4px;'>Deepnote</span></a>",
   "metadata": {
    "tags": [],
    "created_in_deepnote_cell": true,
    "deepnote_cell_type": "markdown"
   }
  }
 ],
 "nbformat": 4,
 "nbformat_minor": 5,
 "metadata": {
  "jupytext": {
   "notebook_metadata_filter": "all,-language_info",
   "split_at_heading": true,
   "text_representation": {
    "extension": ".Rmd",
    "format_name": "rmarkdown",
    "format_version": "1.2",
    "jupytext_version": "1.6.0"
   }
  },
  "kernelspec": {
   "display_name": "Python 3",
   "language": "python",
   "name": "python3"
  },
  "deepnote_notebook_id": "298ca1eb-17f1-41c9-aedc-ac5117cbf6e4",
  "deepnote": {},
  "deepnote_execution_queue": []
 }
}