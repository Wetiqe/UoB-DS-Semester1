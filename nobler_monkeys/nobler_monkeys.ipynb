{
 "cells": [
  {
   "cell_type": "markdown",
   "id": "9df48197",
   "metadata": {
    "cell_id": "00000-9092a6db-d91e-482d-9a51-cbea6d86f836",
    "deepnote_cell_type": "markdown"
   },
   "source": [
    "# The noble monkeys and the Moderna vaccine"
   ]
  },
  {
   "cell_type": "code",
   "execution_count": 1,
   "id": "251eb1ff",
   "metadata": {
    "cell_id": "00001-73751d2e-4e5d-4a28-8c7f-6ddf7206061c",
    "deepnote_cell_type": "code"
   },
   "outputs": [
    {
     "name": "stdout",
     "output_type": "stream",
     "text": [
      "=====================================================================\n",
      "Assignment: nobler monkeys\n",
      "OK, version v1.18.1\n",
      "=====================================================================\n",
      "\n"
     ]
    }
   ],
   "source": [
    "# Don't change this cell; just run it.\n",
    "import numpy as np\n",
    "import pandas as pd\n",
    "# Safe settings for Pandas.\n",
    "pd.set_option('mode.chained_assignment', 'raise')\n",
    "import matplotlib.pyplot as plt\n",
    "%matplotlib inline\n",
    "# The OKpy testing system.\n",
    "from client.api.notebook import Notebook\n",
    "ok = Notebook('nobler_monkeys.ok')"
   ]
  },
  {
   "cell_type": "markdown",
   "id": "99f670a9",
   "metadata": {
    "cell_id": "00002-6bcc3523-2c97-45fd-a4f7-fb348a1699aa",
    "deepnote_cell_type": "markdown"
   },
   "source": [
    "The tests in this notebook usually do not test if you have the *right* answer,\n",
    "but only if you have the *right sort* of answer.  *Be careful* -- the tests\n",
    "could pass, but your answer could still be wrong."
   ]
  },
  {
   "cell_type": "markdown",
   "id": "a9ef8514",
   "metadata": {
    "cell_id": "00003-cd38ff01-99bb-401c-b215-81c8ac58415c",
    "deepnote_cell_type": "markdown"
   },
   "source": [
    "## Background\n",
    "\n",
    "We are scientists evaluating data in the middle of a pandemic, and we again\n",
    "have the task of deciding whether the Moderna vaccine\n",
    "[mRNA-1273](https://en.wikipedia.org/wiki/Moderna#COVID-19_vaccine_candidate)\n",
    "for COVID-19 is effective or not.\n",
    "\n",
    "The full clinical trials are not yet out, but we have some [data from a study\n",
    "on rhesus macaque\n",
    "monkeys](https://www.nejm.org/doi/full/10.1056/NEJMoa2024671).\n",
    "\n",
    "There were three groups of monkeys in the study.   All monkeys in each group\n",
    "had got two injections of their allocated vaccination type, four weeks apart.\n",
    "Their vaccination types were:\n",
    "\n",
    "* **High-dose vaccine** (HDV) - 100 micrograms of the vaccine - 8 monkeys.\n",
    "* **Low-dose vaccine** (LDV) - 10 micrograms of the vaccine - 8 monkeys.\n",
    "* **Placebo** (PLAC) - salt water - 8 monkeys.\n",
    "\n",
    "Here we only consider the HDV group and the Placebo group.  We call the HDV\n",
    "group the \"Modvax\" group.\n",
    "\n",
    "Four weeks after their second vaccination, the team infected each monkey with\n",
    "COVID-19, and then measured various aspects of their response.\n",
    "\n",
    "One aspect of their response was the number of copies of virus RNA they recovered from a nasal swab 2 days after infection.\n",
    "\n",
    "Here are those numbers."
   ]
  },
  {
   "cell_type": "code",
   "execution_count": 2,
   "id": "6e3a93c2",
   "metadata": {
    "cell_id": "00004-ee333a87-d482-4647-850a-9f6ab1e00253",
    "deepnote_cell_type": "code"
   },
   "outputs": [
    {
     "data": {
      "text/html": [
       "<div>\n",
       "<style scoped>\n",
       "    .dataframe tbody tr th:only-of-type {\n",
       "        vertical-align: middle;\n",
       "    }\n",
       "\n",
       "    .dataframe tbody tr th {\n",
       "        vertical-align: top;\n",
       "    }\n",
       "\n",
       "    .dataframe thead th {\n",
       "        text-align: right;\n",
       "    }\n",
       "</style>\n",
       "<table border=\"1\" class=\"dataframe\">\n",
       "  <thead>\n",
       "    <tr style=\"text-align: right;\">\n",
       "      <th></th>\n",
       "      <th>Group</th>\n",
       "      <th>RNA copies</th>\n",
       "    </tr>\n",
       "  </thead>\n",
       "  <tbody>\n",
       "    <tr>\n",
       "      <th>0</th>\n",
       "      <td>Movax</td>\n",
       "      <td>1770.0</td>\n",
       "    </tr>\n",
       "    <tr>\n",
       "      <th>1</th>\n",
       "      <td>Movax</td>\n",
       "      <td>13500.0</td>\n",
       "    </tr>\n",
       "    <tr>\n",
       "      <th>2</th>\n",
       "      <td>Movax</td>\n",
       "      <td>86400.0</td>\n",
       "    </tr>\n",
       "    <tr>\n",
       "      <th>3</th>\n",
       "      <td>Movax</td>\n",
       "      <td>3750.0</td>\n",
       "    </tr>\n",
       "    <tr>\n",
       "      <th>4</th>\n",
       "      <td>Movax</td>\n",
       "      <td>179000.0</td>\n",
       "    </tr>\n",
       "    <tr>\n",
       "      <th>5</th>\n",
       "      <td>Movax</td>\n",
       "      <td>8410.0</td>\n",
       "    </tr>\n",
       "    <tr>\n",
       "      <th>6</th>\n",
       "      <td>Movax</td>\n",
       "      <td>189.0</td>\n",
       "    </tr>\n",
       "    <tr>\n",
       "      <th>7</th>\n",
       "      <td>Movax</td>\n",
       "      <td>48500.0</td>\n",
       "    </tr>\n",
       "    <tr>\n",
       "      <th>8</th>\n",
       "      <td>Placebo</td>\n",
       "      <td>255.0</td>\n",
       "    </tr>\n",
       "    <tr>\n",
       "      <th>9</th>\n",
       "      <td>Placebo</td>\n",
       "      <td>12100.0</td>\n",
       "    </tr>\n",
       "    <tr>\n",
       "      <th>10</th>\n",
       "      <td>Placebo</td>\n",
       "      <td>3190000.0</td>\n",
       "    </tr>\n",
       "    <tr>\n",
       "      <th>11</th>\n",
       "      <td>Placebo</td>\n",
       "      <td>27200000.0</td>\n",
       "    </tr>\n",
       "    <tr>\n",
       "      <th>12</th>\n",
       "      <td>Placebo</td>\n",
       "      <td>8140000.0</td>\n",
       "    </tr>\n",
       "    <tr>\n",
       "      <th>13</th>\n",
       "      <td>Placebo</td>\n",
       "      <td>2160000.0</td>\n",
       "    </tr>\n",
       "    <tr>\n",
       "      <th>14</th>\n",
       "      <td>Placebo</td>\n",
       "      <td>28200000.0</td>\n",
       "    </tr>\n",
       "    <tr>\n",
       "      <th>15</th>\n",
       "      <td>Placebo</td>\n",
       "      <td>12700000.0</td>\n",
       "    </tr>\n",
       "  </tbody>\n",
       "</table>\n",
       "</div>"
      ],
      "text/plain": [
       "      Group  RNA copies\n",
       "0     Movax      1770.0\n",
       "1     Movax     13500.0\n",
       "2     Movax     86400.0\n",
       "3     Movax      3750.0\n",
       "4     Movax    179000.0\n",
       "5     Movax      8410.0\n",
       "6     Movax       189.0\n",
       "7     Movax     48500.0\n",
       "8   Placebo       255.0\n",
       "9   Placebo     12100.0\n",
       "10  Placebo   3190000.0\n",
       "11  Placebo  27200000.0\n",
       "12  Placebo   8140000.0\n",
       "13  Placebo   2160000.0\n",
       "14  Placebo  28200000.0\n",
       "15  Placebo  12700000.0"
      ]
     },
     "execution_count": 2,
     "metadata": {},
     "output_type": "execute_result"
    }
   ],
   "source": [
    "nobler = pd.read_csv('nobler_monkeys.csv')\n",
    "nobler"
   ]
  },
  {
   "cell_type": "markdown",
   "id": "3d114792",
   "metadata": {
    "cell_id": "00005-8abb8554-c36a-40f1-81b9-737710742f94",
    "deepnote_cell_type": "markdown"
   },
   "source": [
    "You can confirm these numbers for yourself from the paper's [supplementary\n",
    "Appendix 2\n",
    "spreadsheet](https://www.nejm.org/doi/suppl/10.1056/NEJMoa2024671/suppl_file/nejmoa2024671_appendix_2.xlsx).\n",
    "They are the day 2 Nasal Swab (NS) values of \"Viral RNA copies / mL\"."
   ]
  },
  {
   "cell_type": "markdown",
   "id": "23c8a698",
   "metadata": {
    "cell_id": "00006-63cae98d-8f01-4e8a-a61d-3ba22a81b397",
    "deepnote_cell_type": "markdown"
   },
   "source": [
    "Notice that the first 8 rows correspond to the 8 monkeys who received the\n",
    "Moderna vaccine, and final 8 rows correspond the monkey receiving the placebo.\n",
    "\n",
    "To make things a little simpler, we get the number of RNA copies as an array,\n",
    "and divide by 1000, to give the number of kilocopies."
   ]
  },
  {
   "cell_type": "code",
   "execution_count": 3,
   "id": "7deff06d",
   "metadata": {
    "cell_id": "00007-2df76831-b433-4ad0-bbdf-516994f4a35c",
    "deepnote_cell_type": "code"
   },
   "outputs": [],
   "source": [
    "rna_copies_k = np.array(nobler['RNA copies']) / 1000"
   ]
  },
  {
   "cell_type": "markdown",
   "id": "4d987698",
   "metadata": {
    "cell_id": "00008-6ad40ee1-252e-4632-810b-8bfa85a6233a",
    "deepnote_cell_type": "markdown"
   },
   "source": [
    "## Your task\n",
    "\n",
    "We are interested in the difference between these two groups of 8 numbers.\n",
    "\n",
    "As responsible analysts of data, we start by plotting the distributions of the two groups:"
   ]
  },
  {
   "cell_type": "code",
   "execution_count": 4,
   "id": "8ba4c7e9",
   "metadata": {
    "cell_id": "00009-9be2597f-d5d3-40b7-856b-6da6d68b17f5",
    "deepnote_cell_type": "code"
   },
   "outputs": [
    {
     "data": {
      "image/png": "[encoded data removed]",
      "text/plain": [
       "<Figure size 432x288 with 2 Axes>"
      ]
     },
     "metadata": {
      "needs_background": "light"
     },
     "output_type": "display_data"
    }
   ],
   "source": [
    "# Plot the two distributions side by side.\n",
    "fig, axes = plt.subplots(1, 2)\n",
    "axes[0].hist(rna_copies_k[:8]);\n",
    "axes[0].set_title('Modvax group')\n",
    "axes[1].hist(rna_copies_k[8:]);\n",
    "axes[1].set_title('Placebo group');"
   ]
  },
  {
   "cell_type": "markdown",
   "id": "3e1a7571",
   "metadata": {
    "cell_id": "00010-7e5a2d35-ee5e-4875-a3fb-7d1e6ef5269a",
    "deepnote_cell_type": "markdown"
   },
   "source": [
    "Now consider the means of the two groups.  The means are:"
   ]
  },
  {
   "cell_type": "code",
   "execution_count": 5,
   "id": "7b08bdaa",
   "metadata": {
    "cell_id": "00011-12409e04-135e-4b02-a6ca-fc7564f57232",
    "deepnote_cell_type": "code"
   },
   "outputs": [
    {
     "name": "stdout",
     "output_type": "stream",
     "text": [
      "Modvax mean 42.689875\n",
      "Placebo mean 10200.294375\n"
     ]
    }
   ],
   "source": [
    "modvax_mean = np.mean(rna_copies_k[:8])\n",
    "placebo_mean = np.mean(rna_copies_k[8:])\n",
    "print('Modvax mean', modvax_mean)\n",
    "print('Placebo mean', placebo_mean)"
   ]
  },
  {
   "cell_type": "markdown",
   "id": "e9f9c116",
   "metadata": {
    "cell_id": "00012-8801d220-1582-43a5-94fa-00be20c2a729",
    "deepnote_cell_type": "markdown"
   },
   "source": [
    "As expected, the placebo group have, on average, more viral copies in their\n",
    "noses, at day 2 of the infection.\n",
    "\n",
    "The mean difference is:"
   ]
  },
  {
   "cell_type": "code",
   "execution_count": 6,
   "id": "efcae181",
   "metadata": {
    "cell_id": "00013-a4d1cf7b-40e0-4990-b48a-404b708fb8c4",
    "deepnote_cell_type": "code"
   },
   "outputs": [
    {
     "name": "stdout",
     "output_type": "stream",
     "text": [
      "Placebo - modvax mean difference 10157.6045\n"
     ]
    }
   ],
   "source": [
    "plac_modvax_diff = placebo_mean - modvax_mean\n",
    "print('Placebo - modvax mean difference', plac_modvax_diff)"
   ]
  },
  {
   "cell_type": "markdown",
   "id": "a727dbe3",
   "metadata": {
    "cell_id": "00014-97259893-81f8-4f04-9e62-46a5e4f1b3b2",
    "deepnote_cell_type": "markdown"
   },
   "source": [
    "Your job is to do a *permutation* test, to see whether this observed mean\n",
    "difference is plausible in an ideal (null) world, where there is no real\n",
    "difference between the groups, and any observed difference is just due to\n",
    "random sampling.\n",
    "\n",
    "We simulate samples from such an ideal world by shuffling the 16 values randomly, allocating 8 shuffled values to a fake Modvax group, and the other 8 to the fake Placebo group, and calculating the mean difference for these fake groups.  We do this many times to build up the *sampling distribution* of these fake differences.\n",
    "\n",
    "To do this job, you may want to remind yourself of the [permutation\n",
    "idea](https://uob-ds.github.io/cfd2021/permutation/permutation_idea.html) notebook in the\n",
    "textbook.\n",
    "\n",
    "You may well want to start with a cell that does one trial where you:\n",
    "\n",
    "* shuffle the values\n",
    "* split them into two groups of 8\n",
    "* calculate the difference in means."
   ]
  },
  {
   "cell_type": "code",
   "execution_count": 7,
   "id": "1912addb",
   "metadata": {
    "cell_id": "00015-fee4590d-e830-456f-9f6d-317f1b45e662",
    "deepnote_cell_type": "code"
   },
   "outputs": [
    {
     "data": {
      "text/plain": [
       "-815.4542499999998"
      ]
     },
     "execution_count": 7,
     "metadata": {},
     "output_type": "execute_result"
    }
   ],
   "source": [
    "#- You may want to simulate a single trial here.\n",
    "def permute_mean(data):\n",
    "    shuffled = np.random.permutation(data)\n",
    "    return np.mean(shuffled[:8]) - np.mean(shuffled[8:])\n",
    "permute_mean(rna_copies_k)"
   ]
  },
  {
   "cell_type": "markdown",
   "id": "7e885df4",
   "metadata": {
    "cell_id": "00016-c1757de6-38b2-40a6-85d7-737875270e97",
    "deepnote_cell_type": "markdown"
   },
   "source": [
    "Then finish up the cell below to build your sampling distribution, storing the values in the array `fake_diffs`."
   ]
  },
  {
   "cell_type": "code",
   "execution_count": 8,
   "id": "5840a4a9",
   "metadata": {
    "cell_id": "00017-2352bc79-7d49-4d3e-8ca8-0376128a9920",
    "deepnote_cell_type": "code"
   },
   "outputs": [
    {
     "data": {
      "text/plain": [
       "array([ 3129.188  ,  2322.27675,  -593.93575, -2873.557  ,    54.87675,\n",
       "       -9629.713  , -1073.58925,  2830.1555 ,   193.85425, -4207.422  ])"
      ]
     },
     "execution_count": 8,
     "metadata": {},
     "output_type": "execute_result"
    }
   ],
   "source": [
    "# Build up the sampling distribution from the ideal (null) world.\n",
    "n_iters = 10000\n",
    "fake_diffs = np.array([permute_mean(rna_copies_k) for i in range(10000)])\n",
    "# Show the first 10 values.\n",
    "fake_diffs[:10]"
   ]
  },
  {
   "cell_type": "code",
   "execution_count": 9,
   "id": "c13722f3",
   "metadata": {
    "cell_id": "00018-0f0e3e91-6e71-4822-af4a-223d1f6a75f3",
    "deepnote_cell_type": "code"
   },
   "outputs": [
    {
     "name": "stdout",
     "output_type": "stream",
     "text": [
      "~~~~~~~~~~~~~~~~~~~~~~~~~~~~~~~~~~~~~~~~~~~~~~~~~~~~~~~~~~~~~~~~~~~~~\n",
      "Running tests\n",
      "\n",
      "---------------------------------------------------------------------\n",
      "Test summary\n",
      "    Passed: 4\n",
      "    Failed: 0\n",
      "[ooooooooook] 100.0% passed\n",
      "\n"
     ]
    }
   ],
   "source": [
    "_ = ok.grade('q_fake_diffs')"
   ]
  },
  {
   "cell_type": "markdown",
   "id": "76b28b87",
   "metadata": {
    "cell_id": "00019-8f548ce2-123e-4e70-9e3c-41de091aae67",
    "deepnote_cell_type": "markdown"
   },
   "source": [
    "You might also like to review the histogram of these values, to compare by eye to the value in the real world, `plac_modvax_diff`."
   ]
  },
  {
   "cell_type": "code",
   "execution_count": 10,
   "id": "ad2da999",
   "metadata": {
    "cell_id": "00020-f4edcb5c-b0bd-49c5-8b23-49f5750d6026",
    "deepnote_cell_type": "code"
   },
   "outputs": [
    {
     "data": {
      "text/plain": [
       "[<matplotlib.lines.Line2D at 0x7f6916dc7d00>]"
      ]
     },
     "execution_count": 10,
     "metadata": {},
     "output_type": "execute_result"
    },
    {
     "data": {
      "image/png": "[encoded data removed]",
      "text/plain": [
       "<Figure size 360x360 with 1 Axes>"
      ]
     },
     "metadata": {
      "needs_background": "light"
     },
     "output_type": "display_data"
    }
   ],
   "source": [
    "#- Consider a histogram of the sampling distribution here.\n",
    "import seaborn as sns\n",
    "sns.displot(fake_diffs)\n",
    "plt.plot(plac_modvax_diff,0,'o',color='red')\n"
   ]
  },
  {
   "cell_type": "code",
   "execution_count": 11,
   "id": "c79984b9-29c2-434e-9cc6-f266065fc39d",
   "metadata": {},
   "outputs": [
    {
     "data": {
      "text/plain": [
       "10157.6045"
      ]
     },
     "execution_count": 11,
     "metadata": {},
     "output_type": "execute_result"
    }
   ],
   "source": [
    "plac_modvax_diff"
   ]
  },
  {
   "cell_type": "markdown",
   "id": "8e7255bf",
   "metadata": {
    "cell_id": "00021-df8f528e-ec17-419f-8a72-d62910e00037",
    "deepnote_cell_type": "markdown"
   },
   "source": [
    "Calculate the proportion of the sampling distribution values that are greater than or equal to the observed difference in means."
   ]
  },
  {
   "cell_type": "code",
   "execution_count": 12,
   "id": "2184e32e",
   "metadata": {
    "cell_id": "00022-43e64ce3-1998-448e-8fd2-25d571e202e1",
    "deepnote_cell_type": "code"
   },
   "outputs": [
    {
     "data": {
      "text/plain": [
       "0.003"
      ]
     },
     "execution_count": 12,
     "metadata": {},
     "output_type": "execute_result"
    }
   ],
   "source": [
    "prop_ge = np.count_nonzero(fake_diffs > plac_modvax_diff) / len(fake_diffs)\n",
    "# Show the proportion.\n",
    "prop_ge"
   ]
  },
  {
   "cell_type": "code",
   "execution_count": 13,
   "id": "27c734f6",
   "metadata": {
    "cell_id": "00023-e2279361-296c-46b3-899b-bf61ac9acee3",
    "deepnote_cell_type": "code"
   },
   "outputs": [
    {
     "name": "stdout",
     "output_type": "stream",
     "text": [
      "~~~~~~~~~~~~~~~~~~~~~~~~~~~~~~~~~~~~~~~~~~~~~~~~~~~~~~~~~~~~~~~~~~~~~\n",
      "Running tests\n",
      "\n",
      "---------------------------------------------------------------------\n",
      "Test summary\n",
      "    Passed: 3\n",
      "    Failed: 0\n",
      "[ooooooooook] 100.0% passed\n",
      "\n"
     ]
    }
   ],
   "source": [
    "_ = ok.grade('q_prop_ge')"
   ]
  },
  {
   "cell_type": "markdown",
   "id": "67f589cf",
   "metadata": {
    "cell_id": "00024-6494510d-46c5-4ace-93f2-87a55bc18d5d",
    "deepnote_cell_type": "markdown"
   },
   "source": [
    "## Done\n",
    "\n",
    "You're finished with the assignment!  Be sure to...\n",
    "\n",
    "- **run all the tests** (the next cell has a shortcut for that),\n",
    "- **Save and Checkpoint** from the \"File\" menu.\n",
    "- Finally, **restart** the kernel for this notebook, and **run all the cells**,\n",
    "  to check that the notebook still works without errors.  Use the\n",
    "  \"Kernel\" menu, and choose \"Restart and run all\".  If you find any\n",
    "  problems, go back and fix them, save the notebook, and restart / run\n",
    "  all again, before submitting.  When you do this, you make sure that\n",
    "  we, your humble markers, will be able to mark your notebook."
   ]
  },
  {
   "cell_type": "code",
   "execution_count": 14,
   "id": "f82f68d7",
   "metadata": {
    "cell_id": "00025-40ddc279-9bd9-45b5-87b8-d94e808a75b2",
    "deepnote_cell_type": "code"
   },
   "outputs": [
    {
     "name": "stdout",
     "output_type": "stream",
     "text": [
      "~~~~~~~~~~~~~~~~~~~~~~~~~~~~~~~~~~~~~~~~~~~~~~~~~~~~~~~~~~~~~~~~~~~~~\n",
      "Running tests\n",
      "\n",
      "---------------------------------------------------------------------\n",
      "Test summary\n",
      "    Passed: 4\n",
      "    Failed: 0\n",
      "[ooooooooook] 100.0% passed\n",
      "\n",
      "~~~~~~~~~~~~~~~~~~~~~~~~~~~~~~~~~~~~~~~~~~~~~~~~~~~~~~~~~~~~~~~~~~~~~\n",
      "Running tests\n",
      "\n",
      "---------------------------------------------------------------------\n",
      "Test summary\n",
      "    Passed: 3\n",
      "    Failed: 0\n",
      "[ooooooooook] 100.0% passed\n",
      "\n"
     ]
    }
   ],
   "source": [
    "# For your convenience, you can run this cell to run all the tests at once!\n",
    "import os\n",
    "_ = [ok.grade(q[:-3]) for q in os.listdir(\"tests\") if q.startswith('q')]"
   ]
  },
  {
   "cell_type": "markdown",
   "id": "5da39e7c",
   "metadata": {
    "created_in_deepnote_cell": true,
    "deepnote_cell_type": "markdown",
    "tags": []
   },
   "source": [
    "<a style='text-decoration:none;line-height:16px;display:flex;color:#5B5B62;padding:10px;justify-content:end;' href='https://deepnote.com?utm_source=created-in-deepnote-cell&projectId=a9b66b26-47d5-443a-94c0-52ae213d321f' target=\"_blank\">\n",
    "<img alt='Created in deepnote.com' style='display:inline;max-height:16px;margin:0px;margin-right:7.5px;' src='data:image/svg+xml;base64,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' > </img>\n",
    "Created in <span style='font-weight:600;margin-left:4px;'>Deepnote</span></a>"
   ]
  }
 ],
 "metadata": {
  "deepnote": {},
  "deepnote_execution_queue": [],
  "deepnote_notebook_id": "298ca1eb-17f1-41c9-aedc-ac5117cbf6e4",
  "jupytext": {
   "notebook_metadata_filter": "all,-language_info",
   "split_at_heading": true,
   "text_representation": {
    "extension": ".Rmd",
    "format_name": "rmarkdown",
    "format_version": "1.2",
    "jupytext_version": "1.6.0"
   }
  },
  "kernelspec": {
   "display_name": "Python 3 (ipykernel)",
   "language": "python",
   "name": "python3"
  },
  "language_info": {
   "codemirror_mode": {
    "name": "ipython",
    "version": 3
   },
   "file_extension": ".py",
   "mimetype": "text/x-python",
   "name": "python",
   "nbconvert_exporter": "python",
   "pygments_lexer": "ipython3",
   "version": "3.8.12"
  }
 },
 "nbformat": 4,
 "nbformat_minor": 5
}
