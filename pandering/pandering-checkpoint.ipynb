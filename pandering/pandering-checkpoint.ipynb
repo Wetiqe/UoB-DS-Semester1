{
 "cells": [
  {
   "cell_type": "markdown",
   "source": "# Walking the Pandas walk\n",
   "metadata": {
    "cell_id": "00000-f6cb34dc-bf16-449b-a6a2-dd39aba91858",
    "deepnote_cell_type": "markdown"
   }
  },
  {
   "cell_type": "markdown",
   "source": "## Preliminaries",
   "metadata": {
    "cell_id": "00001-97f328bc-a125-4bff-a1d7-39703db8b03f",
    "deepnote_cell_type": "markdown"
   }
  },
  {
   "cell_type": "markdown",
   "source": "Before you begin, execute the following cell to load the provided tests. Each\ntime you start your notebook, you will need to execute this cell again to load\nthe tests.",
   "metadata": {
    "cell_id": "00002-93ea59e6-6082-4925-82cc-ba8165739de4",
    "deepnote_cell_type": "markdown"
   }
  },
  {
   "cell_type": "code",
   "metadata": {
    "cell_id": "00003-6da2c4b0-5d8b-4125-94bc-6f57464a311f",
    "deepnote_cell_type": "code"
   },
   "source": "# Don't change this cell; just run it.\n\nimport numpy as np\nimport pandas as pd\n# Safe settings for Pandas.\npd.set_option('mode.chained_assignment', 'raise')\n\n%matplotlib inline\nimport matplotlib.pyplot as plt\nplt.style.use('fivethirtyeight')\n\nfrom client.api.notebook import Notebook\nok = Notebook('pandering.ok')",
   "execution_count": null,
   "outputs": []
  },
  {
   "cell_type": "markdown",
   "source": "**Important**: The `ok` tests don't usually tell you that your answer is\ncorrect. More often, they help catch careless mistakes. It's up to you to\nensure that your answer is correct. If you're not sure, ask someone (not for\nthe answer, but for some guidance about your approach).\n",
   "metadata": {
    "cell_id": "00004-57701f67-faa8-49f4-85e3-573942da20a5",
    "deepnote_cell_type": "markdown"
   }
  },
  {
   "cell_type": "markdown",
   "source": "## Unemployment",
   "metadata": {
    "cell_id": "00005-ba626230-40a9-4903-acf2-9ef7cb8877a1",
    "deepnote_cell_type": "markdown"
   }
  },
  {
   "cell_type": "markdown",
   "source": "The Federal Reserve Bank of St. Louis publishes data about jobs in the US.\nBelow we've loaded data on unemployment in the United States.  There are many\nways of defining unemployment, and our dataset includes two notions of the\nunemployment rate:\n\n1. Among people who are able to work and are looking for a full-time job, the\n   percentage who can't find a job.  This is called the Non-Employment Index,\n   or NEI.\n2. Among people who are able to work and are looking for a full-time job, the\n   percentage who can't find any job *or* are only working at a part-time job.\n   The latter group is called \"Part-Time for Economic Reasons\", so the acronym\n   for this index is NEI-PTER.  (Economists are great at marketing.)\n\nThe source of the data is [here](https://fred.stlouisfed.org/categories/33509).",
   "metadata": {
    "cell_id": "00006-e1e046e7-51ce-496f-af4a-768496500d7c",
    "deepnote_cell_type": "markdown"
   }
  },
  {
   "cell_type": "markdown",
   "source": "**Question 1.** The data are in a CSV file called `unemployment.csv`.  Load\nthat file into a table called `unemployment`.",
   "metadata": {
    "cell_id": "00007-6e3933cb-fc7f-40b4-92a7-54e705db6116",
    "deepnote_cell_type": "markdown"
   }
  },
  {
   "cell_type": "code",
   "metadata": {
    "cell_id": "00008-f67d9fd0-d320-4e40-a15e-449f01eda52e",
    "deepnote_cell_type": "code"
   },
   "source": "unemployment = ...\nunemployment",
   "execution_count": null,
   "outputs": []
  },
  {
   "cell_type": "code",
   "metadata": {
    "cell_id": "00009-600da029-89fc-4ac6-9a69-fbf32fc7a5d5",
    "deepnote_cell_type": "code"
   },
   "source": "_ = ok.grade('q1_1')",
   "execution_count": null,
   "outputs": []
  },
  {
   "cell_type": "markdown",
   "source": "**Question 2.** Sort the data in *decreasing* order by NEI, naming the sorted\ntable `by_nei`.  Create another table called `by_nei_pter` that's sorted in\ndecreasing order by NEI-PTER instead.",
   "metadata": {
    "cell_id": "00010-2c75613d-4ece-4cd8-be88-1a42aa0366aa",
    "deepnote_cell_type": "markdown"
   }
  },
  {
   "cell_type": "code",
   "metadata": {
    "cell_id": "00011-d0d0a864-ee4d-4878-bbb3-eadeb487cba6",
    "deepnote_cell_type": "code"
   },
   "source": "by_nei = ...\nby_nei_pter = ...",
   "execution_count": null,
   "outputs": []
  },
  {
   "cell_type": "code",
   "metadata": {
    "cell_id": "00012-900b22ec-3978-4b7f-bd81-85893334e8c3",
    "deepnote_cell_type": "code"
   },
   "source": "_ = ok.grade('q1_2')",
   "execution_count": null,
   "outputs": []
  },
  {
   "cell_type": "markdown",
   "source": "**Question 3.** Make a table containing the data for the 10 quarters when NEI was greatest.  Call that table `greatest_nei`.",
   "metadata": {
    "cell_id": "00013-800d90f0-36c5-44d3-b4e5-b894439af7f7",
    "deepnote_cell_type": "markdown"
   }
  },
  {
   "cell_type": "code",
   "metadata": {
    "cell_id": "00014-88d0ef6f-fe68-47d8-a5e4-a8002ad22830",
    "deepnote_cell_type": "code"
   },
   "source": "greatest_nei = ...\ngreatest_nei",
   "execution_count": null,
   "outputs": []
  },
  {
   "cell_type": "code",
   "metadata": {
    "cell_id": "00015-19073b91-cb1d-4076-8050-124e9b621153",
    "deepnote_cell_type": "code"
   },
   "source": "_ = ok.grade('q1_3')",
   "execution_count": null,
   "outputs": []
  },
  {
   "cell_type": "markdown",
   "source": "**Question 4.** It's believed that many people became PTER (recall: \"Part-Time\nfor Economic Reasons\") in the \"Great Recession\" of 2008-2009.  NEI-PTER is the\npercentage of people who are unemployed (and counted in the NEI) plus the\npercentage of people who are PTER.  Compute a Series containing the percentage\nof people who were PTER in each quarter.  (The first element of the Series\nshould correspond to the first row of `unemployment`, and so on.)\n\n*Note:* Use the original `unemployment` table for this.",
   "metadata": {
    "cell_id": "00016-793e772a-dd37-4184-a977-3c19feafb86b",
    "deepnote_cell_type": "markdown"
   }
  },
  {
   "cell_type": "code",
   "metadata": {
    "cell_id": "00017-4b6b4343-53b7-411c-bc10-c1c58c8af1cb",
    "deepnote_cell_type": "code"
   },
   "source": "pter = ...\n# Show the first five values.\npter.head()",
   "execution_count": null,
   "outputs": []
  },
  {
   "cell_type": "code",
   "metadata": {
    "cell_id": "00018-27f41eed-cae6-422a-ad11-3a6d6eea2bf2",
    "deepnote_cell_type": "code"
   },
   "source": "_ = ok.grade('q1_4')",
   "execution_count": null,
   "outputs": []
  },
  {
   "cell_type": "markdown",
   "source": "**Question 5.** Add `pter` as a column named \"PTER\" to `unemployment` and sort\nthe resulting table by that column in decreasing order.  Call the table\n`by_pter`.",
   "metadata": {
    "cell_id": "00019-c53033f1-8aee-415b-907b-4f6bf6569836",
    "deepnote_cell_type": "markdown"
   }
  },
  {
   "cell_type": "code",
   "metadata": {
    "cell_id": "00020-e67e0103-5e14-46e9-94d1-0382c8f99d78",
    "deepnote_cell_type": "code"
   },
   "source": "...\nby_pter = ...\n# Show the first five values.\nby_pter.head()",
   "execution_count": null,
   "outputs": []
  },
  {
   "cell_type": "code",
   "metadata": {
    "cell_id": "00021-a5074d76-7635-41af-bdf5-cd2ffcb2272a",
    "deepnote_cell_type": "code"
   },
   "source": "_ = ok.grade('q1_5')",
   "execution_count": null,
   "outputs": []
  },
  {
   "cell_type": "markdown",
   "source": "**Question 6.** Does it seem true that the PTER rate was very high during the\nGreat Recession, compared to other periods in the dataset?  Explore the values\nin the table, and consider doing some plots.  Justify your answer by referring\nto specific values in the table or by generating a chart.\n",
   "metadata": {
    "cell_id": "00022-a217fae3-ef49-4f2a-877a-e7db0401d749",
    "deepnote_cell_type": "markdown"
   }
  },
  {
   "cell_type": "markdown",
   "source": "*Write your answer here, replacing this text.*",
   "metadata": {
    "lines_to_next_cell": 2,
    "manual_grade": true,
    "manual_problem_id": "basic_sorting_6",
    "cell_id": "00023-8a5d0a76-209d-47cb-9194-c0a44a707d65",
    "deepnote_cell_type": "markdown"
   }
  },
  {
   "cell_type": "markdown",
   "source": "## 2. Birth Rates",
   "metadata": {
    "cell_id": "00024-95bd3917-57bc-46b4-87ef-b1e3a2c6cd0c",
    "deepnote_cell_type": "markdown"
   }
  },
  {
   "cell_type": "markdown",
   "source": "The following table gives census-based population estimates for each state in\nthe USA, on July 1, 2015 and July 1, 2016. The last four columns describe the\ncomponents of the estimated change in population during this time interval.\n*For all questions below, assume that the word \"states\" refers to all 52 rows\nincluding Puerto Rico & the District of Columbia.*",
   "metadata": {
    "cell_id": "00025-53239bc9-e75b-49f6-8599-9885c637bb53",
    "deepnote_cell_type": "markdown"
   }
  },
  {
   "cell_type": "code",
   "metadata": {
    "cell_id": "00026-7da7071f-9190-4d07-97ed-3aa0ee229c89",
    "deepnote_cell_type": "code"
   },
   "source": "# Don't change this cell; just run it.\n# From http://www2.census.gov/programs-surveys/popest/datasets/2010-2016/national/totals/nst-est2016-alldata.csv\n# See https://www2.census.gov/programs-surveys/popest/datasets/2010-2016/national/totals/nst-est2016-alldata.pdf\n#     for column descriptions.\n# Read the table\nraw_pop = pd.read_csv('nst-est2016-alldata.csv')\n# Select rows giving summaries at US state level (summary level).\npop = raw_pop[raw_pop['SUMLEV'] == 40]\n# Select only the columns we're interested in\ngood_cols = ['REGION', 'NAME', 'POPESTIMATE2015', 'POPESTIMATE2016',\n             'BIRTHS2016', 'DEATHS2016', 'NETMIG2016', 'RESIDUAL2016']\npop = pop.loc[:, good_cols]\n# Give the columns new names\ngood_names = ['REGION', 'NAME', '2015', '2016',\n             'BIRTHS', 'DEATHS', 'MIGRATION', 'OTHER']\npop.columns = good_names\n# Show the first five rows.\npop.head()",
   "execution_count": null,
   "outputs": []
  },
  {
   "cell_type": "markdown",
   "source": "**Question 1.** Assign `us_birth_rate` to the total US annual birth rate during\nthis time interval. The annual birth rate for a year-long period is the number\nof births in that period as a proportion of the population at the start of the\nperiod.",
   "metadata": {
    "cell_id": "00027-24372642-97a9-4220-ab94-5e86b663e42f",
    "deepnote_cell_type": "markdown"
   }
  },
  {
   "cell_type": "code",
   "metadata": {
    "cell_id": "00028-5c719f83-ab66-4a00-a862-2425e079b9d4",
    "deepnote_cell_type": "code"
   },
   "source": "us_birth_rate = ...\nus_birth_rate",
   "execution_count": null,
   "outputs": []
  },
  {
   "cell_type": "code",
   "metadata": {
    "cell_id": "00029-76916859-e892-42bf-8279-6a12f92f1990",
    "deepnote_cell_type": "code"
   },
   "source": "_ = ok.grade('q2_1')",
   "execution_count": null,
   "outputs": []
  },
  {
   "cell_type": "markdown",
   "source": "**Question 2.** Assign `fastest_growth` to a Series of the names of the five\nUS states with the fastest overall population growth rates in *descending order\nof growth rate*.\n\n*Hint 1* - you may well find yourself adding another column to the `pop` data\nframe.\n\n*Hint 2* - remember this is a growth *rate*.  See above.",
   "metadata": {
    "cell_id": "00030-2f245827-e813-4b70-b9c1-37bc7b1bb5df",
    "deepnote_cell_type": "markdown"
   }
  },
  {
   "cell_type": "code",
   "metadata": {
    "cell_id": "00031-8f47b74b-d239-48b8-85ad-a29615f3ba99",
    "deepnote_cell_type": "code"
   },
   "source": "fastest_growth = ...\nfastest_growth",
   "execution_count": null,
   "outputs": []
  },
  {
   "cell_type": "code",
   "metadata": {
    "cell_id": "00032-694752a9-a833-45af-b9a5-8177561f0d7a",
    "deepnote_cell_type": "code"
   },
   "source": "_ = ok.grade('q2_2')",
   "execution_count": null,
   "outputs": []
  },
  {
   "cell_type": "markdown",
   "source": "**Question 3.** Assign `n_movers` to the *number* of states for which the\nabsolute annual *rate* of migration was higher than 1%. The annual rate of\nmigration for a year-long period is the net number of migrations (in and out)\nas a proportion of the population at the start of the period. The `MIGRATION`\ncolumn contains estimated annual net migration counts by state.",
   "metadata": {
    "cell_id": "00033-0252d125-42ea-40a5-9214-c5eb5cecdefa",
    "deepnote_cell_type": "markdown"
   }
  },
  {
   "cell_type": "code",
   "metadata": {
    "cell_id": "00034-e3a15b9f-8b46-4440-8ba2-fc81e8401bca",
    "deepnote_cell_type": "code"
   },
   "source": "n_movers = ...\nn_movers",
   "execution_count": null,
   "outputs": []
  },
  {
   "cell_type": "code",
   "metadata": {
    "cell_id": "00035-0bf1a708-c273-4d8e-b0e9-298d8182af8d",
    "deepnote_cell_type": "code"
   },
   "source": "_ = ok.grade('q2_3')",
   "execution_count": null,
   "outputs": []
  },
  {
   "cell_type": "markdown",
   "source": "**Question 4.** Assign `n_west_births` to the total *number* of births that\noccurred in region 4 (the Western US).\n\n*Hint* - be careful - what type of values does the `REGION` column contain?\nLook at the `REGION` value for Puerto Rico.",
   "metadata": {
    "cell_id": "00036-565a9bb3-4819-47a2-921a-8fe92fc08e5c",
    "deepnote_cell_type": "markdown"
   }
  },
  {
   "cell_type": "code",
   "metadata": {
    "cell_id": "00037-09d8314c-68bf-45d4-ae5a-cc81b45cab0c",
    "deepnote_cell_type": "code"
   },
   "source": "west_births = ...\nn_west_births",
   "execution_count": null,
   "outputs": []
  },
  {
   "cell_type": "code",
   "metadata": {
    "cell_id": "00038-8352b52a-a689-472c-8d85-132775caa9d8",
    "deepnote_cell_type": "code"
   },
   "source": "_ = ok.grade('q2_4')",
   "execution_count": null,
   "outputs": []
  },
  {
   "cell_type": "markdown",
   "source": "**Question 5.** Assign `n_less_than_west_births` to the number of states that\nhad a total population in 2016 that was smaller than the *number of babies born\nin region 4 (the Western US)* during this time interval.",
   "metadata": {
    "cell_id": "00039-543ca0ae-6310-4eee-8d12-712dfcdb418a",
    "deepnote_cell_type": "markdown"
   }
  },
  {
   "cell_type": "code",
   "metadata": {
    "cell_id": "00040-761883da-a3f2-481e-b890-25033ad81fe4",
    "deepnote_cell_type": "code"
   },
   "source": "n_less_than_west_births = ...\nn_less_than_west_births",
   "execution_count": null,
   "outputs": []
  },
  {
   "cell_type": "code",
   "metadata": {
    "cell_id": "00041-6d4d6d7e-a044-4303-90cd-fd6592de49bf",
    "deepnote_cell_type": "code"
   },
   "source": "_ = ok.grade('q2_5')",
   "execution_count": null,
   "outputs": []
  },
  {
   "cell_type": "markdown",
   "source": "**Question 6.** Was there an association between birth rate and death rate\nduring this time interval? Use the code cell below to support your conclusion\nwith a chart. If an association exists, what might explain it?\n",
   "metadata": {
    "cell_id": "00042-aebd194f-162e-4ac0-8898-a7bd16a0b765",
    "deepnote_cell_type": "markdown"
   }
  },
  {
   "cell_type": "markdown",
   "source": "*Write your answer here, replacing this text.*",
   "metadata": {
    "manual_grade": true,
    "manual_problem_id": "births_6",
    "cell_id": "00043-ec7582c9-bca7-46ee-8079-a2572d42178c",
    "deepnote_cell_type": "markdown"
   }
  },
  {
   "cell_type": "code",
   "metadata": {
    "cell_id": "00044-59a929c6-8e3c-4ed4-b4e2-44bc05176161",
    "deepnote_cell_type": "code"
   },
   "source": "#- Generate a chart here to support your conclusion\n...",
   "execution_count": null,
   "outputs": []
  },
  {
   "cell_type": "markdown",
   "source": "## 3. Consumer Financial Protection Bureau Complaints",
   "metadata": {
    "cell_id": "00045-e0cae353-435f-442f-9dd2-4d5aba1be298",
    "deepnote_cell_type": "markdown"
   }
  },
  {
   "cell_type": "markdown",
   "source": "The Consumer Financial Protection Bureau has collected and published consumer\ncomplaints against financial companies since 2011.  The data are available\n[here](https://dev.socrata.com/foundry/data.consumerfinance.gov/jhzv-w97w) (or\nat this [direct\nlink](https://data.consumerfinance.gov/resource/jhzv-w97w.csv)).  For this\nexercise, to make your code run faster, we've selected only the data from\nMay 2016.\n\nRun the next cell to load the data.  Each row represents one consumer's complaint.",
   "metadata": {
    "cell_id": "00046-1ba7d6f6-635f-491e-933e-01bef69b8c58",
    "deepnote_cell_type": "markdown"
   }
  },
  {
   "cell_type": "code",
   "metadata": {
    "cell_id": "00047-cf0cf29b-68de-4f58-85a3-a475cd7d135a",
    "deepnote_cell_type": "code"
   },
   "source": "# Just run this cell.\ncomplaints = pd.read_csv(\"complaints.csv\")\ncomplaints.head()",
   "execution_count": null,
   "outputs": []
  },
  {
   "cell_type": "markdown",
   "source": "**Question 1.** Financial companies offer a variety of products.  How many\ncomplaints were made against each kind of product?  Make a Series called\n`complaints_per_product` with one element per product category, where the index\nlabel is the name of the product (from the \"product\" column), and the\ncorresponding value is the \"number of complaints\" (the number of complaints\nmade against that kind of product).\n\n*Hint* - the way to do this is more familiar than it might at first appear.",
   "metadata": {
    "cell_id": "00048-abf701ad-fa85-40e4-a9a3-3878057e278f",
    "deepnote_cell_type": "markdown"
   }
  },
  {
   "cell_type": "code",
   "metadata": {
    "cell_id": "00049-572adc82-ffa4-4da8-8137-c42fbcf81963",
    "deepnote_cell_type": "code"
   },
   "source": "complaints_per_product = ...\ncomplaints_per_product",
   "execution_count": null,
   "outputs": []
  },
  {
   "cell_type": "code",
   "metadata": {
    "cell_id": "00050-413d89cd-a6a5-4c4f-a3ee-2b4829c85a58",
    "deepnote_cell_type": "code"
   },
   "source": "_ = ok.grade('q3_1')",
   "execution_count": null,
   "outputs": []
  },
  {
   "cell_type": "markdown",
   "source": "**Question 2.** Make a horizontal bar chart showing how many complaints were\nmade about each product category. Sort the bars from longest to shortest.\nBecause this is a horizontal bar chart, the product axis should be on the left\n(y-axis), and the counts axis should be at the bottom (x-axis).",
   "metadata": {
    "cell_id": "00051-c6c0ff9d-0f27-4df6-97e1-f869da3212ad",
    "deepnote_cell_type": "markdown"
   }
  },
  {
   "cell_type": "code",
   "metadata": {
    "cell_id": "00052-f0bd2f6d-1bd4-44d3-8a7c-60083983d1c7",
    "deepnote_cell_type": "code"
   },
   "source": "...",
   "execution_count": null,
   "outputs": []
  },
  {
   "cell_type": "markdown",
   "source": "**Question 3.** Make a Series of the number of complaints made against each\n*company*.  Call it `complaints_per_company`.  It should have one row per\ncompany. The index labels will have the \"company\" name (the name of the\ncompany) and corresponding values with be the number of complaints (the number\nof complaints made against that company).",
   "metadata": {
    "cell_id": "00053-2d2bcbb1-f920-4d85-9abd-0e18e910e9a6",
    "deepnote_cell_type": "markdown"
   }
  },
  {
   "cell_type": "code",
   "metadata": {
    "cell_id": "00054-a541f776-eb05-4190-a7fc-0704aef03a09",
    "deepnote_cell_type": "code"
   },
   "source": "complaints_per_company = ...\ncomplaints_per_company",
   "execution_count": null,
   "outputs": []
  },
  {
   "cell_type": "code",
   "metadata": {
    "cell_id": "00055-c0cd7cd9-9a18-47af-8793-89455a13980f",
    "deepnote_cell_type": "code"
   },
   "source": "_ = ok.grade('q3_3')",
   "execution_count": null,
   "outputs": []
  },
  {
   "cell_type": "markdown",
   "source": "**Question 4.** It wouldn't be a good idea to make a bar chart of that data.  (Don't try it!)  Why not?\n",
   "metadata": {
    "cell_id": "00056-52e2c4a0-7ba1-4db3-b162-16e79aba349d",
    "deepnote_cell_type": "markdown"
   }
  },
  {
   "cell_type": "markdown",
   "source": "*Write your answer here, replacing this text.*",
   "metadata": {
    "lines_to_next_cell": 2,
    "manual_grade": true,
    "manual_problem_id": "cfpb_complaints_4",
    "cell_id": "00057-41033aa2-e91a-4015-a4a7-1873ae8b96fb",
    "deepnote_cell_type": "markdown"
   }
  },
  {
   "cell_type": "markdown",
   "source": "**Question 5.** Make a horizontal bar chart of just the 10 companies with the\nmost complaints.  Sort the bars from longest (at the top) to shortest (at the\nbottom).",
   "metadata": {
    "cell_id": "00058-5fbfadb9-6071-47c2-8889-24d650a973b1",
    "deepnote_cell_type": "markdown"
   }
  },
  {
   "cell_type": "code",
   "metadata": {
    "cell_id": "00059-4fbabd93-c1c6-4b82-b2cc-6eaedec29681",
    "deepnote_cell_type": "code"
   },
   "source": "...",
   "execution_count": null,
   "outputs": []
  },
  {
   "cell_type": "markdown",
   "source": "**Question 6.** Make a horizontal bar chart like the one above, with one\ndifference: The size of each company's bar should be the *proportion* (among\n*all complaints* made against any company in `complaints`) that were made\nagainst that company.  Remember the bars should be in order from longest to\nshortest.\n\n**Note:** As before, make sure you are not plotting all the companies.  If you do, by accident, consider the Kernel menu Interrupt option.\n\n**Note:** Graphs aren't very useful without accurate labels.  Make sure that the text on the horizontal axis of the graph makes sense.  Investigate how you would put a meaningful label on this axis.",
   "metadata": {
    "cell_id": "00060-0f2a164d-8d05-49f5-a10f-e06c9944a7b6",
    "deepnote_cell_type": "markdown"
   }
  },
  {
   "cell_type": "code",
   "metadata": {
    "cell_id": "00061-74ad915e-7c7f-41b8-b441-9ea42a805370",
    "deepnote_cell_type": "code"
   },
   "source": "...",
   "execution_count": null,
   "outputs": []
  },
  {
   "cell_type": "markdown",
   "source": "## Done\n\nYou're finished with the assignment!  Be sure to...\n\n- **run all the tests** (the next cell has a shortcut for that),\n- **Save and Checkpoint** from the \"File\" menu.\n- Finally, **restart** the kernel for this notebook, and **run all the cells**,\n  to check that the notebook still works without errors.  Use the\n  \"Kernel\" menu, and choose \"Restart and run all\".  If you find any\n  problems, go back and fix them, save the notebook, and restart / run\n  all again, before submitting.  When you do this, you make sure that\n  we, your humble markers, will be able to mark your notebook.",
   "metadata": {
    "cell_id": "00062-ed4a10b8-841f-4209-9458-27f9e09e1127",
    "deepnote_cell_type": "markdown"
   }
  },
  {
   "cell_type": "code",
   "metadata": {
    "cell_id": "00063-f3d5c210-81aa-4cd9-9f6b-449a9d63cc0d",
    "deepnote_cell_type": "code"
   },
   "source": "# For your convenience, you can run this cell to run all the tests at once!\nimport os\n_ = [ok.grade(q[:-3]) for q in os.listdir(\"tests\") if q.startswith('q')]",
   "execution_count": null,
   "outputs": []
  },
  {
   "cell_type": "markdown",
   "source": "<a style='text-decoration:none;line-height:16px;display:flex;color:#5B5B62;padding:10px;justify-content:end;' href='https://deepnote.com?utm_source=created-in-deepnote-cell&projectId=8865f3fd-e1cf-43c3-abd9-b35589f6d3bf' target=\"_blank\">\n<img alt='Created in deepnote.com' style='display:inline;max-height:16px;margin:0px;margin-right:7.5px;' src='data:image/svg+xml;base64,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' > </img>\nCreated in <span style='font-weight:600;margin-left:4px;'>Deepnote</span></a>",
   "metadata": {
    "tags": [],
    "created_in_deepnote_cell": true,
    "deepnote_cell_type": "markdown"
   }
  }
 ],
 "nbformat": 4,
 "nbformat_minor": 5,
 "metadata": {
  "jupytext": {
   "cell_metadata_json": true,
   "split_at_heading": true,
   "text_representation": {
    "extension": ".Rmd",
    "format_name": "rmarkdown",
    "format_version": "1.1",
    "jupytext_version": "1.2.4"
   }
  },
  "kernelspec": {
   "display_name": "Python 3",
   "language": "python",
   "name": "python3"
  },
  "deepnote_notebook_id": "8f478910-54df-4edc-81c9-69f19d39f4aa",
  "deepnote": {},
  "deepnote_execution_queue": []
 }
}