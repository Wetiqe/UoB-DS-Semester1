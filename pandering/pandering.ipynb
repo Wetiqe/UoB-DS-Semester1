{
 "cells": [
  {
   "cell_type": "markdown",
   "id": "955a5bb0",
   "metadata": {
    "cell_id": "00000-f6cb34dc-bf16-449b-a6a2-dd39aba91858",
    "deepnote_cell_type": "markdown"
   },
   "source": [
    "# Walking the Pandas walk\n"
   ]
  },
  {
   "cell_type": "markdown",
   "id": "35428e2c",
   "metadata": {
    "cell_id": "00001-97f328bc-a125-4bff-a1d7-39703db8b03f",
    "deepnote_cell_type": "markdown"
   },
   "source": [
    "## Preliminaries"
   ]
  },
  {
   "cell_type": "markdown",
   "id": "740d6921",
   "metadata": {
    "cell_id": "00002-93ea59e6-6082-4925-82cc-ba8165739de4",
    "deepnote_cell_type": "markdown"
   },
   "source": [
    "Before you begin, execute the following cell to load the provided tests. Each\n",
    "time you start your notebook, you will need to execute this cell again to load\n",
    "the tests."
   ]
  },
  {
   "cell_type": "code",
   "execution_count": 1,
   "id": "04471510",
   "metadata": {
    "cell_id": "00003-6da2c4b0-5d8b-4125-94bc-6f57464a311f",
    "deepnote_cell_type": "code"
   },
   "outputs": [
    {
     "name": "stdout",
     "output_type": "stream",
     "text": [
      "=====================================================================\n",
      "Assignment: pandering\n",
      "OK, version v1.18.1\n",
      "=====================================================================\n",
      "\n"
     ]
    }
   ],
   "source": [
    "# Don't change this cell; just run it.\n",
    "\n",
    "import numpy as np\n",
    "import pandas as pd\n",
    "# Safe settings for Pandas.\n",
    "pd.set_option('mode.chained_assignment', 'raise')\n",
    "\n",
    "%matplotlib inline\n",
    "import matplotlib.pyplot as plt\n",
    "plt.style.use('fivethirtyeight')\n",
    "\n",
    "from client.api.notebook import Notebook\n",
    "ok = Notebook('pandering.ok')"
   ]
  },
  {
   "cell_type": "markdown",
   "id": "b164effa",
   "metadata": {
    "cell_id": "00004-57701f67-faa8-49f4-85e3-573942da20a5",
    "deepnote_cell_type": "markdown"
   },
   "source": [
    "**Important**: The `ok` tests don't usually tell you that your answer is\n",
    "correct. More often, they help catch careless mistakes. It's up to you to\n",
    "ensure that your answer is correct. If you're not sure, ask someone (not for\n",
    "the answer, but for some guidance about your approach).\n"
   ]
  },
  {
   "cell_type": "markdown",
   "id": "29ff31ce",
   "metadata": {
    "cell_id": "00005-ba626230-40a9-4903-acf2-9ef7cb8877a1",
    "deepnote_cell_type": "markdown"
   },
   "source": [
    "## Unemployment"
   ]
  },
  {
   "cell_type": "markdown",
   "id": "e0a97482",
   "metadata": {
    "cell_id": "00006-e1e046e7-51ce-496f-af4a-768496500d7c",
    "deepnote_cell_type": "markdown"
   },
   "source": [
    "The Federal Reserve Bank of St. Louis publishes data about jobs in the US.\n",
    "Below we've loaded data on unemployment in the United States.  There are many\n",
    "ways of defining unemployment, and our dataset includes two notions of the\n",
    "unemployment rate:\n",
    "\n",
    "1. Among people who are able to work and are looking for a full-time job, the\n",
    "   percentage who can't find a job.  This is called the Non-Employment Index,\n",
    "   or NEI.\n",
    "2. Among people who are able to work and are looking for a full-time job, the\n",
    "   percentage who can't find any job *or* are only working at a part-time job.\n",
    "   The latter group is called \"Part-Time for Economic Reasons\", so the acronym\n",
    "   for this index is NEI-PTER.  (Economists are great at marketing.)\n",
    "\n",
    "The source of the data is [here](https://fred.stlouisfed.org/categories/33509)."
   ]
  },
  {
   "cell_type": "markdown",
   "id": "ec836f6e",
   "metadata": {
    "cell_id": "00007-6e3933cb-fc7f-40b4-92a7-54e705db6116",
    "deepnote_cell_type": "markdown"
   },
   "source": [
    "**Question 1.** The data are in a CSV file called `unemployment.csv`.  Load\n",
    "that file into a table called `unemployment`."
   ]
  },
  {
   "cell_type": "code",
   "execution_count": 2,
   "id": "4da7f8a3",
   "metadata": {
    "cell_id": "00008-f67d9fd0-d320-4e40-a15e-449f01eda52e",
    "deepnote_cell_type": "code"
   },
   "outputs": [
    {
     "data": {
      "text/html": [
       "<div>\n",
       "<style scoped>\n",
       "    .dataframe tbody tr th:only-of-type {\n",
       "        vertical-align: middle;\n",
       "    }\n",
       "\n",
       "    .dataframe tbody tr th {\n",
       "        vertical-align: top;\n",
       "    }\n",
       "\n",
       "    .dataframe thead th {\n",
       "        text-align: right;\n",
       "    }\n",
       "</style>\n",
       "<table border=\"1\" class=\"dataframe\">\n",
       "  <thead>\n",
       "    <tr style=\"text-align: right;\">\n",
       "      <th></th>\n",
       "      <th>Date</th>\n",
       "      <th>NEI</th>\n",
       "      <th>NEI-PTER</th>\n",
       "    </tr>\n",
       "  </thead>\n",
       "  <tbody>\n",
       "    <tr>\n",
       "      <th>0</th>\n",
       "      <td>1994-01-01</td>\n",
       "      <td>10.0974</td>\n",
       "      <td>11.1720</td>\n",
       "    </tr>\n",
       "    <tr>\n",
       "      <th>1</th>\n",
       "      <td>1994-04-01</td>\n",
       "      <td>9.6239</td>\n",
       "      <td>10.7883</td>\n",
       "    </tr>\n",
       "    <tr>\n",
       "      <th>2</th>\n",
       "      <td>1994-07-01</td>\n",
       "      <td>9.3276</td>\n",
       "      <td>10.4831</td>\n",
       "    </tr>\n",
       "    <tr>\n",
       "      <th>3</th>\n",
       "      <td>1994-10-01</td>\n",
       "      <td>9.1071</td>\n",
       "      <td>10.2361</td>\n",
       "    </tr>\n",
       "    <tr>\n",
       "      <th>4</th>\n",
       "      <td>1995-01-01</td>\n",
       "      <td>8.9693</td>\n",
       "      <td>10.1832</td>\n",
       "    </tr>\n",
       "    <tr>\n",
       "      <th>...</th>\n",
       "      <td>...</td>\n",
       "      <td>...</td>\n",
       "      <td>...</td>\n",
       "    </tr>\n",
       "    <tr>\n",
       "      <th>85</th>\n",
       "      <td>2015-04-01</td>\n",
       "      <td>8.8386</td>\n",
       "      <td>10.1483</td>\n",
       "    </tr>\n",
       "    <tr>\n",
       "      <th>86</th>\n",
       "      <td>2015-07-01</td>\n",
       "      <td>8.6847</td>\n",
       "      <td>9.9166</td>\n",
       "    </tr>\n",
       "    <tr>\n",
       "      <th>87</th>\n",
       "      <td>2015-10-01</td>\n",
       "      <td>8.6650</td>\n",
       "      <td>9.8385</td>\n",
       "    </tr>\n",
       "    <tr>\n",
       "      <th>88</th>\n",
       "      <td>2016-01-01</td>\n",
       "      <td>8.4330</td>\n",
       "      <td>9.6174</td>\n",
       "    </tr>\n",
       "    <tr>\n",
       "      <th>89</th>\n",
       "      <td>2016-04-01</td>\n",
       "      <td>8.5400</td>\n",
       "      <td>9.7146</td>\n",
       "    </tr>\n",
       "  </tbody>\n",
       "</table>\n",
       "<p>90 rows × 3 columns</p>\n",
       "</div>"
      ],
      "text/plain": [
       "          Date      NEI  NEI-PTER\n",
       "0   1994-01-01  10.0974   11.1720\n",
       "1   1994-04-01   9.6239   10.7883\n",
       "2   1994-07-01   9.3276   10.4831\n",
       "3   1994-10-01   9.1071   10.2361\n",
       "4   1995-01-01   8.9693   10.1832\n",
       "..         ...      ...       ...\n",
       "85  2015-04-01   8.8386   10.1483\n",
       "86  2015-07-01   8.6847    9.9166\n",
       "87  2015-10-01   8.6650    9.8385\n",
       "88  2016-01-01   8.4330    9.6174\n",
       "89  2016-04-01   8.5400    9.7146\n",
       "\n",
       "[90 rows x 3 columns]"
      ]
     },
     "execution_count": 2,
     "metadata": {},
     "output_type": "execute_result"
    }
   ],
   "source": [
    "unemployment = pd.read_csv('unemployment.csv')\n",
    "unemployment"
   ]
  },
  {
   "cell_type": "code",
   "execution_count": 3,
   "id": "c2958ada",
   "metadata": {
    "cell_id": "00009-600da029-89fc-4ac6-9a69-fbf32fc7a5d5",
    "deepnote_cell_type": "code"
   },
   "outputs": [
    {
     "name": "stdout",
     "output_type": "stream",
     "text": [
      "~~~~~~~~~~~~~~~~~~~~~~~~~~~~~~~~~~~~~~~~~~~~~~~~~~~~~~~~~~~~~~~~~~~~~\n",
      "Running tests\n",
      "\n",
      "---------------------------------------------------------------------\n",
      "Test summary\n",
      "    Passed: 1\n",
      "    Failed: 0\n",
      "[ooooooooook] 100.0% passed\n",
      "\n"
     ]
    }
   ],
   "source": [
    "_ = ok.grade('q1_1')"
   ]
  },
  {
   "cell_type": "markdown",
   "id": "998af72c",
   "metadata": {
    "cell_id": "00010-2c75613d-4ece-4cd8-be88-1a42aa0366aa",
    "deepnote_cell_type": "markdown"
   },
   "source": [
    "**Question 2.** Sort the data in *decreasing* order by NEI, naming the sorted\n",
    "table `by_nei`.  Create another table called `by_nei_pter` that's sorted in\n",
    "decreasing order by NEI-PTER instead."
   ]
  },
  {
   "cell_type": "code",
   "execution_count": 4,
   "id": "d61ad056",
   "metadata": {
    "cell_id": "00011-d0d0a864-ee4d-4878-bbb3-eadeb487cba6",
    "deepnote_cell_type": "code"
   },
   "outputs": [],
   "source": [
    "by_nei = unemployment.sort_values(by='NEI', ascending=False)\n",
    "by_nei_pter = unemployment.sort_values(by='NEI-PTER', ascending=False)"
   ]
  },
  {
   "cell_type": "code",
   "execution_count": 5,
   "id": "93c7ae76",
   "metadata": {
    "cell_id": "00012-900b22ec-3978-4b7f-bd81-85893334e8c3",
    "deepnote_cell_type": "code"
   },
   "outputs": [
    {
     "name": "stdout",
     "output_type": "stream",
     "text": [
      "~~~~~~~~~~~~~~~~~~~~~~~~~~~~~~~~~~~~~~~~~~~~~~~~~~~~~~~~~~~~~~~~~~~~~\n",
      "Running tests\n",
      "\n",
      "---------------------------------------------------------------------\n",
      "Test summary\n",
      "    Passed: 1\n",
      "    Failed: 0\n",
      "[ooooooooook] 100.0% passed\n",
      "\n"
     ]
    }
   ],
   "source": [
    "_ = ok.grade('q1_2')"
   ]
  },
  {
   "cell_type": "code",
   "execution_count": 6,
   "id": "91f1e304-f3e3-4874-9a7f-162b0836f40e",
   "metadata": {},
   "outputs": [
    {
     "data": {
      "text/html": [
       "<div>\n",
       "<style scoped>\n",
       "    .dataframe tbody tr th:only-of-type {\n",
       "        vertical-align: middle;\n",
       "    }\n",
       "\n",
       "    .dataframe tbody tr th {\n",
       "        vertical-align: top;\n",
       "    }\n",
       "\n",
       "    .dataframe thead th {\n",
       "        text-align: right;\n",
       "    }\n",
       "</style>\n",
       "<table border=\"1\" class=\"dataframe\">\n",
       "  <thead>\n",
       "    <tr style=\"text-align: right;\">\n",
       "      <th></th>\n",
       "      <th>Date</th>\n",
       "      <th>NEI</th>\n",
       "      <th>NEI-PTER</th>\n",
       "    </tr>\n",
       "  </thead>\n",
       "  <tbody>\n",
       "    <tr>\n",
       "      <th>63</th>\n",
       "      <td>2009-10-01</td>\n",
       "      <td>10.9698</td>\n",
       "      <td>12.8557</td>\n",
       "    </tr>\n",
       "    <tr>\n",
       "      <th>64</th>\n",
       "      <td>2010-01-01</td>\n",
       "      <td>10.9054</td>\n",
       "      <td>12.7311</td>\n",
       "    </tr>\n",
       "    <tr>\n",
       "      <th>62</th>\n",
       "      <td>2009-07-01</td>\n",
       "      <td>10.8089</td>\n",
       "      <td>12.7404</td>\n",
       "    </tr>\n",
       "    <tr>\n",
       "      <th>61</th>\n",
       "      <td>2009-04-01</td>\n",
       "      <td>10.7082</td>\n",
       "      <td>12.5497</td>\n",
       "    </tr>\n",
       "    <tr>\n",
       "      <th>65</th>\n",
       "      <td>2010-04-01</td>\n",
       "      <td>10.6597</td>\n",
       "      <td>12.5664</td>\n",
       "    </tr>\n",
       "    <tr>\n",
       "      <th>...</th>\n",
       "      <td>...</td>\n",
       "      <td>...</td>\n",
       "      <td>...</td>\n",
       "    </tr>\n",
       "    <tr>\n",
       "      <th>28</th>\n",
       "      <td>2001-01-01</td>\n",
       "      <td>7.7570</td>\n",
       "      <td>8.4969</td>\n",
       "    </tr>\n",
       "    <tr>\n",
       "      <th>26</th>\n",
       "      <td>2000-07-01</td>\n",
       "      <td>7.6915</td>\n",
       "      <td>8.4458</td>\n",
       "    </tr>\n",
       "    <tr>\n",
       "      <th>27</th>\n",
       "      <td>2000-10-01</td>\n",
       "      <td>7.6769</td>\n",
       "      <td>8.4192</td>\n",
       "    </tr>\n",
       "    <tr>\n",
       "      <th>25</th>\n",
       "      <td>2000-04-01</td>\n",
       "      <td>7.6754</td>\n",
       "      <td>8.4199</td>\n",
       "    </tr>\n",
       "    <tr>\n",
       "      <th>24</th>\n",
       "      <td>2000-01-01</td>\n",
       "      <td>7.6128</td>\n",
       "      <td>8.3379</td>\n",
       "    </tr>\n",
       "  </tbody>\n",
       "</table>\n",
       "<p>90 rows × 3 columns</p>\n",
       "</div>"
      ],
      "text/plain": [
       "          Date      NEI  NEI-PTER\n",
       "63  2009-10-01  10.9698   12.8557\n",
       "64  2010-01-01  10.9054   12.7311\n",
       "62  2009-07-01  10.8089   12.7404\n",
       "61  2009-04-01  10.7082   12.5497\n",
       "65  2010-04-01  10.6597   12.5664\n",
       "..         ...      ...       ...\n",
       "28  2001-01-01   7.7570    8.4969\n",
       "26  2000-07-01   7.6915    8.4458\n",
       "27  2000-10-01   7.6769    8.4192\n",
       "25  2000-04-01   7.6754    8.4199\n",
       "24  2000-01-01   7.6128    8.3379\n",
       "\n",
       "[90 rows x 3 columns]"
      ]
     },
     "execution_count": 6,
     "metadata": {},
     "output_type": "execute_result"
    }
   ],
   "source": [
    "by_nei"
   ]
  },
  {
   "cell_type": "markdown",
   "id": "0f828bc6",
   "metadata": {
    "cell_id": "00013-800d90f0-36c5-44d3-b4e5-b894439af7f7",
    "deepnote_cell_type": "markdown"
   },
   "source": [
    "**Question 3.** Make a table containing the data for the 10 quarters when NEI was greatest.  Call that table `greatest_nei`."
   ]
  },
  {
   "cell_type": "code",
   "execution_count": 7,
   "id": "f519c57a",
   "metadata": {
    "cell_id": "00014-88d0ef6f-fe68-47d8-a5e4-a8002ad22830",
    "deepnote_cell_type": "code"
   },
   "outputs": [
    {
     "data": {
      "text/html": [
       "<div>\n",
       "<style scoped>\n",
       "    .dataframe tbody tr th:only-of-type {\n",
       "        vertical-align: middle;\n",
       "    }\n",
       "\n",
       "    .dataframe tbody tr th {\n",
       "        vertical-align: top;\n",
       "    }\n",
       "\n",
       "    .dataframe thead th {\n",
       "        text-align: right;\n",
       "    }\n",
       "</style>\n",
       "<table border=\"1\" class=\"dataframe\">\n",
       "  <thead>\n",
       "    <tr style=\"text-align: right;\">\n",
       "      <th></th>\n",
       "      <th>Date</th>\n",
       "      <th>NEI</th>\n",
       "      <th>NEI-PTER</th>\n",
       "    </tr>\n",
       "  </thead>\n",
       "  <tbody>\n",
       "    <tr>\n",
       "      <th>63</th>\n",
       "      <td>2009-10-01</td>\n",
       "      <td>10.9698</td>\n",
       "      <td>12.8557</td>\n",
       "    </tr>\n",
       "    <tr>\n",
       "      <th>64</th>\n",
       "      <td>2010-01-01</td>\n",
       "      <td>10.9054</td>\n",
       "      <td>12.7311</td>\n",
       "    </tr>\n",
       "    <tr>\n",
       "      <th>62</th>\n",
       "      <td>2009-07-01</td>\n",
       "      <td>10.8089</td>\n",
       "      <td>12.7404</td>\n",
       "    </tr>\n",
       "    <tr>\n",
       "      <th>61</th>\n",
       "      <td>2009-04-01</td>\n",
       "      <td>10.7082</td>\n",
       "      <td>12.5497</td>\n",
       "    </tr>\n",
       "    <tr>\n",
       "      <th>65</th>\n",
       "      <td>2010-04-01</td>\n",
       "      <td>10.6597</td>\n",
       "      <td>12.5664</td>\n",
       "    </tr>\n",
       "    <tr>\n",
       "      <th>67</th>\n",
       "      <td>2010-10-01</td>\n",
       "      <td>10.5856</td>\n",
       "      <td>12.4329</td>\n",
       "    </tr>\n",
       "    <tr>\n",
       "      <th>66</th>\n",
       "      <td>2010-07-01</td>\n",
       "      <td>10.5521</td>\n",
       "      <td>12.3897</td>\n",
       "    </tr>\n",
       "    <tr>\n",
       "      <th>68</th>\n",
       "      <td>2011-01-01</td>\n",
       "      <td>10.5024</td>\n",
       "      <td>12.3017</td>\n",
       "    </tr>\n",
       "    <tr>\n",
       "      <th>70</th>\n",
       "      <td>2011-07-01</td>\n",
       "      <td>10.4856</td>\n",
       "      <td>12.2507</td>\n",
       "    </tr>\n",
       "    <tr>\n",
       "      <th>69</th>\n",
       "      <td>2011-04-01</td>\n",
       "      <td>10.4409</td>\n",
       "      <td>12.2470</td>\n",
       "    </tr>\n",
       "  </tbody>\n",
       "</table>\n",
       "</div>"
      ],
      "text/plain": [
       "          Date      NEI  NEI-PTER\n",
       "63  2009-10-01  10.9698   12.8557\n",
       "64  2010-01-01  10.9054   12.7311\n",
       "62  2009-07-01  10.8089   12.7404\n",
       "61  2009-04-01  10.7082   12.5497\n",
       "65  2010-04-01  10.6597   12.5664\n",
       "67  2010-10-01  10.5856   12.4329\n",
       "66  2010-07-01  10.5521   12.3897\n",
       "68  2011-01-01  10.5024   12.3017\n",
       "70  2011-07-01  10.4856   12.2507\n",
       "69  2011-04-01  10.4409   12.2470"
      ]
     },
     "execution_count": 7,
     "metadata": {},
     "output_type": "execute_result"
    }
   ],
   "source": [
    "greatest_nei = by_nei.iloc[:10,:]\n",
    "greatest_nei"
   ]
  },
  {
   "cell_type": "code",
   "execution_count": 8,
   "id": "49e82d9f",
   "metadata": {
    "cell_id": "00015-19073b91-cb1d-4076-8050-124e9b621153",
    "deepnote_cell_type": "code"
   },
   "outputs": [
    {
     "name": "stdout",
     "output_type": "stream",
     "text": [
      "~~~~~~~~~~~~~~~~~~~~~~~~~~~~~~~~~~~~~~~~~~~~~~~~~~~~~~~~~~~~~~~~~~~~~\n",
      "Running tests\n",
      "\n",
      "---------------------------------------------------------------------\n",
      "Test summary\n",
      "    Passed: 2\n",
      "    Failed: 0\n",
      "[ooooooooook] 100.0% passed\n",
      "\n"
     ]
    }
   ],
   "source": [
    "_ = ok.grade('q1_3')"
   ]
  },
  {
   "cell_type": "markdown",
   "id": "93415edb",
   "metadata": {
    "cell_id": "00016-793e772a-dd37-4184-a977-3c19feafb86b",
    "deepnote_cell_type": "markdown"
   },
   "source": [
    "**Question 4.** It's believed that many people became PTER (recall: \"Part-Time\n",
    "for Economic Reasons\") in the \"Great Recession\" of 2008-2009.  NEI-PTER is the\n",
    "percentage of people who are unemployed (and counted in the NEI) plus the\n",
    "percentage of people who are PTER.  Compute a Series containing the percentage\n",
    "of people who were PTER in each quarter.  (The first element of the Series\n",
    "should correspond to the first row of `unemployment`, and so on.)\n",
    "\n",
    "*Note:* Use the original `unemployment` table for this."
   ]
  },
  {
   "cell_type": "code",
   "execution_count": 9,
   "id": "b841cd51-42b4-40b6-8b06-8e70f34902d2",
   "metadata": {},
   "outputs": [
    {
     "data": {
      "text/html": [
       "<div>\n",
       "<style scoped>\n",
       "    .dataframe tbody tr th:only-of-type {\n",
       "        vertical-align: middle;\n",
       "    }\n",
       "\n",
       "    .dataframe tbody tr th {\n",
       "        vertical-align: top;\n",
       "    }\n",
       "\n",
       "    .dataframe thead th {\n",
       "        text-align: right;\n",
       "    }\n",
       "</style>\n",
       "<table border=\"1\" class=\"dataframe\">\n",
       "  <thead>\n",
       "    <tr style=\"text-align: right;\">\n",
       "      <th></th>\n",
       "      <th>Date</th>\n",
       "      <th>NEI</th>\n",
       "      <th>NEI-PTER</th>\n",
       "    </tr>\n",
       "  </thead>\n",
       "  <tbody>\n",
       "    <tr>\n",
       "      <th>0</th>\n",
       "      <td>1994-01-01</td>\n",
       "      <td>10.0974</td>\n",
       "      <td>11.1720</td>\n",
       "    </tr>\n",
       "    <tr>\n",
       "      <th>1</th>\n",
       "      <td>1994-04-01</td>\n",
       "      <td>9.6239</td>\n",
       "      <td>10.7883</td>\n",
       "    </tr>\n",
       "    <tr>\n",
       "      <th>2</th>\n",
       "      <td>1994-07-01</td>\n",
       "      <td>9.3276</td>\n",
       "      <td>10.4831</td>\n",
       "    </tr>\n",
       "    <tr>\n",
       "      <th>3</th>\n",
       "      <td>1994-10-01</td>\n",
       "      <td>9.1071</td>\n",
       "      <td>10.2361</td>\n",
       "    </tr>\n",
       "    <tr>\n",
       "      <th>4</th>\n",
       "      <td>1995-01-01</td>\n",
       "      <td>8.9693</td>\n",
       "      <td>10.1832</td>\n",
       "    </tr>\n",
       "    <tr>\n",
       "      <th>...</th>\n",
       "      <td>...</td>\n",
       "      <td>...</td>\n",
       "      <td>...</td>\n",
       "    </tr>\n",
       "    <tr>\n",
       "      <th>85</th>\n",
       "      <td>2015-04-01</td>\n",
       "      <td>8.8386</td>\n",
       "      <td>10.1483</td>\n",
       "    </tr>\n",
       "    <tr>\n",
       "      <th>86</th>\n",
       "      <td>2015-07-01</td>\n",
       "      <td>8.6847</td>\n",
       "      <td>9.9166</td>\n",
       "    </tr>\n",
       "    <tr>\n",
       "      <th>87</th>\n",
       "      <td>2015-10-01</td>\n",
       "      <td>8.6650</td>\n",
       "      <td>9.8385</td>\n",
       "    </tr>\n",
       "    <tr>\n",
       "      <th>88</th>\n",
       "      <td>2016-01-01</td>\n",
       "      <td>8.4330</td>\n",
       "      <td>9.6174</td>\n",
       "    </tr>\n",
       "    <tr>\n",
       "      <th>89</th>\n",
       "      <td>2016-04-01</td>\n",
       "      <td>8.5400</td>\n",
       "      <td>9.7146</td>\n",
       "    </tr>\n",
       "  </tbody>\n",
       "</table>\n",
       "<p>90 rows × 3 columns</p>\n",
       "</div>"
      ],
      "text/plain": [
       "          Date      NEI  NEI-PTER\n",
       "0   1994-01-01  10.0974   11.1720\n",
       "1   1994-04-01   9.6239   10.7883\n",
       "2   1994-07-01   9.3276   10.4831\n",
       "3   1994-10-01   9.1071   10.2361\n",
       "4   1995-01-01   8.9693   10.1832\n",
       "..         ...      ...       ...\n",
       "85  2015-04-01   8.8386   10.1483\n",
       "86  2015-07-01   8.6847    9.9166\n",
       "87  2015-10-01   8.6650    9.8385\n",
       "88  2016-01-01   8.4330    9.6174\n",
       "89  2016-04-01   8.5400    9.7146\n",
       "\n",
       "[90 rows x 3 columns]"
      ]
     },
     "execution_count": 9,
     "metadata": {},
     "output_type": "execute_result"
    }
   ],
   "source": [
    "unemployment"
   ]
  },
  {
   "cell_type": "code",
   "execution_count": 10,
   "id": "e87234ae",
   "metadata": {
    "cell_id": "00017-4b6b4343-53b7-411c-bc10-c1c58c8af1cb",
    "deepnote_cell_type": "code"
   },
   "outputs": [
    {
     "data": {
      "text/plain": [
       "0    1.0746\n",
       "1    1.1644\n",
       "2    1.1555\n",
       "3    1.1290\n",
       "4    1.2139\n",
       "dtype: float64"
      ]
     },
     "execution_count": 10,
     "metadata": {},
     "output_type": "execute_result"
    }
   ],
   "source": [
    "pter = unemployment['NEI-PTER'] - unemployment['NEI']\n",
    "# Show the first five values.\n",
    "pter.head()"
   ]
  },
  {
   "cell_type": "code",
   "execution_count": 11,
   "id": "e8c4b7fd",
   "metadata": {
    "cell_id": "00018-27f41eed-cae6-422a-ad11-3a6d6eea2bf2",
    "deepnote_cell_type": "code"
   },
   "outputs": [
    {
     "name": "stdout",
     "output_type": "stream",
     "text": [
      "~~~~~~~~~~~~~~~~~~~~~~~~~~~~~~~~~~~~~~~~~~~~~~~~~~~~~~~~~~~~~~~~~~~~~\n",
      "Running tests\n",
      "\n",
      "---------------------------------------------------------------------\n",
      "Test summary\n",
      "    Passed: 2\n",
      "    Failed: 0\n",
      "[ooooooooook] 100.0% passed\n",
      "\n"
     ]
    }
   ],
   "source": [
    "_ = ok.grade('q1_4')"
   ]
  },
  {
   "cell_type": "markdown",
   "id": "4c9abe92",
   "metadata": {
    "cell_id": "00019-c53033f1-8aee-415b-907b-4f6bf6569836",
    "deepnote_cell_type": "markdown"
   },
   "source": [
    "**Question 5.** Add `pter` as a column named \"PTER\" to `unemployment` and sort\n",
    "the resulting table by that column in decreasing order.  Call the table\n",
    "`by_pter`."
   ]
  },
  {
   "cell_type": "code",
   "execution_count": 12,
   "id": "a03c94cb",
   "metadata": {
    "cell_id": "00020-e67e0103-5e14-46e9-94d1-0382c8f99d78",
    "deepnote_cell_type": "code"
   },
   "outputs": [
    {
     "data": {
      "text/html": [
       "<div>\n",
       "<style scoped>\n",
       "    .dataframe tbody tr th:only-of-type {\n",
       "        vertical-align: middle;\n",
       "    }\n",
       "\n",
       "    .dataframe tbody tr th {\n",
       "        vertical-align: top;\n",
       "    }\n",
       "\n",
       "    .dataframe thead th {\n",
       "        text-align: right;\n",
       "    }\n",
       "</style>\n",
       "<table border=\"1\" class=\"dataframe\">\n",
       "  <thead>\n",
       "    <tr style=\"text-align: right;\">\n",
       "      <th></th>\n",
       "      <th>Date</th>\n",
       "      <th>NEI</th>\n",
       "      <th>NEI-PTER</th>\n",
       "      <th>PTER</th>\n",
       "    </tr>\n",
       "  </thead>\n",
       "  <tbody>\n",
       "    <tr>\n",
       "      <th>62</th>\n",
       "      <td>2009-07-01</td>\n",
       "      <td>10.8089</td>\n",
       "      <td>12.7404</td>\n",
       "      <td>1.9315</td>\n",
       "    </tr>\n",
       "    <tr>\n",
       "      <th>65</th>\n",
       "      <td>2010-04-01</td>\n",
       "      <td>10.6597</td>\n",
       "      <td>12.5664</td>\n",
       "      <td>1.9067</td>\n",
       "    </tr>\n",
       "    <tr>\n",
       "      <th>63</th>\n",
       "      <td>2009-10-01</td>\n",
       "      <td>10.9698</td>\n",
       "      <td>12.8557</td>\n",
       "      <td>1.8859</td>\n",
       "    </tr>\n",
       "    <tr>\n",
       "      <th>67</th>\n",
       "      <td>2010-10-01</td>\n",
       "      <td>10.5856</td>\n",
       "      <td>12.4329</td>\n",
       "      <td>1.8473</td>\n",
       "    </tr>\n",
       "    <tr>\n",
       "      <th>61</th>\n",
       "      <td>2009-04-01</td>\n",
       "      <td>10.7082</td>\n",
       "      <td>12.5497</td>\n",
       "      <td>1.8415</td>\n",
       "    </tr>\n",
       "  </tbody>\n",
       "</table>\n",
       "</div>"
      ],
      "text/plain": [
       "          Date      NEI  NEI-PTER    PTER\n",
       "62  2009-07-01  10.8089   12.7404  1.9315\n",
       "65  2010-04-01  10.6597   12.5664  1.9067\n",
       "63  2009-10-01  10.9698   12.8557  1.8859\n",
       "67  2010-10-01  10.5856   12.4329  1.8473\n",
       "61  2009-04-01  10.7082   12.5497  1.8415"
      ]
     },
     "execution_count": 12,
     "metadata": {},
     "output_type": "execute_result"
    }
   ],
   "source": [
    "unemployment['PTER'] = pter \n",
    "by_pter = unemployment.sort_values(by='PTER', ascending=False)\n",
    "# Show the first five values.\n",
    "by_pter.head()"
   ]
  },
  {
   "cell_type": "code",
   "execution_count": 13,
   "id": "25d6a3a8",
   "metadata": {
    "cell_id": "00021-a5074d76-7635-41af-bdf5-cd2ffcb2272a",
    "deepnote_cell_type": "code"
   },
   "outputs": [
    {
     "name": "stdout",
     "output_type": "stream",
     "text": [
      "~~~~~~~~~~~~~~~~~~~~~~~~~~~~~~~~~~~~~~~~~~~~~~~~~~~~~~~~~~~~~~~~~~~~~\n",
      "Running tests\n",
      "\n",
      "---------------------------------------------------------------------\n",
      "Test summary\n",
      "    Passed: 2\n",
      "    Failed: 0\n",
      "[ooooooooook] 100.0% passed\n",
      "\n"
     ]
    }
   ],
   "source": [
    "_ = ok.grade('q1_5')"
   ]
  },
  {
   "cell_type": "markdown",
   "id": "c493cb27",
   "metadata": {
    "cell_id": "00022-a217fae3-ef49-4f2a-877a-e7db0401d749",
    "deepnote_cell_type": "markdown"
   },
   "source": [
    "**Question 6.** Does it seem true that the PTER rate was very high during the\n",
    "Great Recession, compared to other periods in the dataset?  Explore the values\n",
    "in the table, and consider doing some plots.  Justify your answer by referring\n",
    "to specific values in the table or by generating a chart.\n"
   ]
  },
  {
   "cell_type": "code",
   "execution_count": 14,
   "id": "a57d336f-c6bc-4c2e-9a74-bf3457b0e41d",
   "metadata": {},
   "outputs": [
    {
     "data": {
      "image/png": "[encoded data removed]",
      "text/plain": [
       "<Figure size 1296x432 with 1 Axes>"
      ]
     },
     "metadata": {},
     "output_type": "display_data"
    }
   ],
   "source": [
    "# Set date as new index\n",
    "by_pter['Date'] = pd.to_datetime(by_pter['Date'], format='%Y-%m-%d')\n",
    "pter_newindex = by_pter.sort_values(by=\"Date\", ascending=True).set_index('Date').to_period('D')\n",
    "\n",
    "# subtract timeseries data from the dataframe\n",
    "pter_timeseries=pter_newindex['PTER']\n",
    "\n",
    "# calculate the trend\n",
    "trend = pter_timeseries.rolling(\n",
    "    window=4,       # A-year window\n",
    "    center=True,      # puts the average at the center of the window\n",
    "    min_periods=2,  # half the window size\n",
    ").mean()    \n",
    "\n",
    "# line style\n",
    "plot_params = {'color': '0.75',\n",
    " 'style': '.-',\n",
    " 'markeredgecolor': '0.25',\n",
    " 'markerfacecolor': '0.25',\n",
    " 'legend': False}\n",
    "\n",
    "# plot\n",
    "plt.figure(figsize=(18,6))\n",
    "ax = pter_timeseries.plot(**plot_params, alpha=0.5, title=\"PTER Trend\", ylabel=\"PTER Value\")\n",
    "ax = trend.plot(ax=ax, linewidth=3, xlabel=\"Time\")"
   ]
  },
  {
   "cell_type": "markdown",
   "id": "a71bc4e2",
   "metadata": {
    "cell_id": "00023-8a5d0a76-209d-47cb-9194-c0a44a707d65",
    "deepnote_cell_type": "markdown",
    "lines_to_next_cell": 2,
    "manual_grade": true,
    "manual_problem_id": "basic_sorting_6"
   },
   "source": [
    "<mark><font size=4> It is true that the PTER rate was very high during the Great Recession. As the chart above showed, PTER value increased rapidly during Great Recession period (2008-2009), and reached the highest value within this period. Then PTER value slowly went down after the Great Recession period. The highest value is from 2009-07-01 which 1.9315. But not all the value during this period is high, because PTER takes time to increase after recession breakout, and takes many years to went down. Even many years after, in 2015, PTER value is still higher than the value at the begining of recession in 2008. </font></mark>"
   ]
  },
  {
   "cell_type": "markdown",
   "id": "106c7a94",
   "metadata": {
    "cell_id": "00024-95bd3917-57bc-46b4-87ef-b1e3a2c6cd0c",
    "deepnote_cell_type": "markdown"
   },
   "source": [
    "## 2. Birth Rates"
   ]
  },
  {
   "cell_type": "markdown",
   "id": "99a3f3e7",
   "metadata": {
    "cell_id": "00025-53239bc9-e75b-49f6-8599-9885c637bb53",
    "deepnote_cell_type": "markdown"
   },
   "source": [
    "The following table gives census-based population estimates for each state in\n",
    "the USA, on July 1, 2015 and July 1, 2016. The last four columns describe the\n",
    "components of the estimated change in population during this time interval.\n",
    "*For all questions below, assume that the word \"states\" refers to all 52 rows\n",
    "including Puerto Rico & the District of Columbia.*"
   ]
  },
  {
   "cell_type": "code",
   "execution_count": 15,
   "id": "cb2a5886",
   "metadata": {
    "cell_id": "00026-7da7071f-9190-4d07-97ed-3aa0ee229c89",
    "deepnote_cell_type": "code"
   },
   "outputs": [
    {
     "data": {
      "text/html": [
       "<div>\n",
       "<style scoped>\n",
       "    .dataframe tbody tr th:only-of-type {\n",
       "        vertical-align: middle;\n",
       "    }\n",
       "\n",
       "    .dataframe tbody tr th {\n",
       "        vertical-align: top;\n",
       "    }\n",
       "\n",
       "    .dataframe thead th {\n",
       "        text-align: right;\n",
       "    }\n",
       "</style>\n",
       "<table border=\"1\" class=\"dataframe\">\n",
       "  <thead>\n",
       "    <tr style=\"text-align: right;\">\n",
       "      <th></th>\n",
       "      <th>REGION</th>\n",
       "      <th>NAME</th>\n",
       "      <th>2015</th>\n",
       "      <th>2016</th>\n",
       "      <th>BIRTHS</th>\n",
       "      <th>DEATHS</th>\n",
       "      <th>MIGRATION</th>\n",
       "      <th>OTHER</th>\n",
       "    </tr>\n",
       "  </thead>\n",
       "  <tbody>\n",
       "    <tr>\n",
       "      <th>5</th>\n",
       "      <td>3</td>\n",
       "      <td>Alabama</td>\n",
       "      <td>4853875</td>\n",
       "      <td>4863300</td>\n",
       "      <td>58556</td>\n",
       "      <td>52405</td>\n",
       "      <td>3874</td>\n",
       "      <td>-600</td>\n",
       "    </tr>\n",
       "    <tr>\n",
       "      <th>6</th>\n",
       "      <td>4</td>\n",
       "      <td>Alaska</td>\n",
       "      <td>737709</td>\n",
       "      <td>741894</td>\n",
       "      <td>11255</td>\n",
       "      <td>4511</td>\n",
       "      <td>-2557</td>\n",
       "      <td>-2</td>\n",
       "    </tr>\n",
       "    <tr>\n",
       "      <th>7</th>\n",
       "      <td>4</td>\n",
       "      <td>Arizona</td>\n",
       "      <td>6817565</td>\n",
       "      <td>6931071</td>\n",
       "      <td>87204</td>\n",
       "      <td>56564</td>\n",
       "      <td>76405</td>\n",
       "      <td>6461</td>\n",
       "    </tr>\n",
       "    <tr>\n",
       "      <th>8</th>\n",
       "      <td>3</td>\n",
       "      <td>Arkansas</td>\n",
       "      <td>2977853</td>\n",
       "      <td>2988248</td>\n",
       "      <td>37936</td>\n",
       "      <td>30581</td>\n",
       "      <td>3530</td>\n",
       "      <td>-490</td>\n",
       "    </tr>\n",
       "    <tr>\n",
       "      <th>9</th>\n",
       "      <td>4</td>\n",
       "      <td>California</td>\n",
       "      <td>38993940</td>\n",
       "      <td>39250017</td>\n",
       "      <td>502848</td>\n",
       "      <td>273850</td>\n",
       "      <td>33530</td>\n",
       "      <td>-6451</td>\n",
       "    </tr>\n",
       "  </tbody>\n",
       "</table>\n",
       "</div>"
      ],
      "text/plain": [
       "  REGION        NAME      2015      2016  BIRTHS  DEATHS  MIGRATION  OTHER\n",
       "5      3     Alabama   4853875   4863300   58556   52405       3874   -600\n",
       "6      4      Alaska    737709    741894   11255    4511      -2557     -2\n",
       "7      4     Arizona   6817565   6931071   87204   56564      76405   6461\n",
       "8      3    Arkansas   2977853   2988248   37936   30581       3530   -490\n",
       "9      4  California  38993940  39250017  502848  273850      33530  -6451"
      ]
     },
     "execution_count": 15,
     "metadata": {},
     "output_type": "execute_result"
    }
   ],
   "source": [
    "# Don't change this cell; just run it.\n",
    "# From http://www2.census.gov/programs-surveys/popest/datasets/2010-2016/national/totals/nst-est2016-alldata.csv\n",
    "# See https://www2.census.gov/programs-surveys/popest/datasets/2010-2016/national/totals/nst-est2016-alldata.pdf\n",
    "#     for column descriptions.\n",
    "# Read the table\n",
    "raw_pop = pd.read_csv('nst-est2016-alldata.csv')\n",
    "# Select rows giving summaries at US state level (summary level).\n",
    "pop = raw_pop[raw_pop['SUMLEV'] == 40]\n",
    "# Select only the columns we're interested in\n",
    "good_cols = ['REGION', 'NAME', 'POPESTIMATE2015', 'POPESTIMATE2016',\n",
    "             'BIRTHS2016', 'DEATHS2016', 'NETMIG2016', 'RESIDUAL2016']\n",
    "pop = pop.loc[:, good_cols]\n",
    "# Give the columns new names\n",
    "good_names = ['REGION', 'NAME', '2015', '2016',\n",
    "             'BIRTHS', 'DEATHS', 'MIGRATION', 'OTHER']\n",
    "pop.columns = good_names\n",
    "# Show the first five rows.\n",
    "pop.head()"
   ]
  },
  {
   "cell_type": "markdown",
   "id": "1d352621",
   "metadata": {
    "cell_id": "00027-24372642-97a9-4220-ab94-5e86b663e42f",
    "deepnote_cell_type": "markdown"
   },
   "source": [
    "**Question 1.** Assign `us_birth_rate` to the total US annual birth rate during\n",
    "this time interval. The annual birth rate for a year-long period is the number\n",
    "of births in that period as a proportion of the population at the start of the\n",
    "period."
   ]
  },
  {
   "cell_type": "code",
   "execution_count": 16,
   "id": "1c6a42e0",
   "metadata": {
    "cell_id": "00028-5c719f83-ab66-4a00-a862-2425e079b9d4",
    "deepnote_cell_type": "code"
   },
   "outputs": [
    {
     "data": {
      "text/plain": [
       "0.012358536498646102"
      ]
     },
     "execution_count": 16,
     "metadata": {},
     "output_type": "execute_result"
    }
   ],
   "source": [
    "us_birth_rate = pop['BIRTHS'].sum() / pop['2015'].sum()\n",
    "us_birth_rate"
   ]
  },
  {
   "cell_type": "code",
   "execution_count": 17,
   "id": "ed4a827d",
   "metadata": {
    "cell_id": "00029-76916859-e892-42bf-8279-6a12f92f1990",
    "deepnote_cell_type": "code"
   },
   "outputs": [
    {
     "name": "stdout",
     "output_type": "stream",
     "text": [
      "~~~~~~~~~~~~~~~~~~~~~~~~~~~~~~~~~~~~~~~~~~~~~~~~~~~~~~~~~~~~~~~~~~~~~\n",
      "Running tests\n",
      "\n",
      "---------------------------------------------------------------------\n",
      "Test summary\n",
      "    Passed: 1\n",
      "    Failed: 0\n",
      "[ooooooooook] 100.0% passed\n",
      "\n"
     ]
    }
   ],
   "source": [
    "_ = ok.grade('q2_1')"
   ]
  },
  {
   "cell_type": "markdown",
   "id": "d114d77b",
   "metadata": {
    "cell_id": "00030-2f245827-e813-4b70-b9c1-37bc7b1bb5df",
    "deepnote_cell_type": "markdown"
   },
   "source": [
    "**Question 2.** Assign `fastest_growth` to a Series of the names of the five\n",
    "US states with the fastest overall population growth rates in *descending order\n",
    "of growth rate*.\n",
    "\n",
    "*Hint 1* - you may well find yourself adding another column to the `pop` data\n",
    "frame.\n",
    "\n",
    "*Hint 2* - remember this is a growth *rate*.  See above."
   ]
  },
  {
   "cell_type": "code",
   "execution_count": 18,
   "id": "4bda4786",
   "metadata": {
    "cell_id": "00031-8f47b74b-d239-48b8-85ad-a29615f3ba99",
    "deepnote_cell_type": "code"
   },
   "outputs": [
    {
     "data": {
      "text/plain": [
       "49          Utah\n",
       "33        Nevada\n",
       "17         Idaho\n",
       "14       Florida\n",
       "52    Washington\n",
       "Name: NAME, dtype: object"
      ]
     },
     "execution_count": 18,
     "metadata": {},
     "output_type": "execute_result"
    }
   ],
   "source": [
    "pop['growth_rate'] = (pop['2016'] / pop['2015']) - 1\n",
    "fastest_growth = pop.sort_values(by='growth_rate', ascending=False)['NAME'][:5]\n",
    "fastest_growth"
   ]
  },
  {
   "cell_type": "code",
   "execution_count": 19,
   "id": "489341a2",
   "metadata": {
    "cell_id": "00032-694752a9-a833-45af-b9a5-8177561f0d7a",
    "deepnote_cell_type": "code"
   },
   "outputs": [
    {
     "name": "stdout",
     "output_type": "stream",
     "text": [
      "~~~~~~~~~~~~~~~~~~~~~~~~~~~~~~~~~~~~~~~~~~~~~~~~~~~~~~~~~~~~~~~~~~~~~\n",
      "Running tests\n",
      "\n",
      "---------------------------------------------------------------------\n",
      "Test summary\n",
      "    Passed: 1\n",
      "    Failed: 0\n",
      "[ooooooooook] 100.0% passed\n",
      "\n"
     ]
    }
   ],
   "source": [
    "_ = ok.grade('q2_2')"
   ]
  },
  {
   "cell_type": "markdown",
   "id": "9ffd59ba",
   "metadata": {
    "cell_id": "00033-0252d125-42ea-40a5-9214-c5eb5cecdefa",
    "deepnote_cell_type": "markdown"
   },
   "source": [
    "**Question 3.** Assign `n_movers` to the *number* of states for which the\n",
    "absolute annual *rate* of migration was higher than 1%. The annual rate of\n",
    "migration for a year-long period is the net number of migrations (in and out)\n",
    "as a proportion of the population at the start of the period. The `MIGRATION`\n",
    "column contains estimated annual net migration counts by state."
   ]
  },
  {
   "cell_type": "code",
   "execution_count": 20,
   "id": "5c6b5965",
   "metadata": {
    "cell_id": "00034-e3a15b9f-8b46-4440-8ba2-fc81e8401bca",
    "deepnote_cell_type": "code"
   },
   "outputs": [
    {
     "data": {
      "text/plain": [
       "9"
      ]
     },
     "execution_count": 20,
     "metadata": {},
     "output_type": "execute_result"
    }
   ],
   "source": [
    "pop['abs_mig_rate'] = abs(pop.MIGRATION / pop['2015']) \n",
    "n_movers = pop[pop['abs_mig_rate']>0.01].shape[0]\n",
    "n_movers"
   ]
  },
  {
   "cell_type": "code",
   "execution_count": 21,
   "id": "70f8b76d",
   "metadata": {
    "cell_id": "00035-0bf1a708-c273-4d8e-b0e9-298d8182af8d",
    "deepnote_cell_type": "code"
   },
   "outputs": [
    {
     "name": "stdout",
     "output_type": "stream",
     "text": [
      "~~~~~~~~~~~~~~~~~~~~~~~~~~~~~~~~~~~~~~~~~~~~~~~~~~~~~~~~~~~~~~~~~~~~~\n",
      "Running tests\n",
      "\n",
      "---------------------------------------------------------------------\n",
      "Test summary\n",
      "    Passed: 1\n",
      "    Failed: 0\n",
      "[ooooooooook] 100.0% passed\n",
      "\n"
     ]
    }
   ],
   "source": [
    "_ = ok.grade('q2_3')"
   ]
  },
  {
   "cell_type": "markdown",
   "id": "081a5c16",
   "metadata": {
    "cell_id": "00036-565a9bb3-4819-47a2-921a-8fe92fc08e5c",
    "deepnote_cell_type": "markdown"
   },
   "source": [
    "**Question 4.** Assign `n_west_births` to the total *number* of births that\n",
    "occurred in region 4 (the Western US).\n",
    "\n",
    "*Hint* - be careful - what type of values does the `REGION` column contain?\n",
    "Look at the `REGION` value for Puerto Rico."
   ]
  },
  {
   "cell_type": "code",
   "execution_count": 22,
   "id": "b0415d92-2337-4ff6-b47a-1b05508f910d",
   "metadata": {},
   "outputs": [
    {
     "data": {
      "text/plain": [
       "array(['3', '4', '1', '2', 'X'], dtype=object)"
      ]
     },
     "execution_count": 22,
     "metadata": {},
     "output_type": "execute_result"
    }
   ],
   "source": [
    "pop.REGION.unique()"
   ]
  },
  {
   "cell_type": "code",
   "execution_count": 23,
   "id": "1cfaadbe",
   "metadata": {
    "cell_id": "00037-09d8314c-68bf-45d4-ae5a-cc81b45cab0c",
    "deepnote_cell_type": "code"
   },
   "outputs": [
    {
     "data": {
      "text/plain": [
       "979657"
      ]
     },
     "execution_count": 23,
     "metadata": {},
     "output_type": "execute_result"
    }
   ],
   "source": [
    "n_west_births = pop[pop.REGION == '4'].BIRTHS.sum()\n",
    "n_west_births"
   ]
  },
  {
   "cell_type": "code",
   "execution_count": 24,
   "id": "aec8a63c",
   "metadata": {
    "cell_id": "00038-8352b52a-a689-472c-8d85-132775caa9d8",
    "deepnote_cell_type": "code"
   },
   "outputs": [
    {
     "name": "stdout",
     "output_type": "stream",
     "text": [
      "~~~~~~~~~~~~~~~~~~~~~~~~~~~~~~~~~~~~~~~~~~~~~~~~~~~~~~~~~~~~~~~~~~~~~\n",
      "Running tests\n",
      "\n",
      "---------------------------------------------------------------------\n",
      "Test summary\n",
      "    Passed: 1\n",
      "    Failed: 0\n",
      "[ooooooooook] 100.0% passed\n",
      "\n"
     ]
    }
   ],
   "source": [
    "_ = ok.grade('q2_4')"
   ]
  },
  {
   "cell_type": "markdown",
   "id": "b8c51762",
   "metadata": {
    "cell_id": "00039-543ca0ae-6310-4eee-8d12-712dfcdb418a",
    "deepnote_cell_type": "markdown"
   },
   "source": [
    "**Question 5.** Assign `n_less_than_west_births` to the number of states that\n",
    "had a total population in 2016 that was smaller than the *number of babies born\n",
    "in region 4 (the Western US)* during this time interval."
   ]
  },
  {
   "cell_type": "code",
   "execution_count": 25,
   "id": "3d7ab371",
   "metadata": {
    "cell_id": "00040-761883da-a3f2-481e-b890-25033ad81fe4",
    "deepnote_cell_type": "code"
   },
   "outputs": [
    {
     "data": {
      "text/plain": [
       "7"
      ]
     },
     "execution_count": 25,
     "metadata": {},
     "output_type": "execute_result"
    }
   ],
   "source": [
    "n_less_than_west_births = pop[pop['2016'] < n_west_births].shape[0]\n",
    "n_less_than_west_births"
   ]
  },
  {
   "cell_type": "code",
   "execution_count": 26,
   "id": "59d1d888",
   "metadata": {
    "cell_id": "00041-6d4d6d7e-a044-4303-90cd-fd6592de49bf",
    "deepnote_cell_type": "code"
   },
   "outputs": [
    {
     "name": "stdout",
     "output_type": "stream",
     "text": [
      "~~~~~~~~~~~~~~~~~~~~~~~~~~~~~~~~~~~~~~~~~~~~~~~~~~~~~~~~~~~~~~~~~~~~~\n",
      "Running tests\n",
      "\n",
      "---------------------------------------------------------------------\n",
      "Test summary\n",
      "    Passed: 1\n",
      "    Failed: 0\n",
      "[ooooooooook] 100.0% passed\n",
      "\n"
     ]
    }
   ],
   "source": [
    "_ = ok.grade('q2_5')"
   ]
  },
  {
   "cell_type": "markdown",
   "id": "0c0ac58d",
   "metadata": {
    "cell_id": "00042-aebd194f-162e-4ac0-8898-a7bd16a0b765",
    "deepnote_cell_type": "markdown"
   },
   "source": [
    "**Question 6.** Was there an association between birth rate and death rate\n",
    "during this time interval? Use the code cell below to support your conclusion\n",
    "with a chart. If an association exists, what might explain it?\n"
   ]
  },
  {
   "cell_type": "code",
   "execution_count": 27,
   "id": "ee921350",
   "metadata": {
    "cell_id": "00044-59a929c6-8e3c-4ed4-b4e2-44bc05176161",
    "deepnote_cell_type": "code"
   },
   "outputs": [
    {
     "data": {
      "text/plain": [
       "<AxesSubplot:xlabel='birth_rate', ylabel='death_rate'>"
      ]
     },
     "execution_count": 27,
     "metadata": {},
     "output_type": "execute_result"
    },
    {
     "data": {
      "image/png": "[encoded data removed]",
      "text/plain": [
       "<Figure size 432x288 with 1 Axes>"
      ]
     },
     "metadata": {},
     "output_type": "display_data"
    }
   ],
   "source": [
    "#- Generate a chart here to support your conclusion\n",
    "import seaborn as sns\n",
    "pop['birth_rate'] = pop.BIRTHS / pop['2015']\n",
    "pop['death_rate'] = pop.DEATHS / pop['2015']\n",
    "sns.regplot(x='birth_rate', y='death_rate', data=pop)"
   ]
  },
  {
   "cell_type": "markdown",
   "id": "ca8e70f5",
   "metadata": {
    "cell_id": "00043-ec7582c9-bca7-46ee-8079-a2572d42178c",
    "deepnote_cell_type": "markdown",
    "manual_grade": true,
    "manual_problem_id": "births_6"
   },
   "source": [
    "<mark><font size=4>The data show a negtive correlation between birth rate and death rate which means if a state has a higher birth rate, it more likely to have a low death rate. This might because the states which have a higher birth rate, more likely to have better social welfare, public security and medical care, and thus have lower death rate. </font></mark>"
   ]
  },
  {
   "cell_type": "markdown",
   "id": "7c52702e",
   "metadata": {
    "cell_id": "00045-e0cae353-435f-442f-9dd2-4d5aba1be298",
    "deepnote_cell_type": "markdown"
   },
   "source": [
    "## 3. Consumer Financial Protection Bureau Complaints"
   ]
  },
  {
   "cell_type": "markdown",
   "id": "8c95fc22",
   "metadata": {
    "cell_id": "00046-1ba7d6f6-635f-491e-933e-01bef69b8c58",
    "deepnote_cell_type": "markdown"
   },
   "source": [
    "The Consumer Financial Protection Bureau has collected and published consumer\n",
    "complaints against financial companies since 2011.  The data are available\n",
    "[here](https://dev.socrata.com/foundry/data.consumerfinance.gov/jhzv-w97w) (or\n",
    "at this [direct\n",
    "link](https://data.consumerfinance.gov/resource/jhzv-w97w.csv)).  For this\n",
    "exercise, to make your code run faster, we've selected only the data from\n",
    "May 2016.\n",
    "\n",
    "Run the next cell to load the data.  Each row represents one consumer's complaint."
   ]
  },
  {
   "cell_type": "code",
   "execution_count": 28,
   "id": "0932afd7",
   "metadata": {
    "cell_id": "00047-cf0cf29b-68de-4f58-85a3-a475cd7d135a",
    "deepnote_cell_type": "code"
   },
   "outputs": [
    {
     "data": {
      "text/html": [
       "<div>\n",
       "<style scoped>\n",
       "    .dataframe tbody tr th:only-of-type {\n",
       "        vertical-align: middle;\n",
       "    }\n",
       "\n",
       "    .dataframe tbody tr th {\n",
       "        vertical-align: top;\n",
       "    }\n",
       "\n",
       "    .dataframe thead th {\n",
       "        text-align: right;\n",
       "    }\n",
       "</style>\n",
       "<table border=\"1\" class=\"dataframe\">\n",
       "  <thead>\n",
       "    <tr style=\"text-align: right;\">\n",
       "      <th></th>\n",
       "      <th>company</th>\n",
       "      <th>company_public_response</th>\n",
       "      <th>company_response</th>\n",
       "      <th>complaint_id</th>\n",
       "      <th>complaint_what_happened</th>\n",
       "      <th>consumer_consent_provided</th>\n",
       "      <th>consumer_disputed</th>\n",
       "      <th>date_received</th>\n",
       "      <th>date_sent_to_company</th>\n",
       "      <th>issue</th>\n",
       "      <th>product</th>\n",
       "      <th>state</th>\n",
       "      <th>sub_issue</th>\n",
       "      <th>sub_product</th>\n",
       "      <th>submitted_via</th>\n",
       "      <th>tags</th>\n",
       "      <th>timely</th>\n",
       "      <th>zip_code</th>\n",
       "    </tr>\n",
       "  </thead>\n",
       "  <tbody>\n",
       "    <tr>\n",
       "      <th>0</th>\n",
       "      <td>TransUnion Intermediate Holdings, Inc.</td>\n",
       "      <td>Company has responded to the consumer and the ...</td>\n",
       "      <td>Closed with explanation</td>\n",
       "      <td>1920073</td>\n",
       "      <td>(None)</td>\n",
       "      <td>(None)</td>\n",
       "      <td>Yes</td>\n",
       "      <td>2016-05-11T15:39:07.000</td>\n",
       "      <td>2016-05-11T15:39:07.000</td>\n",
       "      <td>Credit reporting company's investigation</td>\n",
       "      <td>Credit reporting</td>\n",
       "      <td>VT</td>\n",
       "      <td>Inadequate help over the phone</td>\n",
       "      <td>(None)</td>\n",
       "      <td>Phone</td>\n",
       "      <td>(None)</td>\n",
       "      <td>Yes</td>\n",
       "      <td>05035</td>\n",
       "    </tr>\n",
       "    <tr>\n",
       "      <th>1</th>\n",
       "      <td>TransUnion Intermediate Holdings, Inc.</td>\n",
       "      <td>Company has responded to the consumer and the ...</td>\n",
       "      <td>Closed with explanation</td>\n",
       "      <td>1914777</td>\n",
       "      <td>(None)</td>\n",
       "      <td>Consent not provided</td>\n",
       "      <td>No</td>\n",
       "      <td>2016-05-08T00:53:47.000</td>\n",
       "      <td>2016-05-12T18:40:34.000</td>\n",
       "      <td>Incorrect information on credit report</td>\n",
       "      <td>Credit reporting</td>\n",
       "      <td>MO</td>\n",
       "      <td>Information is not mine</td>\n",
       "      <td>(None)</td>\n",
       "      <td>Web</td>\n",
       "      <td>(None)</td>\n",
       "      <td>Yes</td>\n",
       "      <td>63020</td>\n",
       "    </tr>\n",
       "    <tr>\n",
       "      <th>2</th>\n",
       "      <td>Bank of America</td>\n",
       "      <td>Company has responded to the consumer and the ...</td>\n",
       "      <td>Closed with explanation</td>\n",
       "      <td>1907306</td>\n",
       "      <td>I became aware of several charges on a Bank of...</td>\n",
       "      <td>Consent provided</td>\n",
       "      <td>No</td>\n",
       "      <td>2016-05-03T16:49:33.000</td>\n",
       "      <td>2016-05-03T16:49:34.000</td>\n",
       "      <td>Other</td>\n",
       "      <td>Credit card</td>\n",
       "      <td>VA</td>\n",
       "      <td>(None)</td>\n",
       "      <td>(None)</td>\n",
       "      <td>Web</td>\n",
       "      <td>(None)</td>\n",
       "      <td>Yes</td>\n",
       "      <td>239XX</td>\n",
       "    </tr>\n",
       "    <tr>\n",
       "      <th>3</th>\n",
       "      <td>Finance of America Reverse LLC</td>\n",
       "      <td>Company believes it acted appropriately as aut...</td>\n",
       "      <td>Closed with explanation</td>\n",
       "      <td>1919055</td>\n",
       "      <td>I applied for a reverse mortgage and everthing...</td>\n",
       "      <td>Consent provided</td>\n",
       "      <td>No</td>\n",
       "      <td>2016-05-10T20:13:22.000</td>\n",
       "      <td>2016-05-10T20:13:23.000</td>\n",
       "      <td>Application, originator, mortgage broker</td>\n",
       "      <td>Mortgage</td>\n",
       "      <td>TX</td>\n",
       "      <td>(None)</td>\n",
       "      <td>Reverse mortgage</td>\n",
       "      <td>Web</td>\n",
       "      <td>Older American</td>\n",
       "      <td>Yes</td>\n",
       "      <td>774XX</td>\n",
       "    </tr>\n",
       "    <tr>\n",
       "      <th>4</th>\n",
       "      <td>Acceptance Solutions Group, INC</td>\n",
       "      <td>Company believes it acted appropriately as aut...</td>\n",
       "      <td>Closed with explanation</td>\n",
       "      <td>1908628</td>\n",
       "      <td>Keeps calling numbers that are not mine. And t...</td>\n",
       "      <td>Consent provided</td>\n",
       "      <td>No</td>\n",
       "      <td>2016-05-03T21:05:42.000</td>\n",
       "      <td>2016-05-06T13:42:45.000</td>\n",
       "      <td>Improper contact or sharing of info</td>\n",
       "      <td>Debt collection</td>\n",
       "      <td>OH</td>\n",
       "      <td>Talked to a third party about my debt</td>\n",
       "      <td>Payday loan</td>\n",
       "      <td>Web</td>\n",
       "      <td>(None)</td>\n",
       "      <td>Yes</td>\n",
       "      <td>430XX</td>\n",
       "    </tr>\n",
       "  </tbody>\n",
       "</table>\n",
       "</div>"
      ],
      "text/plain": [
       "                                  company  \\\n",
       "0  TransUnion Intermediate Holdings, Inc.   \n",
       "1  TransUnion Intermediate Holdings, Inc.   \n",
       "2                         Bank of America   \n",
       "3          Finance of America Reverse LLC   \n",
       "4         Acceptance Solutions Group, INC   \n",
       "\n",
       "                             company_public_response         company_response  \\\n",
       "0  Company has responded to the consumer and the ...  Closed with explanation   \n",
       "1  Company has responded to the consumer and the ...  Closed with explanation   \n",
       "2  Company has responded to the consumer and the ...  Closed with explanation   \n",
       "3  Company believes it acted appropriately as aut...  Closed with explanation   \n",
       "4  Company believes it acted appropriately as aut...  Closed with explanation   \n",
       "\n",
       "   complaint_id                            complaint_what_happened  \\\n",
       "0       1920073                                             (None)   \n",
       "1       1914777                                             (None)   \n",
       "2       1907306  I became aware of several charges on a Bank of...   \n",
       "3       1919055  I applied for a reverse mortgage and everthing...   \n",
       "4       1908628  Keeps calling numbers that are not mine. And t...   \n",
       "\n",
       "  consumer_consent_provided consumer_disputed            date_received  \\\n",
       "0                    (None)               Yes  2016-05-11T15:39:07.000   \n",
       "1      Consent not provided                No  2016-05-08T00:53:47.000   \n",
       "2          Consent provided                No  2016-05-03T16:49:33.000   \n",
       "3          Consent provided                No  2016-05-10T20:13:22.000   \n",
       "4          Consent provided                No  2016-05-03T21:05:42.000   \n",
       "\n",
       "      date_sent_to_company                                     issue  \\\n",
       "0  2016-05-11T15:39:07.000  Credit reporting company's investigation   \n",
       "1  2016-05-12T18:40:34.000    Incorrect information on credit report   \n",
       "2  2016-05-03T16:49:34.000                                     Other   \n",
       "3  2016-05-10T20:13:23.000  Application, originator, mortgage broker   \n",
       "4  2016-05-06T13:42:45.000       Improper contact or sharing of info   \n",
       "\n",
       "            product state                              sub_issue  \\\n",
       "0  Credit reporting    VT         Inadequate help over the phone   \n",
       "1  Credit reporting    MO                Information is not mine   \n",
       "2       Credit card    VA                                 (None)   \n",
       "3          Mortgage    TX                                 (None)   \n",
       "4   Debt collection    OH  Talked to a third party about my debt   \n",
       "\n",
       "        sub_product submitted_via            tags timely zip_code  \n",
       "0            (None)         Phone          (None)    Yes    05035  \n",
       "1            (None)           Web          (None)    Yes    63020  \n",
       "2            (None)           Web          (None)    Yes    239XX  \n",
       "3  Reverse mortgage           Web  Older American    Yes    774XX  \n",
       "4       Payday loan           Web          (None)    Yes    430XX  "
      ]
     },
     "execution_count": 28,
     "metadata": {},
     "output_type": "execute_result"
    }
   ],
   "source": [
    "# Just run this cell.\n",
    "complaints = pd.read_csv(\"complaints.csv\")\n",
    "complaints.head()"
   ]
  },
  {
   "cell_type": "markdown",
   "id": "fd0b36bd",
   "metadata": {
    "cell_id": "00048-abf701ad-fa85-40e4-a9a3-3878057e278f",
    "deepnote_cell_type": "markdown"
   },
   "source": [
    "**Question 1.** Financial companies offer a variety of products.  How many\n",
    "complaints were made against each kind of product?  Make a Series called\n",
    "`complaints_per_product` with one element per product category, where the index\n",
    "label is the name of the product (from the \"product\" column), and the\n",
    "corresponding value is the \"number of complaints\" (the number of complaints\n",
    "made against that kind of product).\n",
    "\n",
    "*Hint* - the way to do this is more familiar than it might at first appear."
   ]
  },
  {
   "cell_type": "code",
   "execution_count": 29,
   "id": "d5a13250",
   "metadata": {
    "cell_id": "00049-572adc82-ffa4-4da8-8137-c42fbcf81963",
    "deepnote_cell_type": "code"
   },
   "outputs": [
    {
     "data": {
      "text/plain": [
       "product\n",
       "Bank account or service    1687\n",
       "Consumer Loan               775\n",
       "Credit card                1566\n",
       "Credit reporting           3820\n",
       "Debt collection            3022\n",
       "Money transfers             142\n",
       "Mortgage                   3468\n",
       "Other financial service      16\n",
       "Payday loan                 119\n",
       "Prepaid card                110\n",
       "Student loan                306\n",
       "Name: number of complaints per product, dtype: int64"
      ]
     },
     "execution_count": 29,
     "metadata": {},
     "output_type": "execute_result"
    }
   ],
   "source": [
    "complaints_per_product = complaints.groupby('product').count().iloc[:,0]\n",
    "complaints_per_product.name = 'number of complaints per product'\n",
    "complaints_per_product"
   ]
  },
  {
   "cell_type": "code",
   "execution_count": 30,
   "id": "13c56f9c",
   "metadata": {
    "cell_id": "00050-413d89cd-a6a5-4c4f-a3ee-2b4829c85a58",
    "deepnote_cell_type": "code"
   },
   "outputs": [
    {
     "name": "stdout",
     "output_type": "stream",
     "text": [
      "~~~~~~~~~~~~~~~~~~~~~~~~~~~~~~~~~~~~~~~~~~~~~~~~~~~~~~~~~~~~~~~~~~~~~\n",
      "Running tests\n",
      "\n",
      "---------------------------------------------------------------------\n",
      "Test summary\n",
      "    Passed: 3\n",
      "    Failed: 0\n",
      "[ooooooooook] 100.0% passed\n",
      "\n"
     ]
    }
   ],
   "source": [
    "_ = ok.grade('q3_1')"
   ]
  },
  {
   "cell_type": "markdown",
   "id": "d6daadd5",
   "metadata": {
    "cell_id": "00051-c6c0ff9d-0f27-4df6-97e1-f869da3212ad",
    "deepnote_cell_type": "markdown"
   },
   "source": [
    "**Question 2.** Make a horizontal bar chart showing how many complaints were\n",
    "made about each product category. Sort the bars from longest to shortest.\n",
    "Because this is a horizontal bar chart, the product axis should be on the left\n",
    "(y-axis), and the counts axis should be at the bottom (x-axis)."
   ]
  },
  {
   "cell_type": "code",
   "execution_count": 31,
   "id": "672ef307",
   "metadata": {
    "cell_id": "00052-f0bd2f6d-1bd4-44d3-8a7c-60083983d1c7",
    "deepnote_cell_type": "code"
   },
   "outputs": [
    {
     "data": {
      "text/plain": [
       "Text(0, 0.5, 'Product')"
      ]
     },
     "execution_count": 31,
     "metadata": {},
     "output_type": "execute_result"
    },
    {
     "data": {
      "image/png": "[encoded data removed]",
      "text/plain": [
       "<Figure size 432x288 with 1 Axes>"
      ]
     },
     "metadata": {},
     "output_type": "display_data"
    }
   ],
   "source": [
    "complaints_per_product.sort_values(ascending=True).plot(kind='barh')\n",
    "plt.title(\"Total Xomplaints In Different Products\")\n",
    "plt.xlabel('Number of Complaints')\n",
    "plt.ylabel('Product')"
   ]
  },
  {
   "cell_type": "markdown",
   "id": "941539c6",
   "metadata": {
    "cell_id": "00053-2d2bcbb1-f920-4d85-9abd-0e18e910e9a6",
    "deepnote_cell_type": "markdown"
   },
   "source": [
    "**Question 3.** Make a Series of the number of complaints made against each\n",
    "*company*.  Call it `complaints_per_company`.  It should have one row per\n",
    "company. The index labels will have the \"company\" name (the name of the\n",
    "company) and corresponding values with be the number of complaints (the number\n",
    "of complaints made against that company)."
   ]
  },
  {
   "cell_type": "code",
   "execution_count": 32,
   "id": "c26bb62e",
   "metadata": {
    "cell_id": "00054-a541f776-eb05-4190-a7fc-0704aef03a09",
    "deepnote_cell_type": "code"
   },
   "outputs": [
    {
     "data": {
      "text/plain": [
       "company\n",
       "1st Preference Mortgage                    2\n",
       "21st Mortgage Corporation                  7\n",
       "2288984 Ontario Inc.                       3\n",
       "360 Mortgage                               1\n",
       "3rd Generation, Inc.                       1\n",
       "                                          ..\n",
       "Zenith Financial Mortgage Company, Inc.    1\n",
       "Zenith Financial Network Inc               1\n",
       "Zions Bancorporation                       8\n",
       "Zwicker & Associates                       6\n",
       "xetrade                                    1\n",
       "Name: complaints per company, Length: 1141, dtype: int64"
      ]
     },
     "execution_count": 32,
     "metadata": {},
     "output_type": "execute_result"
    }
   ],
   "source": [
    "complaints_per_company = complaints.groupby('company').count().iloc[:,0]\n",
    "complaints_per_company.name = 'complaints per company'\n",
    "complaints_per_company"
   ]
  },
  {
   "cell_type": "code",
   "execution_count": 33,
   "id": "11ac4e77",
   "metadata": {
    "cell_id": "00055-c0cd7cd9-9a18-47af-8793-89455a13980f",
    "deepnote_cell_type": "code"
   },
   "outputs": [
    {
     "name": "stdout",
     "output_type": "stream",
     "text": [
      "~~~~~~~~~~~~~~~~~~~~~~~~~~~~~~~~~~~~~~~~~~~~~~~~~~~~~~~~~~~~~~~~~~~~~\n",
      "Running tests\n",
      "\n",
      "---------------------------------------------------------------------\n",
      "Test summary\n",
      "    Passed: 3\n",
      "    Failed: 0\n",
      "[ooooooooook] 100.0% passed\n",
      "\n"
     ]
    }
   ],
   "source": [
    "_ = ok.grade('q3_3')"
   ]
  },
  {
   "cell_type": "markdown",
   "id": "913b7560",
   "metadata": {
    "cell_id": "00056-52e2c4a0-7ba1-4db3-b162-16e79aba349d",
    "deepnote_cell_type": "markdown"
   },
   "source": [
    "**Question 4.** It wouldn't be a good idea to make a bar chart of that data.  (Don't try it!)  Why not?\n"
   ]
  },
  {
   "cell_type": "markdown",
   "id": "4db6ac8f",
   "metadata": {
    "cell_id": "00057-41033aa2-e91a-4015-a4a7-1873ae8b96fb",
    "deepnote_cell_type": "markdown",
    "lines_to_next_cell": 2,
    "manual_grade": true,
    "manual_problem_id": "cfpb_complaints_4"
   },
   "source": [
    "Because there are too many companies. And if we plot them all in one figure, either the figure will be too large or we can hardly see anything. What's more, it will take relative long time to run the code."
   ]
  },
  {
   "cell_type": "markdown",
   "id": "ec0d302c",
   "metadata": {
    "cell_id": "00058-5fbfadb9-6071-47c2-8889-24d650a973b1",
    "deepnote_cell_type": "markdown"
   },
   "source": [
    "**Question 5.** Make a horizontal bar chart of just the 10 companies with the\n",
    "most complaints.  Sort the bars from longest (at the top) to shortest (at the\n",
    "bottom)."
   ]
  },
  {
   "cell_type": "code",
   "execution_count": 34,
   "id": "b7b682c7",
   "metadata": {
    "cell_id": "00059-4fbabd93-c1c6-4b82-b2cc-6eaedec29681",
    "deepnote_cell_type": "code"
   },
   "outputs": [
    {
     "data": {
      "text/plain": [
       "Text(0, 0.5, 'Company')"
      ]
     },
     "execution_count": 34,
     "metadata": {},
     "output_type": "execute_result"
    },
    {
     "data": {
      "image/png": "[encoded data removed]",
      "text/plain": [
       "<Figure size 432x288 with 1 Axes>"
      ]
     },
     "metadata": {},
     "output_type": "display_data"
    }
   ],
   "source": [
    "top10=complaints_per_company.sort_values(ascending=True)[-10:]\n",
    "top10.plot(kind='barh')\n",
    "plt.title(\"Top 10 companies with the most complaints\")\n",
    "plt.xlabel('Number of complaints')\n",
    "plt.ylabel('Company')"
   ]
  },
  {
   "cell_type": "markdown",
   "id": "6ab923f0",
   "metadata": {
    "cell_id": "00060-0f2a164d-8d05-49f5-a10f-e06c9944a7b6",
    "deepnote_cell_type": "markdown"
   },
   "source": [
    "**Question 6.** Make a horizontal bar chart like the one above, with one\n",
    "difference: The size of each company's bar should be the *proportion* (among\n",
    "*all complaints* made against any company in `complaints`) that were made\n",
    "against that company.  Remember the bars should be in order from longest to\n",
    "shortest.\n",
    "\n",
    "**Note:** As before, make sure you are not plotting all the companies.  If you do, by accident, consider the Kernel menu Interrupt option.\n",
    "\n",
    "**Note:** Graphs aren't very useful without accurate labels.  Make sure that the text on the horizontal axis of the graph makes sense.  Investigate how you would put a meaningful label on this axis."
   ]
  },
  {
   "cell_type": "code",
   "execution_count": 35,
   "id": "789599da",
   "metadata": {
    "cell_id": "00061-74ad915e-7c7f-41b8-b441-9ea42a805370",
    "deepnote_cell_type": "code"
   },
   "outputs": [
    {
     "data": {
      "text/plain": [
       "Text(0, 0.5, 'Company')"
      ]
     },
     "execution_count": 35,
     "metadata": {},
     "output_type": "execute_result"
    },
    {
     "data": {
      "image/png": "[encoded data removed]",
      "text/plain": [
       "<Figure size 432x288 with 1 Axes>"
      ]
     },
     "metadata": {},
     "output_type": "display_data"
    }
   ],
   "source": [
    "top10_prop = top10/complaints_per_company.sum()\n",
    "top10_prop.plot(kind='barh')\n",
    "plt.title(\"Top 10 companies with the most complaints\")\n",
    "plt.xlabel('Percentage of total complaints')\n",
    "plt.ylabel('Company')"
   ]
  },
  {
   "cell_type": "markdown",
   "id": "8056fe9b",
   "metadata": {
    "cell_id": "00062-ed4a10b8-841f-4209-9458-27f9e09e1127",
    "deepnote_cell_type": "markdown"
   },
   "source": [
    "## Done\n",
    "\n",
    "You're finished with the assignment!  Be sure to...\n",
    "\n",
    "- **run all the tests** (the next cell has a shortcut for that),\n",
    "- **Save and Checkpoint** from the \"File\" menu.\n",
    "- Finally, **restart** the kernel for this notebook, and **run all the cells**,\n",
    "  to check that the notebook still works without errors.  Use the\n",
    "  \"Kernel\" menu, and choose \"Restart and run all\".  If you find any\n",
    "  problems, go back and fix them, save the notebook, and restart / run\n",
    "  all again, before submitting.  When you do this, you make sure that\n",
    "  we, your humble markers, will be able to mark your notebook."
   ]
  },
  {
   "cell_type": "code",
   "execution_count": 36,
   "id": "a527b371",
   "metadata": {
    "cell_id": "00063-f3d5c210-81aa-4cd9-9f6b-449a9d63cc0d",
    "deepnote_cell_type": "code"
   },
   "outputs": [
    {
     "name": "stdout",
     "output_type": "stream",
     "text": [
      "~~~~~~~~~~~~~~~~~~~~~~~~~~~~~~~~~~~~~~~~~~~~~~~~~~~~~~~~~~~~~~~~~~~~~\n",
      "Running tests\n",
      "\n",
      "---------------------------------------------------------------------\n",
      "Test summary\n",
      "    Passed: 1\n",
      "    Failed: 0\n",
      "[ooooooooook] 100.0% passed\n",
      "\n",
      "~~~~~~~~~~~~~~~~~~~~~~~~~~~~~~~~~~~~~~~~~~~~~~~~~~~~~~~~~~~~~~~~~~~~~\n",
      "Running tests\n",
      "\n",
      "---------------------------------------------------------------------\n",
      "Test summary\n",
      "    Passed: 1\n",
      "    Failed: 0\n",
      "[ooooooooook] 100.0% passed\n",
      "\n",
      "~~~~~~~~~~~~~~~~~~~~~~~~~~~~~~~~~~~~~~~~~~~~~~~~~~~~~~~~~~~~~~~~~~~~~\n",
      "Running tests\n",
      "\n",
      "---------------------------------------------------------------------\n",
      "Test summary\n",
      "    Passed: 2\n",
      "    Failed: 0\n",
      "[ooooooooook] 100.0% passed\n",
      "\n",
      "~~~~~~~~~~~~~~~~~~~~~~~~~~~~~~~~~~~~~~~~~~~~~~~~~~~~~~~~~~~~~~~~~~~~~\n",
      "Running tests\n",
      "\n",
      "---------------------------------------------------------------------\n",
      "Test summary\n",
      "    Passed: 2\n",
      "    Failed: 0\n",
      "[ooooooooook] 100.0% passed\n",
      "\n",
      "~~~~~~~~~~~~~~~~~~~~~~~~~~~~~~~~~~~~~~~~~~~~~~~~~~~~~~~~~~~~~~~~~~~~~\n",
      "Running tests\n",
      "\n",
      "---------------------------------------------------------------------\n",
      "Question 1_5 > Suite 1 > Case 2\n",
      "\n",
      ">>> by_pter.head(1)\n",
      "         Date      NEI  NEI-PTER    PTER\n",
      "62 2009-07-01  10.8089   12.7404  1.9315\n",
      "\n",
      "# Error: expected\n",
      "#               Date      NEI  NEI-PTER    PTER\n",
      "#     62  2009-07-01  10.8089   12.7404  1.9315\n",
      "# but got\n",
      "#              Date      NEI  NEI-PTER    PTER\n",
      "#     62 2009-07-01  10.8089   12.7404  1.9315\n",
      "\n",
      "Run only this test case with \"python3 ok -q q1_5 --suite 1 --case 2\"\n",
      "---------------------------------------------------------------------\n",
      "Test summary\n",
      "    Passed: 1\n",
      "    Failed: 1\n",
      "[oooook.....] 50.0% passed\n",
      "\n",
      "~~~~~~~~~~~~~~~~~~~~~~~~~~~~~~~~~~~~~~~~~~~~~~~~~~~~~~~~~~~~~~~~~~~~~\n",
      "Running tests\n",
      "\n",
      "---------------------------------------------------------------------\n",
      "Test summary\n",
      "    Passed: 1\n",
      "    Failed: 0\n",
      "[ooooooooook] 100.0% passed\n",
      "\n",
      "~~~~~~~~~~~~~~~~~~~~~~~~~~~~~~~~~~~~~~~~~~~~~~~~~~~~~~~~~~~~~~~~~~~~~\n",
      "Running tests\n",
      "\n",
      "---------------------------------------------------------------------\n",
      "Test summary\n",
      "    Passed: 1\n",
      "    Failed: 0\n",
      "[ooooooooook] 100.0% passed\n",
      "\n",
      "~~~~~~~~~~~~~~~~~~~~~~~~~~~~~~~~~~~~~~~~~~~~~~~~~~~~~~~~~~~~~~~~~~~~~\n",
      "Running tests\n",
      "\n",
      "---------------------------------------------------------------------\n",
      "Test summary\n",
      "    Passed: 1\n",
      "    Failed: 0\n",
      "[ooooooooook] 100.0% passed\n",
      "\n",
      "~~~~~~~~~~~~~~~~~~~~~~~~~~~~~~~~~~~~~~~~~~~~~~~~~~~~~~~~~~~~~~~~~~~~~\n",
      "Running tests\n",
      "\n",
      "---------------------------------------------------------------------\n",
      "Test summary\n",
      "    Passed: 1\n",
      "    Failed: 0\n",
      "[ooooooooook] 100.0% passed\n",
      "\n",
      "~~~~~~~~~~~~~~~~~~~~~~~~~~~~~~~~~~~~~~~~~~~~~~~~~~~~~~~~~~~~~~~~~~~~~\n",
      "Running tests\n",
      "\n",
      "---------------------------------------------------------------------\n",
      "Test summary\n",
      "    Passed: 1\n",
      "    Failed: 0\n",
      "[ooooooooook] 100.0% passed\n",
      "\n",
      "~~~~~~~~~~~~~~~~~~~~~~~~~~~~~~~~~~~~~~~~~~~~~~~~~~~~~~~~~~~~~~~~~~~~~\n",
      "Running tests\n",
      "\n",
      "---------------------------------------------------------------------\n",
      "Test summary\n",
      "    Passed: 3\n",
      "    Failed: 0\n",
      "[ooooooooook] 100.0% passed\n",
      "\n",
      "~~~~~~~~~~~~~~~~~~~~~~~~~~~~~~~~~~~~~~~~~~~~~~~~~~~~~~~~~~~~~~~~~~~~~\n",
      "Running tests\n",
      "\n",
      "---------------------------------------------------------------------\n",
      "Test summary\n",
      "    Passed: 3\n",
      "    Failed: 0\n",
      "[ooooooooook] 100.0% passed\n",
      "\n"
     ]
    }
   ],
   "source": [
    "# For your convenience, you can run this cell to run all the tests at once!\n",
    "import os\n",
    "_ = [ok.grade(q[:-3]) for q in os.listdir(\"tests\") if q.startswith('q')]"
   ]
  },
  {
   "cell_type": "markdown",
   "id": "c0530580",
   "metadata": {
    "created_in_deepnote_cell": true,
    "deepnote_cell_type": "markdown",
    "tags": []
   },
   "source": [
    "<a style='text-decoration:none;line-height:16px;display:flex;color:#5B5B62;padding:10px;justify-content:end;' href='https://deepnote.com?utm_source=created-in-deepnote-cell&projectId=8865f3fd-e1cf-43c3-abd9-b35589f6d3bf' target=\"_blank\">\n",
    "<img alt='Created in deepnote.com' style='display:inline;max-height:16px;margin:0px;margin-right:7.5px;' src='data:image/svg+xml;base64,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' > </img>\n",
    "Created in <span style='font-weight:600;margin-left:4px;'>Deepnote</span></a>"
   ]
  }
 ],
 "metadata": {
  "deepnote": {},
  "deepnote_execution_queue": [],
  "deepnote_notebook_id": "8f478910-54df-4edc-81c9-69f19d39f4aa",
  "jupytext": {
   "cell_metadata_json": true,
   "split_at_heading": true,
   "text_representation": {
    "extension": ".Rmd",
    "format_name": "rmarkdown",
    "format_version": "1.1",
    "jupytext_version": "1.2.4"
   }
  },
  "kernelspec": {
   "display_name": "Python 3 (ipykernel)",
   "language": "python",
   "name": "python3"
  },
  "language_info": {
   "codemirror_mode": {
    "name": "ipython",
    "version": 3
   },
   "file_extension": ".py",
   "mimetype": "text/x-python",
   "name": "python",
   "nbconvert_exporter": "python",
   "pygments_lexer": "ipython3",
   "version": "3.8.12"
  }
 },
 "nbformat": 4,
 "nbformat_minor": 5
}
