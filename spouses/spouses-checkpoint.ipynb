{
 "cells": [
  {
   "cell_type": "markdown",
   "source": "# Spouses, baggage",
   "metadata": {
    "cell_id": "00000-1e639696-d6a6-4e20-95f9-5ece7baa1664",
    "deepnote_cell_type": "markdown"
   }
  },
  {
   "cell_type": "markdown",
   "source": "We found, in the Titanic dataset, that Third Class passengers were less likely to survive the disaster.\n\nWhy?\n\nWas it because they were locked behind gates while the higher-class passengers were being boarded onto lifeboats?  Or some other reason?",
   "metadata": {
    "cell_id": "00001-a53e8a6d-6080-4b68-951e-1d139beca22e",
    "deepnote_cell_type": "markdown"
   }
  },
  {
   "cell_type": "code",
   "metadata": {
    "cell_id": "00002-0a8cc671-ec47-4f9f-90e6-6be82f3d90f3",
    "deepnote_cell_type": "code"
   },
   "source": "# Run this cell to start.\nimport numpy as np\nimport pandas as pd\n# Safe settings for Pandas.\npd.set_option('mode.chained_assignment', 'raise')\n\n%matplotlib inline\nimport matplotlib.pyplot as plt\nplt.style.use('fivethirtyeight')",
   "execution_count": null,
   "outputs": []
  },
  {
   "cell_type": "markdown",
   "source": "The official report into the disaster was the [British Wreck Commissioner's\nInquiry report](https://www.titanicinquiry.org/BOTInq/BOTReport/botRep01.php)\nby [Lord\nMersey](https://en.wikipedia.org/wiki/John_Bigham,_1st_Viscount_Mersey).\n\nThere is a short section of the report entitled [Third Class\nPassengers](https://www.titanicinquiry.org/BOTInq/BOTReport/botRep3rdClass.php).\nIt includes:\n\n> It had been suggested before the Enquiry that the third class passengers had\n> been unfairly treated; that their access to the Boat deck had been impeded,\n> and that when at last they reached that deck the first and second class\n> passengers were given precedence in getting places in the boats. There\n> appears to have been no truth in these suggestions. It is no doubt true that\n> the proportion of third class passengers saved falls far short of the\n> proportion of the first and second class, but this is accounted for by the\n> greater reluctance of the third class passengers to leave the ship, by their\n> unwillingness to part with their baggage, by the difficulty in getting them\n> up from their quarters, which were at the extreme ends of the ship, and by\n> other similar causes.",
   "metadata": {
    "cell_id": "00003-086f5841-5b26-496f-9a46-0fe9a7c625c1",
    "deepnote_cell_type": "markdown"
   }
  },
  {
   "cell_type": "markdown",
   "source": "Your job in this notebook it is to explore the evidence in the data for the\n\"greater reluctance of the third class passengers to leave the ship\".\n\nFor example, we see [figures in Lord Mersey's\nreport](https://www.titanicinquiry.org/BOTInq/BOTReport/botRepSaved.php), using\nslightly different data from the data you have here, that show:\n\n* 16% of adult male Third Class passengers survived, compared to 8% of Second\n  Class males, and 33% of First Class males;\n* The corresponding figures for women are 46% (Third) 86% (Second) 97% (First).\n\nWhy were Third Class women about half as likely to be saved as Second Class\nwomen, when Third Class men were, if anything, more likely to be saved than\nSecond Class men?",
   "metadata": {
    "cell_id": "00004-18426357-7e4d-4f0b-a4d5-63931b9761eb",
    "deepnote_cell_type": "markdown"
   }
  },
  {
   "cell_type": "markdown",
   "source": "One possible explanation is that Third Class passengers were more likely to be\nyoung couples, maybe with children.   It may well have been true the young\nwives, maybe with children, would be more reluctant to leave their husbands\nbehind on the ship.  See [Rhoda Abbott's\nstory](https://en.wikipedia.org/wiki/Rhoda_Abbott) for an example.",
   "metadata": {
    "cell_id": "00005-05fe1c87-0d57-45ef-8a10-18ce2e991e83",
    "deepnote_cell_type": "markdown"
   }
  },
  {
   "cell_type": "markdown",
   "source": "One way of getting at this effect could be to use the `sibsp` and `parch`\ncolumns of the dataset:",
   "metadata": {
    "cell_id": "00006-530bba83-0a52-4275-adfe-9cb052bc7ad0",
    "deepnote_cell_type": "markdown"
   }
  },
  {
   "cell_type": "code",
   "metadata": {
    "cell_id": "00007-882d8c0e-01e8-4cb2-8b6c-4f0bb7174410",
    "deepnote_cell_type": "code"
   },
   "source": "# Read the dataset as a data frame.\ntitanic = pd.read_csv(\"titanic_stlearn.csv\")\n# Boolean with True for passengers with not-NA sibsp values, False otherwise.\nhave_sibsp = titanic['sibsp'].notna()\n# Select rows with value (not-NA) sibsp values.\nwith_sibsp = titanic[have_sibsp]\nwith_sibsp.head()",
   "execution_count": null,
   "outputs": []
  },
  {
   "cell_type": "markdown",
   "source": "Here we have dropped all cases where the `sibsp` value is missing, but you might want to:\n\n1. Investigate why the `sibsp` values might be missing, and\n2. Consider restoring some of the passengers where the value is missing, or\n   removing more passengers that do not correspond to your questions.",
   "metadata": {
    "cell_id": "00008-ddc510be-c579-4105-bb65-30d83ad8d182",
    "deepnote_cell_type": "markdown"
   }
  },
  {
   "cell_type": "markdown",
   "source": "You will find more information about the `sibsp` and `parch` variables in the\n[Vanderbilt site info\nfile](http://biostat.mc.vanderbilt.edu/wiki/pub/Main/DataSets/titanic3info.txt).\nQuoting from that file:\n\n> sibsp           Number of Siblings/Spouses Aboard\n>\n> parch           Number of Parents/Children Aboard\n>\n> ...\n>\n> With respect to the family relation variables (i.e. sibsp and parch) some\n> relations were ignored.  The following are the definitions used for sibsp and\n> parch.\n>\n> Sibling:  Brother, Sister, Stepbrother, or Stepsister of Passenger Aboard\n>           Titanic\n>\n> Spouse:   Husband or Wife of Passenger Aboard Titanic (Mistresses and\n>           Fiancées Ignored)\n>\n> Parent:   Mother or Father of Passenger Aboard Titanic\n>\n> Child:    Son, Daughter, Stepson, or Stepdaughter of Passenger Aboard Titanic\n>\n> Other family relatives excluded from this study include cousins,\n> nephews/nieces, aunts/uncles, and in-laws.  Some children travelled only with\n> a nanny, therefore parch=0 for them.  As well, some travelled with very close\n> friends or neighbors in a village, however, the definitions do not support\n> such relations.\n\nOf course, you also have the passengers' names to go on, including the names of\nthe children, and any research you do into the passengers and their families.",
   "metadata": {
    "cell_id": "00009-342df910-d0e3-4704-8bfd-11f08c5ab8b7",
    "deepnote_cell_type": "markdown"
   }
  },
  {
   "cell_type": "markdown",
   "source": "Use the variables in the data file, and any other methods you can come up with,\nto test the following ideas:\n\n1. One explanation for passengers being lost or saved was reluctance to leave a\n   spouse, children or other family behind and\n2. This goes some way to explaining the relatively low proportion of Third\n   Class female passengers that were saved.\n\nGive your assessment of both of these ideas, along with the analyses that\nsupport your conclusions.\n",
   "metadata": {
    "cell_id": "00010-018420a5-51f8-4b66-9e2a-04cd862126e7",
    "deepnote_cell_type": "markdown"
   }
  },
  {
   "cell_type": "markdown",
   "source": "## Marking scheme",
   "metadata": {
    "cell_id": "00011-97796c2e-540d-4518-93ba-e1d3dce3f8d2",
    "deepnote_cell_type": "markdown"
   }
  },
  {
   "cell_type": "markdown",
   "source": "* Depth of analysis: 25% of marks.\n* Analysis appropriate to questions: 25% of marks.\n* Quality, clarity and organization of analysis code: 25% of marks.\n* Answers based in analysis: 25% of marks.\n",
   "metadata": {
    "cell_id": "00012-037cdd87-6d45-4e89-93b5-537844e24e4e",
    "deepnote_cell_type": "markdown"
   }
  },
  {
   "cell_type": "markdown",
   "source": "## Your analysis",
   "metadata": {
    "cell_id": "00013-6f65f6c0-88f6-4f99-b0d0-b3d0ac066dc2",
    "deepnote_cell_type": "markdown"
   }
  },
  {
   "cell_type": "markdown",
   "source": "Fill out the notebook with your analysis and answers from here.",
   "metadata": {
    "cell_id": "00014-08b7231d-0f0d-4758-a047-90e6ffca7741",
    "deepnote_cell_type": "markdown"
   }
  },
  {
   "cell_type": "markdown",
   "source": "<a style='text-decoration:none;line-height:16px;display:flex;color:#5B5B62;padding:10px;justify-content:end;' href='https://deepnote.com?utm_source=created-in-deepnote-cell&projectId=4baa562c-a0d9-4609-b164-a535ee9fd45a' target=\"_blank\">\n<img alt='Created in deepnote.com' style='display:inline;max-height:16px;margin:0px;margin-right:7.5px;' src='data:image/svg+xml;base64,PD94bWwgdmVyc2lvbj0iMS4wIiBlbmNvZGluZz0iVVRGLTgiPz4KPHN2ZyB3aWR0aD0iODBweCIgaGVpZ2h0PSI4MHB4IiB2aWV3Qm94PSIwIDAgODAgODAiIHZlcnNpb249IjEuMSIgeG1sbnM9Imh0dHA6Ly93d3cudzMub3JnLzIwMDAvc3ZnIiB4bWxuczp4bGluaz0iaHR0cDovL3d3dy53My5vcmcvMTk5OS94bGluayI+CiAgICA8IS0tIEdlbmVyYXRvcjogU2tldGNoIDU0LjEgKDc2NDkwKSAtIGh0dHBzOi8vc2tldGNoYXBwLmNvbSAtLT4KICAgIDx0aXRsZT5Hcm91cCAzPC90aXRsZT4KICAgIDxkZXNjPkNyZWF0ZWQgd2l0aCBTa2V0Y2guPC9kZXNjPgogICAgPGcgaWQ9IkxhbmRpbmciIHN0cm9rZT0ibm9uZSIgc3Ryb2tlLXdpZHRoPSIxIiBmaWxsPSJub25lIiBmaWxsLXJ1bGU9ImV2ZW5vZGQiPgogICAgICAgIDxnIGlkPSJBcnRib2FyZCIgdHJhbnNmb3JtPSJ0cmFuc2xhdGUoLTEyMzUuMDAwMDAwLCAtNzkuMDAwMDAwKSI+CiAgICAgICAgICAgIDxnIGlkPSJHcm91cC0zIiB0cmFuc2Zvcm09InRyYW5zbGF0ZSgxMjM1LjAwMDAwMCwgNzkuMDAwMDAwKSI+CiAgICAgICAgICAgICAgICA8cG9seWdvbiBpZD0iUGF0aC0yMCIgZmlsbD0iIzAyNjVCNCIgcG9pbnRzPSIyLjM3NjIzNzYyIDgwIDM4LjA0NzY2NjcgODAgNTcuODIxNzgyMiA3My44MDU3NTkyIDU3LjgyMTc4MjIgMzIuNzU5MjczOSAzOS4xNDAyMjc4IDMxLjY4MzE2ODMiPjwvcG9seWdvbj4KICAgICAgICAgICAgICAgIDxwYXRoIGQ9Ik0zNS4wMDc3MTgsODAgQzQyLjkwNjIwMDcsNzYuNDU0OTM1OCA0Ny41NjQ5MTY3LDcxLjU0MjI2NzEgNDguOTgzODY2LDY1LjI2MTk5MzkgQzUxLjExMjI4OTksNTUuODQxNTg0MiA0MS42NzcxNzk1LDQ5LjIxMjIyODQgMjUuNjIzOTg0Niw0OS4yMTIyMjg0IEMyNS40ODQ5Mjg5LDQ5LjEyNjg0NDggMjkuODI2MTI5Niw0My4yODM4MjQ4IDM4LjY0NzU4NjksMzEuNjgzMTY4MyBMNzIuODcxMjg3MSwzMi41NTQ0MjUgTDY1LjI4MDk3Myw2Ny42NzYzNDIxIEw1MS4xMTIyODk5LDc3LjM3NjE0NCBMMzUuMDA3NzE4LDgwIFoiIGlkPSJQYXRoLTIyIiBmaWxsPSIjMDAyODY4Ij48L3BhdGg+CiAgICAgICAgICAgICAgICA8cGF0aCBkPSJNMCwzNy43MzA0NDA1IEwyNy4xMTQ1MzcsMC4yNTcxMTE0MzYgQzYyLjM3MTUxMjMsLTEuOTkwNzE3MDEgODAsMTAuNTAwMzkyNyA4MCwzNy43MzA0NDA1IEM4MCw2NC45NjA0ODgyIDY0Ljc3NjUwMzgsNzkuMDUwMzQxNCAzNC4zMjk1MTEzLDgwIEM0Ny4wNTUzNDg5LDc3LjU2NzA4MDggNTMuNDE4MjY3Nyw3MC4zMTM2MTAzIDUzLjQxODI2NzcsNTguMjM5NTg4NSBDNTMuNDE4MjY3Nyw0MC4xMjg1NTU3IDM2LjMwMzk1NDQsMzcuNzMwNDQwNSAyNS4yMjc0MTcsMzcuNzMwNDQwNSBDMTcuODQzMDU4NiwzNy43MzA0NDA1IDkuNDMzOTE5NjYsMzcuNzMwNDQwNSAwLDM3LjczMDQ0MDUgWiIgaWQ9IlBhdGgtMTkiIGZpbGw9IiMzNzkzRUYiPjwvcGF0aD4KICAgICAgICAgICAgPC9nPgogICAgICAgIDwvZz4KICAgIDwvZz4KPC9zdmc+' > </img>\nCreated in <span style='font-weight:600;margin-left:4px;'>Deepnote</span></a>",
   "metadata": {
    "tags": [],
    "created_in_deepnote_cell": true,
    "deepnote_cell_type": "markdown"
   }
  }
 ],
 "nbformat": 4,
 "nbformat_minor": 5,
 "metadata": {
  "jupytext": {
   "split_at_heading": true,
   "text_representation": {
    "extension": ".Rmd",
    "format_name": "rmarkdown",
    "format_version": "1.1",
    "jupytext_version": "1.2.4"
   }
  },
  "kernelspec": {
   "display_name": "Python 3",
   "language": "python",
   "name": "python3"
  },
  "deepnote_notebook_id": "91d45f29-4a05-4fce-b7df-a190cd206f1e",
  "deepnote": {},
  "deepnote_execution_queue": []
 }
}