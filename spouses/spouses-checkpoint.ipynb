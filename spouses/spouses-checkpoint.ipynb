{
 "cells": [
  {
   "cell_type": "markdown",
   "id": "d0cff51a",
   "metadata": {
    "cell_id": "00000-1e639696-d6a6-4e20-95f9-5ece7baa1664",
    "deepnote_cell_type": "markdown"
   },
   "source": [
    "# Spouses, baggage"
   ]
  },
  {
   "cell_type": "markdown",
   "id": "172295a6",
   "metadata": {
    "cell_id": "00001-a53e8a6d-6080-4b68-951e-1d139beca22e",
    "deepnote_cell_type": "markdown"
   },
   "source": [
    "We found, in the Titanic dataset, that Third Class passengers were less likely to survive the disaster.\n",
    "\n",
    "Why?\n",
    "\n",
    "Was it because they were locked behind gates while the higher-class passengers were being boarded onto lifeboats?  Or some other reason?"
   ]
  },
  {
   "cell_type": "code",
   "execution_count": 1,
   "id": "80d381db",
   "metadata": {
    "cell_id": "00002-0a8cc671-ec47-4f9f-90e6-6be82f3d90f3",
    "deepnote_cell_type": "code"
   },
   "outputs": [],
   "source": [
    "# Run this cell to start.\n",
    "import numpy as np\n",
    "import pandas as pd\n",
    "# Safe settings for Pandas.\n",
    "# pd.set_option('mode.chained_assignment', 'raise')\n",
    "\n",
    "%matplotlib inline\n",
    "import matplotlib.pyplot as plt\n",
    "plt.style.use('fivethirtyeight')"
   ]
  },
  {
   "cell_type": "markdown",
   "id": "68856a5c",
   "metadata": {
    "cell_id": "00003-086f5841-5b26-496f-9a46-0fe9a7c625c1",
    "deepnote_cell_type": "markdown"
   },
   "source": [
    "The official report into the disaster was the [British Wreck Commissioner's\n",
    "Inquiry report](https://www.titanicinquiry.org/BOTInq/BOTReport/botRep01.php)\n",
    "by [Lord\n",
    "Mersey](https://en.wikipedia.org/wiki/John_Bigham,_1st_Viscount_Mersey).\n",
    "\n",
    "There is a short section of the report entitled [Third Class\n",
    "Passengers](https://www.titanicinquiry.org/BOTInq/BOTReport/botRep3rdClass.php).\n",
    "It includes:\n",
    "\n",
    "> It had been suggested before the Enquiry that the third class passengers had\n",
    "> been unfairly treated; that their access to the Boat deck had been impeded,\n",
    "> and that when at last they reached that deck the first and second class\n",
    "> passengers were given precedence in getting places in the boats. There\n",
    "> appears to have been no truth in these suggestions. It is no doubt true that\n",
    "> the proportion of third class passengers saved falls far short of the\n",
    "> proportion of the first and second class, but this is accounted for by the\n",
    "> greater reluctance of the third class passengers to leave the ship, by their\n",
    "> unwillingness to part with their baggage, by the difficulty in getting them\n",
    "> up from their quarters, which were at the extreme ends of the ship, and by\n",
    "> other similar causes."
   ]
  },
  {
   "cell_type": "markdown",
   "id": "76ac240d",
   "metadata": {
    "cell_id": "00004-18426357-7e4d-4f0b-a4d5-63931b9761eb",
    "deepnote_cell_type": "markdown"
   },
   "source": [
    "Your job in this notebook it is to explore the evidence in the data for the\n",
    "\"greater reluctance of the third class passengers to leave the ship\".\n",
    "\n",
    "For example, we see [figures in Lord Mersey's\n",
    "report](https://www.titanicinquiry.org/BOTInq/BOTReport/botRepSaved.php), using\n",
    "slightly different data from the data you have here, that show:\n",
    "\n",
    "* 16% of adult male Third Class passengers survived, compared to 8% of Second\n",
    "  Class males, and 33% of First Class males;\n",
    "* The corresponding figures for women are 46% (Third) 86% (Second) 97% (First).\n",
    "\n",
    "Why were Third Class women about half as likely to be saved as Second Class\n",
    "women, when Third Class men were, if anything, more likely to be saved than\n",
    "Second Class men?"
   ]
  },
  {
   "cell_type": "markdown",
   "id": "d9cc8939",
   "metadata": {
    "cell_id": "00005-05fe1c87-0d57-45ef-8a10-18ce2e991e83",
    "deepnote_cell_type": "markdown"
   },
   "source": [
    "One possible explanation is that Third Class passengers were more likely to be\n",
    "young couples, maybe with children.   It may well have been true the young\n",
    "wives, maybe with children, would be more reluctant to leave their husbands\n",
    "behind on the ship.  See [Rhoda Abbott's\n",
    "story](https://en.wikipedia.org/wiki/Rhoda_Abbott) for an example."
   ]
  },
  {
   "cell_type": "markdown",
   "id": "dc7671dd",
   "metadata": {
    "cell_id": "00006-530bba83-0a52-4275-adfe-9cb052bc7ad0",
    "deepnote_cell_type": "markdown"
   },
   "source": [
    "One way of getting at this effect could be to use the `sibsp` and `parch`\n",
    "columns of the dataset:"
   ]
  },
  {
   "cell_type": "code",
   "execution_count": 2,
   "id": "f95f45e3",
   "metadata": {
    "cell_id": "00007-882d8c0e-01e8-4cb2-8b6c-4f0bb7174410",
    "deepnote_cell_type": "code"
   },
   "outputs": [
    {
     "data": {
      "text/html": [
       "<div>\n",
       "<style scoped>\n",
       "    .dataframe tbody tr th:only-of-type {\n",
       "        vertical-align: middle;\n",
       "    }\n",
       "\n",
       "    .dataframe tbody tr th {\n",
       "        vertical-align: top;\n",
       "    }\n",
       "\n",
       "    .dataframe thead th {\n",
       "        text-align: right;\n",
       "    }\n",
       "</style>\n",
       "<table border=\"1\" class=\"dataframe\">\n",
       "  <thead>\n",
       "    <tr style=\"text-align: right;\">\n",
       "      <th></th>\n",
       "      <th>name</th>\n",
       "      <th>gender</th>\n",
       "      <th>age</th>\n",
       "      <th>class</th>\n",
       "      <th>embarked</th>\n",
       "      <th>country</th>\n",
       "      <th>ticketno</th>\n",
       "      <th>fare</th>\n",
       "      <th>sibsp</th>\n",
       "      <th>parch</th>\n",
       "      <th>survived</th>\n",
       "    </tr>\n",
       "  </thead>\n",
       "  <tbody>\n",
       "    <tr>\n",
       "      <th>0</th>\n",
       "      <td>Abbing, Mr. Anthony</td>\n",
       "      <td>male</td>\n",
       "      <td>42.0</td>\n",
       "      <td>3rd</td>\n",
       "      <td>Southampton</td>\n",
       "      <td>United States</td>\n",
       "      <td>5547.0</td>\n",
       "      <td>7.11</td>\n",
       "      <td>0.0</td>\n",
       "      <td>0.0</td>\n",
       "      <td>no</td>\n",
       "    </tr>\n",
       "    <tr>\n",
       "      <th>1</th>\n",
       "      <td>Abbott, Mr. Eugene Joseph</td>\n",
       "      <td>male</td>\n",
       "      <td>13.0</td>\n",
       "      <td>3rd</td>\n",
       "      <td>Southampton</td>\n",
       "      <td>United States</td>\n",
       "      <td>2673.0</td>\n",
       "      <td>20.05</td>\n",
       "      <td>0.0</td>\n",
       "      <td>2.0</td>\n",
       "      <td>no</td>\n",
       "    </tr>\n",
       "    <tr>\n",
       "      <th>2</th>\n",
       "      <td>Abbott, Mr. Rossmore Edward</td>\n",
       "      <td>male</td>\n",
       "      <td>16.0</td>\n",
       "      <td>3rd</td>\n",
       "      <td>Southampton</td>\n",
       "      <td>United States</td>\n",
       "      <td>2673.0</td>\n",
       "      <td>20.05</td>\n",
       "      <td>1.0</td>\n",
       "      <td>1.0</td>\n",
       "      <td>no</td>\n",
       "    </tr>\n",
       "    <tr>\n",
       "      <th>3</th>\n",
       "      <td>Abbott, Mrs. Rhoda Mary 'Rosa'</td>\n",
       "      <td>female</td>\n",
       "      <td>39.0</td>\n",
       "      <td>3rd</td>\n",
       "      <td>Southampton</td>\n",
       "      <td>England</td>\n",
       "      <td>2673.0</td>\n",
       "      <td>20.05</td>\n",
       "      <td>1.0</td>\n",
       "      <td>1.0</td>\n",
       "      <td>yes</td>\n",
       "    </tr>\n",
       "    <tr>\n",
       "      <th>4</th>\n",
       "      <td>Abelseth, Miss. Karen Marie</td>\n",
       "      <td>female</td>\n",
       "      <td>16.0</td>\n",
       "      <td>3rd</td>\n",
       "      <td>Southampton</td>\n",
       "      <td>Norway</td>\n",
       "      <td>348125.0</td>\n",
       "      <td>7.13</td>\n",
       "      <td>0.0</td>\n",
       "      <td>0.0</td>\n",
       "      <td>yes</td>\n",
       "    </tr>\n",
       "  </tbody>\n",
       "</table>\n",
       "</div>"
      ],
      "text/plain": [
       "                             name  gender   age class     embarked  \\\n",
       "0             Abbing, Mr. Anthony    male  42.0   3rd  Southampton   \n",
       "1       Abbott, Mr. Eugene Joseph    male  13.0   3rd  Southampton   \n",
       "2     Abbott, Mr. Rossmore Edward    male  16.0   3rd  Southampton   \n",
       "3  Abbott, Mrs. Rhoda Mary 'Rosa'  female  39.0   3rd  Southampton   \n",
       "4     Abelseth, Miss. Karen Marie  female  16.0   3rd  Southampton   \n",
       "\n",
       "         country  ticketno   fare  sibsp  parch survived  \n",
       "0  United States    5547.0   7.11    0.0    0.0       no  \n",
       "1  United States    2673.0  20.05    0.0    2.0       no  \n",
       "2  United States    2673.0  20.05    1.0    1.0       no  \n",
       "3        England    2673.0  20.05    1.0    1.0      yes  \n",
       "4         Norway  348125.0   7.13    0.0    0.0      yes  "
      ]
     },
     "execution_count": 2,
     "metadata": {},
     "output_type": "execute_result"
    }
   ],
   "source": [
    "# Read the dataset as a data frame.\n",
    "titanic = pd.read_csv(\"titanic_stlearn.csv\")\n",
    "# Boolean with True for passengers with not-NA sibsp values, False otherwise.\n",
    "have_sibsp = titanic['sibsp'].notna()\n",
    "# Select rows with value (not-NA) sibsp values.\n",
    "with_sibsp = titanic[have_sibsp]\n",
    "with_sibsp.head()"
   ]
  },
  {
   "cell_type": "code",
   "execution_count": 3,
   "id": "f0db8374-8361-4a78-9c5b-688a27172c04",
   "metadata": {},
   "outputs": [
    {
     "data": {
      "text/html": [
       "<div>\n",
       "<style scoped>\n",
       "    .dataframe tbody tr th:only-of-type {\n",
       "        vertical-align: middle;\n",
       "    }\n",
       "\n",
       "    .dataframe tbody tr th {\n",
       "        vertical-align: top;\n",
       "    }\n",
       "\n",
       "    .dataframe thead th {\n",
       "        text-align: right;\n",
       "    }\n",
       "</style>\n",
       "<table border=\"1\" class=\"dataframe\">\n",
       "  <thead>\n",
       "    <tr style=\"text-align: right;\">\n",
       "      <th></th>\n",
       "      <th>name</th>\n",
       "      <th>gender</th>\n",
       "      <th>age</th>\n",
       "      <th>class</th>\n",
       "      <th>embarked</th>\n",
       "      <th>country</th>\n",
       "      <th>ticketno</th>\n",
       "      <th>fare</th>\n",
       "      <th>sibsp</th>\n",
       "      <th>parch</th>\n",
       "      <th>survived</th>\n",
       "    </tr>\n",
       "  </thead>\n",
       "  <tbody>\n",
       "    <tr>\n",
       "      <th>0</th>\n",
       "      <td>Abbing, Mr. Anthony</td>\n",
       "      <td>male</td>\n",
       "      <td>42.0</td>\n",
       "      <td>3rd</td>\n",
       "      <td>Southampton</td>\n",
       "      <td>United States</td>\n",
       "      <td>5547.0</td>\n",
       "      <td>7.1100</td>\n",
       "      <td>0.0</td>\n",
       "      <td>0.0</td>\n",
       "      <td>no</td>\n",
       "    </tr>\n",
       "    <tr>\n",
       "      <th>1</th>\n",
       "      <td>Abbott, Mr. Eugene Joseph</td>\n",
       "      <td>male</td>\n",
       "      <td>13.0</td>\n",
       "      <td>3rd</td>\n",
       "      <td>Southampton</td>\n",
       "      <td>United States</td>\n",
       "      <td>2673.0</td>\n",
       "      <td>20.0500</td>\n",
       "      <td>0.0</td>\n",
       "      <td>2.0</td>\n",
       "      <td>no</td>\n",
       "    </tr>\n",
       "    <tr>\n",
       "      <th>2</th>\n",
       "      <td>Abbott, Mr. Rossmore Edward</td>\n",
       "      <td>male</td>\n",
       "      <td>16.0</td>\n",
       "      <td>3rd</td>\n",
       "      <td>Southampton</td>\n",
       "      <td>United States</td>\n",
       "      <td>2673.0</td>\n",
       "      <td>20.0500</td>\n",
       "      <td>1.0</td>\n",
       "      <td>1.0</td>\n",
       "      <td>no</td>\n",
       "    </tr>\n",
       "    <tr>\n",
       "      <th>3</th>\n",
       "      <td>Abbott, Mrs. Rhoda Mary 'Rosa'</td>\n",
       "      <td>female</td>\n",
       "      <td>39.0</td>\n",
       "      <td>3rd</td>\n",
       "      <td>Southampton</td>\n",
       "      <td>England</td>\n",
       "      <td>2673.0</td>\n",
       "      <td>20.0500</td>\n",
       "      <td>1.0</td>\n",
       "      <td>1.0</td>\n",
       "      <td>yes</td>\n",
       "    </tr>\n",
       "    <tr>\n",
       "      <th>4</th>\n",
       "      <td>Abelseth, Miss. Karen Marie</td>\n",
       "      <td>female</td>\n",
       "      <td>16.0</td>\n",
       "      <td>3rd</td>\n",
       "      <td>Southampton</td>\n",
       "      <td>Norway</td>\n",
       "      <td>348125.0</td>\n",
       "      <td>7.1300</td>\n",
       "      <td>0.0</td>\n",
       "      <td>0.0</td>\n",
       "      <td>yes</td>\n",
       "    </tr>\n",
       "    <tr>\n",
       "      <th>...</th>\n",
       "      <td>...</td>\n",
       "      <td>...</td>\n",
       "      <td>...</td>\n",
       "      <td>...</td>\n",
       "      <td>...</td>\n",
       "      <td>...</td>\n",
       "      <td>...</td>\n",
       "      <td>...</td>\n",
       "      <td>...</td>\n",
       "      <td>...</td>\n",
       "      <td>...</td>\n",
       "    </tr>\n",
       "    <tr>\n",
       "      <th>1314</th>\n",
       "      <td>Yvois, Miss. Henriette</td>\n",
       "      <td>female</td>\n",
       "      <td>24.0</td>\n",
       "      <td>2nd</td>\n",
       "      <td>Southampton</td>\n",
       "      <td>France</td>\n",
       "      <td>248747.0</td>\n",
       "      <td>13.0000</td>\n",
       "      <td>0.0</td>\n",
       "      <td>0.0</td>\n",
       "      <td>no</td>\n",
       "    </tr>\n",
       "    <tr>\n",
       "      <th>1315</th>\n",
       "      <td>Zakarian, Mr. Mapriededer</td>\n",
       "      <td>male</td>\n",
       "      <td>22.0</td>\n",
       "      <td>3rd</td>\n",
       "      <td>Cherbourg</td>\n",
       "      <td>Turkey</td>\n",
       "      <td>2656.0</td>\n",
       "      <td>7.0406</td>\n",
       "      <td>0.0</td>\n",
       "      <td>0.0</td>\n",
       "      <td>no</td>\n",
       "    </tr>\n",
       "    <tr>\n",
       "      <th>1316</th>\n",
       "      <td>Zakarian, Mr. Ortin</td>\n",
       "      <td>male</td>\n",
       "      <td>27.0</td>\n",
       "      <td>3rd</td>\n",
       "      <td>Cherbourg</td>\n",
       "      <td>Turkey</td>\n",
       "      <td>2670.0</td>\n",
       "      <td>7.0406</td>\n",
       "      <td>0.0</td>\n",
       "      <td>0.0</td>\n",
       "      <td>no</td>\n",
       "    </tr>\n",
       "    <tr>\n",
       "      <th>1317</th>\n",
       "      <td>Zenni, Mr. Philip</td>\n",
       "      <td>male</td>\n",
       "      <td>25.0</td>\n",
       "      <td>3rd</td>\n",
       "      <td>Cherbourg</td>\n",
       "      <td>Lebanon</td>\n",
       "      <td>2620.0</td>\n",
       "      <td>7.0406</td>\n",
       "      <td>0.0</td>\n",
       "      <td>0.0</td>\n",
       "      <td>yes</td>\n",
       "    </tr>\n",
       "    <tr>\n",
       "      <th>1318</th>\n",
       "      <td>Zimmermann, Mr. Leo</td>\n",
       "      <td>male</td>\n",
       "      <td>29.0</td>\n",
       "      <td>3rd</td>\n",
       "      <td>Southampton</td>\n",
       "      <td>Germany</td>\n",
       "      <td>315082.0</td>\n",
       "      <td>7.1706</td>\n",
       "      <td>0.0</td>\n",
       "      <td>0.0</td>\n",
       "      <td>no</td>\n",
       "    </tr>\n",
       "  </tbody>\n",
       "</table>\n",
       "<p>1307 rows × 11 columns</p>\n",
       "</div>"
      ],
      "text/plain": [
       "                                name  gender   age class     embarked  \\\n",
       "0                Abbing, Mr. Anthony    male  42.0   3rd  Southampton   \n",
       "1          Abbott, Mr. Eugene Joseph    male  13.0   3rd  Southampton   \n",
       "2        Abbott, Mr. Rossmore Edward    male  16.0   3rd  Southampton   \n",
       "3     Abbott, Mrs. Rhoda Mary 'Rosa'  female  39.0   3rd  Southampton   \n",
       "4        Abelseth, Miss. Karen Marie  female  16.0   3rd  Southampton   \n",
       "...                              ...     ...   ...   ...          ...   \n",
       "1314          Yvois, Miss. Henriette  female  24.0   2nd  Southampton   \n",
       "1315       Zakarian, Mr. Mapriededer    male  22.0   3rd    Cherbourg   \n",
       "1316             Zakarian, Mr. Ortin    male  27.0   3rd    Cherbourg   \n",
       "1317               Zenni, Mr. Philip    male  25.0   3rd    Cherbourg   \n",
       "1318             Zimmermann, Mr. Leo    male  29.0   3rd  Southampton   \n",
       "\n",
       "            country  ticketno     fare  sibsp  parch survived  \n",
       "0     United States    5547.0   7.1100    0.0    0.0       no  \n",
       "1     United States    2673.0  20.0500    0.0    2.0       no  \n",
       "2     United States    2673.0  20.0500    1.0    1.0       no  \n",
       "3           England    2673.0  20.0500    1.0    1.0      yes  \n",
       "4            Norway  348125.0   7.1300    0.0    0.0      yes  \n",
       "...             ...       ...      ...    ...    ...      ...  \n",
       "1314         France  248747.0  13.0000    0.0    0.0       no  \n",
       "1315         Turkey    2656.0   7.0406    0.0    0.0       no  \n",
       "1316         Turkey    2670.0   7.0406    0.0    0.0       no  \n",
       "1317        Lebanon    2620.0   7.0406    0.0    0.0      yes  \n",
       "1318        Germany  315082.0   7.1706    0.0    0.0       no  \n",
       "\n",
       "[1307 rows x 11 columns]"
      ]
     },
     "execution_count": 3,
     "metadata": {},
     "output_type": "execute_result"
    }
   ],
   "source": [
    "with_sibsp"
   ]
  },
  {
   "cell_type": "markdown",
   "id": "d0fca6d4",
   "metadata": {
    "cell_id": "00008-ddc510be-c579-4105-bb65-30d83ad8d182",
    "deepnote_cell_type": "markdown"
   },
   "source": [
    "Here we have dropped all cases where the `sibsp` value is missing, but you might want to:\n",
    "\n",
    "1. Investigate why the `sibsp` values might be missing, and\n",
    "2. Consider restoring some of the passengers where the value is missing, or\n",
    "   removing more passengers that do not correspond to your questions."
   ]
  },
  {
   "cell_type": "markdown",
   "id": "88d2cb38",
   "metadata": {
    "cell_id": "00009-342df910-d0e3-4704-8bfd-11f08c5ab8b7",
    "deepnote_cell_type": "markdown"
   },
   "source": [
    "You will find more information about the `sibsp` and `parch` variables in the\n",
    "[Vanderbilt site info\n",
    "file](http://biostat.mc.vanderbilt.edu/wiki/pub/Main/DataSets/titanic3info.txt).\n",
    "Quoting from that file:\n",
    "\n",
    "> sibsp           Number of Siblings/Spouses Aboard\n",
    ">\n",
    "> parch           Number of Parents/Children Aboard\n",
    ">\n",
    "> ...\n",
    ">\n",
    "> With respect to the family relation variables (i.e. sibsp and parch) some\n",
    "> relations were ignored.  The following are the definitions used for sibsp and\n",
    "> parch.\n",
    ">\n",
    "> Sibling:  Brother, Sister, Stepbrother, or Stepsister of Passenger Aboard\n",
    ">           Titanic\n",
    ">\n",
    "> Spouse:   Husband or Wife of Passenger Aboard Titanic (Mistresses and\n",
    ">           Fiancées Ignored)\n",
    ">\n",
    "> Parent:   Mother or Father of Passenger Aboard Titanic\n",
    ">\n",
    "> Child:    Son, Daughter, Stepson, or Stepdaughter of Passenger Aboard Titanic\n",
    ">\n",
    "> Other family relatives excluded from this study include cousins,\n",
    "> nephews/nieces, aunts/uncles, and in-laws.  Some children travelled only with\n",
    "> a nanny, therefore parch=0 for them.  As well, some travelled with very close\n",
    "> friends or neighbors in a village, however, the definitions do not support\n",
    "> such relations.\n",
    "\n",
    "Of course, you also have the passengers' names to go on, including the names of\n",
    "the children, and any research you do into the passengers and their families."
   ]
  },
  {
   "cell_type": "markdown",
   "id": "599fd579",
   "metadata": {
    "cell_id": "00010-018420a5-51f8-4b66-9e2a-04cd862126e7",
    "deepnote_cell_type": "markdown"
   },
   "source": [
    "Use the variables in the data file, and any other methods you can come up with,\n",
    "to test the following ideas:\n",
    "\n",
    "1. One explanation for passengers being lost or saved was reluctance to leave a\n",
    "   spouse, children or other family behind and\n",
    "2. This goes some way to explaining the relatively low proportion of Third\n",
    "   Class female passengers that were saved.\n",
    "\n",
    "Give your assessment of both of these ideas, along with the analyses that\n",
    "support your conclusions.\n"
   ]
  },
  {
   "cell_type": "markdown",
   "id": "a1fbb57f",
   "metadata": {
    "cell_id": "00011-97796c2e-540d-4518-93ba-e1d3dce3f8d2",
    "deepnote_cell_type": "markdown",
    "tags": []
   },
   "source": [
    "## Marking scheme"
   ]
  },
  {
   "cell_type": "markdown",
   "id": "05d7c4bf",
   "metadata": {
    "cell_id": "00012-037cdd87-6d45-4e89-93b5-537844e24e4e",
    "deepnote_cell_type": "markdown"
   },
   "source": [
    "* Depth of analysis: 25% of marks.\n",
    "* Analysis appropriate to questions: 25% of marks.\n",
    "* Quality, clarity and organization of analysis code: 25% of marks.\n",
    "* Answers based in analysis: 25% of marks.\n"
   ]
  },
  {
   "cell_type": "markdown",
   "id": "0c2a1964",
   "metadata": {
    "cell_id": "00013-6f65f6c0-88f6-4f99-b0d0-b3d0ac066dc2",
    "deepnote_cell_type": "markdown",
    "tags": []
   },
   "source": [
    "# Your analysis"
   ]
  },
  {
   "cell_type": "markdown",
   "id": "807e61d5-157f-4a79-8c02-462d56b94064",
   "metadata": {},
   "source": [
    "<font size=4> The survival or death of a passenger is related to many factors. We found in the previous notebook that a female passenger is more likely to survive, and a 3rd class passenger is more unlikely to survive. But there are many other features may cause the passenger to survive or not. Here we specificlly interested in family members. <mark>Our hypothesis 1 is that passengers being lost or saved because they have spouse, children or other family together. Hypothesis 2 is that this reluctance causes the low proportion of 3rd class female that were saved. </mark> To testify these hypothesis, we need to figure out following questions:        </font>\n",
    "\n",
    "* <font size=4> Does familly members have a impact? </font>\n",
    "* <font size=4> If so, is it because it is correlated to other factors?</font>\n",
    "* <font size=4> If not, how did familly members impact a passenger's chance of survival?</font>\n",
    "* <font size=4> Is the difference we found between passengers with different numbers of family numbers statistically significant?  </font>\n",
    "\n",
    "<font size=4> We start to answer these questions by cleaning the data and doing features engineering."
   ]
  },
  {
   "cell_type": "markdown",
   "id": "fa5fe55a-2ae9-4f46-9db1-041a770b2030",
   "metadata": {},
   "source": [
    "## Preprocessing\n",
    "Use the data from `with_sibsp` which already filterd out the entries with missing value in `parch` and `sibsp`. We will deal with the missing value here and then reset the index "
   ]
  },
  {
   "cell_type": "markdown",
   "id": "a5097f9c-b7dc-49fe-b860-709634535a3e",
   "metadata": {},
   "source": [
    "### Data Cleaning"
   ]
  },
  {
   "cell_type": "code",
   "execution_count": 4,
   "id": "f9ab4791-8753-4049-850e-ee79cecbf9fc",
   "metadata": {},
   "outputs": [],
   "source": [
    "import pandas as pd\n",
    "import numpy as np\n",
    "import seaborn as sns\n",
    "import matplotlib\n",
    "from scipy import stats"
   ]
  },
  {
   "cell_type": "code",
   "execution_count": 5,
   "id": "3108e73d-48a2-4f8b-940f-c8da8d3a7a90",
   "metadata": {},
   "outputs": [
    {
     "data": {
      "text/html": [
       "<div>\n",
       "<style scoped>\n",
       "    .dataframe tbody tr th:only-of-type {\n",
       "        vertical-align: middle;\n",
       "    }\n",
       "\n",
       "    .dataframe tbody tr th {\n",
       "        vertical-align: top;\n",
       "    }\n",
       "\n",
       "    .dataframe thead th {\n",
       "        text-align: right;\n",
       "    }\n",
       "</style>\n",
       "<table border=\"1\" class=\"dataframe\">\n",
       "  <thead>\n",
       "    <tr style=\"text-align: right;\">\n",
       "      <th></th>\n",
       "      <th>name</th>\n",
       "      <th>gender</th>\n",
       "      <th>age</th>\n",
       "      <th>class</th>\n",
       "      <th>embarked</th>\n",
       "      <th>country</th>\n",
       "      <th>ticketno</th>\n",
       "      <th>fare</th>\n",
       "      <th>sibsp</th>\n",
       "      <th>parch</th>\n",
       "      <th>survived</th>\n",
       "    </tr>\n",
       "  </thead>\n",
       "  <tbody>\n",
       "    <tr>\n",
       "      <th>0</th>\n",
       "      <td>Abbing, Mr. Anthony</td>\n",
       "      <td>male</td>\n",
       "      <td>42.0</td>\n",
       "      <td>3rd</td>\n",
       "      <td>Southampton</td>\n",
       "      <td>United States</td>\n",
       "      <td>5547.0</td>\n",
       "      <td>7.11</td>\n",
       "      <td>0.0</td>\n",
       "      <td>0.0</td>\n",
       "      <td>no</td>\n",
       "    </tr>\n",
       "    <tr>\n",
       "      <th>1</th>\n",
       "      <td>Abbott, Mr. Eugene Joseph</td>\n",
       "      <td>male</td>\n",
       "      <td>13.0</td>\n",
       "      <td>3rd</td>\n",
       "      <td>Southampton</td>\n",
       "      <td>United States</td>\n",
       "      <td>2673.0</td>\n",
       "      <td>20.05</td>\n",
       "      <td>0.0</td>\n",
       "      <td>2.0</td>\n",
       "      <td>no</td>\n",
       "    </tr>\n",
       "    <tr>\n",
       "      <th>2</th>\n",
       "      <td>Abbott, Mr. Rossmore Edward</td>\n",
       "      <td>male</td>\n",
       "      <td>16.0</td>\n",
       "      <td>3rd</td>\n",
       "      <td>Southampton</td>\n",
       "      <td>United States</td>\n",
       "      <td>2673.0</td>\n",
       "      <td>20.05</td>\n",
       "      <td>1.0</td>\n",
       "      <td>1.0</td>\n",
       "      <td>no</td>\n",
       "    </tr>\n",
       "  </tbody>\n",
       "</table>\n",
       "</div>"
      ],
      "text/plain": [
       "                          name gender   age class     embarked        country  \\\n",
       "0          Abbing, Mr. Anthony   male  42.0   3rd  Southampton  United States   \n",
       "1    Abbott, Mr. Eugene Joseph   male  13.0   3rd  Southampton  United States   \n",
       "2  Abbott, Mr. Rossmore Edward   male  16.0   3rd  Southampton  United States   \n",
       "\n",
       "   ticketno   fare  sibsp  parch survived  \n",
       "0    5547.0   7.11    0.0    0.0       no  \n",
       "1    2673.0  20.05    0.0    2.0       no  \n",
       "2    2673.0  20.05    1.0    1.0       no  "
      ]
     },
     "execution_count": 5,
     "metadata": {},
     "output_type": "execute_result"
    }
   ],
   "source": [
    "with_sibsp = with_sibsp.reset_index().drop(columns=['index'])\n",
    "base_features = ['name', 'gender', 'age', 'class', 'embarked', 'country', 'ticketno', 'fare', 'sibsp', 'parch']\n",
    "with_sibsp.head(3)"
   ]
  },
  {
   "cell_type": "code",
   "execution_count": 6,
   "id": "44aa9f5e-ca5f-4b0f-b548-e31bb1bc5907",
   "metadata": {},
   "outputs": [
    {
     "data": {
      "text/html": [
       "<div>\n",
       "<style scoped>\n",
       "    .dataframe tbody tr th:only-of-type {\n",
       "        vertical-align: middle;\n",
       "    }\n",
       "\n",
       "    .dataframe tbody tr th {\n",
       "        vertical-align: top;\n",
       "    }\n",
       "\n",
       "    .dataframe thead th {\n",
       "        text-align: right;\n",
       "    }\n",
       "</style>\n",
       "<table border=\"1\" class=\"dataframe\">\n",
       "  <thead>\n",
       "    <tr style=\"text-align: right;\">\n",
       "      <th></th>\n",
       "      <th>name</th>\n",
       "      <th>gender</th>\n",
       "      <th>age</th>\n",
       "      <th>class</th>\n",
       "      <th>embarked</th>\n",
       "      <th>country</th>\n",
       "      <th>ticketno</th>\n",
       "      <th>fare</th>\n",
       "      <th>sibsp</th>\n",
       "      <th>parch</th>\n",
       "      <th>survived</th>\n",
       "    </tr>\n",
       "  </thead>\n",
       "  <tbody>\n",
       "    <tr>\n",
       "      <th>0</th>\n",
       "      <td>0</td>\n",
       "      <td>0</td>\n",
       "      <td>2</td>\n",
       "      <td>0</td>\n",
       "      <td>0</td>\n",
       "      <td>76</td>\n",
       "      <td>1</td>\n",
       "      <td>16</td>\n",
       "      <td>0</td>\n",
       "      <td>0</td>\n",
       "      <td>0</td>\n",
       "    </tr>\n",
       "  </tbody>\n",
       "</table>\n",
       "</div>"
      ],
      "text/plain": [
       "   name  gender  age  class  embarked  country  ticketno  fare  sibsp  parch  \\\n",
       "0     0       0    2      0         0       76         1    16      0      0   \n",
       "\n",
       "   survived  \n",
       "0         0  "
      ]
     },
     "execution_count": 6,
     "metadata": {},
     "output_type": "execute_result"
    }
   ],
   "source": [
    "# Check missing values\n",
    "pd.DataFrame(with_sibsp.isnull().sum()).T"
   ]
  },
  {
   "cell_type": "markdown",
   "id": "ba7063af-137c-427c-bb06-17b81f2f0882",
   "metadata": {},
   "source": [
    "`Country` and `ticketno` seems to have lots of missing value and it is not a important feature in this scene from our experience, so I will drop this column here.  \n",
    "\n",
    "Other missing values are not much, I will drop the rows with any missing values then for convience."
   ]
  },
  {
   "cell_type": "code",
   "execution_count": 7,
   "id": "e9d93b2b-1e20-49ee-a64f-5e113242b781",
   "metadata": {},
   "outputs": [
    {
     "data": {
      "text/html": [
       "<div>\n",
       "<style scoped>\n",
       "    .dataframe tbody tr th:only-of-type {\n",
       "        vertical-align: middle;\n",
       "    }\n",
       "\n",
       "    .dataframe tbody tr th {\n",
       "        vertical-align: top;\n",
       "    }\n",
       "\n",
       "    .dataframe thead th {\n",
       "        text-align: right;\n",
       "    }\n",
       "</style>\n",
       "<table border=\"1\" class=\"dataframe\">\n",
       "  <thead>\n",
       "    <tr style=\"text-align: right;\">\n",
       "      <th></th>\n",
       "      <th>name</th>\n",
       "      <th>gender</th>\n",
       "      <th>age</th>\n",
       "      <th>class</th>\n",
       "      <th>embarked</th>\n",
       "      <th>fare</th>\n",
       "      <th>sibsp</th>\n",
       "      <th>parch</th>\n",
       "      <th>survived</th>\n",
       "    </tr>\n",
       "  </thead>\n",
       "  <tbody>\n",
       "    <tr>\n",
       "      <th>0</th>\n",
       "      <td>Abbing, Mr. Anthony</td>\n",
       "      <td>male</td>\n",
       "      <td>42.0</td>\n",
       "      <td>3rd</td>\n",
       "      <td>Southampton</td>\n",
       "      <td>7.1100</td>\n",
       "      <td>0.0</td>\n",
       "      <td>0.0</td>\n",
       "      <td>no</td>\n",
       "    </tr>\n",
       "    <tr>\n",
       "      <th>1</th>\n",
       "      <td>Abbott, Mr. Eugene Joseph</td>\n",
       "      <td>male</td>\n",
       "      <td>13.0</td>\n",
       "      <td>3rd</td>\n",
       "      <td>Southampton</td>\n",
       "      <td>20.0500</td>\n",
       "      <td>0.0</td>\n",
       "      <td>2.0</td>\n",
       "      <td>no</td>\n",
       "    </tr>\n",
       "    <tr>\n",
       "      <th>2</th>\n",
       "      <td>Abbott, Mr. Rossmore Edward</td>\n",
       "      <td>male</td>\n",
       "      <td>16.0</td>\n",
       "      <td>3rd</td>\n",
       "      <td>Southampton</td>\n",
       "      <td>20.0500</td>\n",
       "      <td>1.0</td>\n",
       "      <td>1.0</td>\n",
       "      <td>no</td>\n",
       "    </tr>\n",
       "    <tr>\n",
       "      <th>3</th>\n",
       "      <td>Abbott, Mrs. Rhoda Mary 'Rosa'</td>\n",
       "      <td>female</td>\n",
       "      <td>39.0</td>\n",
       "      <td>3rd</td>\n",
       "      <td>Southampton</td>\n",
       "      <td>20.0500</td>\n",
       "      <td>1.0</td>\n",
       "      <td>1.0</td>\n",
       "      <td>yes</td>\n",
       "    </tr>\n",
       "    <tr>\n",
       "      <th>4</th>\n",
       "      <td>Abelseth, Miss. Karen Marie</td>\n",
       "      <td>female</td>\n",
       "      <td>16.0</td>\n",
       "      <td>3rd</td>\n",
       "      <td>Southampton</td>\n",
       "      <td>7.1300</td>\n",
       "      <td>0.0</td>\n",
       "      <td>0.0</td>\n",
       "      <td>yes</td>\n",
       "    </tr>\n",
       "    <tr>\n",
       "      <th>...</th>\n",
       "      <td>...</td>\n",
       "      <td>...</td>\n",
       "      <td>...</td>\n",
       "      <td>...</td>\n",
       "      <td>...</td>\n",
       "      <td>...</td>\n",
       "      <td>...</td>\n",
       "      <td>...</td>\n",
       "      <td>...</td>\n",
       "    </tr>\n",
       "    <tr>\n",
       "      <th>1284</th>\n",
       "      <td>Yvois, Miss. Henriette</td>\n",
       "      <td>female</td>\n",
       "      <td>24.0</td>\n",
       "      <td>2nd</td>\n",
       "      <td>Southampton</td>\n",
       "      <td>13.0000</td>\n",
       "      <td>0.0</td>\n",
       "      <td>0.0</td>\n",
       "      <td>no</td>\n",
       "    </tr>\n",
       "    <tr>\n",
       "      <th>1285</th>\n",
       "      <td>Zakarian, Mr. Mapriededer</td>\n",
       "      <td>male</td>\n",
       "      <td>22.0</td>\n",
       "      <td>3rd</td>\n",
       "      <td>Cherbourg</td>\n",
       "      <td>7.0406</td>\n",
       "      <td>0.0</td>\n",
       "      <td>0.0</td>\n",
       "      <td>no</td>\n",
       "    </tr>\n",
       "    <tr>\n",
       "      <th>1286</th>\n",
       "      <td>Zakarian, Mr. Ortin</td>\n",
       "      <td>male</td>\n",
       "      <td>27.0</td>\n",
       "      <td>3rd</td>\n",
       "      <td>Cherbourg</td>\n",
       "      <td>7.0406</td>\n",
       "      <td>0.0</td>\n",
       "      <td>0.0</td>\n",
       "      <td>no</td>\n",
       "    </tr>\n",
       "    <tr>\n",
       "      <th>1287</th>\n",
       "      <td>Zenni, Mr. Philip</td>\n",
       "      <td>male</td>\n",
       "      <td>25.0</td>\n",
       "      <td>3rd</td>\n",
       "      <td>Cherbourg</td>\n",
       "      <td>7.0406</td>\n",
       "      <td>0.0</td>\n",
       "      <td>0.0</td>\n",
       "      <td>yes</td>\n",
       "    </tr>\n",
       "    <tr>\n",
       "      <th>1288</th>\n",
       "      <td>Zimmermann, Mr. Leo</td>\n",
       "      <td>male</td>\n",
       "      <td>29.0</td>\n",
       "      <td>3rd</td>\n",
       "      <td>Southampton</td>\n",
       "      <td>7.1706</td>\n",
       "      <td>0.0</td>\n",
       "      <td>0.0</td>\n",
       "      <td>no</td>\n",
       "    </tr>\n",
       "  </tbody>\n",
       "</table>\n",
       "<p>1289 rows × 9 columns</p>\n",
       "</div>"
      ],
      "text/plain": [
       "                                name  gender   age class     embarked  \\\n",
       "0                Abbing, Mr. Anthony    male  42.0   3rd  Southampton   \n",
       "1          Abbott, Mr. Eugene Joseph    male  13.0   3rd  Southampton   \n",
       "2        Abbott, Mr. Rossmore Edward    male  16.0   3rd  Southampton   \n",
       "3     Abbott, Mrs. Rhoda Mary 'Rosa'  female  39.0   3rd  Southampton   \n",
       "4        Abelseth, Miss. Karen Marie  female  16.0   3rd  Southampton   \n",
       "...                              ...     ...   ...   ...          ...   \n",
       "1284          Yvois, Miss. Henriette  female  24.0   2nd  Southampton   \n",
       "1285       Zakarian, Mr. Mapriededer    male  22.0   3rd    Cherbourg   \n",
       "1286             Zakarian, Mr. Ortin    male  27.0   3rd    Cherbourg   \n",
       "1287               Zenni, Mr. Philip    male  25.0   3rd    Cherbourg   \n",
       "1288             Zimmermann, Mr. Leo    male  29.0   3rd  Southampton   \n",
       "\n",
       "         fare  sibsp  parch survived  \n",
       "0      7.1100    0.0    0.0       no  \n",
       "1     20.0500    0.0    2.0       no  \n",
       "2     20.0500    1.0    1.0       no  \n",
       "3     20.0500    1.0    1.0      yes  \n",
       "4      7.1300    0.0    0.0      yes  \n",
       "...       ...    ...    ...      ...  \n",
       "1284  13.0000    0.0    0.0       no  \n",
       "1285   7.0406    0.0    0.0       no  \n",
       "1286   7.0406    0.0    0.0       no  \n",
       "1287   7.0406    0.0    0.0      yes  \n",
       "1288   7.1706    0.0    0.0       no  \n",
       "\n",
       "[1289 rows x 9 columns]"
      ]
     },
     "execution_count": 7,
     "metadata": {},
     "output_type": "execute_result"
    }
   ],
   "source": [
    "with_sibsp=with_sibsp.drop(columns=['country','ticketno']).dropna(axis=0,how=\"any\").reset_index().drop(columns=['index'])\n",
    "with_sibsp"
   ]
  },
  {
   "cell_type": "code",
   "execution_count": 8,
   "id": "d54fcee7-bdf0-4dfb-a284-7bf499b60265",
   "metadata": {},
   "outputs": [
    {
     "data": {
      "text/plain": [
       "0"
      ]
     },
     "execution_count": 8,
     "metadata": {},
     "output_type": "execute_result"
    }
   ],
   "source": [
    "# make sure there is no missing values\n",
    "np.count_nonzero(with_sibsp.isnull().sum())"
   ]
  },
  {
   "cell_type": "markdown",
   "id": "f9c68610-f10e-4a32-9952-f65172893727",
   "metadata": {
    "tags": []
   },
   "source": [
    "### Feature Engineering"
   ]
  },
  {
   "cell_type": "markdown",
   "id": "9a98e879-d916-4f33-ae0a-7f330f245258",
   "metadata": {},
   "source": [
    "<font size=4>The raw data is not apporate for data analysis and we also want some more features. First we need to create a new feature called `FamilySize`, which is the sum of `parch` and `sibsp` plus the passenger itself. This feature describes how large a family is. If `FamilySize` equals to 1, this means the passenger is travelling alone, then we will set the new feature `IsAlone` to `1`. Otherwise we'll set it to 0. <font> "
   ]
  },
  {
   "cell_type": "code",
   "execution_count": 9,
   "id": "488334d4-f274-4087-8bb4-78e6230216ff",
   "metadata": {},
   "outputs": [],
   "source": [
    "# create new feature\n",
    "## FamilySize feature which is the sum of all the relatives\n",
    "with_sibsp.loc[:,'FamilySize'] = with_sibsp.loc[:, 'sibsp'] + with_sibsp.loc[:, 'parch'] + 1\n",
    "## if familysize is 1 means the passenger is alone\n",
    "## IsAlone feature\n",
    "with_sibsp['IsAlone'] = 0\n",
    "with_sibsp.loc[with_sibsp['FamilySize'] == 1, 'IsAlone'] = 1\n",
    "with_sibsp['IsAlone'] = with_sibsp['IsAlone'].astype(np.uint8)"
   ]
  },
  {
   "cell_type": "markdown",
   "id": "6a409338-840a-4a1c-bab0-1f0beb4e1ac5",
   "metadata": {},
   "source": [
    "<font size=4>Then we recode categorical variables (`survived`, `class` and a new feature `title`)  and turn them into numerical features. </font>"
   ]
  },
  {
   "cell_type": "code",
   "execution_count": 10,
   "id": "07bc3cb6-0794-4049-8122-14709474ed1c",
   "metadata": {},
   "outputs": [],
   "source": [
    "import re\n",
    "\n",
    "# recode categorical variable\n",
    "## survived\n",
    "with_sibsp['survived'] = with_sibsp['survived'].replace('no', '0')\n",
    "with_sibsp['survived'] = with_sibsp['survived'].replace('yes', '1')\n",
    "with_sibsp['survived'] = with_sibsp['survived'].astype(np.uint8)\n",
    "\n",
    "## class\n",
    "with_sibsp['class'] = with_sibsp['class'].replace({'1st':1,'2nd':2,'3rd':3})\n",
    "with_sibsp['class'] = with_sibsp['class'].astype(np.uint8)\n",
    "\n",
    "## Title\n",
    "def get_title(name):\n",
    "    \"\"\"get the title of the passenger, we will be able to distinguish Miss and Mrs, Mr and Master\"\"\"\n",
    "    title_search = re.search(' ([A-Za-z]+)\\.', name)\n",
    "    if title_search:\n",
    "        return title_search.group(1)\n",
    "    return \"\"\n",
    "\n",
    "with_sibsp['Title'] = with_sibsp['name'].apply(get_title)\n",
    "with_sibsp['Title'] = with_sibsp['Title'].replace(\n",
    "       ['Lady', 'Countess','Capt', 'Col','Don', 'Dr', 'Major', 'Colonel',\n",
    "        'Rev', 'Sir', 'Jonkheer', 'Dona','Fr','Revd','Sr','Sra','Captain'], \n",
    "       'Rare')\n",
    "with_sibsp['Title'] = with_sibsp['Title'].replace('Mlle', 'Miss')\n",
    "with_sibsp['Title'] = with_sibsp['Title'].replace('Ms', 'Miss')\n",
    "with_sibsp['Title'] = with_sibsp['Title'].replace('Mme', 'Mrs')\n"
   ]
  },
  {
   "cell_type": "markdown",
   "id": "24b94de8-f2c1-44f2-8e2c-046d2b48594d",
   "metadata": {},
   "source": [
    "The variable `fare` is related to the variable class from our experience, so I think it is better to turn it into a categorical variable."
   ]
  },
  {
   "cell_type": "code",
   "execution_count": 11,
   "id": "2452c8f0-1732-47ca-9347-6fe13f63f2de",
   "metadata": {},
   "outputs": [],
   "source": [
    "from sklearn.preprocessing import QuantileTransformer\n",
    "from sklearn.impute import SimpleImputer\n",
    "# Transform to categorical variable\n",
    "transformer = QuantileTransformer(n_quantiles=100, random_state=0, output_distribution='normal')\n",
    "with_sibsp['fare'] = transformer.fit_transform(with_sibsp[['fare']])\n",
    "\n",
    "imp = SimpleImputer(missing_values=np.nan, strategy='mean')\n",
    "with_sibsp[['fare']] = imp.fit_transform(with_sibsp[['fare']])\n",
    "\n",
    "with_sibsp['Fare_class'] = pd.qcut(with_sibsp['fare'], 5, labels=['F1', 'F2', 'F3','F4','F5' ])\n",
    "\n",
    "with_sibsp['Fare_class'] = with_sibsp['Fare_class'].replace({'F1':1,'F2':2,'F3':3,'F4':4,'F5':5})\n",
    "with_sibsp['Fare_class'] = with_sibsp['Fare_class'].astype(np.uint8)"
   ]
  },
  {
   "cell_type": "markdown",
   "id": "c9a7d321-337d-4e87-9da0-ac423b79dd3a",
   "metadata": {},
   "source": [
    "We use one-hot encoding to `Title`, `gender`, `embarked` features for the purpose of interpretation. And drop the first feature which is better for a machine learning model. "
   ]
  },
  {
   "cell_type": "code",
   "execution_count": 12,
   "id": "888b00c7-67e9-4f5a-bf35-832b2d27cd87",
   "metadata": {},
   "outputs": [],
   "source": [
    "# one-hot encoding\n",
    "with_sibsp = pd.get_dummies(with_sibsp, columns = ['Title','gender', 'embarked'],drop_first=True)"
   ]
  },
  {
   "cell_type": "code",
   "execution_count": 13,
   "id": "c9430e75-2e99-47e8-879b-2e842ee3e84f",
   "metadata": {},
   "outputs": [
    {
     "data": {
      "text/html": [
       "<div>\n",
       "<style scoped>\n",
       "    .dataframe tbody tr th:only-of-type {\n",
       "        vertical-align: middle;\n",
       "    }\n",
       "\n",
       "    .dataframe tbody tr th {\n",
       "        vertical-align: top;\n",
       "    }\n",
       "\n",
       "    .dataframe thead th {\n",
       "        text-align: right;\n",
       "    }\n",
       "</style>\n",
       "<table border=\"1\" class=\"dataframe\">\n",
       "  <thead>\n",
       "    <tr style=\"text-align: right;\">\n",
       "      <th></th>\n",
       "      <th>name</th>\n",
       "      <th>age</th>\n",
       "      <th>class</th>\n",
       "      <th>fare</th>\n",
       "      <th>sibsp</th>\n",
       "      <th>parch</th>\n",
       "      <th>survived</th>\n",
       "      <th>FamilySize</th>\n",
       "      <th>IsAlone</th>\n",
       "      <th>Fare_class</th>\n",
       "      <th>Title_Master</th>\n",
       "      <th>Title_Miss</th>\n",
       "      <th>Title_Mr</th>\n",
       "      <th>Title_Mrs</th>\n",
       "      <th>Title_Rare</th>\n",
       "      <th>gender_male</th>\n",
       "      <th>embarked_Queenstown</th>\n",
       "      <th>embarked_Southampton</th>\n",
       "    </tr>\n",
       "  </thead>\n",
       "  <tbody>\n",
       "    <tr>\n",
       "      <th>0</th>\n",
       "      <td>Abbing, Mr. Anthony</td>\n",
       "      <td>42.0</td>\n",
       "      <td>3</td>\n",
       "      <td>-1.347570</td>\n",
       "      <td>0.0</td>\n",
       "      <td>0.0</td>\n",
       "      <td>0</td>\n",
       "      <td>1.0</td>\n",
       "      <td>1</td>\n",
       "      <td>1</td>\n",
       "      <td>0</td>\n",
       "      <td>0</td>\n",
       "      <td>1</td>\n",
       "      <td>0</td>\n",
       "      <td>0</td>\n",
       "      <td>1</td>\n",
       "      <td>0</td>\n",
       "      <td>1</td>\n",
       "    </tr>\n",
       "    <tr>\n",
       "      <th>1</th>\n",
       "      <td>Abbott, Mr. Eugene Joseph</td>\n",
       "      <td>13.0</td>\n",
       "      <td>3</td>\n",
       "      <td>0.189676</td>\n",
       "      <td>0.0</td>\n",
       "      <td>2.0</td>\n",
       "      <td>0</td>\n",
       "      <td>3.0</td>\n",
       "      <td>0</td>\n",
       "      <td>3</td>\n",
       "      <td>0</td>\n",
       "      <td>0</td>\n",
       "      <td>1</td>\n",
       "      <td>0</td>\n",
       "      <td>0</td>\n",
       "      <td>1</td>\n",
       "      <td>0</td>\n",
       "      <td>1</td>\n",
       "    </tr>\n",
       "    <tr>\n",
       "      <th>2</th>\n",
       "      <td>Abbott, Mr. Rossmore Edward</td>\n",
       "      <td>16.0</td>\n",
       "      <td>3</td>\n",
       "      <td>0.189676</td>\n",
       "      <td>1.0</td>\n",
       "      <td>1.0</td>\n",
       "      <td>0</td>\n",
       "      <td>3.0</td>\n",
       "      <td>0</td>\n",
       "      <td>3</td>\n",
       "      <td>0</td>\n",
       "      <td>0</td>\n",
       "      <td>1</td>\n",
       "      <td>0</td>\n",
       "      <td>0</td>\n",
       "      <td>1</td>\n",
       "      <td>0</td>\n",
       "      <td>1</td>\n",
       "    </tr>\n",
       "  </tbody>\n",
       "</table>\n",
       "</div>"
      ],
      "text/plain": [
       "                          name   age  class      fare  sibsp  parch  survived  \\\n",
       "0          Abbing, Mr. Anthony  42.0      3 -1.347570    0.0    0.0         0   \n",
       "1    Abbott, Mr. Eugene Joseph  13.0      3  0.189676    0.0    2.0         0   \n",
       "2  Abbott, Mr. Rossmore Edward  16.0      3  0.189676    1.0    1.0         0   \n",
       "\n",
       "   FamilySize  IsAlone  Fare_class  Title_Master  Title_Miss  Title_Mr  \\\n",
       "0         1.0        1           1             0           0         1   \n",
       "1         3.0        0           3             0           0         1   \n",
       "2         3.0        0           3             0           0         1   \n",
       "\n",
       "   Title_Mrs  Title_Rare  gender_male  embarked_Queenstown  \\\n",
       "0          0           0            1                    0   \n",
       "1          0           0            1                    0   \n",
       "2          0           0            1                    0   \n",
       "\n",
       "   embarked_Southampton  \n",
       "0                     1  \n",
       "1                     1  \n",
       "2                     1  "
      ]
     },
     "execution_count": 13,
     "metadata": {},
     "output_type": "execute_result"
    }
   ],
   "source": [
    "with_sibsp.head(3)"
   ]
  },
  {
   "cell_type": "markdown",
   "id": "7873f978-c701-4f49-a306-18610633df40",
   "metadata": {},
   "source": [
    "All done, we can now dive into out analysis."
   ]
  },
  {
   "cell_type": "markdown",
   "id": "865735c1-29be-41e5-9285-32c7feb624da",
   "metadata": {
    "tags": []
   },
   "source": [
    "## Insights from Machine Learning"
   ]
  },
  {
   "cell_type": "markdown",
   "id": "ed216ebb-a09f-4798-b915-8f264249a7a8",
   "metadata": {},
   "source": [
    "<font size=4> Although we can go directly to the statistical analysis, I think it's better we can gain some insights from machine learning model. Here I will define a random forest model. Using SHAP value to figure out what features the model think is important and how they influence the model's decision. Then we can use the knowledge gained from out model to guide our following statistical analysis. </font>"
   ]
  },
  {
   "cell_type": "markdown",
   "id": "aaf0a7d5-a129-4cc3-ab38-9a246285cb71",
   "metadata": {},
   "source": [
    "### Prepare the data"
   ]
  },
  {
   "cell_type": "code",
   "execution_count": 14,
   "id": "f4a6302a-5a0c-4213-b05d-982535ad863c",
   "metadata": {},
   "outputs": [
    {
     "data": {
      "text/html": [
       "<div>\n",
       "<style scoped>\n",
       "    .dataframe tbody tr th:only-of-type {\n",
       "        vertical-align: middle;\n",
       "    }\n",
       "\n",
       "    .dataframe tbody tr th {\n",
       "        vertical-align: top;\n",
       "    }\n",
       "\n",
       "    .dataframe thead th {\n",
       "        text-align: right;\n",
       "    }\n",
       "</style>\n",
       "<table border=\"1\" class=\"dataframe\">\n",
       "  <thead>\n",
       "    <tr style=\"text-align: right;\">\n",
       "      <th></th>\n",
       "      <th>age</th>\n",
       "      <th>class</th>\n",
       "      <th>fare</th>\n",
       "      <th>sibsp</th>\n",
       "      <th>parch</th>\n",
       "      <th>survived</th>\n",
       "      <th>FamilySize</th>\n",
       "      <th>IsAlone</th>\n",
       "      <th>Fare_class</th>\n",
       "      <th>Title_Master</th>\n",
       "      <th>Title_Miss</th>\n",
       "      <th>Title_Mr</th>\n",
       "      <th>Title_Mrs</th>\n",
       "      <th>Title_Rare</th>\n",
       "      <th>gender_male</th>\n",
       "      <th>embarked_Queenstown</th>\n",
       "      <th>embarked_Southampton</th>\n",
       "    </tr>\n",
       "  </thead>\n",
       "  <tbody>\n",
       "    <tr>\n",
       "      <th>0</th>\n",
       "      <td>42.0</td>\n",
       "      <td>3</td>\n",
       "      <td>-1.347570</td>\n",
       "      <td>0.0</td>\n",
       "      <td>0.0</td>\n",
       "      <td>0</td>\n",
       "      <td>1.0</td>\n",
       "      <td>1</td>\n",
       "      <td>1</td>\n",
       "      <td>0</td>\n",
       "      <td>0</td>\n",
       "      <td>1</td>\n",
       "      <td>0</td>\n",
       "      <td>0</td>\n",
       "      <td>1</td>\n",
       "      <td>0</td>\n",
       "      <td>1</td>\n",
       "    </tr>\n",
       "    <tr>\n",
       "      <th>1</th>\n",
       "      <td>13.0</td>\n",
       "      <td>3</td>\n",
       "      <td>0.189676</td>\n",
       "      <td>0.0</td>\n",
       "      <td>2.0</td>\n",
       "      <td>0</td>\n",
       "      <td>3.0</td>\n",
       "      <td>0</td>\n",
       "      <td>3</td>\n",
       "      <td>0</td>\n",
       "      <td>0</td>\n",
       "      <td>1</td>\n",
       "      <td>0</td>\n",
       "      <td>0</td>\n",
       "      <td>1</td>\n",
       "      <td>0</td>\n",
       "      <td>1</td>\n",
       "    </tr>\n",
       "    <tr>\n",
       "      <th>2</th>\n",
       "      <td>16.0</td>\n",
       "      <td>3</td>\n",
       "      <td>0.189676</td>\n",
       "      <td>1.0</td>\n",
       "      <td>1.0</td>\n",
       "      <td>0</td>\n",
       "      <td>3.0</td>\n",
       "      <td>0</td>\n",
       "      <td>3</td>\n",
       "      <td>0</td>\n",
       "      <td>0</td>\n",
       "      <td>1</td>\n",
       "      <td>0</td>\n",
       "      <td>0</td>\n",
       "      <td>1</td>\n",
       "      <td>0</td>\n",
       "      <td>1</td>\n",
       "    </tr>\n",
       "  </tbody>\n",
       "</table>\n",
       "</div>"
      ],
      "text/plain": [
       "    age  class      fare  sibsp  parch  survived  FamilySize  IsAlone  \\\n",
       "0  42.0      3 -1.347570    0.0    0.0         0         1.0        1   \n",
       "1  13.0      3  0.189676    0.0    2.0         0         3.0        0   \n",
       "2  16.0      3  0.189676    1.0    1.0         0         3.0        0   \n",
       "\n",
       "   Fare_class  Title_Master  Title_Miss  Title_Mr  Title_Mrs  Title_Rare  \\\n",
       "0           1             0           0         1          0           0   \n",
       "1           3             0           0         1          0           0   \n",
       "2           3             0           0         1          0           0   \n",
       "\n",
       "   gender_male  embarked_Queenstown  embarked_Southampton  \n",
       "0            1                    0                     1  \n",
       "1            1                    0                     1  \n",
       "2            1                    0                     1  "
      ]
     },
     "execution_count": 14,
     "metadata": {},
     "output_type": "execute_result"
    }
   ],
   "source": [
    "train_final=with_sibsp.drop(columns=['name'])\n",
    "train_final.head(3)"
   ]
  },
  {
   "cell_type": "markdown",
   "id": "b5b22e84-8ff9-4170-92f6-ca488dbeb872",
   "metadata": {},
   "source": [
    "### Build a Random Forest Model"
   ]
  },
  {
   "cell_type": "markdown",
   "id": "70fb5dd8-0115-4c09-8b4e-45460dc74702",
   "metadata": {},
   "source": [
    "Build a random forest model using `pycaret` pipeline. \n",
    "\n",
    "Here we all the feature to predict if the passenger survives"
   ]
  },
  {
   "cell_type": "code",
   "execution_count": 15,
   "id": "b7e99146-66a8-4ea3-ae68-16ab312c8c8f",
   "metadata": {},
   "outputs": [
    {
     "data": {
      "text/html": [
       "<style type=\"text/css\">\n",
       "</style>\n",
       "<table id=\"T_c0987_\">\n",
       "  <thead>\n",
       "    <tr>\n",
       "      <th class=\"blank level0\" >&nbsp;</th>\n",
       "      <th class=\"col_heading level0 col0\" >Description</th>\n",
       "      <th class=\"col_heading level0 col1\" >Value</th>\n",
       "    </tr>\n",
       "  </thead>\n",
       "  <tbody>\n",
       "    <tr>\n",
       "      <th id=\"T_c0987_level0_row0\" class=\"row_heading level0 row0\" >0</th>\n",
       "      <td id=\"T_c0987_row0_col0\" class=\"data row0 col0\" >session_id</td>\n",
       "      <td id=\"T_c0987_row0_col1\" class=\"data row0 col1\" >123</td>\n",
       "    </tr>\n",
       "    <tr>\n",
       "      <th id=\"T_c0987_level0_row1\" class=\"row_heading level0 row1\" >1</th>\n",
       "      <td id=\"T_c0987_row1_col0\" class=\"data row1 col0\" >Target</td>\n",
       "      <td id=\"T_c0987_row1_col1\" class=\"data row1 col1\" >survived</td>\n",
       "    </tr>\n",
       "    <tr>\n",
       "      <th id=\"T_c0987_level0_row2\" class=\"row_heading level0 row2\" >2</th>\n",
       "      <td id=\"T_c0987_row2_col0\" class=\"data row2 col0\" >Target Type</td>\n",
       "      <td id=\"T_c0987_row2_col1\" class=\"data row2 col1\" >Binary</td>\n",
       "    </tr>\n",
       "    <tr>\n",
       "      <th id=\"T_c0987_level0_row3\" class=\"row_heading level0 row3\" >3</th>\n",
       "      <td id=\"T_c0987_row3_col0\" class=\"data row3 col0\" >Label Encoded</td>\n",
       "      <td id=\"T_c0987_row3_col1\" class=\"data row3 col1\" >None</td>\n",
       "    </tr>\n",
       "    <tr>\n",
       "      <th id=\"T_c0987_level0_row4\" class=\"row_heading level0 row4\" >4</th>\n",
       "      <td id=\"T_c0987_row4_col0\" class=\"data row4 col0\" >Original Data</td>\n",
       "      <td id=\"T_c0987_row4_col1\" class=\"data row4 col1\" >(1289, 17)</td>\n",
       "    </tr>\n",
       "    <tr>\n",
       "      <th id=\"T_c0987_level0_row5\" class=\"row_heading level0 row5\" >5</th>\n",
       "      <td id=\"T_c0987_row5_col0\" class=\"data row5 col0\" >Missing Values</td>\n",
       "      <td id=\"T_c0987_row5_col1\" class=\"data row5 col1\" >False</td>\n",
       "    </tr>\n",
       "    <tr>\n",
       "      <th id=\"T_c0987_level0_row6\" class=\"row_heading level0 row6\" >6</th>\n",
       "      <td id=\"T_c0987_row6_col0\" class=\"data row6 col0\" >Numeric Features</td>\n",
       "      <td id=\"T_c0987_row6_col1\" class=\"data row6 col1\" >16</td>\n",
       "    </tr>\n",
       "    <tr>\n",
       "      <th id=\"T_c0987_level0_row7\" class=\"row_heading level0 row7\" >7</th>\n",
       "      <td id=\"T_c0987_row7_col0\" class=\"data row7 col0\" >Categorical Features</td>\n",
       "      <td id=\"T_c0987_row7_col1\" class=\"data row7 col1\" >0</td>\n",
       "    </tr>\n",
       "    <tr>\n",
       "      <th id=\"T_c0987_level0_row8\" class=\"row_heading level0 row8\" >8</th>\n",
       "      <td id=\"T_c0987_row8_col0\" class=\"data row8 col0\" >Transformed Train Set</td>\n",
       "      <td id=\"T_c0987_row8_col1\" class=\"data row8 col1\" >(902, 16)</td>\n",
       "    </tr>\n",
       "    <tr>\n",
       "      <th id=\"T_c0987_level0_row9\" class=\"row_heading level0 row9\" >9</th>\n",
       "      <td id=\"T_c0987_row9_col0\" class=\"data row9 col0\" >Transformed Test Set</td>\n",
       "      <td id=\"T_c0987_row9_col1\" class=\"data row9 col1\" >(387, 16)</td>\n",
       "    </tr>\n",
       "    <tr>\n",
       "      <th id=\"T_c0987_level0_row10\" class=\"row_heading level0 row10\" >10</th>\n",
       "      <td id=\"T_c0987_row10_col0\" class=\"data row10 col0\" >Shuffle Train-Test</td>\n",
       "      <td id=\"T_c0987_row10_col1\" class=\"data row10 col1\" >True</td>\n",
       "    </tr>\n",
       "    <tr>\n",
       "      <th id=\"T_c0987_level0_row11\" class=\"row_heading level0 row11\" >11</th>\n",
       "      <td id=\"T_c0987_row11_col0\" class=\"data row11 col0\" >Stratify Train-Test</td>\n",
       "      <td id=\"T_c0987_row11_col1\" class=\"data row11 col1\" >False</td>\n",
       "    </tr>\n",
       "    <tr>\n",
       "      <th id=\"T_c0987_level0_row12\" class=\"row_heading level0 row12\" >12</th>\n",
       "      <td id=\"T_c0987_row12_col0\" class=\"data row12 col0\" >Fold Generator</td>\n",
       "      <td id=\"T_c0987_row12_col1\" class=\"data row12 col1\" >StratifiedKFold</td>\n",
       "    </tr>\n",
       "    <tr>\n",
       "      <th id=\"T_c0987_level0_row13\" class=\"row_heading level0 row13\" >13</th>\n",
       "      <td id=\"T_c0987_row13_col0\" class=\"data row13 col0\" >Fold Number</td>\n",
       "      <td id=\"T_c0987_row13_col1\" class=\"data row13 col1\" >10</td>\n",
       "    </tr>\n",
       "    <tr>\n",
       "      <th id=\"T_c0987_level0_row14\" class=\"row_heading level0 row14\" >14</th>\n",
       "      <td id=\"T_c0987_row14_col0\" class=\"data row14 col0\" >CPU Jobs</td>\n",
       "      <td id=\"T_c0987_row14_col1\" class=\"data row14 col1\" >-1</td>\n",
       "    </tr>\n",
       "    <tr>\n",
       "      <th id=\"T_c0987_level0_row15\" class=\"row_heading level0 row15\" >15</th>\n",
       "      <td id=\"T_c0987_row15_col0\" class=\"data row15 col0\" >Use GPU</td>\n",
       "      <td id=\"T_c0987_row15_col1\" class=\"data row15 col1\" >False</td>\n",
       "    </tr>\n",
       "    <tr>\n",
       "      <th id=\"T_c0987_level0_row16\" class=\"row_heading level0 row16\" >16</th>\n",
       "      <td id=\"T_c0987_row16_col0\" class=\"data row16 col0\" >Log Experiment</td>\n",
       "      <td id=\"T_c0987_row16_col1\" class=\"data row16 col1\" >False</td>\n",
       "    </tr>\n",
       "    <tr>\n",
       "      <th id=\"T_c0987_level0_row17\" class=\"row_heading level0 row17\" >17</th>\n",
       "      <td id=\"T_c0987_row17_col0\" class=\"data row17 col0\" >Experiment Name</td>\n",
       "      <td id=\"T_c0987_row17_col1\" class=\"data row17 col1\" >clf-default-name</td>\n",
       "    </tr>\n",
       "    <tr>\n",
       "      <th id=\"T_c0987_level0_row18\" class=\"row_heading level0 row18\" >18</th>\n",
       "      <td id=\"T_c0987_row18_col0\" class=\"data row18 col0\" >USI</td>\n",
       "      <td id=\"T_c0987_row18_col1\" class=\"data row18 col1\" >805c</td>\n",
       "    </tr>\n",
       "    <tr>\n",
       "      <th id=\"T_c0987_level0_row19\" class=\"row_heading level0 row19\" >19</th>\n",
       "      <td id=\"T_c0987_row19_col0\" class=\"data row19 col0\" >Fix Imbalance</td>\n",
       "      <td id=\"T_c0987_row19_col1\" class=\"data row19 col1\" >False</td>\n",
       "    </tr>\n",
       "    <tr>\n",
       "      <th id=\"T_c0987_level0_row20\" class=\"row_heading level0 row20\" >20</th>\n",
       "      <td id=\"T_c0987_row20_col0\" class=\"data row20 col0\" >Fix Imbalance Method</td>\n",
       "      <td id=\"T_c0987_row20_col1\" class=\"data row20 col1\" >SMOTE</td>\n",
       "    </tr>\n",
       "  </tbody>\n",
       "</table>\n"
      ],
      "text/plain": [
       "<pandas.io.formats.style.Styler at 0x7fce2f23e3a0>"
      ]
     },
     "metadata": {},
     "output_type": "display_data"
    }
   ],
   "source": [
    "from pycaret.classification import *\n",
    "clf1 = setup(data = train_final, \n",
    "             target = 'survived',\n",
    "             preprocess = False,\n",
    "             silent=True,\n",
    "             session_id=123)"
   ]
  },
  {
   "cell_type": "code",
   "execution_count": 16,
   "id": "1a28791a-a47f-48bc-9257-1da7c5e65d39",
   "metadata": {},
   "outputs": [
    {
     "data": {
      "text/html": [
       "<style type=\"text/css\">\n",
       "#T_59bb1_row10_col0, #T_59bb1_row10_col1, #T_59bb1_row10_col2, #T_59bb1_row10_col3, #T_59bb1_row10_col4, #T_59bb1_row10_col5, #T_59bb1_row10_col6 {\n",
       "  background: yellow;\n",
       "}\n",
       "</style>\n",
       "<table id=\"T_59bb1_\">\n",
       "  <thead>\n",
       "    <tr>\n",
       "      <th class=\"blank level0\" >&nbsp;</th>\n",
       "      <th class=\"col_heading level0 col0\" >Accuracy</th>\n",
       "      <th class=\"col_heading level0 col1\" >AUC</th>\n",
       "      <th class=\"col_heading level0 col2\" >Recall</th>\n",
       "      <th class=\"col_heading level0 col3\" >Prec.</th>\n",
       "      <th class=\"col_heading level0 col4\" >F1</th>\n",
       "      <th class=\"col_heading level0 col5\" >Kappa</th>\n",
       "      <th class=\"col_heading level0 col6\" >MCC</th>\n",
       "    </tr>\n",
       "  </thead>\n",
       "  <tbody>\n",
       "    <tr>\n",
       "      <th id=\"T_59bb1_level0_row0\" class=\"row_heading level0 row0\" >0</th>\n",
       "      <td id=\"T_59bb1_row0_col0\" class=\"data row0 col0\" >0.8132</td>\n",
       "      <td id=\"T_59bb1_row0_col1\" class=\"data row0 col1\" >0.8619</td>\n",
       "      <td id=\"T_59bb1_row0_col2\" class=\"data row0 col2\" >0.6944</td>\n",
       "      <td id=\"T_59bb1_row0_col3\" class=\"data row0 col3\" >0.8065</td>\n",
       "      <td id=\"T_59bb1_row0_col4\" class=\"data row0 col4\" >0.7463</td>\n",
       "      <td id=\"T_59bb1_row0_col5\" class=\"data row0 col5\" >0.5997</td>\n",
       "      <td id=\"T_59bb1_row0_col6\" class=\"data row0 col6\" >0.6039</td>\n",
       "    </tr>\n",
       "    <tr>\n",
       "      <th id=\"T_59bb1_level0_row1\" class=\"row_heading level0 row1\" >1</th>\n",
       "      <td id=\"T_59bb1_row1_col0\" class=\"data row1 col0\" >0.7802</td>\n",
       "      <td id=\"T_59bb1_row1_col1\" class=\"data row1 col1\" >0.8258</td>\n",
       "      <td id=\"T_59bb1_row1_col2\" class=\"data row1 col2\" >0.6389</td>\n",
       "      <td id=\"T_59bb1_row1_col3\" class=\"data row1 col3\" >0.7667</td>\n",
       "      <td id=\"T_59bb1_row1_col4\" class=\"data row1 col4\" >0.6970</td>\n",
       "      <td id=\"T_59bb1_row1_col5\" class=\"data row1 col5\" >0.5268</td>\n",
       "      <td id=\"T_59bb1_row1_col6\" class=\"data row1 col6\" >0.5322</td>\n",
       "    </tr>\n",
       "    <tr>\n",
       "      <th id=\"T_59bb1_level0_row2\" class=\"row_heading level0 row2\" >2</th>\n",
       "      <td id=\"T_59bb1_row2_col0\" class=\"data row2 col0\" >0.7889</td>\n",
       "      <td id=\"T_59bb1_row2_col1\" class=\"data row2 col1\" >0.8678</td>\n",
       "      <td id=\"T_59bb1_row2_col2\" class=\"data row2 col2\" >0.8056</td>\n",
       "      <td id=\"T_59bb1_row2_col3\" class=\"data row2 col3\" >0.7073</td>\n",
       "      <td id=\"T_59bb1_row2_col4\" class=\"data row2 col4\" >0.7532</td>\n",
       "      <td id=\"T_59bb1_row2_col5\" class=\"data row2 col5\" >0.5701</td>\n",
       "      <td id=\"T_59bb1_row2_col6\" class=\"data row2 col6\" >0.5738</td>\n",
       "    </tr>\n",
       "    <tr>\n",
       "      <th id=\"T_59bb1_level0_row3\" class=\"row_heading level0 row3\" >3</th>\n",
       "      <td id=\"T_59bb1_row3_col0\" class=\"data row3 col0\" >0.7889</td>\n",
       "      <td id=\"T_59bb1_row3_col1\" class=\"data row3 col1\" >0.8454</td>\n",
       "      <td id=\"T_59bb1_row3_col2\" class=\"data row3 col2\" >0.7222</td>\n",
       "      <td id=\"T_59bb1_row3_col3\" class=\"data row3 col3\" >0.7429</td>\n",
       "      <td id=\"T_59bb1_row3_col4\" class=\"data row3 col4\" >0.7324</td>\n",
       "      <td id=\"T_59bb1_row3_col5\" class=\"data row3 col5\" >0.5581</td>\n",
       "      <td id=\"T_59bb1_row3_col6\" class=\"data row3 col6\" >0.5583</td>\n",
       "    </tr>\n",
       "    <tr>\n",
       "      <th id=\"T_59bb1_level0_row4\" class=\"row_heading level0 row4\" >4</th>\n",
       "      <td id=\"T_59bb1_row4_col0\" class=\"data row4 col0\" >0.7556</td>\n",
       "      <td id=\"T_59bb1_row4_col1\" class=\"data row4 col1\" >0.7906</td>\n",
       "      <td id=\"T_59bb1_row4_col2\" class=\"data row4 col2\" >0.7500</td>\n",
       "      <td id=\"T_59bb1_row4_col3\" class=\"data row4 col3\" >0.6750</td>\n",
       "      <td id=\"T_59bb1_row4_col4\" class=\"data row4 col4\" >0.7105</td>\n",
       "      <td id=\"T_59bb1_row4_col5\" class=\"data row4 col5\" >0.5000</td>\n",
       "      <td id=\"T_59bb1_row4_col6\" class=\"data row4 col6\" >0.5021</td>\n",
       "    </tr>\n",
       "    <tr>\n",
       "      <th id=\"T_59bb1_level0_row5\" class=\"row_heading level0 row5\" >5</th>\n",
       "      <td id=\"T_59bb1_row5_col0\" class=\"data row5 col0\" >0.8444</td>\n",
       "      <td id=\"T_59bb1_row5_col1\" class=\"data row5 col1\" >0.8987</td>\n",
       "      <td id=\"T_59bb1_row5_col2\" class=\"data row5 col2\" >0.7778</td>\n",
       "      <td id=\"T_59bb1_row5_col3\" class=\"data row5 col3\" >0.8235</td>\n",
       "      <td id=\"T_59bb1_row5_col4\" class=\"data row5 col4\" >0.8000</td>\n",
       "      <td id=\"T_59bb1_row5_col5\" class=\"data row5 col5\" >0.6729</td>\n",
       "      <td id=\"T_59bb1_row5_col6\" class=\"data row5 col6\" >0.6736</td>\n",
       "    </tr>\n",
       "    <tr>\n",
       "      <th id=\"T_59bb1_level0_row6\" class=\"row_heading level0 row6\" >6</th>\n",
       "      <td id=\"T_59bb1_row6_col0\" class=\"data row6 col0\" >0.7667</td>\n",
       "      <td id=\"T_59bb1_row6_col1\" class=\"data row6 col1\" >0.8519</td>\n",
       "      <td id=\"T_59bb1_row6_col2\" class=\"data row6 col2\" >0.7222</td>\n",
       "      <td id=\"T_59bb1_row6_col3\" class=\"data row6 col3\" >0.7027</td>\n",
       "      <td id=\"T_59bb1_row6_col4\" class=\"data row6 col4\" >0.7123</td>\n",
       "      <td id=\"T_59bb1_row6_col5\" class=\"data row6 col5\" >0.5161</td>\n",
       "      <td id=\"T_59bb1_row6_col6\" class=\"data row6 col6\" >0.5163</td>\n",
       "    </tr>\n",
       "    <tr>\n",
       "      <th id=\"T_59bb1_level0_row7\" class=\"row_heading level0 row7\" >7</th>\n",
       "      <td id=\"T_59bb1_row7_col0\" class=\"data row7 col0\" >0.8333</td>\n",
       "      <td id=\"T_59bb1_row7_col1\" class=\"data row7 col1\" >0.8570</td>\n",
       "      <td id=\"T_59bb1_row7_col2\" class=\"data row7 col2\" >0.7778</td>\n",
       "      <td id=\"T_59bb1_row7_col3\" class=\"data row7 col3\" >0.8000</td>\n",
       "      <td id=\"T_59bb1_row7_col4\" class=\"data row7 col4\" >0.7887</td>\n",
       "      <td id=\"T_59bb1_row7_col5\" class=\"data row7 col5\" >0.6512</td>\n",
       "      <td id=\"T_59bb1_row7_col6\" class=\"data row7 col6\" >0.6513</td>\n",
       "    </tr>\n",
       "    <tr>\n",
       "      <th id=\"T_59bb1_level0_row8\" class=\"row_heading level0 row8\" >8</th>\n",
       "      <td id=\"T_59bb1_row8_col0\" class=\"data row8 col0\" >0.8333</td>\n",
       "      <td id=\"T_59bb1_row8_col1\" class=\"data row8 col1\" >0.9285</td>\n",
       "      <td id=\"T_59bb1_row8_col2\" class=\"data row8 col2\" >0.8333</td>\n",
       "      <td id=\"T_59bb1_row8_col3\" class=\"data row8 col3\" >0.7692</td>\n",
       "      <td id=\"T_59bb1_row8_col4\" class=\"data row8 col4\" >0.8000</td>\n",
       "      <td id=\"T_59bb1_row8_col5\" class=\"data row8 col5\" >0.6575</td>\n",
       "      <td id=\"T_59bb1_row8_col6\" class=\"data row8 col6\" >0.6591</td>\n",
       "    </tr>\n",
       "    <tr>\n",
       "      <th id=\"T_59bb1_level0_row9\" class=\"row_heading level0 row9\" >9</th>\n",
       "      <td id=\"T_59bb1_row9_col0\" class=\"data row9 col0\" >0.8667</td>\n",
       "      <td id=\"T_59bb1_row9_col1\" class=\"data row9 col1\" >0.8899</td>\n",
       "      <td id=\"T_59bb1_row9_col2\" class=\"data row9 col2\" >0.8611</td>\n",
       "      <td id=\"T_59bb1_row9_col3\" class=\"data row9 col3\" >0.8158</td>\n",
       "      <td id=\"T_59bb1_row9_col4\" class=\"data row9 col4\" >0.8378</td>\n",
       "      <td id=\"T_59bb1_row9_col5\" class=\"data row9 col5\" >0.7248</td>\n",
       "      <td id=\"T_59bb1_row9_col6\" class=\"data row9 col6\" >0.7255</td>\n",
       "    </tr>\n",
       "    <tr>\n",
       "      <th id=\"T_59bb1_level0_row10\" class=\"row_heading level0 row10\" >Mean</th>\n",
       "      <td id=\"T_59bb1_row10_col0\" class=\"data row10 col0\" >0.8071</td>\n",
       "      <td id=\"T_59bb1_row10_col1\" class=\"data row10 col1\" >0.8617</td>\n",
       "      <td id=\"T_59bb1_row10_col2\" class=\"data row10 col2\" >0.7583</td>\n",
       "      <td id=\"T_59bb1_row10_col3\" class=\"data row10 col3\" >0.7610</td>\n",
       "      <td id=\"T_59bb1_row10_col4\" class=\"data row10 col4\" >0.7578</td>\n",
       "      <td id=\"T_59bb1_row10_col5\" class=\"data row10 col5\" >0.5977</td>\n",
       "      <td id=\"T_59bb1_row10_col6\" class=\"data row10 col6\" >0.5996</td>\n",
       "    </tr>\n",
       "    <tr>\n",
       "      <th id=\"T_59bb1_level0_row11\" class=\"row_heading level0 row11\" >SD</th>\n",
       "      <td id=\"T_59bb1_row11_col0\" class=\"data row11 col0\" >0.0347</td>\n",
       "      <td id=\"T_59bb1_row11_col1\" class=\"data row11 col1\" >0.0366</td>\n",
       "      <td id=\"T_59bb1_row11_col2\" class=\"data row11 col2\" >0.0634</td>\n",
       "      <td id=\"T_59bb1_row11_col3\" class=\"data row11 col3\" >0.0496</td>\n",
       "      <td id=\"T_59bb1_row11_col4\" class=\"data row11 col4\" >0.0444</td>\n",
       "      <td id=\"T_59bb1_row11_col5\" class=\"data row11 col5\" >0.0720</td>\n",
       "      <td id=\"T_59bb1_row11_col6\" class=\"data row11 col6\" >0.0714</td>\n",
       "    </tr>\n",
       "  </tbody>\n",
       "</table>\n"
      ],
      "text/plain": [
       "<pandas.io.formats.style.Styler at 0x7fce317664f0>"
      ]
     },
     "metadata": {},
     "output_type": "display_data"
    }
   ],
   "source": [
    "# Train the model\n",
    "rf = create_model('rf')\n",
    "tuned_rf = tune_model(rf, optimize = 'Accuracy',early_stopping = True)"
   ]
  },
  {
   "cell_type": "markdown",
   "id": "7d17bf64-dbef-4b2c-835b-e655d70869ca",
   "metadata": {},
   "source": [
    "### Interpret Model"
   ]
  },
  {
   "cell_type": "markdown",
   "id": "3e340b07-82d1-4069-9726-8d7d33943ccc",
   "metadata": {},
   "source": [
    "SHAP Values (an acronym from SHapley Additive exPlanations) break down a prediction to show the impact of each feature.SHAP values interpret the impact of having a certain value for a given feature in comparison to the prediction we'd make if that feature took some baseline value.\n",
    "\n",
    "In short, SHAP values can help us understand a feature's role in prediction.\n"
   ]
  },
  {
   "cell_type": "markdown",
   "id": "d486e0b6-0fe1-4e4d-ac58-504fe57e002c",
   "metadata": {},
   "source": [
    "SHAP summary plots give us a overview of feature importance and what is driving it. The plots contains:\n",
    "- Vertical location shows what feature it is depicting\n",
    "- Color shows whether that feature was high or low for that row of the dataset\n",
    "- Horizontal location shows whether the effect of that value caused a higher or lower prediction.\n",
    "\n",
    "For example, the point in the extreme upper left means a passenger titled Mr, reducing the prediction by 0.13."
   ]
  },
  {
   "cell_type": "code",
   "execution_count": 17,
   "id": "dd4696f3-19b7-4f35-99f3-f8707a7ce56b",
   "metadata": {},
   "outputs": [
    {
     "data": {
      "image/png": "[encoded data removed]",
      "text/plain": [
       "<Figure size 576x568.8 with 2 Axes>"
      ]
     },
     "metadata": {},
     "output_type": "display_data"
    }
   ],
   "source": [
    "interpret_model(rf,plot='summary')"
   ]
  },
  {
   "cell_type": "markdown",
   "id": "770beae0-1597-4f96-a059-d46eebbccf40",
   "metadata": {},
   "source": [
    "We can conclude the following：\n",
    "* `Title_Mr` is the most important feature. If a passenger is an adult male, the model predicts him more unlikely to survive.\n",
    "* `gender_male` is not as important as `Title_Mr`. This is because `Title Master` has a postive effct to survive which means a boy is more likely to survive. \n",
    "* `class` `fare` `Fare_class` describes same thing in different aspects. The model think a passenger from lower class is more unlikely to survive.\n",
    "* `age` seems to have a mixed effect，but in general, the model think a older passenger is more unlikely to survive. \n",
    "* The model thinks `embarked` also plays a role in prediction which is not very intuitive to us. "
   ]
  },
  {
   "cell_type": "markdown",
   "id": "c2bff705-8f44-4acd-8851-5c209ae95451",
   "metadata": {},
   "source": [
    "The above conclusion is basically consistent with our previous analysis which means that our model is trustworthy. Now we can see what the model thinks of family members.\n",
    "\n",
    "* The ladies are more likely to survive, but model thinks `title_Mrs` has a higher prediction value than `Miss`. This may imply the ladies travelling with husband  are more likely to survive\n",
    "* The feature `FamilySize` has a mixed effect. The model think a passenger travelling with a big family is more unlikely to survive, but not true for who is travelling with a medium size family. \n",
    "* Combine the SHAP values from `IsALone` and `FamilySize`, the model think if a passenger travelling alone, he is more unlikely to survive.\n"
   ]
  },
  {
   "cell_type": "markdown",
   "id": "8398e99c-7d2f-460f-aedb-f007166c7318",
   "metadata": {},
   "source": [
    "## Does family members increase or decrease the chance of survival   \n",
    "Now we can verify the inference obtained from the model using statistical method to answer our hypothesis\n",
    "\n",
    "We want to know if the number of family members has a influence on chance of survive at first, and how if possible.\n",
    "\n",
    "We will use permutation test as main method here.\n",
    "* The ladies are more likely to survive, but model thinks `title_Mrs` has a higher prediction value than `Miss`. This may imply the ladies travelling with husband  are more likely to survive\n",
    "* The feature `FamilySize` has a mixed effect. The model think a passenger travelling with a big family is more unlikely to survive, but not true for who is travelling with a medium size family. \n",
    "* Combine the conclusiont from `IsALone` and `FamilySize`, the model think if a passenger travelling alone, he is more unlikely to survive.\n",
    "* The higher the `sibsp` feature, the passenger is more unlikely to survive, but the feature `parch` is otherwise. This might explain the mixed effect of "
   ]
  },
  {
   "cell_type": "markdown",
   "id": "6fcd5bfe-555a-415b-b1dc-fd7e092d00a8",
   "metadata": {},
   "source": [
    "### Setup"
   ]
  },
  {
   "cell_type": "code",
   "execution_count": 18,
   "id": "86392b90-5aff-46a6-ac50-374e474b4bde",
   "metadata": {},
   "outputs": [],
   "source": [
    "# define a permutation_test function\n",
    "# p value here is from two-tailed analysis  \n",
    "def permutation_test(df1, df2, target, n_reps=5000):\n",
    "    \"\"\"\n",
    "    params: \n",
    "            df1: dataframe of group1\n",
    "            df2: dataframe of group2\n",
    "            target: the colomn to be tested, need to be same in df1 and df2\n",
    "            n_reps: the number of permutation\n",
    "    returns:\n",
    "            perm_p: two-tailed p value of permutation test\n",
    "            obs_diff: observed mean difference\n",
    "            perm_diff: np.array. Contains permuted difference.\n",
    "    \"\"\"\n",
    "    obs_diff = df1[target].mean() - df2[target].mean()\n",
    "    data = np.append(df1[target], df2[target])\n",
    "    g1_len = len(df1[target])\n",
    "    perm_diff = np.zeros(n_reps)\n",
    "    for i in range(n_reps):\n",
    "        perm_data = np.random.permutation(data)\n",
    "        perm_g1 = perm_data[ : g1_len]\n",
    "        perm_g2 = perm_data[g1_len : ]\n",
    "        perm_diff[i] = perm_g1.mean() - perm_g2.mean()\n",
    "    # two-tailed p\n",
    "    perm_p = np.count_nonzero(abs(perm_diff) > abs(obs_diff)) / n_reps\n",
    "    return perm_p, obs_diff, perm_diff"
   ]
  },
  {
   "cell_type": "code",
   "execution_count": 19,
   "id": "87005ab7-5421-43af-9aad-9d786ff226ff",
   "metadata": {},
   "outputs": [],
   "source": [
    "# plot the result of permutation test\n",
    "def perm_plot(perm_p,observed, perm_array,  arrow_shift=(0.05,5)):\n",
    "    \"\"\"\n",
    "    params:\n",
    "        output from function permutation_test()\n",
    "        arrow_shift: the start position of the arrow relative to the observed value\n",
    "    \"\"\"\n",
    "    sns.distplot(perm_array)\n",
    "    plt.plot(observed,0, 'ro')\n",
    "    plt.annotate('p={}'.format(perm_p),ha = 'center', va = 'bottom',\n",
    "    xytext = (observed+arrow_shift[0], arrow_shift[1]), \n",
    "    xy = (observed, 0),\n",
    "    arrowprops = { 'facecolor' : 'red', 'shrink' : 0.05 }\n",
    "    )"
   ]
  },
  {
   "cell_type": "code",
   "execution_count": 20,
   "id": "de80d677-d0bb-4ec4-af60-d2c02bb7c956",
   "metadata": {},
   "outputs": [
    {
     "data": {
      "text/html": [
       "<div>\n",
       "<style scoped>\n",
       "    .dataframe tbody tr th:only-of-type {\n",
       "        vertical-align: middle;\n",
       "    }\n",
       "\n",
       "    .dataframe tbody tr th {\n",
       "        vertical-align: top;\n",
       "    }\n",
       "\n",
       "    .dataframe thead th {\n",
       "        text-align: right;\n",
       "    }\n",
       "</style>\n",
       "<table border=\"1\" class=\"dataframe\">\n",
       "  <thead>\n",
       "    <tr style=\"text-align: right;\">\n",
       "      <th></th>\n",
       "      <th>name</th>\n",
       "      <th>age</th>\n",
       "      <th>class</th>\n",
       "      <th>fare</th>\n",
       "      <th>sibsp</th>\n",
       "      <th>parch</th>\n",
       "      <th>survived</th>\n",
       "      <th>FamilySize</th>\n",
       "      <th>IsAlone</th>\n",
       "      <th>Fare_class</th>\n",
       "      <th>Title_Master</th>\n",
       "      <th>Title_Miss</th>\n",
       "      <th>Title_Mr</th>\n",
       "      <th>Title_Mrs</th>\n",
       "      <th>Title_Rare</th>\n",
       "      <th>gender_male</th>\n",
       "      <th>embarked_Queenstown</th>\n",
       "      <th>embarked_Southampton</th>\n",
       "    </tr>\n",
       "  </thead>\n",
       "  <tbody>\n",
       "    <tr>\n",
       "      <th>0</th>\n",
       "      <td>Abbing, Mr. Anthony</td>\n",
       "      <td>42.0</td>\n",
       "      <td>3</td>\n",
       "      <td>-1.347570</td>\n",
       "      <td>0.0</td>\n",
       "      <td>0.0</td>\n",
       "      <td>0</td>\n",
       "      <td>1.0</td>\n",
       "      <td>1</td>\n",
       "      <td>1</td>\n",
       "      <td>0</td>\n",
       "      <td>0</td>\n",
       "      <td>1</td>\n",
       "      <td>0</td>\n",
       "      <td>0</td>\n",
       "      <td>1</td>\n",
       "      <td>0</td>\n",
       "      <td>1</td>\n",
       "    </tr>\n",
       "    <tr>\n",
       "      <th>1</th>\n",
       "      <td>Abbott, Mr. Eugene Joseph</td>\n",
       "      <td>13.0</td>\n",
       "      <td>3</td>\n",
       "      <td>0.189676</td>\n",
       "      <td>0.0</td>\n",
       "      <td>2.0</td>\n",
       "      <td>0</td>\n",
       "      <td>3.0</td>\n",
       "      <td>0</td>\n",
       "      <td>3</td>\n",
       "      <td>0</td>\n",
       "      <td>0</td>\n",
       "      <td>1</td>\n",
       "      <td>0</td>\n",
       "      <td>0</td>\n",
       "      <td>1</td>\n",
       "      <td>0</td>\n",
       "      <td>1</td>\n",
       "    </tr>\n",
       "    <tr>\n",
       "      <th>2</th>\n",
       "      <td>Abbott, Mr. Rossmore Edward</td>\n",
       "      <td>16.0</td>\n",
       "      <td>3</td>\n",
       "      <td>0.189676</td>\n",
       "      <td>1.0</td>\n",
       "      <td>1.0</td>\n",
       "      <td>0</td>\n",
       "      <td>3.0</td>\n",
       "      <td>0</td>\n",
       "      <td>3</td>\n",
       "      <td>0</td>\n",
       "      <td>0</td>\n",
       "      <td>1</td>\n",
       "      <td>0</td>\n",
       "      <td>0</td>\n",
       "      <td>1</td>\n",
       "      <td>0</td>\n",
       "      <td>1</td>\n",
       "    </tr>\n",
       "  </tbody>\n",
       "</table>\n",
       "</div>"
      ],
      "text/plain": [
       "                          name   age  class      fare  sibsp  parch  survived  \\\n",
       "0          Abbing, Mr. Anthony  42.0      3 -1.347570    0.0    0.0         0   \n",
       "1    Abbott, Mr. Eugene Joseph  13.0      3  0.189676    0.0    2.0         0   \n",
       "2  Abbott, Mr. Rossmore Edward  16.0      3  0.189676    1.0    1.0         0   \n",
       "\n",
       "   FamilySize  IsAlone  Fare_class  Title_Master  Title_Miss  Title_Mr  \\\n",
       "0         1.0        1           1             0           0         1   \n",
       "1         3.0        0           3             0           0         1   \n",
       "2         3.0        0           3             0           0         1   \n",
       "\n",
       "   Title_Mrs  Title_Rare  gender_male  embarked_Queenstown  \\\n",
       "0          0           0            1                    0   \n",
       "1          0           0            1                    0   \n",
       "2          0           0            1                    0   \n",
       "\n",
       "   embarked_Southampton  \n",
       "0                     1  \n",
       "1                     1  \n",
       "2                     1  "
      ]
     },
     "execution_count": 20,
     "metadata": {},
     "output_type": "execute_result"
    }
   ],
   "source": [
    "with_sibsp.head(3)"
   ]
  },
  {
   "cell_type": "markdown",
   "id": "0746aa8a-94ca-451d-9cb2-a3b52070e255",
   "metadata": {
    "tags": []
   },
   "source": [
    "### The Effect of Family Size\n",
    "We will begin by analysing the difference between travelling alone and travelling with family."
   ]
  },
  {
   "cell_type": "markdown",
   "id": "318a82b3-b0b8-43b0-8c67-291e478576e1",
   "metadata": {},
   "source": [
    "\n",
    "The survival proportion of each family size is shown below: "
   ]
  },
  {
   "cell_type": "code",
   "execution_count": 21,
   "id": "f12d1b22-c190-4292-ba45-3ec0c1704a33",
   "metadata": {},
   "outputs": [
    {
     "data": {
      "text/plain": [
       "Text(8.960000000000008, 0.5, 'survival proportion')"
      ]
     },
     "execution_count": 21,
     "metadata": {},
     "output_type": "execute_result"
    },
    {
     "data": {
      "image/png": "[encoded data removed]",
      "text/plain": [
       "<Figure size 1296x216 with 1 Axes>"
      ]
     },
     "metadata": {},
     "output_type": "display_data"
    }
   ],
   "source": [
    "sns.FacetGrid(with_sibsp, hue=\"survived\",legend_out=False, aspect=6).map(sns.kdeplot,'FamilySize',shade= True).add_legend()\n",
    "plt.ylabel(\"survival proportion\")"
   ]
  },
  {
   "cell_type": "markdown",
   "id": "84104f23-21b8-4170-ada3-928af77c905b",
   "metadata": {},
   "source": [
    "From the plot above, we can see the model predicts a higher chance of survival for people who travels with a medium family size and a lower chance for who travels with a big family compared to single passengers.\n",
    "\n",
    "Hence I will divied the people into 3 groups:\n",
    "* group1 is travelling alone\n",
    "* group2 is medium family size (2-4)\n",
    "* group3 is large family size (larger than 4)\n",
    "\n",
    "First I will show the proportion of survival of in each family size group and then compare their differences"
   ]
  },
  {
   "cell_type": "code",
   "execution_count": 22,
   "id": "5a550c01-5707-4e58-8532-80912562180f",
   "metadata": {},
   "outputs": [],
   "source": [
    "alone = with_sibsp[with_sibsp['IsAlone'] == 1]\n",
    "medium_family = with_sibsp[with_sibsp['FamilySize'].isin([2,3,4])] \n",
    "large_family = with_sibsp[with_sibsp['FamilySize'] > 4 ]"
   ]
  },
  {
   "cell_type": "code",
   "execution_count": 23,
   "id": "d8ed22eb-cae5-4d3f-af89-1bf5346b7f3c",
   "metadata": {},
   "outputs": [
    {
     "data": {
      "text/plain": [
       "<AxesSubplot:xlabel='group', ylabel='proportion of survival'>"
      ]
     },
     "execution_count": 23,
     "metadata": {},
     "output_type": "execute_result"
    },
    {
     "data": {
      "image/png": "[encoded data removed]",
      "text/plain": [
       "<Figure size 576x432 with 1 Axes>"
      ]
     },
     "metadata": {},
     "output_type": "display_data"
    }
   ],
   "source": [
    "def survive_prop(df):\n",
    "    return df['survived'].value_counts(normalize=True)[1]\n",
    "prop_df = pd.DataFrame([survive_prop(alone),survive_prop(medium_family),survive_prop(large_family)],\n",
    "                      index=['alone','medium','large'], columns=['prop_survival'])\n",
    "prop_df.T.plot(kind='bar', xlabel='group', ylabel='proportion of survival', figsize=(8,6))"
   ]
  },
  {
   "cell_type": "markdown",
   "id": "88628c76-bf16-4675-b77b-bcaafd64c00f",
   "metadata": {},
   "source": [
    "We can see here, that medium family size group has a very high proportion of survival compared to large family group and alone group. Also there is a difference between alone group and large family size group. We will run permutation test to confirm this difference. \n",
    "\n",
    "Here we will make a pairwise comparison. To avoid Type I error, we set significance level $ \\alpha=0.0167 $ for our test according to Beverini correction。"
   ]
  },
  {
   "cell_type": "code",
   "execution_count": 24,
   "id": "c8492431-b3ac-4f42-9ef3-3864224da51a",
   "metadata": {},
   "outputs": [
    {
     "name": "stdout",
     "output_type": "stream",
     "text": [
      "Showing comparision of alone and medium_family\n"
     ]
    },
    {
     "data": {
      "image/png": "[encoded data removed]",
      "text/plain": [
       "<Figure size 576x396 with 1 Axes>"
      ]
     },
     "metadata": {},
     "output_type": "display_data"
    },
    {
     "name": "stdout",
     "output_type": "stream",
     "text": [
      "Showing comparision of alone and large_family\n"
     ]
    },
    {
     "data": {
      "image/png": "[encoded data removed]",
      "text/plain": [
       "<Figure size 576x396 with 1 Axes>"
      ]
     },
     "metadata": {},
     "output_type": "display_data"
    },
    {
     "name": "stdout",
     "output_type": "stream",
     "text": [
      "Showing comparision of medium_family and large_family\n"
     ]
    },
    {
     "data": {
      "image/png": "[encoded data removed]",
      "text/plain": [
       "<Figure size 576x396 with 1 Axes>"
      ]
     },
     "metadata": {},
     "output_type": "display_data"
    }
   ],
   "source": [
    "from itertools import combinations\n",
    "group_list = [alone, medium_family, large_family]\n",
    "group_dic = {0:\"alone\" ,1:\"medium_family\", 2:\"large_family\"}\n",
    "family_size_df = pd.DataFrame(np.zeros(len(group_list)*2).reshape(len(group_list),2), \n",
    "                              index=['g1 vs g2', 'g1 vs g3', 'g2 vs g3'], \n",
    "                              columns=['observed_diff','perm_p'])\n",
    "\n",
    "perm_diff_list = [] \n",
    "i = 0\n",
    "\n",
    "for comb in combinations([0,1,2], 2):\n",
    "    print(\"Showing comparision of {} and {}\".format(group_dic[comb[0]], group_dic[comb[1]]))\n",
    "    perm_p, obs_diff, perm_diff = permutation_test(group_list[comb[0]], group_list[comb[1]], 'survived')\n",
    "    family_size_df.iloc[i,0] = obs_diff; family_size_df.iloc[i,1] = perm_p\n",
    "    perm_diff_list.append(perm_diff)\n",
    "    perm_plot(perm_p, obs_diff, perm_diff, arrow_shift=(0.05,5))\n",
    "    plt.show()\n",
    "    i += 1 \n"
   ]
  },
  {
   "cell_type": "markdown",
   "id": "73060522-7167-490b-b357-a4a598c0c3d8",
   "metadata": {},
   "source": [
    "Results from permutation tests showed there do exsist a difference between each two groups, thus we can make following conclusions:\n",
    "* Traveling with a medium size family increases chance of survival compared to both travelling alone and travelling with a large family\n",
    "* Traveling with a large famlily decreses the chance of survival compared to travelling alone."
   ]
  },
  {
   "cell_type": "code",
   "execution_count": 25,
   "id": "e0b87afe-1b06-46f0-b660-ba3bba984e5b",
   "metadata": {},
   "outputs": [
    {
     "data": {
      "text/html": [
       "<div>\n",
       "<style scoped>\n",
       "    .dataframe tbody tr th:only-of-type {\n",
       "        vertical-align: middle;\n",
       "    }\n",
       "\n",
       "    .dataframe tbody tr th {\n",
       "        vertical-align: top;\n",
       "    }\n",
       "\n",
       "    .dataframe thead th {\n",
       "        text-align: right;\n",
       "    }\n",
       "</style>\n",
       "<table border=\"1\" class=\"dataframe\">\n",
       "  <thead>\n",
       "    <tr style=\"text-align: right;\">\n",
       "      <th></th>\n",
       "      <th>age</th>\n",
       "      <th>class</th>\n",
       "      <th>fare</th>\n",
       "      <th>sibsp</th>\n",
       "      <th>parch</th>\n",
       "      <th>survived</th>\n",
       "      <th>FamilySize</th>\n",
       "      <th>IsAlone</th>\n",
       "      <th>Fare_class</th>\n",
       "      <th>Title_Master</th>\n",
       "      <th>Title_Miss</th>\n",
       "      <th>Title_Mr</th>\n",
       "      <th>Title_Mrs</th>\n",
       "      <th>Title_Rare</th>\n",
       "      <th>gender_male</th>\n",
       "      <th>embarked_Queenstown</th>\n",
       "      <th>embarked_Southampton</th>\n",
       "    </tr>\n",
       "  </thead>\n",
       "  <tbody>\n",
       "    <tr>\n",
       "      <th>alone</th>\n",
       "      <td>31.037662</td>\n",
       "      <td>2.403896</td>\n",
       "      <td>-0.37941</td>\n",
       "      <td>0.000000</td>\n",
       "      <td>0.000000</td>\n",
       "      <td>0.307792</td>\n",
       "      <td>1.000000</td>\n",
       "      <td>1.0</td>\n",
       "      <td>2.416883</td>\n",
       "      <td>0.001299</td>\n",
       "      <td>0.197403</td>\n",
       "      <td>0.727273</td>\n",
       "      <td>0.049351</td>\n",
       "      <td>0.022078</td>\n",
       "      <td>0.748052</td>\n",
       "      <td>0.127273</td>\n",
       "      <td>0.706494</td>\n",
       "    </tr>\n",
       "    <tr>\n",
       "      <th>medium_family</th>\n",
       "      <td>28.768879</td>\n",
       "      <td>2.036613</td>\n",
       "      <td>0.52011</td>\n",
       "      <td>0.871854</td>\n",
       "      <td>0.688787</td>\n",
       "      <td>0.562929</td>\n",
       "      <td>2.560641</td>\n",
       "      <td>0.0</td>\n",
       "      <td>3.791762</td>\n",
       "      <td>0.080092</td>\n",
       "      <td>0.185355</td>\n",
       "      <td>0.368421</td>\n",
       "      <td>0.336384</td>\n",
       "      <td>0.027460</td>\n",
       "      <td>0.471396</td>\n",
       "      <td>0.043478</td>\n",
       "      <td>0.647597</td>\n",
       "    </tr>\n",
       "    <tr>\n",
       "      <th>large-family</th>\n",
       "      <td>19.707317</td>\n",
       "      <td>2.707317</td>\n",
       "      <td>0.87581</td>\n",
       "      <td>3.317073</td>\n",
       "      <td>2.475610</td>\n",
       "      <td>0.182927</td>\n",
       "      <td>6.792683</td>\n",
       "      <td>0.0</td>\n",
       "      <td>4.219512</td>\n",
       "      <td>0.304878</td>\n",
       "      <td>0.329268</td>\n",
       "      <td>0.195122</td>\n",
       "      <td>0.170732</td>\n",
       "      <td>0.000000</td>\n",
       "      <td>0.500000</td>\n",
       "      <td>0.073171</td>\n",
       "      <td>0.865854</td>\n",
       "    </tr>\n",
       "  </tbody>\n",
       "</table>\n",
       "</div>"
      ],
      "text/plain": [
       "                     age     class     fare     sibsp     parch  survived  \\\n",
       "alone          31.037662  2.403896 -0.37941  0.000000  0.000000  0.307792   \n",
       "medium_family  28.768879  2.036613  0.52011  0.871854  0.688787  0.562929   \n",
       "large-family   19.707317  2.707317  0.87581  3.317073  2.475610  0.182927   \n",
       "\n",
       "               FamilySize  IsAlone  Fare_class  Title_Master  Title_Miss  \\\n",
       "alone            1.000000      1.0    2.416883      0.001299    0.197403   \n",
       "medium_family    2.560641      0.0    3.791762      0.080092    0.185355   \n",
       "large-family     6.792683      0.0    4.219512      0.304878    0.329268   \n",
       "\n",
       "               Title_Mr  Title_Mrs  Title_Rare  gender_male  \\\n",
       "alone          0.727273   0.049351    0.022078     0.748052   \n",
       "medium_family  0.368421   0.336384    0.027460     0.471396   \n",
       "large-family   0.195122   0.170732    0.000000     0.500000   \n",
       "\n",
       "               embarked_Queenstown  embarked_Southampton  \n",
       "alone                     0.127273              0.706494  \n",
       "medium_family             0.043478              0.647597  \n",
       "large-family              0.073171              0.865854  "
      ]
     },
     "execution_count": 25,
     "metadata": {},
     "output_type": "execute_result"
    }
   ],
   "source": [
    "num_cols = len(alone.columns) -1 \n",
    "family_mean_df = pd.DataFrame(np.zeros(num_cols *3).reshape(3,num_cols),\n",
    "                             index=['alone','medium_family','large-family'],\n",
    "                             columns=alone.columns[1:])\n",
    "family_mean_df.iloc[0,:] =  alone.describe().loc['mean',:] \n",
    "family_mean_df.iloc[1,:] =  medium_family.describe().loc['mean',:] \n",
    "family_mean_df.iloc[2,:] =  large_family.describe().loc['mean',:] \n",
    "family_mean_df"
   ]
  },
  {
   "cell_type": "code",
   "execution_count": 26,
   "id": "2bf841e5-ab98-451b-a44c-ac11d8056b0e",
   "metadata": {},
   "outputs": [
    {
     "data": {
      "text/plain": [
       "<AxesSubplot:title={'center':'Mean age of different groups'}, xlabel='group', ylabel='Value'>"
      ]
     },
     "execution_count": 26,
     "metadata": {},
     "output_type": "execute_result"
    },
    {
     "data": {
      "image/png": "[encoded data removed]",
      "text/plain": [
       "<Figure size 720x432 with 1 Axes>"
      ]
     },
     "metadata": {},
     "output_type": "display_data"
    }
   ],
   "source": [
    "family_mean_df[['age']].T.plot(kind=\"bar\", figsize=(10,6),title=\"Mean age of different groups\",\n",
    "                    xlabel=\"group\", ylabel=\"Value\")"
   ]
  },
  {
   "cell_type": "code",
   "execution_count": 27,
   "id": "037e18cb-4a28-4b53-b1b3-da03f954ed55",
   "metadata": {},
   "outputs": [
    {
     "data": {
      "text/plain": [
       "<AxesSubplot:title={'center':'Demographic of different groups'}, xlabel='group', ylabel='Value'>"
      ]
     },
     "execution_count": 27,
     "metadata": {},
     "output_type": "execute_result"
    },
    {
     "data": {
      "image/png": "[encoded data removed]",
      "text/plain": [
       "<Figure size 720x432 with 1 Axes>"
      ]
     },
     "metadata": {},
     "output_type": "display_data"
    }
   ],
   "source": [
    "family_mean_df[['Title_Master','Title_Miss','Title_Mrs','Title_Mr','gender_male']\n",
    "              ].T.plot(kind=\"bar\", figsize=(10,6),title=\"Demographic of different groups\",\n",
    "                    xlabel=\"group\", ylabel=\"Value\")"
   ]
  },
  {
   "cell_type": "markdown",
   "id": "a85fa8c5-1ec8-4b00-a24d-98e060869b70",
   "metadata": {},
   "source": [
    "From above we can see large family tend to have more kids, but wait! Didn't the kids go first？ \n",
    "\n",
    "<mark> In my opinion, children can't go alone. They need an adult, typically a women in this circumanstance to accompany them. But it's not possible to leave with some of the children while left the other of them behind. This can be explained by relunctance to leave their family. </mark>\n",
    "\n",
    "Another thing need to mention is most people that are traveling alone is male which may explains the low survival proportion of this group, i.e., family size is not the only factor.\n",
    "\n"
   ]
  },
  {
   "cell_type": "markdown",
   "id": "7cd50d12-61e5-4c24-9ce6-471b8147fe3d",
   "metadata": {
    "tags": []
   },
   "source": [
    "### Does married women more likely to survive?\n",
    "I'll compare the difference in survival propotion between Mrs and Miss"
   ]
  },
  {
   "cell_type": "code",
   "execution_count": 28,
   "id": "f2a6742f-1b4c-4a01-b2c8-a8aaac1cab01",
   "metadata": {},
   "outputs": [],
   "source": [
    "Mrs_df = with_sibsp[with_sibsp['Title_Mrs'] == 1]\n",
    "Miss_df = with_sibsp[with_sibsp['Title_Miss'] == 1]"
   ]
  },
  {
   "cell_type": "code",
   "execution_count": 29,
   "id": "e0fbb06c-fefc-45e2-b644-8c4dca0aaec9",
   "metadata": {},
   "outputs": [
    {
     "data": {
      "text/plain": [
       "Text(0.5, 1.0, 'survival difference between married and unmarried women')"
      ]
     },
     "execution_count": 29,
     "metadata": {},
     "output_type": "execute_result"
    },
    {
     "data": {
      "image/png": "[encoded data removed]",
      "text/plain": [
       "<Figure size 576x396 with 1 Axes>"
      ]
     },
     "metadata": {},
     "output_type": "display_data"
    }
   ],
   "source": [
    "perm_p, obs_diff, perm_diff = permutation_test(Mrs_df, Miss_df, 'survived')\n",
    "perm_plot(perm_p,  obs_diff, perm_diff, arrow_shift=(0.05,5))\n",
    "plt.title(\"survival difference between married and unmarried women\")\n"
   ]
  },
  {
   "cell_type": "code",
   "execution_count": 30,
   "id": "288e5fff-1e13-4e33-ac5c-256facfbf589",
   "metadata": {},
   "outputs": [
    {
     "data": {
      "text/plain": [
       "Text(0.5, 1.0, 'Class difference between married and unmarried women')"
      ]
     },
     "execution_count": 30,
     "metadata": {},
     "output_type": "execute_result"
    },
    {
     "data": {
      "image/png": "[encoded data removed]",
      "text/plain": [
       "<Figure size 576x396 with 1 Axes>"
      ]
     },
     "metadata": {},
     "output_type": "display_data"
    }
   ],
   "source": [
    "perm_p, obs_diff, perm_diff = permutation_test(Mrs_df, Miss_df, 'class')\n",
    "perm_plot(perm_p,  obs_diff, perm_diff, arrow_shift=(0.05,5))\n",
    "plt.title(\"Class difference between married and unmarried women\")\n"
   ]
  },
  {
   "cell_type": "markdown",
   "id": "3a625f26-8f6b-44fa-b7f3-819b17105f5e",
   "metadata": {},
   "source": [
    "The results showed married women are more likely to survive. This probably because married women are typically richer compared to unmarried women. Thus they are morelikely to stay in higer class and more likely to survive."
   ]
  },
  {
   "cell_type": "markdown",
   "id": "1586e3e5-953c-4811-9166-29680ef65da5",
   "metadata": {},
   "source": [
    "### Conclusion\n",
    "Now we can answer the first question, 'Does family members increase or decrerase the chance of survival?'. The answer is, it depends. \n",
    "\n",
    "Overall, passengers who are traveling with family members are more likely to survive compared to those who are traveling alone. The married women are more likely to survive compared to unmarried women. But if someone is travling with a large family, in this case, larger than 4, the survival chance will decrease. This may interpreted as they are reluctance to leave a spouse, children or other family members behind.\n",
    "\n",
    "However, family size may not be the dominant factor, we can see passengers who are traveling alone are mainly male which has been proved a negtive factor for survival in the previous notebook. The married women tend to be in a higer class compared to unmarried women, and the class also proved an important factor to the survival chance. The random forest model also told us these two factors are more important compared to family size.\n",
    "\n",
    "In summary, the family members can be one explanation for passengers being lost or saved to some extent."
   ]
  },
  {
   "cell_type": "markdown",
   "id": "89875483-6335-4b2c-93e9-c25d2f235ebf",
   "metadata": {},
   "source": [
    "## Why Fewer Third-class Women Were Saved.\n"
   ]
  },
  {
   "cell_type": "markdown",
   "id": "c5f495bf-85ab-4fbd-8e91-1dd893b814b1",
   "metadata": {},
   "source": [
    "I will put the 1st class and 2nd class women together since they are very similar."
   ]
  },
  {
   "cell_type": "markdown",
   "id": "a0eee9d9-3713-4f65-8f8d-0f19bbc59052",
   "metadata": {},
   "source": [
    "### Demographic Difference Between 1st & 2nd and 3rd Class Female\n",
    "First, we will look at the differences in the features we've got. "
   ]
  },
  {
   "cell_type": "code",
   "execution_count": 31,
   "id": "5fec9595-6831-469e-9510-44c54009a4a2",
   "metadata": {},
   "outputs": [],
   "source": [
    "# Select female passengers and group them according to their class \n",
    "class_3 = with_sibsp[with_sibsp['class'] == 3][with_sibsp['gender_male']==0]\n",
    "class_12 = with_sibsp[with_sibsp['class'] != 3][with_sibsp['gender_male']==0]"
   ]
  },
  {
   "cell_type": "code",
   "execution_count": 32,
   "id": "2b2bb7a1-fda6-4d98-8f1e-fa76e5102a1c",
   "metadata": {},
   "outputs": [
    {
     "data": {
      "text/plain": [
       "<AxesSubplot:>"
      ]
     },
     "execution_count": 32,
     "metadata": {},
     "output_type": "execute_result"
    },
    {
     "data": {
      "image/png": "[encoded data removed]",
      "text/plain": [
       "<Figure size 576x432 with 1 Axes>"
      ]
     },
     "metadata": {},
     "output_type": "display_data"
    }
   ],
   "source": [
    "num_cols = len(class_3.columns) -1 \n",
    "class_mean_df = pd.DataFrame(np.zeros(num_cols *2).reshape(2,num_cols),\n",
    "                             index=['class 3rd','class 12'],\n",
    "                             columns=alone.columns[1:])\n",
    "class_mean_df.iloc[0,:] =  class_3.describe().loc['mean',:] \n",
    "class_mean_df.iloc[1,:] =  class_12.describe().loc['mean',:] \n",
    "class_mean_df[['sibsp','parch','IsAlone','Title_Mrs','Title_Miss','survived']].T.plot(kind='bar',figsize=(8,6))"
   ]
  },
  {
   "cell_type": "code",
   "execution_count": 33,
   "id": "62efb7c3-fba8-49fe-874d-388eafac8e9f",
   "metadata": {},
   "outputs": [
    {
     "data": {
      "text/plain": [
       "<AxesSubplot:>"
      ]
     },
     "execution_count": 33,
     "metadata": {},
     "output_type": "execute_result"
    },
    {
     "data": {
      "image/png": "[encoded data removed]",
      "text/plain": [
       "<Figure size 360x288 with 1 Axes>"
      ]
     },
     "metadata": {},
     "output_type": "display_data"
    }
   ],
   "source": [
    "class_mean_df[['age']].T.plot(kind='bar',figsize=(5,4))"
   ]
  },
  {
   "cell_type": "markdown",
   "id": "bd95e459-aa78-4f37-b6e0-63d6e358bec7",
   "metadata": {},
   "source": [
    "We can conclude from the line graph above that 3rd class female are younger and mostly unmarried. They got more family members compared to 1st & 2nd class female. After going through both dataframes, we can find that 3rd class had more girls and young coples. "
   ]
  },
  {
   "cell_type": "markdown",
   "id": "a6cfbc6d-549a-4793-8b6b-efc19c395c2a",
   "metadata": {},
   "source": [
    "### Does Family Members Makes a Difference to 3rd Class Female"
   ]
  },
  {
   "cell_type": "code",
   "execution_count": 34,
   "id": "f3c481c8-5403-457d-82b9-c165b2ddea2e",
   "metadata": {},
   "outputs": [
    {
     "data": {
      "image/png": "[encoded data removed]",
      "text/plain": [
       "<Figure size 720x288 with 2 Axes>"
      ]
     },
     "metadata": {},
     "output_type": "display_data"
    }
   ],
   "source": [
    "plt.figure(figsize=(10,4))\n",
    "perm_p, obs_diff, perm_diff = permutation_test(with_sibsp[with_sibsp['sibsp']!=0], with_sibsp[with_sibsp['sibsp']==0], 'survived')\n",
    "plt.subplot(1,2,1,title='with or without sibsp in whole', xlabel=\"permuted survival proportion difference\") \n",
    "perm_plot(perm_p,obs_diff, perm_diff, arrow_shift=(0,10))\n",
    "perm_p, obs_diff, perm_diff = permutation_test(with_sibsp[with_sibsp['sibsp']!=0], with_sibsp[with_sibsp['sibsp']==0], 'survived')\n",
    "plt.subplot(1,2,2,title='with or without parch in whole', xlabel=\"permuted survival proportion difference\") \n",
    "perm_plot(perm_p,obs_diff, perm_diff, arrow_shift=(0,10))"
   ]
  },
  {
   "cell_type": "markdown",
   "id": "1a8e72f9-a072-402d-80ea-b406d4eaf02b",
   "metadata": {},
   "source": [
    "The figure above is similar to what we have done in previous part. The results proved that in general, travel with family will increase the chance of survival. Then we'll see if this is true in 3rd class female."
   ]
  },
  {
   "cell_type": "code",
   "execution_count": 36,
   "id": "6a389d0e-66a1-4d85-96e7-9f60bcaf8f20",
   "metadata": {},
   "outputs": [
    {
     "data": {
      "image/png": "[encoded data removed]",
      "text/plain": [
       "<Figure size 1152x720 with 6 Axes>"
      ]
     },
     "metadata": {},
     "output_type": "display_data"
    }
   ],
   "source": [
    "plt.figure(figsize=(16,10))\n",
    "perm_p, obs_diff, perm_diff = permutation_test(class_3[class_3['sibsp']!=0], class_3[class_3['sibsp']==0], 'survived')\n",
    "plt.subplot(2,3,1,title='with or without sibsp in 3rd class', xlabel=\"permuted survival proportion difference\") \n",
    "perm_plot(perm_p,obs_diff, perm_diff, arrow_shift=(0,6))\n",
    "perm_p, obs_diff, perm_diff = permutation_test(class_3[class_3['parch']!=0], class_3[class_3['parch']==0], 'survived')\n",
    "plt.subplot(2,3,2,title='with or without parch in 3rd class', xlabel=\"permuted survival proportion difference\") \n",
    "perm_plot(perm_p,obs_diff, perm_diff, arrow_shift=(0,6))\n",
    "perm_p, obs_diff, perm_diff = permutation_test(class_3[class_3['FamilySize']!=1], class_3[class_3['FamilySize']==1], 'survived')\n",
    "plt.subplot(2,3,3,title='with or without family in 3rd class', xlabel=\"permuted survival proportion difference\") \n",
    "perm_plot(perm_p,obs_diff, perm_diff, arrow_shift=(-0.06,6))\n",
    "perm_p, obs_diff, perm_diff = permutation_test(class_12[class_12['sibsp']!=0], class_12[class_12['sibsp']==0], 'survived')\n",
    "plt.subplot(2,3,4,title='with or without sibsp in 1st & 2nd class', xlabel=\"permuted survival proportion difference\") \n",
    "perm_plot(perm_p,obs_diff, perm_diff, arrow_shift=(-0.06,10))\n",
    "perm_p, obs_diff, perm_diff = permutation_test(class_12[class_12['sibsp']!=0], class_12[class_12['sibsp']==0], 'survived')\n",
    "plt.subplot(2,3,5,title='with or without parch in 1st & 2nd class', xlabel=\"permuted survival proportion difference\") \n",
    "perm_plot(perm_p,obs_diff, perm_diff, arrow_shift=(-0.06,10))\n",
    "perm_p, obs_diff, perm_diff = permutation_test(class_12[class_12['FamilySize']!=1], class_12[class_12['FamilySize']==1], 'survived')\n",
    "plt.subplot(2,3,6,title='with or without family in 1st & 2nd class', xlabel=\"permuted survival proportion difference\") \n",
    "perm_plot(perm_p,obs_diff, perm_diff, arrow_shift=(0.06,10))\n"
   ]
  },
  {
   "cell_type": "markdown",
   "id": "58e415a1-5121-4cdf-8d49-0f4a641b88db",
   "metadata": {},
   "source": [
    "### Conclusion\n",
    "Although we should reject our null hypothesis here according to beverini correction, but results show a clear trend that 3rd class female that are travelling with relatives are more unlikely to survive. However, female from 1st & 2nd class didn't show the same trend. This may be explained by the fact that the young wives, maybe with children, would be more reluctant to leave their husbands behind on the ship. \n",
    "\n",
    "One more thing need to explain is the results are very different from what we saw from the whole population, this may because most male who are travelling alone won't survive thus shifts the data. So the result is different in female groups."
   ]
  },
  {
   "cell_type": "code",
   "execution_count": null,
   "id": "75782bda-f2ca-4bec-9325-5a895ee7a5be",
   "metadata": {},
   "outputs": [],
   "source": []
  }
 ],
 "metadata": {
  "deepnote": {},
  "deepnote_execution_queue": [],
  "deepnote_notebook_id": "91d45f29-4a05-4fce-b7df-a190cd206f1e",
  "jupytext": {
   "split_at_heading": true,
   "text_representation": {
    "extension": ".Rmd",
    "format_name": "rmarkdown",
    "format_version": "1.1",
    "jupytext_version": "1.2.4"
   }
  },
  "kernelspec": {
   "display_name": "Python 3 (ipykernel)",
   "language": "python",
   "name": "python3"
  },
  "language_info": {
   "codemirror_mode": {
    "name": "ipython",
    "version": 3
   },
   "file_extension": ".py",
   "mimetype": "text/x-python",
   "name": "python",
   "nbconvert_exporter": "python",
   "pygments_lexer": "ipython3",
   "version": "3.8.12"
  },
  "toc-autonumbering": true,
  "toc-showtags": false
 },
 "nbformat": 4,
 "nbformat_minor": 5
}
