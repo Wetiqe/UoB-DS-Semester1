{
 "cells": [
  {
   "cell_type": "markdown",
   "id": "d0cff51a",
   "metadata": {
    "cell_id": "00000-1e639696-d6a6-4e20-95f9-5ece7baa1664",
    "deepnote_cell_type": "markdown"
   },
   "source": [
    "# Spouses, baggage"
   ]
  },
  {
   "cell_type": "markdown",
   "id": "172295a6",
   "metadata": {
    "cell_id": "00001-a53e8a6d-6080-4b68-951e-1d139beca22e",
    "deepnote_cell_type": "markdown"
   },
   "source": [
    "We found, in the Titanic dataset, that Third Class passengers were less likely to survive the disaster.\n",
    "\n",
    "Why?\n",
    "\n",
    "Was it because they were locked behind gates while the higher-class passengers were being boarded onto lifeboats?  Or some other reason?"
   ]
  },
  {
   "cell_type": "code",
   "execution_count": 2,
   "id": "80d381db",
   "metadata": {
    "cell_id": "00002-0a8cc671-ec47-4f9f-90e6-6be82f3d90f3",
    "deepnote_cell_type": "code"
   },
   "outputs": [],
   "source": [
    "# Run this cell to start.\n",
    "import numpy as np\n",
    "import pandas as pd\n",
    "# Safe settings for Pandas.\n",
    "pd.set_option('mode.chained_assignment', 'raise')\n",
    "\n",
    "%matplotlib inline\n",
    "import matplotlib.pyplot as plt\n",
    "plt.style.use('fivethirtyeight')"
   ]
  },
  {
   "cell_type": "markdown",
   "id": "68856a5c",
   "metadata": {
    "cell_id": "00003-086f5841-5b26-496f-9a46-0fe9a7c625c1",
    "deepnote_cell_type": "markdown"
   },
   "source": [
    "The official report into the disaster was the [British Wreck Commissioner's\n",
    "Inquiry report](https://www.titanicinquiry.org/BOTInq/BOTReport/botRep01.php)\n",
    "by [Lord\n",
    "Mersey](https://en.wikipedia.org/wiki/John_Bigham,_1st_Viscount_Mersey).\n",
    "\n",
    "There is a short section of the report entitled [Third Class\n",
    "Passengers](https://www.titanicinquiry.org/BOTInq/BOTReport/botRep3rdClass.php).\n",
    "It includes:\n",
    "\n",
    "> It had been suggested before the Enquiry that the third class passengers had\n",
    "> been unfairly treated; that their access to the Boat deck had been impeded,\n",
    "> and that when at last they reached that deck the first and second class\n",
    "> passengers were given precedence in getting places in the boats. There\n",
    "> appears to have been no truth in these suggestions. It is no doubt true that\n",
    "> the proportion of third class passengers saved falls far short of the\n",
    "> proportion of the first and second class, but this is accounted for by the\n",
    "> greater reluctance of the third class passengers to leave the ship, by their\n",
    "> unwillingness to part with their baggage, by the difficulty in getting them\n",
    "> up from their quarters, which were at the extreme ends of the ship, and by\n",
    "> other similar causes."
   ]
  },
  {
   "cell_type": "markdown",
   "id": "76ac240d",
   "metadata": {
    "cell_id": "00004-18426357-7e4d-4f0b-a4d5-63931b9761eb",
    "deepnote_cell_type": "markdown"
   },
   "source": [
    "Your job in this notebook it is to explore the evidence in the data for the\n",
    "\"greater reluctance of the third class passengers to leave the ship\".\n",
    "\n",
    "For example, we see [figures in Lord Mersey's\n",
    "report](https://www.titanicinquiry.org/BOTInq/BOTReport/botRepSaved.php), using\n",
    "slightly different data from the data you have here, that show:\n",
    "\n",
    "* 16% of adult male Third Class passengers survived, compared to 8% of Second\n",
    "  Class males, and 33% of First Class males;\n",
    "* The corresponding figures for women are 46% (Third) 86% (Second) 97% (First).\n",
    "\n",
    "Why were Third Class women about half as likely to be saved as Second Class\n",
    "women, when Third Class men were, if anything, more likely to be saved than\n",
    "Second Class men?"
   ]
  },
  {
   "cell_type": "markdown",
   "id": "d9cc8939",
   "metadata": {
    "cell_id": "00005-05fe1c87-0d57-45ef-8a10-18ce2e991e83",
    "deepnote_cell_type": "markdown"
   },
   "source": [
    "One possible explanation is that Third Class passengers were more likely to be\n",
    "young couples, maybe with children.   It may well have been true the young\n",
    "wives, maybe with children, would be more reluctant to leave their husbands\n",
    "behind on the ship.  See [Rhoda Abbott's\n",
    "story](https://en.wikipedia.org/wiki/Rhoda_Abbott) for an example."
   ]
  },
  {
   "cell_type": "markdown",
   "id": "dc7671dd",
   "metadata": {
    "cell_id": "00006-530bba83-0a52-4275-adfe-9cb052bc7ad0",
    "deepnote_cell_type": "markdown"
   },
   "source": [
    "One way of getting at this effect could be to use the `sibsp` and `parch`\n",
    "columns of the dataset:"
   ]
  },
  {
   "cell_type": "code",
   "execution_count": 3,
   "id": "f95f45e3",
   "metadata": {
    "cell_id": "00007-882d8c0e-01e8-4cb2-8b6c-4f0bb7174410",
    "deepnote_cell_type": "code"
   },
   "outputs": [
    {
     "data": {
      "text/html": [
       "<div>\n",
       "<style scoped>\n",
       "    .dataframe tbody tr th:only-of-type {\n",
       "        vertical-align: middle;\n",
       "    }\n",
       "\n",
       "    .dataframe tbody tr th {\n",
       "        vertical-align: top;\n",
       "    }\n",
       "\n",
       "    .dataframe thead th {\n",
       "        text-align: right;\n",
       "    }\n",
       "</style>\n",
       "<table border=\"1\" class=\"dataframe\">\n",
       "  <thead>\n",
       "    <tr style=\"text-align: right;\">\n",
       "      <th></th>\n",
       "      <th>name</th>\n",
       "      <th>gender</th>\n",
       "      <th>age</th>\n",
       "      <th>class</th>\n",
       "      <th>embarked</th>\n",
       "      <th>country</th>\n",
       "      <th>ticketno</th>\n",
       "      <th>fare</th>\n",
       "      <th>sibsp</th>\n",
       "      <th>parch</th>\n",
       "      <th>survived</th>\n",
       "    </tr>\n",
       "  </thead>\n",
       "  <tbody>\n",
       "    <tr>\n",
       "      <th>0</th>\n",
       "      <td>Abbing, Mr. Anthony</td>\n",
       "      <td>male</td>\n",
       "      <td>42.0</td>\n",
       "      <td>3rd</td>\n",
       "      <td>Southampton</td>\n",
       "      <td>United States</td>\n",
       "      <td>5547.0</td>\n",
       "      <td>7.11</td>\n",
       "      <td>0.0</td>\n",
       "      <td>0.0</td>\n",
       "      <td>no</td>\n",
       "    </tr>\n",
       "    <tr>\n",
       "      <th>1</th>\n",
       "      <td>Abbott, Mr. Eugene Joseph</td>\n",
       "      <td>male</td>\n",
       "      <td>13.0</td>\n",
       "      <td>3rd</td>\n",
       "      <td>Southampton</td>\n",
       "      <td>United States</td>\n",
       "      <td>2673.0</td>\n",
       "      <td>20.05</td>\n",
       "      <td>0.0</td>\n",
       "      <td>2.0</td>\n",
       "      <td>no</td>\n",
       "    </tr>\n",
       "    <tr>\n",
       "      <th>2</th>\n",
       "      <td>Abbott, Mr. Rossmore Edward</td>\n",
       "      <td>male</td>\n",
       "      <td>16.0</td>\n",
       "      <td>3rd</td>\n",
       "      <td>Southampton</td>\n",
       "      <td>United States</td>\n",
       "      <td>2673.0</td>\n",
       "      <td>20.05</td>\n",
       "      <td>1.0</td>\n",
       "      <td>1.0</td>\n",
       "      <td>no</td>\n",
       "    </tr>\n",
       "    <tr>\n",
       "      <th>3</th>\n",
       "      <td>Abbott, Mrs. Rhoda Mary 'Rosa'</td>\n",
       "      <td>female</td>\n",
       "      <td>39.0</td>\n",
       "      <td>3rd</td>\n",
       "      <td>Southampton</td>\n",
       "      <td>England</td>\n",
       "      <td>2673.0</td>\n",
       "      <td>20.05</td>\n",
       "      <td>1.0</td>\n",
       "      <td>1.0</td>\n",
       "      <td>yes</td>\n",
       "    </tr>\n",
       "    <tr>\n",
       "      <th>4</th>\n",
       "      <td>Abelseth, Miss. Karen Marie</td>\n",
       "      <td>female</td>\n",
       "      <td>16.0</td>\n",
       "      <td>3rd</td>\n",
       "      <td>Southampton</td>\n",
       "      <td>Norway</td>\n",
       "      <td>348125.0</td>\n",
       "      <td>7.13</td>\n",
       "      <td>0.0</td>\n",
       "      <td>0.0</td>\n",
       "      <td>yes</td>\n",
       "    </tr>\n",
       "  </tbody>\n",
       "</table>\n",
       "</div>"
      ],
      "text/plain": [
       "                             name  gender   age class     embarked  \\\n",
       "0             Abbing, Mr. Anthony    male  42.0   3rd  Southampton   \n",
       "1       Abbott, Mr. Eugene Joseph    male  13.0   3rd  Southampton   \n",
       "2     Abbott, Mr. Rossmore Edward    male  16.0   3rd  Southampton   \n",
       "3  Abbott, Mrs. Rhoda Mary 'Rosa'  female  39.0   3rd  Southampton   \n",
       "4     Abelseth, Miss. Karen Marie  female  16.0   3rd  Southampton   \n",
       "\n",
       "         country  ticketno   fare  sibsp  parch survived  \n",
       "0  United States    5547.0   7.11    0.0    0.0       no  \n",
       "1  United States    2673.0  20.05    0.0    2.0       no  \n",
       "2  United States    2673.0  20.05    1.0    1.0       no  \n",
       "3        England    2673.0  20.05    1.0    1.0      yes  \n",
       "4         Norway  348125.0   7.13    0.0    0.0      yes  "
      ]
     },
     "execution_count": 3,
     "metadata": {},
     "output_type": "execute_result"
    }
   ],
   "source": [
    "# Read the dataset as a data frame.\n",
    "titanic = pd.read_csv(\"titanic_stlearn.csv\")\n",
    "# Boolean with True for passengers with not-NA sibsp values, False otherwise.\n",
    "have_sibsp = titanic['sibsp'].notna()\n",
    "# Select rows with value (not-NA) sibsp values.\n",
    "with_sibsp = titanic[have_sibsp]\n",
    "with_sibsp.head()"
   ]
  },
  {
   "cell_type": "markdown",
   "id": "d0fca6d4",
   "metadata": {
    "cell_id": "00008-ddc510be-c579-4105-bb65-30d83ad8d182",
    "deepnote_cell_type": "markdown"
   },
   "source": [
    "Here we have dropped all cases where the `sibsp` value is missing, but you might want to:\n",
    "\n",
    "1. Investigate why the `sibsp` values might be missing, and\n",
    "2. Consider restoring some of the passengers where the value is missing, or\n",
    "   removing more passengers that do not correspond to your questions."
   ]
  },
  {
   "cell_type": "markdown",
   "id": "88d2cb38",
   "metadata": {
    "cell_id": "00009-342df910-d0e3-4704-8bfd-11f08c5ab8b7",
    "deepnote_cell_type": "markdown"
   },
   "source": [
    "You will find more information about the `sibsp` and `parch` variables in the\n",
    "[Vanderbilt site info\n",
    "file](http://biostat.mc.vanderbilt.edu/wiki/pub/Main/DataSets/titanic3info.txt).\n",
    "Quoting from that file:\n",
    "\n",
    "> sibsp           Number of Siblings/Spouses Aboard\n",
    ">\n",
    "> parch           Number of Parents/Children Aboard\n",
    ">\n",
    "> ...\n",
    ">\n",
    "> With respect to the family relation variables (i.e. sibsp and parch) some\n",
    "> relations were ignored.  The following are the definitions used for sibsp and\n",
    "> parch.\n",
    ">\n",
    "> Sibling:  Brother, Sister, Stepbrother, or Stepsister of Passenger Aboard\n",
    ">           Titanic\n",
    ">\n",
    "> Spouse:   Husband or Wife of Passenger Aboard Titanic (Mistresses and\n",
    ">           Fiancées Ignored)\n",
    ">\n",
    "> Parent:   Mother or Father of Passenger Aboard Titanic\n",
    ">\n",
    "> Child:    Son, Daughter, Stepson, or Stepdaughter of Passenger Aboard Titanic\n",
    ">\n",
    "> Other family relatives excluded from this study include cousins,\n",
    "> nephews/nieces, aunts/uncles, and in-laws.  Some children travelled only with\n",
    "> a nanny, therefore parch=0 for them.  As well, some travelled with very close\n",
    "> friends or neighbors in a village, however, the definitions do not support\n",
    "> such relations.\n",
    "\n",
    "Of course, you also have the passengers' names to go on, including the names of\n",
    "the children, and any research you do into the passengers and their families."
   ]
  },
  {
   "cell_type": "markdown",
   "id": "599fd579",
   "metadata": {
    "cell_id": "00010-018420a5-51f8-4b66-9e2a-04cd862126e7",
    "deepnote_cell_type": "markdown"
   },
   "source": [
    "Use the variables in the data file, and any other methods you can come up with,\n",
    "to test the following ideas:\n",
    "\n",
    "1. One explanation for passengers being lost or saved was reluctance to leave a\n",
    "   spouse, children or other family behind and\n",
    "2. This goes some way to explaining the relatively low proportion of Third\n",
    "   Class female passengers that were saved.\n",
    "\n",
    "Give your assessment of both of these ideas, along with the analyses that\n",
    "support your conclusions.\n"
   ]
  },
  {
   "cell_type": "markdown",
   "id": "a1fbb57f",
   "metadata": {
    "cell_id": "00011-97796c2e-540d-4518-93ba-e1d3dce3f8d2",
    "deepnote_cell_type": "markdown"
   },
   "source": [
    "## Marking scheme"
   ]
  },
  {
   "cell_type": "markdown",
   "id": "05d7c4bf",
   "metadata": {
    "cell_id": "00012-037cdd87-6d45-4e89-93b5-537844e24e4e",
    "deepnote_cell_type": "markdown"
   },
   "source": [
    "* Depth of analysis: 25% of marks.\n",
    "* Analysis appropriate to questions: 25% of marks.\n",
    "* Quality, clarity and organization of analysis code: 25% of marks.\n",
    "* Answers based in analysis: 25% of marks.\n"
   ]
  },
  {
   "cell_type": "markdown",
   "id": "0c2a1964",
   "metadata": {
    "cell_id": "00013-6f65f6c0-88f6-4f99-b0d0-b3d0ac066dc2",
    "deepnote_cell_type": "markdown"
   },
   "source": [
    "## Your analysis"
   ]
  },
  {
   "cell_type": "markdown",
   "id": "8b800723",
   "metadata": {
    "cell_id": "00014-08b7231d-0f0d-4758-a047-90e6ffca7741",
    "deepnote_cell_type": "markdown"
   },
   "source": [
    "Fill out the notebook with your analysis and answers from here."
   ]
  },
  {
   "cell_type": "markdown",
   "id": "a5c4ba19",
   "metadata": {
    "created_in_deepnote_cell": true,
    "deepnote_cell_type": "markdown",
    "tags": []
   },
   "source": [
    "<a style='text-decoration:none;line-height:16px;display:flex;color:#5B5B62;padding:10px;justify-content:end;' href='https://deepnote.com?utm_source=created-in-deepnote-cell&projectId=4baa562c-a0d9-4609-b164-a535ee9fd45a' target=\"_blank\">\n",
    "<img alt='Created in deepnote.com' style='display:inline;max-height:16px;margin:0px;margin-right:7.5px;' src='data:image/svg+xml;base64,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' > </img>\n",
    "Created in <span style='font-weight:600;margin-left:4px;'>Deepnote</span></a>"
   ]
  }
 ],
 "metadata": {
  "deepnote": {},
  "deepnote_execution_queue": [],
  "deepnote_notebook_id": "91d45f29-4a05-4fce-b7df-a190cd206f1e",
  "jupytext": {
   "split_at_heading": true,
   "text_representation": {
    "extension": ".Rmd",
    "format_name": "rmarkdown",
    "format_version": "1.1",
    "jupytext_version": "1.2.4"
   }
  },
  "kernelspec": {
   "display_name": "Python 3 (ipykernel)",
   "language": "python",
   "name": "python3"
  },
  "language_info": {
   "codemirror_mode": {
    "name": "ipython",
    "version": 3
   },
   "file_extension": ".py",
   "mimetype": "text/x-python",
   "name": "python",
   "nbconvert_exporter": "python",
   "pygments_lexer": "ipython3",
   "version": "3.8.12"
  }
 },
 "nbformat": 4,
 "nbformat_minor": 5
}
