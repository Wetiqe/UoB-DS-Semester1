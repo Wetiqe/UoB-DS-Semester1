{
 "cells": [
  {
   "cell_type": "markdown",
   "id": "a0e7c74c",
   "metadata": {
    "cell_id": "00000-1de3ddea-23b8-4ae3-aa1f-f1fdf9b074b5",
    "deepnote_cell_type": "markdown"
   },
   "source": [
    "# The Oxford AstraZeneca dilemma\n",
    "\n",
    "The Oxford-AstraZeneca (OxAZ) vaccine was the first for which we had a full\n",
    "published and peer-reviewed paper on the results of the phase 3 clinical trial.\n",
    "\n",
    "Phase 3 trials assess whether the vaccine is effective for preventing\n",
    "infection.\n",
    "\n",
    "There was an odd aspect to the OxAZ trial, where a proportion of the\n",
    "participants accidentally got a low first dose of the vaccine.  The data later\n",
    "suggested that giving this lower dose made the vaccine more effective.\n",
    "\n",
    "Here we will analyze the data from the OxAZ trial, and consider how confident\n",
    "we can be in this odd finding.\n"
   ]
  },
  {
   "cell_type": "markdown",
   "id": "8e36a3c0",
   "metadata": {
    "cell_id": "00001-59cbdd85-e040-4be3-8cdc-7f6fb4181326",
    "deepnote_cell_type": "markdown"
   },
   "source": [
    "## Getting started"
   ]
  },
  {
   "cell_type": "code",
   "execution_count": 1,
   "id": "dc970f5c",
   "metadata": {
    "cell_id": "00002-e53e21d9-388d-4ce7-bbed-fa894027dcb4",
    "deepnote_cell_type": "code"
   },
   "outputs": [
    {
     "name": "stdout",
     "output_type": "stream",
     "text": [
      "=====================================================================\n",
      "Assignment: oxford astrazenica\n",
      "OK, version v1.18.1\n",
      "=====================================================================\n",
      "\n"
     ]
    }
   ],
   "source": [
    "# Don't change this cell; just run it.\n",
    "import numpy as np\n",
    "import pandas as pd\n",
    "# Safe settings for Pandas.\n",
    "pd.set_option('mode.chained_assignment', 'raise')\n",
    "import matplotlib.pyplot as plt\n",
    "%matplotlib inline\n",
    "\n",
    "# The OKpy testing system.\n",
    "from client.api.notebook import Notebook\n",
    "ok = Notebook('oxford_astrazeneca.ok')"
   ]
  },
  {
   "cell_type": "markdown",
   "id": "6ffbc952",
   "metadata": {
    "cell_id": "00003-e788ced0-06ba-4b80-a10e-3bed9e2a351b",
    "deepnote_cell_type": "markdown"
   },
   "source": [
    "## The trial data\n",
    "\n",
    "We are looking at the data from the [Oxford-Astrazeneca vaccine trial results\n",
    "paper](https://www.thelancet.com/journals/lancet/article/PIIS0140-6736(20)32661-1/)\n",
    "\n",
    "There were various arms of the study.  Here we are looking at the UK arm of\n",
    "the study called \"COV002\" in the paper.\n",
    "\n",
    "Each arm had two groups.  One group got the new Coronavirus vaccine - we will\n",
    "call that the \"Covax\" group.  The other \"Control\" group got a control\n",
    "injection, that did not have the Coronavirus vaccine.  In fact, for the\n",
    "studies below, the control injection was a vaccine against an infection that\n",
    "causes meningitis.\n",
    "\n",
    "In each group, the subjects got two injections of their allocated type\n",
    "(\"Covax\" or \"Control\").  The paper calls the first and second injections the\n",
    "\"priming\" and \"booster\" doses, respectively.\n",
    "\n",
    "The planned Standard Dose (SD) of \"Covax\" was 50 billion viral particles.\n",
    "\n",
    "In fact, due to a mistake in the manufacturing and measurement process, some\n",
    "of the participants in the \"COV002\" arm got a priming dose that was about half\n",
    "the standard dose (SD);  the paper refers to this as the Low Dose (LD)\n",
    "injection.\n",
    "\n",
    "This meant that the COV002 arm became two arms, according to their first\n",
    "(priming) dose:\n",
    "\n",
    "1. LD priming / SD booster - \"LD/SD\" in the paper; we will call this \"LD\" for\n",
    "   short.\n",
    "2. SD priming / SD booster - \"SD/SD\"; \"SD\" for short.\n",
    "\n",
    "For various reasons, the LD group had a median time between priming and\n",
    "booster dose of 84 days, compared to a median of 69 days in the SD group.\n",
    "\n",
    "The interim analysis in the paper reports the number of symptomatic COVID-19\n",
    "cases in each group that occurred at least 14 days after the booster (second)\n",
    "injection.\n",
    "\n",
    "From data in table 2 of the paper, participants in the LD group had an average\n",
    "of 53.4 days of follow up, compared to 40.5 days in the SD group.\n",
    "\n",
    "Here are the data derived from table 2 of the paper:"
   ]
  },
  {
   "cell_type": "code",
   "execution_count": 2,
   "id": "000065e6",
   "metadata": {
    "cell_id": "00004-a8f7c158-d239-496a-9fc4-9fd50d3a486d",
    "deepnote_cell_type": "code"
   },
   "outputs": [
    {
     "data": {
      "text/html": [
       "<div>\n",
       "<style scoped>\n",
       "    .dataframe tbody tr th:only-of-type {\n",
       "        vertical-align: middle;\n",
       "    }\n",
       "\n",
       "    .dataframe tbody tr th {\n",
       "        vertical-align: top;\n",
       "    }\n",
       "\n",
       "    .dataframe thead th {\n",
       "        text-align: right;\n",
       "    }\n",
       "</style>\n",
       "<table border=\"1\" class=\"dataframe\">\n",
       "  <thead>\n",
       "    <tr style=\"text-align: right;\">\n",
       "      <th></th>\n",
       "      <th>Dose</th>\n",
       "      <th>Group</th>\n",
       "      <th>N</th>\n",
       "      <th>Cases</th>\n",
       "    </tr>\n",
       "  </thead>\n",
       "  <tbody>\n",
       "    <tr>\n",
       "      <th>0</th>\n",
       "      <td>LD</td>\n",
       "      <td>Control</td>\n",
       "      <td>1374</td>\n",
       "      <td>30</td>\n",
       "    </tr>\n",
       "    <tr>\n",
       "      <th>1</th>\n",
       "      <td>LD</td>\n",
       "      <td>Covax</td>\n",
       "      <td>1367</td>\n",
       "      <td>3</td>\n",
       "    </tr>\n",
       "    <tr>\n",
       "      <th>2</th>\n",
       "      <td>SD</td>\n",
       "      <td>Control</td>\n",
       "      <td>2430</td>\n",
       "      <td>38</td>\n",
       "    </tr>\n",
       "    <tr>\n",
       "      <th>3</th>\n",
       "      <td>SD</td>\n",
       "      <td>Covax</td>\n",
       "      <td>2377</td>\n",
       "      <td>15</td>\n",
       "    </tr>\n",
       "  </tbody>\n",
       "</table>\n",
       "</div>"
      ],
      "text/plain": [
       "  Dose    Group     N  Cases\n",
       "0   LD  Control  1374     30\n",
       "1   LD    Covax  1367      3\n",
       "2   SD  Control  2430     38\n",
       "3   SD    Covax  2377     15"
      ]
     },
     "execution_count": 2,
     "metadata": {},
     "output_type": "execute_result"
    }
   ],
   "source": [
    "# Run this cell.\n",
    "ox_vax = pd.read_csv('ox_astra_cov002.csv')\n",
    "ox_vax"
   ]
  },
  {
   "cell_type": "markdown",
   "id": "ea4c0be0",
   "metadata": {
    "cell_id": "00005-5888c1ec-c07c-46ae-aa84-59d2809e7b6e",
    "deepnote_cell_type": "markdown"
   },
   "source": [
    "The `N` column has the number of participants in the given Dose / Group, and\n",
    "`Cases` has the number of COVID-19 cases that occurred 14 days or more after\n",
    "the booster dose."
   ]
  },
  {
   "cell_type": "markdown",
   "id": "c69e8136",
   "metadata": {
    "cell_id": "00006-b9eaf410-d695-4329-add5-50fc8a2a36cf",
    "deepnote_cell_type": "markdown"
   },
   "source": [
    "Calculate the proportion of *all* participants that got COVID-19.\n",
    "\n",
    "*Hint* : consider the `sum` method of the data frame."
   ]
  },
  {
   "cell_type": "code",
   "execution_count": 3,
   "id": "e1fec05b",
   "metadata": {
    "cell_id": "00007-c8b59e97-5074-45d8-a44d-b973231efe0c",
    "deepnote_cell_type": "code"
   },
   "outputs": [
    {
     "data": {
      "text/plain": [
       "0.011393746687864335"
      ]
     },
     "execution_count": 3,
     "metadata": {},
     "output_type": "execute_result"
    }
   ],
   "source": [
    "prop_covid = ox_vax['Cases'].sum() / ox_vax['N'].sum()\n",
    "prop_covid"
   ]
  },
  {
   "cell_type": "code",
   "execution_count": 4,
   "id": "5e57b4c1",
   "metadata": {
    "cell_id": "00008-a0349bfb-a6ad-47bb-8c71-340b36388447",
    "deepnote_cell_type": "code"
   },
   "outputs": [
    {
     "name": "stdout",
     "output_type": "stream",
     "text": [
      "~~~~~~~~~~~~~~~~~~~~~~~~~~~~~~~~~~~~~~~~~~~~~~~~~~~~~~~~~~~~~~~~~~~~~\n",
      "Running tests\n",
      "\n",
      "---------------------------------------------------------------------\n",
      "Test summary\n",
      "    Passed: 3\n",
      "    Failed: 0\n",
      "[ooooooooook] 100.0% passed\n",
      "\n"
     ]
    }
   ],
   "source": [
    "_ = ok.grade('q_prop_covid')"
   ]
  },
  {
   "cell_type": "markdown",
   "id": "120a2ff1",
   "metadata": {
    "cell_id": "00009-7db4d4cc-7364-4ae3-9377-81306ad16c1c",
    "deepnote_cell_type": "markdown"
   },
   "source": [
    "Make a function called `calc_prop_cases` that accepts a data frame like\n",
    "`ox_vax`, and returns the total number of `Cases`, divided by the total number\n",
    "in `N`. This is the proportion of cases in the group, for the given data\n",
    "frame.\n",
    "\n",
    "A \"data frame like `ox_vax`\" is a data frame that has columns `N` and `Cases`\n",
    "with the same meaning as for the `ox_vax` data frame.\n",
    "\n",
    "*Hint*: be very careful to use the data frame *like* `ox_vax` and not `ox_vax`\n",
    "itself inside your function."
   ]
  },
  {
   "cell_type": "code",
   "execution_count": 5,
   "id": "6acb5796",
   "metadata": {
    "cell_id": "00010-e1ad1464-152e-4c4b-af79-8ea0186e69bd",
    "deepnote_cell_type": "code"
   },
   "outputs": [],
   "source": [
    "def calc_prop_cases(df):\n",
    "    return df['Cases'].sum() / df['N'].sum()"
   ]
  },
  {
   "cell_type": "code",
   "execution_count": 6,
   "id": "4cfbabba",
   "metadata": {
    "cell_id": "00011-7d47d634-26f3-4581-93f3-659eeb1cf995",
    "deepnote_cell_type": "code"
   },
   "outputs": [
    {
     "data": {
      "text/plain": [
       "0.011393746687864335"
      ]
     },
     "execution_count": 6,
     "metadata": {},
     "output_type": "execute_result"
    }
   ],
   "source": [
    "# Check this function returns the same value as you calculated above, when\n",
    "# called on the whole table.\n",
    "calc_prop_cases(ox_vax)"
   ]
  },
  {
   "cell_type": "code",
   "execution_count": 7,
   "id": "f407be8f",
   "metadata": {
    "cell_id": "00012-2695029a-06bd-4f9f-ab1b-601096e2bb0c",
    "deepnote_cell_type": "code"
   },
   "outputs": [
    {
     "name": "stdout",
     "output_type": "stream",
     "text": [
      "~~~~~~~~~~~~~~~~~~~~~~~~~~~~~~~~~~~~~~~~~~~~~~~~~~~~~~~~~~~~~~~~~~~~~\n",
      "Running tests\n",
      "\n",
      "---------------------------------------------------------------------\n",
      "Test summary\n",
      "    Passed: 7\n",
      "    Failed: 0\n",
      "[ooooooooook] 100.0% passed\n",
      "\n"
     ]
    }
   ],
   "source": [
    "_ = ok.grade('q_calc_prop_cases')"
   ]
  },
  {
   "cell_type": "markdown",
   "id": "0e01a1a5",
   "metadata": {
    "cell_id": "00013-4ed98b4f-ac67-4575-8da7-284854c2706a",
    "deepnote_cell_type": "markdown"
   },
   "source": [
    "One way of calculating the vaccine efficiency, it to calculate the drop in the\n",
    "risk of getting COVID-19 in the vaccine group, compared to the control.\n",
    "\n",
    "As you will see from the paper, we first calculate the *relative risk* (RR) of\n",
    "getting COVID-19 after the vaccine.  The RR is the *proportion* of people\n",
    "getting COVID-19 *after the vaccine* divided by the proportion of people\n",
    "getting COVID-19 *after the control*.\n",
    "\n",
    "Efficiency is 1 minus the relative risk (RR).\n",
    "\n",
    "*Hint* : You might want to use your function above.\n",
    "\n",
    "*Hint 2* : You will get a similar, but different number from the paper.  The\n",
    "paper is using some fancy adjustments for patient age and for number of days\n",
    "follow-up."
   ]
  },
  {
   "cell_type": "code",
   "execution_count": 8,
   "id": "8b7698d1",
   "metadata": {
    "cell_id": "00014-018c5f44-28d6-4722-afc5-6575dc60eecc",
    "deepnote_cell_type": "code"
   },
   "outputs": [
    {
     "data": {
      "text/plain": [
       "0.731052036199095"
      ]
     },
     "execution_count": 8,
     "metadata": {},
     "output_type": "execute_result"
    }
   ],
   "source": [
    "vax_eff = 1 - calc_prop_cases(ox_vax[ox_vax['Group']=='Covax']) / calc_prop_cases(ox_vax[ox_vax['Group']=='Control'])\n",
    "vax_eff"
   ]
  },
  {
   "cell_type": "code",
   "execution_count": 9,
   "id": "b7f6fde2",
   "metadata": {
    "cell_id": "00015-d23f60bd-92fa-46ba-8209-a057b52a897a",
    "deepnote_cell_type": "code"
   },
   "outputs": [
    {
     "name": "stdout",
     "output_type": "stream",
     "text": [
      "~~~~~~~~~~~~~~~~~~~~~~~~~~~~~~~~~~~~~~~~~~~~~~~~~~~~~~~~~~~~~~~~~~~~~\n",
      "Running tests\n",
      "\n",
      "---------------------------------------------------------------------\n",
      "Test summary\n",
      "    Passed: 3\n",
      "    Failed: 0\n",
      "[ooooooooook] 100.0% passed\n",
      "\n"
     ]
    }
   ],
   "source": [
    "_ = ok.grade('q_vax_eff')"
   ]
  },
  {
   "cell_type": "markdown",
   "id": "af7f001f",
   "metadata": {
    "cell_id": "00016-a2beeac5-b3be-4ac8-9b37-11644411894a",
    "deepnote_cell_type": "markdown"
   },
   "source": [
    "Now make a function called `calc_efficiency` that returns the efficiency from\n",
    "a data frame like `ox_vax`:"
   ]
  },
  {
   "cell_type": "code",
   "execution_count": 10,
   "id": "d553509e",
   "metadata": {
    "cell_id": "00017-4334a9c3-0838-4424-80e8-6449c5f686d1",
    "deepnote_cell_type": "code"
   },
   "outputs": [],
   "source": [
    "def calc_efficiency(df):\n",
    "    return 1 - calc_prop_cases(df[df['Group']=='Covax']) / calc_prop_cases(df[df['Group']=='Control'])"
   ]
  },
  {
   "cell_type": "markdown",
   "id": "91d2831b",
   "metadata": {
    "cell_id": "00018-9943449a-3b27-4cdf-be2f-63b050b9680d",
    "deepnote_cell_type": "markdown"
   },
   "source": [
    "Check you get the same answer for the full data frame, as you calculated\n",
    "above:"
   ]
  },
  {
   "cell_type": "code",
   "execution_count": 11,
   "id": "fef6f717",
   "metadata": {
    "cell_id": "00019-087d44ad-c048-450c-9409-f9928b227940",
    "deepnote_cell_type": "code"
   },
   "outputs": [
    {
     "data": {
      "text/plain": [
       "0.731052036199095"
      ]
     },
     "execution_count": 11,
     "metadata": {},
     "output_type": "execute_result"
    }
   ],
   "source": [
    "# Run this cell, check you get the same answer as previously.\n",
    "calc_efficiency(ox_vax)"
   ]
  },
  {
   "cell_type": "code",
   "execution_count": 12,
   "id": "7de58105",
   "metadata": {
    "cell_id": "00020-a927d137-3160-4602-ae9a-27d71c532651",
    "deepnote_cell_type": "code"
   },
   "outputs": [
    {
     "name": "stdout",
     "output_type": "stream",
     "text": [
      "~~~~~~~~~~~~~~~~~~~~~~~~~~~~~~~~~~~~~~~~~~~~~~~~~~~~~~~~~~~~~~~~~~~~~\n",
      "Running tests\n",
      "\n",
      "---------------------------------------------------------------------\n",
      "Test summary\n",
      "    Passed: 5\n",
      "    Failed: 0\n",
      "[ooooooooook] 100.0% passed\n",
      "\n"
     ]
    }
   ],
   "source": [
    "_ = ok.grade('q_calc_efficiency')"
   ]
  },
  {
   "cell_type": "markdown",
   "id": "7ae064cd",
   "metadata": {
    "cell_id": "00021-0d1ae845-a81b-4d99-9f7c-ad590ee19030",
    "deepnote_cell_type": "markdown"
   },
   "source": [
    "We are getting closer to our question of interest - does the LD dose arm show\n",
    "greater vaccine efficiency than the SD dose arm?\n",
    "\n",
    "Calculate the efficiency for the LD group; call this `ld_vax_eff`. Calculte\n",
    "the efficiency of the SD group; call this `sd_vax_eff`. Then subtract the SD\n",
    "from the LD efficiency to get an *efficiency difference*. Call this\n",
    "`vax_eff_diff`."
   ]
  },
  {
   "cell_type": "code",
   "execution_count": 13,
   "id": "bf80526a",
   "metadata": {
    "cell_id": "00022-c1f1bc3f-dfbc-4add-ab55-ed2f09c20654",
    "deepnote_cell_type": "code"
   },
   "outputs": [
    {
     "name": "stdout",
     "output_type": "stream",
     "text": [
      "LD efficiency 0.899487929773226\n",
      "SD efficiency 0.5964617053782963\n",
      "Efficiency difference 0.30302622439492966\n"
     ]
    }
   ],
   "source": [
    "ld_vax_eff = calc_efficiency(ox_vax[ox_vax['Dose']=='LD'])\n",
    "sd_vax_eff = calc_efficiency(ox_vax[ox_vax['Dose']=='SD'])\n",
    "vax_eff_diff = ld_vax_eff - sd_vax_eff\n",
    "print('LD efficiency', ld_vax_eff)\n",
    "print('SD efficiency', sd_vax_eff)\n",
    "print('Efficiency difference', vax_eff_diff)"
   ]
  },
  {
   "cell_type": "code",
   "execution_count": 14,
   "id": "d82bd15e",
   "metadata": {
    "cell_id": "00023-2a4c7e2a-812f-4ae7-a840-44c024df680f",
    "deepnote_cell_type": "code"
   },
   "outputs": [
    {
     "name": "stdout",
     "output_type": "stream",
     "text": [
      "~~~~~~~~~~~~~~~~~~~~~~~~~~~~~~~~~~~~~~~~~~~~~~~~~~~~~~~~~~~~~~~~~~~~~\n",
      "Running tests\n",
      "\n",
      "---------------------------------------------------------------------\n",
      "Test summary\n",
      "    Passed: 3\n",
      "    Failed: 0\n",
      "[ooooooooook] 100.0% passed\n",
      "\n"
     ]
    }
   ],
   "source": [
    "_ = ok.grade('q_vax_eff_diff')"
   ]
  },
  {
   "cell_type": "markdown",
   "id": "232896b6",
   "metadata": {
    "cell_id": "00024-7589a913-9480-42ee-999b-157b7d9f1913",
    "deepnote_cell_type": "markdown"
   },
   "source": [
    "You'll see similar, but different estimates in the paper.   The difference\n",
    "looks fairly convincing, but our question, as ever, is whether these\n",
    "differences could have come about *as a result of random sampling*.\n",
    "\n",
    "Next make a function that called `calc_ld_sd_ediff` that accepts a data frame\n",
    "like `ox_vax` as an argument, and returns the difference in efficiency for the\n",
    "'LD' and 'SD' groups."
   ]
  },
  {
   "cell_type": "code",
   "execution_count": 15,
   "id": "4ab1f356",
   "metadata": {
    "cell_id": "00025-3355c996-7433-45b3-bb6d-0ddedcf29b7b",
    "deepnote_cell_type": "code"
   },
   "outputs": [],
   "source": [
    "def calc_ld_sd_ediff(df):\n",
    "    ld_vax_eff = calc_efficiency(df[df['Dose']=='LD'])\n",
    "    sd_vax_eff = calc_efficiency(df[df['Dose']=='SD'])\n",
    "    return ld_vax_eff - sd_vax_eff"
   ]
  },
  {
   "cell_type": "markdown",
   "id": "db552bef",
   "metadata": {
    "cell_id": "00026-ed910c25-90e3-454e-a466-3eaf5669a4ac",
    "deepnote_cell_type": "markdown"
   },
   "source": [
    "Check you get the same difference from this function as you did from your\n",
    "previous calculation."
   ]
  },
  {
   "cell_type": "code",
   "execution_count": 16,
   "id": "b3372691",
   "metadata": {
    "cell_id": "00027-04b2db91-c0bf-4cd6-95de-7d5578df2b68",
    "deepnote_cell_type": "code"
   },
   "outputs": [
    {
     "data": {
      "text/plain": [
       "0.30302622439492966"
      ]
     },
     "execution_count": 16,
     "metadata": {},
     "output_type": "execute_result"
    }
   ],
   "source": [
    "# Run this cell, check you get the same answer as previously.\n",
    "calc_ld_sd_ediff(ox_vax)"
   ]
  },
  {
   "cell_type": "code",
   "execution_count": 17,
   "id": "3fce937e",
   "metadata": {
    "cell_id": "00028-e88a07ed-9b09-406a-bd92-c2f7a53e39e7",
    "deepnote_cell_type": "code"
   },
   "outputs": [
    {
     "name": "stdout",
     "output_type": "stream",
     "text": [
      "~~~~~~~~~~~~~~~~~~~~~~~~~~~~~~~~~~~~~~~~~~~~~~~~~~~~~~~~~~~~~~~~~~~~~\n",
      "Running tests\n",
      "\n",
      "---------------------------------------------------------------------\n",
      "Test summary\n",
      "    Passed: 5\n",
      "    Failed: 0\n",
      "[ooooooooook] 100.0% passed\n",
      "\n"
     ]
    }
   ],
   "source": [
    "_ = ok.grade('q_calc_ld_sd_ediff')"
   ]
  },
  {
   "cell_type": "markdown",
   "id": "a4ae0328",
   "metadata": {
    "cell_id": "00029-3e224760-89a4-44bb-bcdc-57fdb12db498",
    "deepnote_cell_type": "markdown"
   },
   "source": [
    "Now we need to think about whether the result could have come about by random\n",
    "sampling.\n",
    "\n",
    "In order to do this, we first make a table that re-creates the data on the\n",
    "individual participants to which the `ox_vax` data frame refers.\n",
    "\n",
    "We can do this because we know the number of participants in each *cell* of\n",
    "the study.  One *cell* refers to an unique combination of the \"LD\" / \"SD\"\n",
    "label and the \"Covax\" / \"Control\" label.  For example, the first cell is \"LD\"\n",
    "with \"Control\". We know from the data frame, that there are 1374 participants\n",
    "in this cell, of which 30 caught COVID-19.  We can reconstruct the individual\n",
    "patients for this cell by making 1374 rows, each with a \"Dose\" label of \"LD\",\n",
    "and a \"Group\" label of \"Control\".  The last column will be \"Case\", which is\n",
    "Boolean (True or False), where True corresponds to a subject who got COVID-19,\n",
    "and False to a subject who did not.   So, for this cell, we will have 1374 - 30\n",
    "= 1344 rows with False in the \"Case\" column, and 30 subjects with True in the\n",
    "\"Case\" column.\n",
    "\n",
    "The first five rows of the data frame will look like this:"
   ]
  },
  {
   "cell_type": "code",
   "execution_count": 18,
   "id": "15c5b5c7",
   "metadata": {
    "cell_id": "00030-e94e9551-e20f-4225-b905-78aef088ea57",
    "deepnote_cell_type": "code"
   },
   "outputs": [
    {
     "data": {
      "text/html": [
       "<div>\n",
       "<style scoped>\n",
       "    .dataframe tbody tr th:only-of-type {\n",
       "        vertical-align: middle;\n",
       "    }\n",
       "\n",
       "    .dataframe tbody tr th {\n",
       "        vertical-align: top;\n",
       "    }\n",
       "\n",
       "    .dataframe thead th {\n",
       "        text-align: right;\n",
       "    }\n",
       "</style>\n",
       "<table border=\"1\" class=\"dataframe\">\n",
       "  <thead>\n",
       "    <tr style=\"text-align: right;\">\n",
       "      <th></th>\n",
       "      <th>Dose</th>\n",
       "      <th>Group</th>\n",
       "      <th>Case</th>\n",
       "    </tr>\n",
       "  </thead>\n",
       "  <tbody>\n",
       "    <tr>\n",
       "      <th>0</th>\n",
       "      <td>LD</td>\n",
       "      <td>Control</td>\n",
       "      <td>False</td>\n",
       "    </tr>\n",
       "    <tr>\n",
       "      <th>1</th>\n",
       "      <td>LD</td>\n",
       "      <td>Control</td>\n",
       "      <td>False</td>\n",
       "    </tr>\n",
       "    <tr>\n",
       "      <th>2</th>\n",
       "      <td>LD</td>\n",
       "      <td>Control</td>\n",
       "      <td>False</td>\n",
       "    </tr>\n",
       "    <tr>\n",
       "      <th>3</th>\n",
       "      <td>LD</td>\n",
       "      <td>Control</td>\n",
       "      <td>False</td>\n",
       "    </tr>\n",
       "    <tr>\n",
       "      <th>4</th>\n",
       "      <td>LD</td>\n",
       "      <td>Control</td>\n",
       "      <td>False</td>\n",
       "    </tr>\n",
       "  </tbody>\n",
       "</table>\n",
       "</div>"
      ],
      "text/plain": [
       "  Dose    Group   Case\n",
       "0   LD  Control  False\n",
       "1   LD  Control  False\n",
       "2   LD  Control  False\n",
       "3   LD  Control  False\n",
       "4   LD  Control  False"
      ]
     },
     "execution_count": 18,
     "metadata": {},
     "output_type": "execute_result"
    }
   ],
   "source": [
    "# What the first five rows will look like.\n",
    "person_start = pd.DataFrame()\n",
    "person_start['Dose'] = np.repeat(['LD'], [5])\n",
    "person_start['Group'] = np.repeat(['Control'], [5])\n",
    "person_start['Case'] = np.repeat(['False'], [5])\n",
    "person_start"
   ]
  },
  {
   "cell_type": "markdown",
   "id": "84364d75",
   "metadata": {
    "cell_id": "00031-d6be8809-7ed5-4465-bdd3-9fd8e70c1596",
    "deepnote_cell_type": "markdown"
   },
   "source": [
    "The trick of course, is to do this for all four cells, so we have a new data\n",
    "frame with 1374 + 1367 + 2430 + 2377 = 7548 rows, one for each participant in\n",
    "the whole COV002 study.\n",
    "\n",
    "That is what you will do next.\n",
    "\n",
    "Here we get you started, by making the first column of the data frame:"
   ]
  },
  {
   "cell_type": "code",
   "execution_count": 19,
   "id": "ce78716c",
   "metadata": {
    "cell_id": "00032-77b2879e-b6a5-41ad-9d0f-5256ebc1da07",
    "deepnote_cell_type": "code"
   },
   "outputs": [
    {
     "data": {
      "text/html": [
       "<div>\n",
       "<style scoped>\n",
       "    .dataframe tbody tr th:only-of-type {\n",
       "        vertical-align: middle;\n",
       "    }\n",
       "\n",
       "    .dataframe tbody tr th {\n",
       "        vertical-align: top;\n",
       "    }\n",
       "\n",
       "    .dataframe thead th {\n",
       "        text-align: right;\n",
       "    }\n",
       "</style>\n",
       "<table border=\"1\" class=\"dataframe\">\n",
       "  <thead>\n",
       "    <tr style=\"text-align: right;\">\n",
       "      <th></th>\n",
       "      <th>Dose</th>\n",
       "    </tr>\n",
       "  </thead>\n",
       "  <tbody>\n",
       "    <tr>\n",
       "      <th>0</th>\n",
       "      <td>LD</td>\n",
       "    </tr>\n",
       "    <tr>\n",
       "      <th>1</th>\n",
       "      <td>LD</td>\n",
       "    </tr>\n",
       "    <tr>\n",
       "      <th>2</th>\n",
       "      <td>LD</td>\n",
       "    </tr>\n",
       "    <tr>\n",
       "      <th>3</th>\n",
       "      <td>LD</td>\n",
       "    </tr>\n",
       "    <tr>\n",
       "      <th>4</th>\n",
       "      <td>LD</td>\n",
       "    </tr>\n",
       "  </tbody>\n",
       "</table>\n",
       "</div>"
      ],
      "text/plain": [
       "  Dose\n",
       "0   LD\n",
       "1   LD\n",
       "2   LD\n",
       "3   LD\n",
       "4   LD"
      ]
     },
     "execution_count": 19,
     "metadata": {},
     "output_type": "execute_result"
    }
   ],
   "source": [
    "person_df = pd.DataFrame()\n",
    "n_per_cell = np.array(ox_vax['N'])\n",
    "person_df['Dose'] = np.repeat(['LD', 'LD', 'SD', 'SD'], n_per_cell)\n",
    "# Show the first five rows\n",
    "person_df.head()"
   ]
  },
  {
   "cell_type": "markdown",
   "id": "adb237a0",
   "metadata": {
    "cell_id": "00033-ccb66c96-e0ea-4f7f-ba7e-81de84b86333",
    "deepnote_cell_type": "markdown"
   },
   "source": [
    "Now your turn.  Make the contents of the \"Group\" column and put that column into the `person_df` data frame."
   ]
  },
  {
   "cell_type": "code",
   "execution_count": 20,
   "id": "7ce21a58",
   "metadata": {
    "cell_id": "00034-62880d69-c6a5-4a12-b8f2-cc26c9f8d06c",
    "deepnote_cell_type": "code"
   },
   "outputs": [
    {
     "data": {
      "text/html": [
       "<div>\n",
       "<style scoped>\n",
       "    .dataframe tbody tr th:only-of-type {\n",
       "        vertical-align: middle;\n",
       "    }\n",
       "\n",
       "    .dataframe tbody tr th {\n",
       "        vertical-align: top;\n",
       "    }\n",
       "\n",
       "    .dataframe thead th {\n",
       "        text-align: right;\n",
       "    }\n",
       "</style>\n",
       "<table border=\"1\" class=\"dataframe\">\n",
       "  <thead>\n",
       "    <tr style=\"text-align: right;\">\n",
       "      <th></th>\n",
       "      <th>Dose</th>\n",
       "      <th>Group</th>\n",
       "    </tr>\n",
       "  </thead>\n",
       "  <tbody>\n",
       "    <tr>\n",
       "      <th>0</th>\n",
       "      <td>LD</td>\n",
       "      <td>Control</td>\n",
       "    </tr>\n",
       "    <tr>\n",
       "      <th>1</th>\n",
       "      <td>LD</td>\n",
       "      <td>Control</td>\n",
       "    </tr>\n",
       "    <tr>\n",
       "      <th>2</th>\n",
       "      <td>LD</td>\n",
       "      <td>Control</td>\n",
       "    </tr>\n",
       "    <tr>\n",
       "      <th>3</th>\n",
       "      <td>LD</td>\n",
       "      <td>Control</td>\n",
       "    </tr>\n",
       "    <tr>\n",
       "      <th>4</th>\n",
       "      <td>LD</td>\n",
       "      <td>Control</td>\n",
       "    </tr>\n",
       "  </tbody>\n",
       "</table>\n",
       "</div>"
      ],
      "text/plain": [
       "  Dose    Group\n",
       "0   LD  Control\n",
       "1   LD  Control\n",
       "2   LD  Control\n",
       "3   LD  Control\n",
       "4   LD  Control"
      ]
     },
     "execution_count": 20,
     "metadata": {},
     "output_type": "execute_result"
    }
   ],
   "source": [
    "person_df['Group'] = np.repeat(['Control', 'Covax', \\\n",
    "                                'Control', 'Covax'], n_per_cell)# Show the first five rows so far.\n",
    "person_df.head()"
   ]
  },
  {
   "cell_type": "code",
   "execution_count": 21,
   "id": "ee0146ec",
   "metadata": {
    "cell_id": "00035-4d4f1460-1bb7-4156-b8b5-775b734bae56",
    "deepnote_cell_type": "code"
   },
   "outputs": [
    {
     "name": "stdout",
     "output_type": "stream",
     "text": [
      "~~~~~~~~~~~~~~~~~~~~~~~~~~~~~~~~~~~~~~~~~~~~~~~~~~~~~~~~~~~~~~~~~~~~~\n",
      "Running tests\n",
      "\n",
      "---------------------------------------------------------------------\n",
      "Test summary\n",
      "    Passed: 5\n",
      "    Failed: 0\n",
      "[ooooooooook] 100.0% passed\n",
      "\n"
     ]
    }
   ],
   "source": [
    "_ = ok.grade('q_person_df_group')"
   ]
  },
  {
   "cell_type": "markdown",
   "id": "de25ff86",
   "metadata": {
    "cell_id": "00036-ae0f624d-bc6f-4c41-94a6-7eeb0d7d4c77",
    "deepnote_cell_type": "markdown"
   },
   "source": [
    "Next we generate the False, True values for the \"Cases\" column.\n",
    "\n",
    "We suggest you use `np.repeat` for this.  As you know, the first argument to `np.repeat` is a sequence (such as a list) of things that will be repeated.  The second argument is the number of repeats for each element.\n",
    "\n",
    "We are going to repeat False 1374 - 30 = 1344 times, then True 30 times, and so\n",
    "on.  Here we are trying to help you by preparing the first argument for `np.repeat` - the False and True values:"
   ]
  },
  {
   "cell_type": "code",
   "execution_count": 22,
   "id": "bf592352",
   "metadata": {
    "cell_id": "00037-eb09c93c-a31a-4884-9e05-17689db42b33",
    "deepnote_cell_type": "code"
   },
   "outputs": [
    {
     "data": {
      "text/plain": [
       "array([False,  True, False,  True, False,  True, False,  True])"
      ]
     },
     "execution_count": 22,
     "metadata": {},
     "output_type": "execute_result"
    }
   ],
   "source": [
    "# Run this cell.\n",
    "# \"Case\" will be False for non-case, True for case.\n",
    "# Start with all False\n",
    "to_repeat = np.repeat([False], len(n_per_cell) * 2)\n",
    "# Set every other value, from the second, to True\n",
    "to_repeat[1:len(to_repeat):2] = True\n",
    "# Note that we can do the same thing with this short-cut.\n",
    "to_repeat[1::2] = True\n",
    "# Show the result\n",
    "to_repeat"
   ]
  },
  {
   "cell_type": "markdown",
   "id": "f3fbd29a",
   "metadata": {
    "cell_id": "00038-e795e89d-55bc-4ddf-8964-eb999a76fa0f",
    "deepnote_cell_type": "markdown"
   },
   "source": [
    "Your job is to prepare the second argument to `np.repeat`, the number of\n",
    "repeats, then use these arguments to fill in the \"Case\" column of `person_df`,\n",
    "to reconstruct the participants in the trial.\n",
    "\n",
    "*Hint*: be careful, your `repeat_nos` array below has to be of integer type,\n",
    "not float type, because the number of repeats has to be an integer.  It starts\n",
    "off that way, if you run the code we give you below."
   ]
  },
  {
   "cell_type": "code",
   "execution_count": 24,
   "id": "f3ebfbc1",
   "metadata": {
    "cell_id": "00039-96f6a313-3d6f-4652-a30d-7cbb7ccc8ce8",
    "deepnote_cell_type": "code"
   },
   "outputs": [
    {
     "data": {
      "text/html": [
       "<div>\n",
       "<style scoped>\n",
       "    .dataframe tbody tr th:only-of-type {\n",
       "        vertical-align: middle;\n",
       "    }\n",
       "\n",
       "    .dataframe tbody tr th {\n",
       "        vertical-align: top;\n",
       "    }\n",
       "\n",
       "    .dataframe thead th {\n",
       "        text-align: right;\n",
       "    }\n",
       "</style>\n",
       "<table border=\"1\" class=\"dataframe\">\n",
       "  <thead>\n",
       "    <tr style=\"text-align: right;\">\n",
       "      <th></th>\n",
       "      <th>Dose</th>\n",
       "      <th>Group</th>\n",
       "      <th>Case</th>\n",
       "    </tr>\n",
       "  </thead>\n",
       "  <tbody>\n",
       "    <tr>\n",
       "      <th>0</th>\n",
       "      <td>LD</td>\n",
       "      <td>Control</td>\n",
       "      <td>False</td>\n",
       "    </tr>\n",
       "    <tr>\n",
       "      <th>1</th>\n",
       "      <td>LD</td>\n",
       "      <td>Control</td>\n",
       "      <td>False</td>\n",
       "    </tr>\n",
       "    <tr>\n",
       "      <th>2</th>\n",
       "      <td>LD</td>\n",
       "      <td>Control</td>\n",
       "      <td>False</td>\n",
       "    </tr>\n",
       "    <tr>\n",
       "      <th>3</th>\n",
       "      <td>LD</td>\n",
       "      <td>Control</td>\n",
       "      <td>False</td>\n",
       "    </tr>\n",
       "    <tr>\n",
       "      <th>4</th>\n",
       "      <td>LD</td>\n",
       "      <td>Control</td>\n",
       "      <td>False</td>\n",
       "    </tr>\n",
       "  </tbody>\n",
       "</table>\n",
       "</div>"
      ],
      "text/plain": [
       "  Dose    Group   Case\n",
       "0   LD  Control  False\n",
       "1   LD  Control  False\n",
       "2   LD  Control  False\n",
       "3   LD  Control  False\n",
       "4   LD  Control  False"
      ]
     },
     "execution_count": 24,
     "metadata": {},
     "output_type": "execute_result"
    }
   ],
   "source": [
    "# Start with an integer array of zeros, of the right length.\n",
    "repeat_nos = np.repeat([0], len(to_repeat))\n",
    "case_num = ox_vax['Cases']\n",
    "nocase_num = ox_vax['N'] - ox_vax['Cases']\n",
    "repeat_num = np.zeros(len(to_repeat))\n",
    "repeat_num[::2] = nocase_num\n",
    "repeat_num[1::2] = case_num\n",
    "repeat_num = repeat_num.astype(np.int64)\n",
    "person_df['Case'] = np.repeat(to_repeat, repeat_num)# Show the first five rows so far.\n",
    "# Show the first five rows.\n",
    "person_df.head()"
   ]
  },
  {
   "cell_type": "code",
   "execution_count": 25,
   "id": "00283a14",
   "metadata": {
    "cell_id": "00040-9eb50c23-d32b-4177-8a7c-8d9ae62adba4",
    "deepnote_cell_type": "code"
   },
   "outputs": [
    {
     "name": "stdout",
     "output_type": "stream",
     "text": [
      "~~~~~~~~~~~~~~~~~~~~~~~~~~~~~~~~~~~~~~~~~~~~~~~~~~~~~~~~~~~~~~~~~~~~~\n",
      "Running tests\n",
      "\n",
      "---------------------------------------------------------------------\n",
      "Test summary\n",
      "    Passed: 3\n",
      "    Failed: 0\n",
      "[ooooooooook] 100.0% passed\n",
      "\n"
     ]
    }
   ],
   "source": [
    "_ = ok.grade('q_person_df_with_case')"
   ]
  },
  {
   "cell_type": "markdown",
   "id": "0698fc32",
   "metadata": {
    "cell_id": "00041-b7217f3a-6259-4049-96e6-567e52fed574",
    "deepnote_cell_type": "markdown"
   },
   "source": [
    "We'd like to check whether this table really does lead to the same counts for\n",
    "total numbers in each cell (\"N\") and the number of cases in each cell\n",
    "(\"Cases\"), as we had in the original.  Here we use some Pandas magic that we\n",
    "cover next term."
   ]
  },
  {
   "cell_type": "code",
   "execution_count": 26,
   "id": "2f2cf004",
   "metadata": {
    "cell_id": "00042-1c2bb914-2a53-476b-b1b3-f9757998bd38",
    "deepnote_cell_type": "code"
   },
   "outputs": [
    {
     "data": {
      "text/html": [
       "<div>\n",
       "<style scoped>\n",
       "    .dataframe tbody tr th:only-of-type {\n",
       "        vertical-align: middle;\n",
       "    }\n",
       "\n",
       "    .dataframe tbody tr th {\n",
       "        vertical-align: top;\n",
       "    }\n",
       "\n",
       "    .dataframe thead th {\n",
       "        text-align: right;\n",
       "    }\n",
       "</style>\n",
       "<table border=\"1\" class=\"dataframe\">\n",
       "  <thead>\n",
       "    <tr style=\"text-align: right;\">\n",
       "      <th></th>\n",
       "      <th>Dose</th>\n",
       "      <th>Group</th>\n",
       "      <th>N</th>\n",
       "      <th>Cases</th>\n",
       "    </tr>\n",
       "  </thead>\n",
       "  <tbody>\n",
       "    <tr>\n",
       "      <th>0</th>\n",
       "      <td>LD</td>\n",
       "      <td>Control</td>\n",
       "      <td>1374</td>\n",
       "      <td>30</td>\n",
       "    </tr>\n",
       "    <tr>\n",
       "      <th>1</th>\n",
       "      <td>LD</td>\n",
       "      <td>Covax</td>\n",
       "      <td>1367</td>\n",
       "      <td>3</td>\n",
       "    </tr>\n",
       "    <tr>\n",
       "      <th>2</th>\n",
       "      <td>SD</td>\n",
       "      <td>Control</td>\n",
       "      <td>2430</td>\n",
       "      <td>38</td>\n",
       "    </tr>\n",
       "    <tr>\n",
       "      <th>3</th>\n",
       "      <td>SD</td>\n",
       "      <td>Covax</td>\n",
       "      <td>2377</td>\n",
       "      <td>15</td>\n",
       "    </tr>\n",
       "  </tbody>\n",
       "</table>\n",
       "</div>"
      ],
      "text/plain": [
       "  Dose    Group     N  Cases\n",
       "0   LD  Control  1374     30\n",
       "1   LD    Covax  1367      3\n",
       "2   SD  Control  2430     38\n",
       "3   SD    Covax  2377     15"
      ]
     },
     "execution_count": 26,
     "metadata": {},
     "output_type": "execute_result"
    }
   ],
   "source": [
    "# Make a thing that knows how to \"group\" the rows \"by\" the pairs of labels in\n",
    "# \"Dose\" and \"Group\".\n",
    "grouped = person_df.groupby(['Dose', 'Group'])\n",
    "# Aggregate within these groups, by\n",
    "# * counting the number of rows\n",
    "#  (put this value into the column \"N\")\n",
    "# * counting the number of True values in the \"Case\" column\n",
    "#  (put this value into the column \"Cases\")\n",
    "aggregated = grouped.agg(N=('Case', len),\n",
    "                         Cases=('Case', np.count_nonzero))\n",
    "# Drop the fancy index (row labels) to make an ordinary data frame.\n",
    "tabulated = aggregated.reset_index()\n",
    "tabulated"
   ]
  },
  {
   "cell_type": "markdown",
   "id": "1b35fd71",
   "metadata": {
    "cell_id": "00043-9bb211d8-3c30-4023-bc83-f37f3c914ef7",
    "deepnote_cell_type": "markdown"
   },
   "source": [
    "Make a function to do the same work.  It operates on a data frame like\n",
    "`person_df` above."
   ]
  },
  {
   "cell_type": "code",
   "execution_count": 27,
   "id": "1ba831b6",
   "metadata": {
    "cell_id": "00044-20ad0199-661f-43cb-b061-84a620208083",
    "deepnote_cell_type": "code"
   },
   "outputs": [],
   "source": [
    "def cases_to_counts(full_df):\n",
    "    \"\"\" Calculate \"N\" and \"Cases\" for \"Dose\" and \"Group\" cells of \"full_df\"\n",
    "    \"\"\"\n",
    "    return full_df.groupby(['Dose', 'Group']).agg(\n",
    "        N=('Case', len),\n",
    "        Cases=('Case', np.count_nonzero)).reset_index()"
   ]
  },
  {
   "cell_type": "markdown",
   "id": "e3a8857b",
   "metadata": {
    "cell_id": "00045-bbcea539-df70-4c65-ae1e-d6a03491b246",
    "deepnote_cell_type": "markdown"
   },
   "source": [
    "Check the function returns the original table."
   ]
  },
  {
   "cell_type": "code",
   "execution_count": 28,
   "id": "5af57e73",
   "metadata": {
    "cell_id": "00046-2c1d4ad8-69ee-42de-b332-8d8e355ccbb8",
    "deepnote_cell_type": "code"
   },
   "outputs": [
    {
     "data": {
      "text/html": [
       "<div>\n",
       "<style scoped>\n",
       "    .dataframe tbody tr th:only-of-type {\n",
       "        vertical-align: middle;\n",
       "    }\n",
       "\n",
       "    .dataframe tbody tr th {\n",
       "        vertical-align: top;\n",
       "    }\n",
       "\n",
       "    .dataframe thead th {\n",
       "        text-align: right;\n",
       "    }\n",
       "</style>\n",
       "<table border=\"1\" class=\"dataframe\">\n",
       "  <thead>\n",
       "    <tr style=\"text-align: right;\">\n",
       "      <th></th>\n",
       "      <th>Dose</th>\n",
       "      <th>Group</th>\n",
       "      <th>N</th>\n",
       "      <th>Cases</th>\n",
       "    </tr>\n",
       "  </thead>\n",
       "  <tbody>\n",
       "    <tr>\n",
       "      <th>0</th>\n",
       "      <td>LD</td>\n",
       "      <td>Control</td>\n",
       "      <td>1374</td>\n",
       "      <td>30</td>\n",
       "    </tr>\n",
       "    <tr>\n",
       "      <th>1</th>\n",
       "      <td>LD</td>\n",
       "      <td>Covax</td>\n",
       "      <td>1367</td>\n",
       "      <td>3</td>\n",
       "    </tr>\n",
       "    <tr>\n",
       "      <th>2</th>\n",
       "      <td>SD</td>\n",
       "      <td>Control</td>\n",
       "      <td>2430</td>\n",
       "      <td>38</td>\n",
       "    </tr>\n",
       "    <tr>\n",
       "      <th>3</th>\n",
       "      <td>SD</td>\n",
       "      <td>Covax</td>\n",
       "      <td>2377</td>\n",
       "      <td>15</td>\n",
       "    </tr>\n",
       "  </tbody>\n",
       "</table>\n",
       "</div>"
      ],
      "text/plain": [
       "  Dose    Group     N  Cases\n",
       "0   LD  Control  1374     30\n",
       "1   LD    Covax  1367      3\n",
       "2   SD  Control  2430     38\n",
       "3   SD    Covax  2377     15"
      ]
     },
     "execution_count": 28,
     "metadata": {},
     "output_type": "execute_result"
    }
   ],
   "source": [
    "# This should return values identical to the original \"ox_vax\" data frame.\n",
    "cases_to_counts(person_df)"
   ]
  },
  {
   "cell_type": "markdown",
   "id": "9e842dd7",
   "metadata": {
    "cell_id": "00047-a7163f0b-106a-444d-bd87-2210fe6e33c0",
    "deepnote_cell_type": "markdown"
   },
   "source": [
    "Actually check the result is equal to the original table."
   ]
  },
  {
   "cell_type": "code",
   "execution_count": 29,
   "id": "47178e19",
   "metadata": {
    "cell_id": "00048-f1d8aba5-33fc-4d1c-b958-a02ed60f1405",
    "deepnote_cell_type": "code"
   },
   "outputs": [
    {
     "data": {
      "text/plain": [
       "True"
      ]
     },
     "execution_count": 29,
     "metadata": {},
     "output_type": "execute_result"
    }
   ],
   "source": [
    "# This should should evaluate to (and show) True.\n",
    "cases_to_counts(person_df).equals(ox_vax)"
   ]
  },
  {
   "cell_type": "markdown",
   "id": "8f0d813c",
   "metadata": {
    "cell_id": "00049-dc5c1300-f009-4518-bc62-20e3f30768a5",
    "deepnote_cell_type": "markdown"
   },
   "source": [
    "How we have `person_df` we can estimate the spread of the efficiency\n",
    "differences under random sampling.\n",
    "\n",
    "Let us formulate the null (ideal) world as - there is no real difference in the efficiency of the \"LD\" or \"SD\" doses.\n",
    "\n",
    "In such a world, the current \"LD\" and \"SD\" labels would be arbitrary.\n",
    "\n",
    "We can simulate what a sample would look like in such a world by taking a copy\n",
    "of the real `person_df` data frame, and doing a random permutation of the\n",
    "\"Dose\" labels:"
   ]
  },
  {
   "cell_type": "code",
   "execution_count": 30,
   "id": "7c6e54bd",
   "metadata": {
    "cell_id": "00050-02a011bd-72da-47c3-891a-4d2f002b7b0d",
    "deepnote_cell_type": "code"
   },
   "outputs": [
    {
     "data": {
      "text/html": [
       "<div>\n",
       "<style scoped>\n",
       "    .dataframe tbody tr th:only-of-type {\n",
       "        vertical-align: middle;\n",
       "    }\n",
       "\n",
       "    .dataframe tbody tr th {\n",
       "        vertical-align: top;\n",
       "    }\n",
       "\n",
       "    .dataframe thead th {\n",
       "        text-align: right;\n",
       "    }\n",
       "</style>\n",
       "<table border=\"1\" class=\"dataframe\">\n",
       "  <thead>\n",
       "    <tr style=\"text-align: right;\">\n",
       "      <th></th>\n",
       "      <th>Dose</th>\n",
       "      <th>Group</th>\n",
       "      <th>Case</th>\n",
       "    </tr>\n",
       "  </thead>\n",
       "  <tbody>\n",
       "    <tr>\n",
       "      <th>0</th>\n",
       "      <td>SD</td>\n",
       "      <td>Control</td>\n",
       "      <td>False</td>\n",
       "    </tr>\n",
       "    <tr>\n",
       "      <th>1</th>\n",
       "      <td>LD</td>\n",
       "      <td>Control</td>\n",
       "      <td>False</td>\n",
       "    </tr>\n",
       "    <tr>\n",
       "      <th>2</th>\n",
       "      <td>SD</td>\n",
       "      <td>Control</td>\n",
       "      <td>False</td>\n",
       "    </tr>\n",
       "    <tr>\n",
       "      <th>3</th>\n",
       "      <td>SD</td>\n",
       "      <td>Control</td>\n",
       "      <td>False</td>\n",
       "    </tr>\n",
       "    <tr>\n",
       "      <th>4</th>\n",
       "      <td>SD</td>\n",
       "      <td>Control</td>\n",
       "      <td>False</td>\n",
       "    </tr>\n",
       "  </tbody>\n",
       "</table>\n",
       "</div>"
      ],
      "text/plain": [
       "  Dose    Group   Case\n",
       "0   SD  Control  False\n",
       "1   LD  Control  False\n",
       "2   SD  Control  False\n",
       "3   SD  Control  False\n",
       "4   SD  Control  False"
      ]
     },
     "execution_count": 30,
     "metadata": {},
     "output_type": "execute_result"
    }
   ],
   "source": [
    "fake_df = person_df.copy()\n",
    "fake_df['Dose'] = np.random.permutation(person_df['Dose'])\n",
    "fake_df.head()"
   ]
  },
  {
   "cell_type": "markdown",
   "id": "c449f9df",
   "metadata": {
    "cell_id": "00051-aebb8ec8-79d4-4451-9165-329ca69b4446",
    "deepnote_cell_type": "markdown"
   },
   "source": [
    "`fake_df` is an example data frame drawn from the ideal (null) world.\n",
    "\n",
    "Try making 1000 such samples, and calculating the efficiency difference between the \"LD\" and \"SD\" doses for each one.  Record these fake differences in an array `fake_ediffs`.\n",
    "\n",
    "*Hint*: take 1000 samples, not more, otherwise your code will take too long to\n",
    "run."
   ]
  },
  {
   "cell_type": "code",
   "execution_count": 31,
   "id": "91534ace",
   "metadata": {
    "cell_id": "00052-fd9eb53b-ab6a-42b0-ad6a-85f4a76d6fc7",
    "deepnote_cell_type": "code"
   },
   "outputs": [
    {
     "data": {
      "text/plain": [
       "array([ 0.12013361, -0.0507591 ,  0.07246242,  0.12932466,  0.07297053,\n",
       "        0.08089231,  0.17048602, -0.14700869,  0.21614217,  0.29386979])"
      ]
     },
     "execution_count": 31,
     "metadata": {},
     "output_type": "execute_result"
    }
   ],
   "source": [
    "n_iters = 1000\n",
    "fake_ediffs = np.zeros(n_iters)\n",
    "for i in range(n_iters):\n",
    "    fake_df['Dose'] = np.random.permutation(person_df['Dose'])\n",
    "    fake_ediffs[i] = calc_ld_sd_ediff(cases_to_counts(fake_df))\n",
    "# Show the first 10 efficiency differences.\n",
    "fake_ediffs[:10]"
   ]
  },
  {
   "cell_type": "code",
   "execution_count": 32,
   "id": "6966f5e3",
   "metadata": {
    "cell_id": "00053-1c7f2328-e31e-45b9-9209-cc144faee2a3",
    "deepnote_cell_type": "code"
   },
   "outputs": [
    {
     "name": "stdout",
     "output_type": "stream",
     "text": [
      "~~~~~~~~~~~~~~~~~~~~~~~~~~~~~~~~~~~~~~~~~~~~~~~~~~~~~~~~~~~~~~~~~~~~~\n",
      "Running tests\n",
      "\n",
      "---------------------------------------------------------------------\n",
      "Test summary\n",
      "    Passed: 4\n",
      "    Failed: 0\n",
      "[ooooooooook] 100.0% passed\n",
      "\n"
     ]
    }
   ],
   "source": [
    "_ = ok.grade('q_fake_ediffs')"
   ]
  },
  {
   "cell_type": "markdown",
   "id": "c056662d",
   "metadata": {
    "cell_id": "00054-dec11354-fb18-47cc-a022-b7d9c9e4788e",
    "deepnote_cell_type": "markdown"
   },
   "source": [
    "For your insight, show a histogram of the `fake_ediffs`."
   ]
  },
  {
   "cell_type": "code",
   "execution_count": 33,
   "id": "c29e8f38",
   "metadata": {
    "cell_id": "00055-bf13cfc4-5d73-4356-b3b5-56e0792bb637",
    "deepnote_cell_type": "code"
   },
   "outputs": [
    {
     "data": {
      "text/plain": [
       "(array([  2.,   3.,  32.,  83., 187., 236., 255., 143.,  50.,   9.]),\n",
       " array([-0.60526527, -0.50244575, -0.39962623, -0.29680671, -0.19398719,\n",
       "        -0.09116767,  0.01165184,  0.11447136,  0.21729088,  0.3201104 ,\n",
       "         0.42292992]),\n",
       " <BarContainer object of 10 artists>)"
      ]
     },
     "execution_count": 33,
     "metadata": {},
     "output_type": "execute_result"
    },
    {
     "data": {
      "image/png": "[encoded data removed]",
      "text/plain": [
       "<Figure size 432x288 with 1 Axes>"
      ]
     },
     "metadata": {
      "needs_background": "light"
     },
     "output_type": "display_data"
    }
   ],
   "source": [
    "#- Histogram of eff_diffs\n",
    "plt.hist(fake_ediffs)"
   ]
  },
  {
   "cell_type": "markdown",
   "id": "034c7b63",
   "metadata": {
    "cell_id": "00056-93d6a8fd-b4c8-444e-85eb-79df14c618d2",
    "deepnote_cell_type": "markdown"
   },
   "source": [
    "Calculate the proportion of efficiency differences in this null (ideal) world that are greater than or equal to one we observed in the trial."
   ]
  },
  {
   "cell_type": "code",
   "execution_count": 34,
   "id": "2d122188",
   "metadata": {
    "cell_id": "00057-fbdc06a2-4164-4e93-998f-0dd790310a47",
    "deepnote_cell_type": "code"
   },
   "outputs": [
    {
     "data": {
      "text/plain": [
       "0.015"
      ]
     },
     "execution_count": 34,
     "metadata": {},
     "output_type": "execute_result"
    }
   ],
   "source": [
    "prop_ediff_ge = np.count_nonzero(fake_ediffs >= vax_eff_diff)/ len(fake_ediffs)\n",
    "# Show the result\n",
    "prop_ediff_ge"
   ]
  },
  {
   "cell_type": "code",
   "execution_count": 35,
   "id": "2711b817",
   "metadata": {
    "cell_id": "00058-c2b2f452-78a9-4612-a343-17d1411b91ff",
    "deepnote_cell_type": "code"
   },
   "outputs": [
    {
     "name": "stdout",
     "output_type": "stream",
     "text": [
      "~~~~~~~~~~~~~~~~~~~~~~~~~~~~~~~~~~~~~~~~~~~~~~~~~~~~~~~~~~~~~~~~~~~~~\n",
      "Running tests\n",
      "\n",
      "---------------------------------------------------------------------\n",
      "Test summary\n",
      "    Passed: 3\n",
      "    Failed: 0\n",
      "[ooooooooook] 100.0% passed\n",
      "\n"
     ]
    }
   ],
   "source": [
    "_ = ok.grade('q_prop_ediff_ge')"
   ]
  },
  {
   "cell_type": "markdown",
   "id": "ac9bf6be",
   "metadata": {
    "cell_id": "00059-17a9d446-b8b2-44d3-bbb0-92a7fe9932c6",
    "deepnote_cell_type": "markdown"
   },
   "source": [
    "Based on your analysis here, and on your reading of the paper, would you\n",
    "recommend that the UK go straight to using the LD/SD regimen for the OxAZ\n",
    "vaccine, or would you recommend the SD/SD regimen, or a mixture?  Give your\n",
    "reasons.\n",
    "\n",
    "NB - this answer counts for four times as many points are each of the previous\n",
    "answers."
   ]
  },
  {
   "cell_type": "markdown",
   "id": "568f3f30",
   "metadata": {
    "cell_id": "00060-e814a681-b087-4adf-8d34-32eb84b9e347",
    "deepnote_cell_type": "markdown",
    "manual_grade": true,
    "manual_problem_id": "ox_az_recommend"
   },
   "source": [
    "<mark> <font size=4> I would recommend UK got straight to using the LD/SD regimen. If we set the significance level $ \\alpha=0.05 $, according to the result fo the permutation test, we can reject the null hypothesis which states that there is no difference in efficency between LD group and SD group. The result showed a significantly higher level of efficiency in LD/SD group than SD/SD group, this means LD/SD regimen is better choice from a statistical point of view </mark> </font>"
   ]
  },
  {
   "cell_type": "markdown",
   "id": "d5663c50",
   "metadata": {
    "cell_id": "00061-ce4a7b7a-59de-43f1-8e73-f32d956092f7",
    "deepnote_cell_type": "markdown"
   },
   "source": [
    "## Done.\n",
    "\n",
    "Congratulations, you're done with the assignment!  Be sure to:\n",
    "\n",
    "- **run all the tests** (the next cell has a shortcut for that).\n",
    "- **Save and Checkpoint** from the `File` menu.\n",
    "- Finally, **restart** the kernel for this notebook, and **run all the cells**,\n",
    "  to check that the notebook still works without errors.  Use the\n",
    "  \"Kernel\" menu, and choose \"Restart and run all\".  If you find any\n",
    "  problems, go back and fix them, save the notebook, and restart / run\n",
    "  all again, before submitting.  When you do this, you make sure that\n",
    "  we, your humble markers, will be able to mark your notebook."
   ]
  },
  {
   "cell_type": "code",
   "execution_count": 36,
   "id": "7b75429a",
   "metadata": {
    "cell_id": "00062-ee249f3f-ff33-4f02-9094-d6a242e7bf72",
    "deepnote_cell_type": "code"
   },
   "outputs": [
    {
     "name": "stdout",
     "output_type": "stream",
     "text": [
      "~~~~~~~~~~~~~~~~~~~~~~~~~~~~~~~~~~~~~~~~~~~~~~~~~~~~~~~~~~~~~~~~~~~~~\n",
      "Running tests\n",
      "\n",
      "---------------------------------------------------------------------\n",
      "Test summary\n",
      "    Passed: 5\n",
      "    Failed: 0\n",
      "[ooooooooook] 100.0% passed\n",
      "\n",
      "~~~~~~~~~~~~~~~~~~~~~~~~~~~~~~~~~~~~~~~~~~~~~~~~~~~~~~~~~~~~~~~~~~~~~\n",
      "Running tests\n",
      "\n",
      "---------------------------------------------------------------------\n",
      "Test summary\n",
      "    Passed: 5\n",
      "    Failed: 0\n",
      "[ooooooooook] 100.0% passed\n",
      "\n",
      "~~~~~~~~~~~~~~~~~~~~~~~~~~~~~~~~~~~~~~~~~~~~~~~~~~~~~~~~~~~~~~~~~~~~~\n",
      "Running tests\n",
      "\n",
      "---------------------------------------------------------------------\n",
      "Test summary\n",
      "    Passed: 7\n",
      "    Failed: 0\n",
      "[ooooooooook] 100.0% passed\n",
      "\n",
      "~~~~~~~~~~~~~~~~~~~~~~~~~~~~~~~~~~~~~~~~~~~~~~~~~~~~~~~~~~~~~~~~~~~~~\n",
      "Running tests\n",
      "\n",
      "---------------------------------------------------------------------\n",
      "Test summary\n",
      "    Passed: 4\n",
      "    Failed: 0\n",
      "[ooooooooook] 100.0% passed\n",
      "\n",
      "~~~~~~~~~~~~~~~~~~~~~~~~~~~~~~~~~~~~~~~~~~~~~~~~~~~~~~~~~~~~~~~~~~~~~\n",
      "Running tests\n",
      "\n",
      "---------------------------------------------------------------------\n",
      "Test summary\n",
      "    Passed: 5\n",
      "    Failed: 0\n",
      "[ooooooooook] 100.0% passed\n",
      "\n",
      "~~~~~~~~~~~~~~~~~~~~~~~~~~~~~~~~~~~~~~~~~~~~~~~~~~~~~~~~~~~~~~~~~~~~~\n",
      "Running tests\n",
      "\n",
      "---------------------------------------------------------------------\n",
      "Test summary\n",
      "    Passed: 3\n",
      "    Failed: 0\n",
      "[ooooooooook] 100.0% passed\n",
      "\n",
      "~~~~~~~~~~~~~~~~~~~~~~~~~~~~~~~~~~~~~~~~~~~~~~~~~~~~~~~~~~~~~~~~~~~~~\n",
      "Running tests\n",
      "\n",
      "---------------------------------------------------------------------\n",
      "Test summary\n",
      "    Passed: 3\n",
      "    Failed: 0\n",
      "[ooooooooook] 100.0% passed\n",
      "\n",
      "~~~~~~~~~~~~~~~~~~~~~~~~~~~~~~~~~~~~~~~~~~~~~~~~~~~~~~~~~~~~~~~~~~~~~\n",
      "Running tests\n",
      "\n",
      "---------------------------------------------------------------------\n",
      "Test summary\n",
      "    Passed: 3\n",
      "    Failed: 0\n",
      "[ooooooooook] 100.0% passed\n",
      "\n",
      "~~~~~~~~~~~~~~~~~~~~~~~~~~~~~~~~~~~~~~~~~~~~~~~~~~~~~~~~~~~~~~~~~~~~~\n",
      "Running tests\n",
      "\n",
      "---------------------------------------------------------------------\n",
      "Test summary\n",
      "    Passed: 3\n",
      "    Failed: 0\n",
      "[ooooooooook] 100.0% passed\n",
      "\n",
      "~~~~~~~~~~~~~~~~~~~~~~~~~~~~~~~~~~~~~~~~~~~~~~~~~~~~~~~~~~~~~~~~~~~~~\n",
      "Running tests\n",
      "\n",
      "---------------------------------------------------------------------\n",
      "Test summary\n",
      "    Passed: 3\n",
      "    Failed: 0\n",
      "[ooooooooook] 100.0% passed\n",
      "\n"
     ]
    }
   ],
   "source": [
    "# For your convenience, you can run this cell to run all the tests at once!\n",
    "import os\n",
    "_ = [ok.grade(q[:-3]) for q in os.listdir(\"tests\") if q.startswith('q')]"
   ]
  },
  {
   "cell_type": "markdown",
   "id": "a7586e18",
   "metadata": {
    "created_in_deepnote_cell": true,
    "deepnote_cell_type": "markdown",
    "tags": []
   },
   "source": [
    "<a style='text-decoration:none;line-height:16px;display:flex;color:#5B5B62;padding:10px;justify-content:end;' href='https://deepnote.com?utm_source=created-in-deepnote-cell&projectId=dbbb55b6-0c6b-4399-abdf-84be2a641df8' target=\"_blank\">\n",
    "<img alt='Created in deepnote.com' style='display:inline;max-height:16px;margin:0px;margin-right:7.5px;' src='data:image/svg+xml;base64,PD94bWwgdmVyc2lvbj0iMS4wIiBlbmNvZGluZz0iVVRGLTgiPz4KPHN2ZyB3aWR0aD0iODBweCIgaGVpZ2h0PSI4MHB4IiB2aWV3Qm94PSIwIDAgODAgODAiIHZlcnNpb249IjEuMSIgeG1sbnM9Imh0dHA6Ly93d3cudzMub3JnLzIwMDAvc3ZnIiB4bWxuczp4bGluaz0iaHR0cDovL3d3dy53My5vcmcvMTk5OS94bGluayI+CiAgICA8IS0tIEdlbmVyYXRvcjogU2tldGNoIDU0LjEgKDc2NDkwKSAtIGh0dHBzOi8vc2tldGNoYXBwLmNvbSAtLT4KICAgIDx0aXRsZT5Hcm91cCAzPC90aXRsZT4KICAgIDxkZXNjPkNyZWF0ZWQgd2l0aCBTa2V0Y2guPC9kZXNjPgogICAgPGcgaWQ9IkxhbmRpbmciIHN0cm9rZT0ibm9uZSIgc3Ryb2tlLXdpZHRoPSIxIiBmaWxsPSJub25lIiBmaWxsLXJ1bGU9ImV2ZW5vZGQiPgogICAgICAgIDxnIGlkPSJBcnRib2FyZCIgdHJhbnNmb3JtPSJ0cmFuc2xhdGUoLTEyMzUuMDAwMDAwLCAtNzkuMDAwMDAwKSI+CiAgICAgICAgICAgIDxnIGlkPSJHcm91cC0zIiB0cmFuc2Zvcm09InRyYW5zbGF0ZSgxMjM1LjAwMDAwMCwgNzkuMDAwMDAwKSI+CiAgICAgICAgICAgICAgICA8cG9seWdvbiBpZD0iUGF0aC0yMCIgZmlsbD0iIzAyNjVCNCIgcG9pbnRzPSIyLjM3NjIzNzYyIDgwIDM4LjA0NzY2NjcgODAgNTcuODIxNzgyMiA3My44MDU3NTkyIDU3LjgyMTc4MjIgMzIuNzU5MjczOSAzOS4xNDAyMjc4IDMxLjY4MzE2ODMiPjwvcG9seWdvbj4KICAgICAgICAgICAgICAgIDxwYXRoIGQ9Ik0zNS4wMDc3MTgsODAgQzQyLjkwNjIwMDcsNzYuNDU0OTM1OCA0Ny41NjQ5MTY3LDcxLjU0MjI2NzEgNDguOTgzODY2LDY1LjI2MTk5MzkgQzUxLjExMjI4OTksNTUuODQxNTg0MiA0MS42NzcxNzk1LDQ5LjIxMjIyODQgMjUuNjIzOTg0Niw0OS4yMTIyMjg0IEMyNS40ODQ5Mjg5LDQ5LjEyNjg0NDggMjkuODI2MTI5Niw0My4yODM4MjQ4IDM4LjY0NzU4NjksMzEuNjgzMTY4MyBMNzIuODcxMjg3MSwzMi41NTQ0MjUgTDY1LjI4MDk3Myw2Ny42NzYzNDIxIEw1MS4xMTIyODk5LDc3LjM3NjE0NCBMMzUuMDA3NzE4LDgwIFoiIGlkPSJQYXRoLTIyIiBmaWxsPSIjMDAyODY4Ij48L3BhdGg+CiAgICAgICAgICAgICAgICA8cGF0aCBkPSJNMCwzNy43MzA0NDA1IEwyNy4xMTQ1MzcsMC4yNTcxMTE0MzYgQzYyLjM3MTUxMjMsLTEuOTkwNzE3MDEgODAsMTAuNTAwMzkyNyA4MCwzNy43MzA0NDA1IEM4MCw2NC45NjA0ODgyIDY0Ljc3NjUwMzgsNzkuMDUwMzQxNCAzNC4zMjk1MTEzLDgwIEM0Ny4wNTUzNDg5LDc3LjU2NzA4MDggNTMuNDE4MjY3Nyw3MC4zMTM2MTAzIDUzLjQxODI2NzcsNTguMjM5NTg4NSBDNTMuNDE4MjY3Nyw0MC4xMjg1NTU3IDM2LjMwMzk1NDQsMzcuNzMwNDQwNSAyNS4yMjc0MTcsMzcuNzMwNDQwNSBDMTcuODQzMDU4NiwzNy43MzA0NDA1IDkuNDMzOTE5NjYsMzcuNzMwNDQwNSAwLDM3LjczMDQ0MDUgWiIgaWQ9IlBhdGgtMTkiIGZpbGw9IiMzNzkzRUYiPjwvcGF0aD4KICAgICAgICAgICAgPC9nPgogICAgICAgIDwvZz4KICAgIDwvZz4KPC9zdmc+' > </img>\n",
    "Created in <span style='font-weight:600;margin-left:4px;'>Deepnote</span></a>"
   ]
  }
 ],
 "metadata": {
  "deepnote": {},
  "deepnote_execution_queue": [],
  "deepnote_notebook_id": "3cbe3fce-8f37-4296-a913-a2155a53470f",
  "jupytext": {
   "cell_metadata_json": true,
   "notebook_metadata_filter": "all,-language_info",
   "split_at_heading": true,
   "text_representation": {
    "extension": ".Rmd",
    "format_name": "rmarkdown",
    "format_version": "1.2",
    "jupytext_version": "1.6.0"
   }
  },
  "kernelspec": {
   "display_name": "Python 3 (ipykernel)",
   "language": "python",
   "name": "python3"
  },
  "language_info": {
   "codemirror_mode": {
    "name": "ipython",
    "version": 3
   },
   "file_extension": ".py",
   "mimetype": "text/x-python",
   "name": "python",
   "nbconvert_exporter": "python",
   "pygments_lexer": "ipython3",
   "version": "3.8.12"
  }
 },
 "nbformat": 4,
 "nbformat_minor": 5
}
