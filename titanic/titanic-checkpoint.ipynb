{
 "cells": [
  {
   "cell_type": "markdown",
   "source": "# Women and children first?",
   "metadata": {
    "cell_id": "00000-7de2f7fb-7cd9-4a3d-a850-a2e91c23a1ce",
    "deepnote_cell_type": "markdown"
   }
  },
  {
   "cell_type": "markdown",
   "source": "## Preliminaries",
   "metadata": {
    "cell_id": "00001-256bd91d-7ab8-41a5-a017-10a05467415d",
    "deepnote_cell_type": "markdown"
   }
  },
  {
   "cell_type": "code",
   "metadata": {
    "cell_id": "00002-b07a1d15-4558-46ce-966b-e3c5a6672c4e",
    "deepnote_cell_type": "code"
   },
   "source": "# Run this cell to start.\nimport numpy as np\nimport pandas as pd\n# Safe settings for Pandas.\npd.set_option('mode.chained_assignment', 'raise')\n\n%matplotlib inline\nimport matplotlib.pyplot as plt\nplt.style.use('fivethirtyeight')\n\n# Load the OKpy test library and tests.\nfrom client.api.notebook import Notebook\nok = Notebook('titanic.ok')",
   "execution_count": null,
   "outputs": []
  },
  {
   "cell_type": "markdown",
   "source": "The tests in this notebook usually do not test if you have the *right* answer,\nbut only if you have the *right sort* of answer.  *Be careful* -- the tests\ncould pass, but your answer could still be wrong.",
   "metadata": {
    "cell_id": "00003-b0edb200-524d-45a6-88fc-ee30054ef3b6",
    "deepnote_cell_type": "markdown"
   }
  },
  {
   "cell_type": "markdown",
   "source": "## Background\n\nWe are going to look at the details of who was lost, and who survived, in the sinking of the RMS Titanic.\n\nWe first read the dataset containing information about the passengers and crew\nwho were on the RMS Titanic when it sank.\n\nThe data file is `titanic_stlearn.csv`.\n\nSee the [Titanic dataset page](https://github.com/matthew-brett/datasets/tree/master/titanic) for more detail.\n\nYou might also want to look at [Encylopedia\nTitanica](https://www.encyclopedia-titanica.org/titanic-statistics.html) for\nmore background.",
   "metadata": {
    "cell_id": "00004-d51ad848-9544-4c25-8a4c-6f17a99dd19d",
    "deepnote_cell_type": "markdown"
   }
  },
  {
   "cell_type": "code",
   "metadata": {
    "cell_id": "00005-6664634d-a51d-400d-82e2-8d3f2abddfee",
    "deepnote_cell_type": "code"
   },
   "source": "titanic = ...\ntitanic.head()",
   "execution_count": null,
   "outputs": []
  },
  {
   "cell_type": "code",
   "metadata": {
    "cell_id": "00006-7f948d83-6563-48ce-bafd-27a66eb08ebe",
    "deepnote_cell_type": "code"
   },
   "source": "# Test you are on the right track.\n_ = ok.grade('q_01_titanic')",
   "execution_count": null,
   "outputs": []
  },
  {
   "cell_type": "markdown",
   "source": "This data file contains the following columns:\n\n* `name`: a string with the name of the passenger.\n* `gender`: a string with one of two labels: \"male\" and \"female\".\n* `age`: a numeric value with the person's age on the day of the sinking. The\n  age of babies (under 12 months) is given as a fraction of one year, rounded\n  to the nearest month (2 months = 2/12 = 0.1667).\n* `class`: a string specifying the class for passengers: \"1st\", \"2nd\", \"3rd\";\n  or the type of service aboard for crew members. See below for discussion of\n  passengers, crew and the crew service types.\n* `embarked`: a string with the person's port of embarkation, one of:\n  \"Belfast\", \"Cherbourg\", \"Queenstown\" or \"Southampton\".\n* `country`: a string with the person's home country.\n* `ticketno`: a numeric value specifying the persons ticket number (NA for crew\n  members, also see below).\n* `fare`: a numeric value with the ticket price (NA for crew members, musicians\n  and employees of the shipyard company, also see below).\n* `sibsp`: an integer specifying the number of siblings/spouses aboard; adopted\n  from Vanderbilt data set (see below).  Always NA for crew, sometimes NA for\n  passengers.\n* `parch`: an ordered factor specifying the number of parents/children aboard;\n  adopted from Vanderbilt data set (see below).  Always NA for crew, sometimes\n  NA for passengers.\n* `survived`: a string with one of two labels: \"no\" and \"yes\". It specifies\n  whether the person survived the sinking.",
   "metadata": {
    "cell_id": "00007-88b7a176-a561-4fd7-ab99-1dc65911f436",
    "deepnote_cell_type": "markdown"
   }
  },
  {
   "cell_type": "markdown",
   "source": "## Women and children first\n\nThe RMS Titanic sank on 15th April 1912. A standard rule of evacuation at the\ntime was [Women and Children\nFirst](https://en.wikipedia.org/wiki/Women_and_children_first).  Wikipedia\nclaims that the original suggestion for this rule was from a French passenger\nof a ship in danger, in 1840.\n\nHow strictly was that rule applied in the evacuation of the Titanic?\n\nUse `pd.crosstab` to create a new data frame that is a cross-tabulation of the\nvalues in the `gender` column, and the values in the `survived` column.  Store\nthis cross-tabulation in the variable `gender_by_survived`.  It should contain\nfour counts, one for `female` passengers who were lost (`no`), one for `female`\nand `yes` and so on.",
   "metadata": {
    "cell_id": "00008-aa16a32f-d80c-42e0-a5b9-f867e4c75aa7",
    "deepnote_cell_type": "markdown"
   }
  },
  {
   "cell_type": "code",
   "metadata": {
    "cell_id": "00009-70e9f43e-5fd2-47cd-8ac8-4517e312880b",
    "deepnote_cell_type": "code"
   },
   "source": "gender_by_survived = ...\n# Show the table in the notebook\ngender_by_survived",
   "execution_count": null,
   "outputs": []
  },
  {
   "cell_type": "code",
   "metadata": {
    "cell_id": "00010-6de53bd1-74a9-488d-a5c8-bae36459d515",
    "deepnote_cell_type": "code"
   },
   "source": "# Check you are on the right track.\n_ = ok.grade('q_02_gender_by_survived')",
   "execution_count": null,
   "outputs": []
  },
  {
   "cell_type": "markdown",
   "source": "These counts are useful, but even more useful would be *proportions* of women\nwho were lost and who survived.  Investigate the keyword arguments to\n`pd.crosstab` to create a new data frame `gender_by_survived_p` that shows the\nproportions of men and women who survived.  For example, there should be a\nvalue for `female` and `no` that is the number of `female` passengers who were\nlost, divided by the total number of `female` passengers.  That is, you want\nthe proportions across the *rows*.",
   "metadata": {
    "cell_id": "00011-1fef8c6b-072a-4de5-b88e-5b0e1fc2a45b",
    "deepnote_cell_type": "markdown"
   }
  },
  {
   "cell_type": "code",
   "metadata": {
    "cell_id": "00012-44b58507-189e-44b8-aa6c-3cccf25f4f83",
    "deepnote_cell_type": "code"
   },
   "source": "gender_by_survived_p = ...\n# Show the table in the notebook\ngender_by_survived_p",
   "execution_count": null,
   "outputs": []
  },
  {
   "cell_type": "code",
   "metadata": {
    "cell_id": "00013-911b6f17-348d-4163-a759-ecb868c5a31c",
    "deepnote_cell_type": "code"
   },
   "source": "# Check you are on the right track.\n_ = ok.grade('q_03_gender_by_survived_p')",
   "execution_count": null,
   "outputs": []
  },
  {
   "cell_type": "markdown",
   "source": "This should look like pretty convincing evidence that the crew largely followed\nthe \"women\" part of the \"Women and children first\" rule.  Next we investigate\nthe \"children\" part.\n\nWe need a Series that allows us to categorize the passenger as a `male`, a\n`female` or a `child`.\n\nFirst we make a new series `mwc` (Man Woman Child) that has a copy of the data\nfrom the `gender` column.",
   "metadata": {
    "cell_id": "00014-0ba3de79-d951-4fb5-b2da-04b12eeac843",
    "deepnote_cell_type": "markdown"
   }
  },
  {
   "cell_type": "code",
   "metadata": {
    "cell_id": "00015-d91a2319-0add-4083-b5f1-2638b9f4fc4a",
    "deepnote_cell_type": "code"
   },
   "source": "# Run this cell.\nmwc = titanic['gender'].copy()\nmwc.head()",
   "execution_count": null,
   "outputs": []
  },
  {
   "cell_type": "markdown",
   "source": "Now your turn.  Make a Boolean series named `is_child` that has True for rows\nwhere the passenger's `age` was less than 15, and False otherwise.  Use\n`is_child` to set the corresponding elements in `mwc` to have the value\n`child`.\n\nAfter you have done this, the `mwc` Series should have a `child` value for rows\nin `titanic` where the person's age was less than 15, otherwise have a `male`\nvalue for male adult passengers or a `female` value for female adult\npassengers.",
   "metadata": {
    "cell_id": "00016-d913049b-6b90-4e3f-a81a-7f2a3a415323",
    "deepnote_cell_type": "markdown"
   }
  },
  {
   "cell_type": "code",
   "metadata": {
    "cell_id": "00017-f59a5ffc-415e-4b0a-acd1-247bf54e8183",
    "deepnote_cell_type": "code"
   },
   "source": "#- Your code here.\n# Show the unique values and counts for the \"mwc\" Series.\nmwc.value_counts()",
   "execution_count": null,
   "outputs": []
  },
  {
   "cell_type": "code",
   "metadata": {
    "cell_id": "00018-ad8e71cc-a502-4045-b5ff-08e9c37ed966",
    "deepnote_cell_type": "code"
   },
   "source": "_ = ok.grade('q_04_mwc')",
   "execution_count": null,
   "outputs": []
  },
  {
   "cell_type": "markdown",
   "source": "Create a cross-tabulation data frame called `mwc_by_survived_p` that has the\nproportions of children, females and males that were saved and lost.  The\n*proportion* of children saved is the number of children saved divided by the\ntotal number of children.  Your `mwc_by_survived_p` data frame should have, for\nexample, a row corresponding to `child` , that has two values: the proportion\nof children that were lost and the proportion of children who were saved.",
   "metadata": {
    "cell_id": "00019-dee42766-b212-49b3-8e62-f81c9bfc3bb3",
    "deepnote_cell_type": "markdown"
   }
  },
  {
   "cell_type": "code",
   "metadata": {
    "cell_id": "00020-6b86bbd7-8277-4c32-942c-b62add376176",
    "deepnote_cell_type": "code"
   },
   "source": "mwc_by_survived_p = ...\nmwc_by_survived_p",
   "execution_count": null,
   "outputs": []
  },
  {
   "cell_type": "code",
   "metadata": {
    "cell_id": "00021-7151db6b-a176-41ab-a813-bad7efc43e7d",
    "deepnote_cell_type": "code"
   },
   "source": "_ = ok.grade('q_05_mwc_p')",
   "execution_count": null,
   "outputs": []
  },
  {
   "cell_type": "markdown",
   "source": "## Being at the front of the plane\n\nThe next factor we know well is that passengers in higher classes were more\nlikely to survive.\n\nThe problem we have at the moment is that the `class` column in this dataset is a mix of things:",
   "metadata": {
    "cell_id": "00022-7d33fbff-4e16-43cd-b7ec-77f9c43d4729",
    "deepnote_cell_type": "markdown"
   }
  },
  {
   "cell_type": "code",
   "metadata": {
    "cell_id": "00023-35dbab8b-f848-4963-8369-155b6908c6c2",
    "deepnote_cell_type": "code"
   },
   "source": "# Run this cell.\ntitanic['class'].value_counts()",
   "execution_count": null,
   "outputs": []
  },
  {
   "cell_type": "markdown",
   "source": "The `class` column contains \"1st\", \"2nd\", \"3rd\" for some people, but it has job\ntitles for others, such as \"deck crew\".\n\nWorse than that, some of the people in \"1st\" and \"2nd\" class were closer to\nbeing crew than passengers.  For example, there were [8\nmusicians](https://en.wikipedia.org/wiki/Musicians_of_the_RMS_Titanic), who\nwere all listed as \"2nd\" class passengers. There were [9 members of the Guarantee\nGroup](https://en.wikipedia.org/wiki/Crew_of_the_RMS_Titanic#Guarantee_group)\non board, whose job was to monitor the ship and fix any problems that arose on\nher maiden voyage.  They also have passenger classes listed as \"1st\" or \"2nd\".\n\nWe would like to be able to classify the people (rows) in the dataset as one of the following:\n\n* Genuine First class passenger: \"1st\".\n* Genuine Second class passenger: \"2nd\".\n* Genuine Third class passenger: \"3rd\".\n* Musician: \"musician\".\n* Guarantee group: \"guarantee\".\n* Deck crew: \"deck\".\n* Engineering crew: \"engineering\".\n* Victualling crew or restaurant staff: \"catering\".\n\nThat is, we need a new Series, maybe called `roles`, with one element per row\nin the dataset, that has one of these string labels, classifying the person in\nthe corresponding row. For example, the first five people in the dataset are\ngenuine Third Class passengers, so the first five elements in `roles` would be\n\"3rd\".\n\nMuch of the information we need is in the `class` column of `titanic` - but we\nhave more work to do, especially for the musicians and the guarantee group.\n\nOne way of doing this task is to use a *recoding function*.  You saw one of\nthese in action your \"stop and search\" homework.  In the homework, the function\napplied to a Series (and therefore, a column of a data frame), and, when used\nwith `apply`, returned a Series.\n\nHere we need to use information from multiple columns in the person's row to\nclassify them, so we need to take a different approach.   We need to `apply` a\nfunction to the whole data frame, to return our new Series `roles`.\n\nHere is an example of how to do this.  The function below is a *row recoding\nfunction*.  It accepts a *row* as its argument, and returns a value.\n\nIn this case, the function returns \"adult\" for a row where the person's age was\n15 or more, and otherwise (for persons with age < 15) returns \"female child\"\nfor \"female\" persons and \"male child\" otherwise.",
   "metadata": {
    "cell_id": "00024-53aa2990-feeb-47c7-8b3b-4dfec050c941",
    "deepnote_cell_type": "markdown"
   }
  },
  {
   "cell_type": "code",
   "metadata": {
    "cell_id": "00025-a8c3162c-22b9-40fc-9c04-518774bc7a52",
    "deepnote_cell_type": "code"
   },
   "source": "# Run this cell to create example row classification function\n\ndef classify_mf_child(row):\n    if row.loc['age'] >= 15:\n        return 'adult'\n    if row.loc['gender'] == 'female':\n        return 'female child'\n    return 'male child'",
   "execution_count": null,
   "outputs": []
  },
  {
   "cell_type": "markdown",
   "source": "To see the function in action, let's classify the first row of `titanic`:",
   "metadata": {
    "cell_id": "00026-7352d338-f004-495a-bdea-00245ecc2c0d",
    "deepnote_cell_type": "markdown"
   }
  },
  {
   "cell_type": "code",
   "metadata": {
    "cell_id": "00027-eaf7baf6-c895-4bd9-a1ff-8a5197bbc04c",
    "deepnote_cell_type": "code"
   },
   "source": "classify_mf_child(titanic.iloc[0])",
   "execution_count": null,
   "outputs": []
  },
  {
   "cell_type": "markdown",
   "source": "Classify the second row:",
   "metadata": {
    "cell_id": "00028-9ff17491-9b89-4da0-bce8-a0877f2e54a7",
    "deepnote_cell_type": "markdown"
   }
  },
  {
   "cell_type": "code",
   "metadata": {
    "cell_id": "00029-f13272f4-0a07-41f5-85db-3224c9a2bb52",
    "deepnote_cell_type": "code"
   },
   "source": "classify_mf_child(titanic.iloc[1])",
   "execution_count": null,
   "outputs": []
  },
  {
   "cell_type": "markdown",
   "source": "Then we can `apply` this function to the whole data frame, to return a classification for each row in the data frame:",
   "metadata": {
    "cell_id": "00030-1a41e079-10db-48df-a926-b356013d5167",
    "deepnote_cell_type": "markdown"
   }
  },
  {
   "cell_type": "code",
   "metadata": {
    "cell_id": "00031-fc7de7dc-eff0-4cec-8046-19b872077e10",
    "deepnote_cell_type": "code"
   },
   "source": "mf_child = titanic.apply(classify_mf_child, axis='columns')\nmf_child.head()",
   "execution_count": null,
   "outputs": []
  },
  {
   "cell_type": "markdown",
   "source": "Notice the `axis='columns'` keyword argument.  This tells Pandas to send the\nfunction one *row* at a time (working *across the columns*).  It's also\npossible to send the function one *column* at a time (working *across the\nrows*), and that it what it does by default, if you don't specify\n`axis='columns'`.\n\nYour job is to write a row classification function, like `classify_mf_child`\nabove, that accepts a single row, and returns the correct string corresponding\nto that row, from the list above (from \"1st\", \"2nd\", \"3rd\", \"musician\", etc).\n\nIn order to do this, investigate the `titanic` data set, and have a look at the\nlinks above that have more information on the musicians and the Guarantee\nGroup.  See if you can find information online and in the dataset rows that is\ndistinctive enough to identify the 8 musicians, 9 members of the Guarantee\nGroup, and so on.\n\n*Hint 1* To test if a string contains another string, you can use the `in` operator like this:",
   "metadata": {
    "cell_id": "00032-abede1e1-2d0b-4260-96fc-762c44f44393",
    "deepnote_cell_type": "markdown"
   }
  },
  {
   "cell_type": "code",
   "metadata": {
    "cell_id": "00033-24080f3f-8ed3-45e4-86af-e4fbc9a962f4",
    "deepnote_cell_type": "code"
   },
   "source": "a = 'Bah humbug'\n'humbug' in a",
   "execution_count": null,
   "outputs": []
  },
  {
   "cell_type": "markdown",
   "source": "*Hint 2* To test for a missing value, use `pd.isna()` like this:",
   "metadata": {
    "cell_id": "00034-1a00b80c-267f-4d2a-9840-1925fc1f1224",
    "deepnote_cell_type": "markdown"
   }
  },
  {
   "cell_type": "code",
   "metadata": {
    "cell_id": "00035-02a8ee4f-8901-4fea-8531-479fcf9cf2ae",
    "deepnote_cell_type": "code"
   },
   "source": "pd.isna(np.nan)",
   "execution_count": null,
   "outputs": []
  },
  {
   "cell_type": "code",
   "metadata": {
    "cell_id": "00036-5eb8d5cb-a51a-4d7a-8068-0298a6f5bb4c",
    "deepnote_cell_type": "code"
   },
   "source": "def classify_role(row):\n    # Your code here",
   "execution_count": null,
   "outputs": []
  },
  {
   "cell_type": "markdown",
   "source": "The next cell tests if you are on the right track with your function:",
   "metadata": {
    "cell_id": "00037-eb6fc880-592d-4367-a38e-8c4c81f28250",
    "deepnote_cell_type": "markdown"
   }
  },
  {
   "cell_type": "code",
   "metadata": {
    "cell_id": "00038-31729fd9-0745-4519-836c-5666cae76add",
    "deepnote_cell_type": "code"
   },
   "source": "print(classify_role(titanic.iloc[0]))  # Should show '3rd'\nprint(classify_role(titanic.iloc[6]))  # Should show '2nd'\nprint(classify_role(titanic.iloc[-1]))  # Should show 'catering'\nprint(classify_role(titanic.iloc[-3]))  # Should show 'engineering'\nprint(classify_role(titanic.iloc[-4]))  # Should show 'catering'\nprint(classify_role(titanic.iloc[-5]))  # Should show 'deck'\nis_brailey = titanic['name'].str.startswith('Brailey')\nprint(classify_role(titanic[is_brailey].iloc[0]))  # Should show 'musician'\nis_andrews = titanic['name'] == 'Andrews, Mr. Thomas'\nprint(classify_role(titanic[is_andrews].iloc[0]))  # Should show 'guarantee'",
   "execution_count": null,
   "outputs": []
  },
  {
   "cell_type": "code",
   "metadata": {
    "cell_id": "00039-a9b6c5e4-2079-4869-bad5-78622cc525f5",
    "deepnote_cell_type": "code"
   },
   "source": "# This test runs the tests above, and some extra besides.\n_ = ok.grade('q_06_classify_role')",
   "execution_count": null,
   "outputs": []
  },
  {
   "cell_type": "markdown",
   "source": "`apply` your function to the `titanic` data frame to make a new Series, then\nuse this Series to create a new data frame `role_by_survived_p` that is a\ncross-tabulation of the *proportion* of *male* passengers with each role, that\nsurvived or were lost. For example, `role_by_survived_p` will have a row\ncorresponding to \"catering\", with two values, where one value will be the\nproportion of *male* catering staff that survived, and the other will be the\nproportion of male catering staff that were lost.",
   "metadata": {
    "cell_id": "00040-5e846d52-c79d-462d-9620-cb64d9f76483",
    "deepnote_cell_type": "markdown"
   }
  },
  {
   "cell_type": "code",
   "metadata": {
    "cell_id": "00041-ce9ea131-9b06-4d69-a6fb-10a9f017643e",
    "deepnote_cell_type": "code"
   },
   "source": "role_by_survived_p = ...\nrole_by_survived_p",
   "execution_count": null,
   "outputs": []
  },
  {
   "cell_type": "markdown",
   "source": "## Done\n\nYou're finished with the assignment!  Be sure to...\n\n- **run all the tests** (the next cell has a shortcut for that),\n- **Save and Checkpoint** from the \"File\" menu.\n- Finally, **restart** the kernel for this notebook, and **run all the cells**,\n  to check that the notebook still works without errors.  Use the\n  \"Kernel\" menu, and choose \"Restart and run all\".  If you find any\n  problems, go back and fix them, save the notebook, and restart / run\n  all again, before submitting.  When you do this, you make sure that\n  we, your humble markers, will be able to mark your notebook.",
   "metadata": {
    "cell_id": "00042-70588590-b089-46e0-abe4-381d22b62a11",
    "deepnote_cell_type": "markdown"
   }
  },
  {
   "cell_type": "code",
   "metadata": {
    "cell_id": "00043-aa5b899c-8a04-4630-8cc7-45b0f1e19db4",
    "deepnote_cell_type": "code"
   },
   "source": "# For your convenience, you can run this cell to run all the tests at once!\nimport os\n_ = [ok.grade(q[:-3]) for q in os.listdir(\"tests\") if q.startswith('q')]",
   "execution_count": null,
   "outputs": []
  },
  {
   "cell_type": "markdown",
   "source": "<a style='text-decoration:none;line-height:16px;display:flex;color:#5B5B62;padding:10px;justify-content:end;' href='https://deepnote.com?utm_source=created-in-deepnote-cell&projectId=cf6f198d-421e-4eb3-a458-5b804efc7ad3' target=\"_blank\">\n<img alt='Created in deepnote.com' style='display:inline;max-height:16px;margin:0px;margin-right:7.5px;' src='data:image/svg+xml;base64,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' > </img>\nCreated in <span style='font-weight:600;margin-left:4px;'>Deepnote</span></a>",
   "metadata": {
    "tags": [],
    "created_in_deepnote_cell": true,
    "deepnote_cell_type": "markdown"
   }
  }
 ],
 "nbformat": 4,
 "nbformat_minor": 5,
 "metadata": {
  "jupytext": {
   "split_at_heading": true,
   "text_representation": {
    "extension": ".Rmd",
    "format_name": "rmarkdown",
    "format_version": "1.1",
    "jupytext_version": "1.2.4"
   }
  },
  "kernelspec": {
   "display_name": "Python 3",
   "language": "python",
   "name": "python3"
  },
  "deepnote_notebook_id": "892c847d-0270-4573-8303-ec8027c42851",
  "deepnote": {},
  "deepnote_execution_queue": []
 }
}